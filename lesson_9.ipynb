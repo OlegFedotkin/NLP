{
  "metadata": {
    "kernelspec": {
      "language": "python",
      "display_name": "Python 3",
      "name": "python3"
    },
    "language_info": {
      "name": "python",
      "version": "3.7.12",
      "mimetype": "text/x-python",
      "codemirror_mode": {
        "name": "ipython",
        "version": 3
      },
      "pygments_lexer": "ipython3",
      "nbconvert_exporter": "python",
      "file_extension": ".py"
    },
    "colab": {
      "provenance": []
    },
    "accelerator": "GPU",
    "gpuClass": "standard"
  },
  "nbformat_minor": 0,
  "nbformat": 4,
  "cells": [
    {
      "cell_type": "code",
      "source": [
        "import tensorflow as tf\n",
        "\n",
        "import numpy as np\n",
        "import os\n",
        "import time"
      ],
      "metadata": {
        "id": "yG_n40gFzf9s",
        "execution": {
          "iopub.status.busy": "2022-09-07T14:02:00.308135Z",
          "iopub.execute_input": "2022-09-07T14:02:00.308825Z",
          "iopub.status.idle": "2022-09-07T14:02:00.313713Z",
          "shell.execute_reply.started": "2022-09-07T14:02:00.308787Z",
          "shell.execute_reply": "2022-09-07T14:02:00.312632Z"
        },
        "trusted": true
      },
      "execution_count": 1,
      "outputs": []
    },
    {
      "cell_type": "code",
      "source": [
        "from google.colab import drive\n",
        "drive.mount('/content/gdrive')"
      ],
      "metadata": {
        "id": "S-iABhnZndL0",
        "outputId": "6bcc5e86-5f64-4fe2-e24f-2bc4f33320a0",
        "execution": {
          "iopub.status.busy": "2022-09-07T14:02:02.168734Z",
          "iopub.execute_input": "2022-09-07T14:02:02.169102Z",
          "iopub.status.idle": "2022-09-07T14:02:02.173657Z",
          "shell.execute_reply.started": "2022-09-07T14:02:02.169070Z",
          "shell.execute_reply": "2022-09-07T14:02:02.172622Z"
        },
        "trusted": true,
        "colab": {
          "base_uri": "https://localhost:8080/"
        }
      },
      "execution_count": 2,
      "outputs": [
        {
          "output_type": "stream",
          "name": "stdout",
          "text": [
            "Mounted at /content/gdrive\n"
          ]
        }
      ]
    },
    {
      "cell_type": "code",
      "source": [
        "%cd gdrive/My\\ Drive/NLP/lesson-9"
      ],
      "metadata": {
        "colab": {
          "base_uri": "https://localhost:8080/"
        },
        "id": "D2KiolQ28gHf",
        "outputId": "f0fa2e5e-1f4b-4637-d16e-c777cb6efbfe"
      },
      "execution_count": 72,
      "outputs": [
        {
          "output_type": "stream",
          "name": "stdout",
          "text": [
            "/content/gdrive/My Drive/NLP/lesson-9\n"
          ]
        }
      ]
    },
    {
      "cell_type": "code",
      "source": [
        "!ls *.txt"
      ],
      "metadata": {
        "id": "E-y2V7wzbVXe",
        "outputId": "a26418b0-a8f6-43c7-8954-2cecc71e11e4",
        "execution": {
          "iopub.status.busy": "2022-09-07T14:02:02.344497Z",
          "iopub.execute_input": "2022-09-07T14:02:02.345085Z",
          "iopub.status.idle": "2022-09-07T14:02:02.349817Z",
          "shell.execute_reply.started": "2022-09-07T14:02:02.345051Z",
          "shell.execute_reply": "2022-09-07T14:02:02.348696Z"
        },
        "trusted": true,
        "colab": {
          "base_uri": "https://localhost:8080/"
        }
      },
      "execution_count": 73,
      "outputs": [
        {
          "output_type": "stream",
          "name": "stdout",
          "text": [
            "chekhov.txt  evgenyi_onegin.txt  vishnevyy-sad.txt\n"
          ]
        }
      ]
    },
    {
      "cell_type": "code",
      "source": [
        "path_to_file = 'vishnevyy-sad.txt'"
      ],
      "metadata": {
        "id": "1-lYyF5S8nDW"
      },
      "execution_count": 74,
      "outputs": []
    },
    {
      "cell_type": "code",
      "source": [
        "# Read, then decode for py2 compat.\n",
        "text = open(path_to_file, 'rb').read().decode(encoding='utf-8')\n",
        "# length of text is the number of characters in it\n",
        "print(f'Length of text: {len(text)} characters')"
      ],
      "metadata": {
        "execution": {
          "iopub.status.busy": "2022-09-07T14:02:02.712182Z",
          "iopub.execute_input": "2022-09-07T14:02:02.712973Z",
          "iopub.status.idle": "2022-09-07T14:02:02.720410Z",
          "shell.execute_reply.started": "2022-09-07T14:02:02.712933Z",
          "shell.execute_reply": "2022-09-07T14:02:02.719212Z"
        },
        "trusted": true,
        "colab": {
          "base_uri": "https://localhost:8080/"
        },
        "id": "QZL0v77E7oO3",
        "outputId": "762e0ff6-5a28-49d8-e090-c3060d030a43"
      },
      "execution_count": 75,
      "outputs": [
        {
          "output_type": "stream",
          "name": "stdout",
          "text": [
            "Length of text: 89357 characters\n"
          ]
        }
      ]
    },
    {
      "cell_type": "code",
      "source": [
        "text = text + text + text"
      ],
      "metadata": {
        "id": "nqElRjylFnyW"
      },
      "execution_count": 124,
      "outputs": []
    },
    {
      "cell_type": "code",
      "source": [
        "print(text[:250])"
      ],
      "metadata": {
        "id": "Duhg9NrUymwO",
        "outputId": "81909063-5dcf-4f35-c1db-3a6b852e2a5f",
        "execution": {
          "iopub.status.busy": "2022-09-07T14:38:25.424831Z",
          "iopub.execute_input": "2022-09-07T14:38:25.425430Z",
          "iopub.status.idle": "2022-09-07T14:38:25.431005Z",
          "shell.execute_reply.started": "2022-09-07T14:38:25.425390Z",
          "shell.execute_reply": "2022-09-07T14:38:25.429991Z"
        },
        "trusted": true,
        "colab": {
          "base_uri": "https://localhost:8080/"
        }
      },
      "execution_count": 125,
      "outputs": [
        {
          "output_type": "stream",
          "name": "stdout",
          "text": [
            "     Дуняша. А собаки всю ночь не спали, чуют, что хозяева едут.\r\n",
            "     Лопахин. Что ты, Дуняша, такая...\r\n",
            "     Дуняша. Руки трясутся. Я в обморок упаду.\r\n",
            "     Лопахин. Очень уж ты нежная, Дуняша. И одеваешься, как барышня, и прическа тоже. Так нельзя\n"
          ]
        }
      ]
    },
    {
      "cell_type": "code",
      "source": [
        "# The unique characters in the file\n",
        "vocab = sorted(set(text))\n",
        "print(f'{len(vocab)} unique characters')"
      ],
      "metadata": {
        "execution": {
          "iopub.status.busy": "2022-09-07T14:43:08.502812Z",
          "iopub.execute_input": "2022-09-07T14:43:08.503454Z",
          "iopub.status.idle": "2022-09-07T14:43:08.524737Z",
          "shell.execute_reply.started": "2022-09-07T14:43:08.503415Z",
          "shell.execute_reply": "2022-09-07T14:43:08.523442Z"
        },
        "trusted": true,
        "colab": {
          "base_uri": "https://localhost:8080/"
        },
        "id": "yz9DGM3C7oO5",
        "outputId": "e4500e58-5ad3-4238-b143-06edf096dce5"
      },
      "execution_count": 126,
      "outputs": [
        {
          "output_type": "stream",
          "name": "stdout",
          "text": [
            "106 unique characters\n"
          ]
        }
      ]
    },
    {
      "cell_type": "code",
      "source": [
        "ids_from_chars = tf.keras.layers.StringLookup(\n",
        "    vocabulary=list(vocab), mask_token=None)"
      ],
      "metadata": {
        "execution": {
          "iopub.status.busy": "2022-09-07T14:43:09.309500Z",
          "iopub.execute_input": "2022-09-07T14:43:09.310100Z",
          "iopub.status.idle": "2022-09-07T14:43:09.318474Z",
          "shell.execute_reply.started": "2022-09-07T14:43:09.310062Z",
          "shell.execute_reply": "2022-09-07T14:43:09.317437Z"
        },
        "trusted": true,
        "id": "lrUZB0CT7oO7"
      },
      "execution_count": 127,
      "outputs": []
    },
    {
      "cell_type": "code",
      "source": [
        "chars_from_ids = tf.keras.layers.StringLookup(\n",
        "    vocabulary=ids_from_chars.get_vocabulary(), invert=True, mask_token=None)"
      ],
      "metadata": {
        "execution": {
          "iopub.status.busy": "2022-09-07T14:43:09.901812Z",
          "iopub.execute_input": "2022-09-07T14:43:09.902466Z",
          "iopub.status.idle": "2022-09-07T14:43:09.913342Z",
          "shell.execute_reply.started": "2022-09-07T14:43:09.902427Z",
          "shell.execute_reply": "2022-09-07T14:43:09.912266Z"
        },
        "trusted": true,
        "id": "IuLwS05F7oO9"
      },
      "execution_count": 128,
      "outputs": []
    },
    {
      "cell_type": "code",
      "source": [
        "def text_from_ids(ids):\n",
        "    return tf.strings.reduce_join(chars_from_ids(ids), axis=-1)"
      ],
      "metadata": {
        "execution": {
          "iopub.status.busy": "2022-09-07T14:43:10.557808Z",
          "iopub.execute_input": "2022-09-07T14:43:10.558981Z",
          "iopub.status.idle": "2022-09-07T14:43:10.564316Z",
          "shell.execute_reply.started": "2022-09-07T14:43:10.558931Z",
          "shell.execute_reply": "2022-09-07T14:43:10.563257Z"
        },
        "trusted": true,
        "id": "698m3kBX7oO-"
      },
      "execution_count": 129,
      "outputs": []
    },
    {
      "cell_type": "code",
      "source": [
        "all_ids = ids_from_chars(tf.strings.unicode_split(text, 'UTF-8'))\n",
        "all_ids"
      ],
      "metadata": {
        "execution": {
          "iopub.status.busy": "2022-09-07T14:43:10.805679Z",
          "iopub.execute_input": "2022-09-07T14:43:10.806688Z",
          "iopub.status.idle": "2022-09-07T14:43:11.195996Z",
          "shell.execute_reply.started": "2022-09-07T14:43:10.806641Z",
          "shell.execute_reply": "2022-09-07T14:43:11.195002Z"
        },
        "trusted": true,
        "colab": {
          "base_uri": "https://localhost:8080/"
        },
        "id": "EOk7sDd17oO-",
        "outputId": "d4f8af13-f7a7-4106-9512-dada5522e72a"
      },
      "execution_count": 130,
      "outputs": [
        {
          "output_type": "execute_result",
          "data": {
            "text/plain": [
              "<tf.Tensor: shape=(268071,), dtype=int64, numpy=array([3, 3, 3, ..., 3, 2, 1])>"
            ]
          },
          "metadata": {},
          "execution_count": 130
        }
      ]
    },
    {
      "cell_type": "code",
      "source": [
        "ids_dataset = tf.data.Dataset.from_tensor_slices(all_ids)"
      ],
      "metadata": {
        "execution": {
          "iopub.status.busy": "2022-09-07T14:43:11.198028Z",
          "iopub.execute_input": "2022-09-07T14:43:11.198479Z",
          "iopub.status.idle": "2022-09-07T14:43:11.204364Z",
          "shell.execute_reply.started": "2022-09-07T14:43:11.198430Z",
          "shell.execute_reply": "2022-09-07T14:43:11.203280Z"
        },
        "trusted": true,
        "id": "B87FVuZL7oO_"
      },
      "execution_count": 131,
      "outputs": []
    },
    {
      "cell_type": "code",
      "source": [
        "for ids in ids_dataset.take(10):\n",
        "    print(chars_from_ids(ids).numpy().decode('utf-8'))"
      ],
      "metadata": {
        "execution": {
          "iopub.status.busy": "2022-09-07T14:43:11.277982Z",
          "iopub.execute_input": "2022-09-07T14:43:11.278873Z",
          "iopub.status.idle": "2022-09-07T14:43:11.302313Z",
          "shell.execute_reply.started": "2022-09-07T14:43:11.278832Z",
          "shell.execute_reply": "2022-09-07T14:43:11.301429Z"
        },
        "trusted": true,
        "colab": {
          "base_uri": "https://localhost:8080/"
        },
        "id": "6tgnrctC7oO_",
        "outputId": "fb062ec1-e0d0-4956-ccdd-7ded61f9f6ab"
      },
      "execution_count": 132,
      "outputs": [
        {
          "output_type": "stream",
          "name": "stdout",
          "text": [
            " \n",
            " \n",
            " \n",
            " \n",
            " \n",
            "Д\n",
            "у\n",
            "н\n",
            "я\n",
            "ш\n"
          ]
        }
      ]
    },
    {
      "cell_type": "code",
      "source": [
        "seq_length = 100"
      ],
      "metadata": {
        "execution": {
          "iopub.status.busy": "2022-09-07T14:43:11.546891Z",
          "iopub.execute_input": "2022-09-07T14:43:11.547459Z",
          "iopub.status.idle": "2022-09-07T14:43:11.551743Z",
          "shell.execute_reply.started": "2022-09-07T14:43:11.547421Z",
          "shell.execute_reply": "2022-09-07T14:43:11.550780Z"
        },
        "trusted": true,
        "id": "9hf_wGY57oO_"
      },
      "execution_count": 133,
      "outputs": []
    },
    {
      "cell_type": "code",
      "source": [
        "sequences = ids_dataset.batch(seq_length+1, drop_remainder=True)\n",
        "\n",
        "for seq in sequences.take(1):\n",
        "    print(chars_from_ids(seq))"
      ],
      "metadata": {
        "execution": {
          "iopub.status.busy": "2022-09-07T14:43:11.865603Z",
          "iopub.execute_input": "2022-09-07T14:43:11.866348Z",
          "iopub.status.idle": "2022-09-07T14:43:11.886258Z",
          "shell.execute_reply.started": "2022-09-07T14:43:11.866304Z",
          "shell.execute_reply": "2022-09-07T14:43:11.885212Z"
        },
        "trusted": true,
        "colab": {
          "base_uri": "https://localhost:8080/"
        },
        "id": "3YM_gTn87oPA",
        "outputId": "b5243cef-8a27-47fa-dbad-abbc0c3b4359"
      },
      "execution_count": 134,
      "outputs": [
        {
          "output_type": "stream",
          "name": "stdout",
          "text": [
            "tf.Tensor(\n",
            "[b' ' b' ' b' ' b' ' b' ' b'\\xd0\\x94' b'\\xd1\\x83' b'\\xd0\\xbd' b'\\xd1\\x8f'\n",
            " b'\\xd1\\x88' b'\\xd0\\xb0' b'.' b' ' b'\\xd0\\x90' b' ' b'\\xd1\\x81'\n",
            " b'\\xd0\\xbe' b'\\xd0\\xb1' b'\\xd0\\xb0' b'\\xd0\\xba' b'\\xd0\\xb8' b' '\n",
            " b'\\xd0\\xb2' b'\\xd1\\x81' b'\\xd1\\x8e' b' ' b'\\xd0\\xbd' b'\\xd0\\xbe'\n",
            " b'\\xd1\\x87' b'\\xd1\\x8c' b' ' b'\\xd0\\xbd' b'\\xd0\\xb5' b' ' b'\\xd1\\x81'\n",
            " b'\\xd0\\xbf' b'\\xd0\\xb0' b'\\xd0\\xbb' b'\\xd0\\xb8' b',' b' ' b'\\xd1\\x87'\n",
            " b'\\xd1\\x83' b'\\xd1\\x8e' b'\\xd1\\x82' b',' b' ' b'\\xd1\\x87' b'\\xd1\\x82'\n",
            " b'\\xd0\\xbe' b' ' b'\\xd1\\x85' b'\\xd0\\xbe' b'\\xd0\\xb7' b'\\xd1\\x8f'\n",
            " b'\\xd0\\xb5' b'\\xd0\\xb2' b'\\xd0\\xb0' b' ' b'\\xd0\\xb5' b'\\xd0\\xb4'\n",
            " b'\\xd1\\x83' b'\\xd1\\x82' b'.' b'\\r' b'\\n' b' ' b' ' b' ' b' ' b' '\n",
            " b'\\xd0\\x9b' b'\\xd0\\xbe' b'\\xd0\\xbf' b'\\xd0\\xb0' b'\\xd1\\x85' b'\\xd0\\xb8'\n",
            " b'\\xd0\\xbd' b'.' b' ' b'\\xd0\\xa7' b'\\xd1\\x82' b'\\xd0\\xbe' b' '\n",
            " b'\\xd1\\x82' b'\\xd1\\x8b' b',' b' ' b'\\xd0\\x94' b'\\xd1\\x83' b'\\xd0\\xbd'\n",
            " b'\\xd1\\x8f' b'\\xd1\\x88' b'\\xd0\\xb0' b',' b' ' b'\\xd1\\x82' b'\\xd0\\xb0'\n",
            " b'\\xd0\\xba' b'\\xd0\\xb0' b'\\xd1\\x8f'], shape=(101,), dtype=string)\n"
          ]
        }
      ]
    },
    {
      "cell_type": "code",
      "source": [
        "for seq in sequences.take(5):\n",
        "    print(text_from_ids(seq).numpy())"
      ],
      "metadata": {
        "execution": {
          "iopub.status.busy": "2022-09-07T14:43:12.302275Z",
          "iopub.execute_input": "2022-09-07T14:43:12.303334Z",
          "iopub.status.idle": "2022-09-07T14:43:12.325744Z",
          "shell.execute_reply.started": "2022-09-07T14:43:12.303271Z",
          "shell.execute_reply": "2022-09-07T14:43:12.324847Z"
        },
        "trusted": true,
        "colab": {
          "base_uri": "https://localhost:8080/"
        },
        "id": "YcKppF_c7oPA",
        "outputId": "81208649-75ed-4e01-d412-669e6f6fc2bb"
      },
      "execution_count": 135,
      "outputs": [
        {
          "output_type": "stream",
          "name": "stdout",
          "text": [
            "b'     \\xd0\\x94\\xd1\\x83\\xd0\\xbd\\xd1\\x8f\\xd1\\x88\\xd0\\xb0. \\xd0\\x90 \\xd1\\x81\\xd0\\xbe\\xd0\\xb1\\xd0\\xb0\\xd0\\xba\\xd0\\xb8 \\xd0\\xb2\\xd1\\x81\\xd1\\x8e \\xd0\\xbd\\xd0\\xbe\\xd1\\x87\\xd1\\x8c \\xd0\\xbd\\xd0\\xb5 \\xd1\\x81\\xd0\\xbf\\xd0\\xb0\\xd0\\xbb\\xd0\\xb8, \\xd1\\x87\\xd1\\x83\\xd1\\x8e\\xd1\\x82, \\xd1\\x87\\xd1\\x82\\xd0\\xbe \\xd1\\x85\\xd0\\xbe\\xd0\\xb7\\xd1\\x8f\\xd0\\xb5\\xd0\\xb2\\xd0\\xb0 \\xd0\\xb5\\xd0\\xb4\\xd1\\x83\\xd1\\x82.\\r\\n     \\xd0\\x9b\\xd0\\xbe\\xd0\\xbf\\xd0\\xb0\\xd1\\x85\\xd0\\xb8\\xd0\\xbd. \\xd0\\xa7\\xd1\\x82\\xd0\\xbe \\xd1\\x82\\xd1\\x8b, \\xd0\\x94\\xd1\\x83\\xd0\\xbd\\xd1\\x8f\\xd1\\x88\\xd0\\xb0, \\xd1\\x82\\xd0\\xb0\\xd0\\xba\\xd0\\xb0\\xd1\\x8f'\n",
            "b'...\\r\\n     \\xd0\\x94\\xd1\\x83\\xd0\\xbd\\xd1\\x8f\\xd1\\x88\\xd0\\xb0. \\xd0\\xa0\\xd1\\x83\\xd0\\xba\\xd0\\xb8 \\xd1\\x82\\xd1\\x80\\xd1\\x8f\\xd1\\x81\\xd1\\x83\\xd1\\x82\\xd1\\x81\\xd1\\x8f. \\xd0\\xaf \\xd0\\xb2 \\xd0\\xbe\\xd0\\xb1\\xd0\\xbc\\xd0\\xbe\\xd1\\x80\\xd0\\xbe\\xd0\\xba \\xd1\\x83\\xd0\\xbf\\xd0\\xb0\\xd0\\xb4\\xd1\\x83.\\r\\n     \\xd0\\x9b\\xd0\\xbe\\xd0\\xbf\\xd0\\xb0\\xd1\\x85\\xd0\\xb8\\xd0\\xbd. \\xd0\\x9e\\xd1\\x87\\xd0\\xb5\\xd0\\xbd\\xd1\\x8c \\xd1\\x83\\xd0\\xb6 \\xd1\\x82\\xd1\\x8b \\xd0\\xbd\\xd0\\xb5\\xd0\\xb6\\xd0\\xbd\\xd0\\xb0\\xd1\\x8f, \\xd0\\x94\\xd1\\x83\\xd0\\xbd\\xd1\\x8f\\xd1\\x88\\xd0\\xb0. \\xd0\\x98 \\xd0\\xbe\\xd0\\xb4\\xd0\\xb5\\xd0\\xb2'\n",
            "b'\\xd0\\xb0\\xd0\\xb5\\xd1\\x88\\xd1\\x8c\\xd1\\x81\\xd1\\x8f, \\xd0\\xba\\xd0\\xb0\\xd0\\xba \\xd0\\xb1\\xd0\\xb0\\xd1\\x80\\xd1\\x8b\\xd1\\x88\\xd0\\xbd\\xd1\\x8f, \\xd0\\xb8 \\xd0\\xbf\\xd1\\x80\\xd0\\xb8\\xd1\\x87\\xd0\\xb5\\xd1\\x81\\xd0\\xba\\xd0\\xb0 \\xd1\\x82\\xd0\\xbe\\xd0\\xb6\\xd0\\xb5. \\xd0\\xa2\\xd0\\xb0\\xd0\\xba \\xd0\\xbd\\xd0\\xb5\\xd0\\xbb\\xd1\\x8c\\xd0\\xb7\\xd1\\x8f. \\xd0\\x9d\\xd0\\xb0\\xd0\\xb4\\xd0\\xbe \\xd1\\x81\\xd0\\xb5\\xd0\\xb1\\xd1\\x8f \\xd0\\xbf\\xd0\\xbe\\xd0\\xbc\\xd0\\xbd\\xd0\\xb8\\xd1\\x82\\xd1\\x8c.\\r\\n     \\r\\n     \\xd0\\x92\\xd1\\x85\\xd0\\xbe\\xd0\\xb4\\xd0\\xb8\\xd1\\x82 \\xd0\\x95\\xd0\\xbf\\xd0\\xb8\\xd1\\x85\\xd0\\xbe\\xd0\\xb4\\xd0\\xbe\\xd0\\xb2 \\xd1\\x81 \\xd0\\xb1'\n",
            "b'\\xd1\\x83\\xd0\\xba\\xd0\\xb5\\xd1\\x82\\xd0\\xbe\\xd0\\xbc: \\xd0\\xbe\\xd0\\xbd \\xd0\\xb2 \\xd0\\xbf\\xd0\\xb8\\xd0\\xb4\\xd0\\xb6\\xd0\\xb0\\xd0\\xba\\xd0\\xb5 \\xd0\\xb8 \\xd0\\xb2 \\xd1\\x8f\\xd1\\x80\\xd0\\xba\\xd0\\xbe \\xd0\\xb2\\xd1\\x8b\\xd1\\x87\\xd0\\xb8\\xd1\\x89\\xd0\\xb5\\xd0\\xbd\\xd0\\xbd\\xd1\\x8b\\xd1\\x85 \\xd1\\x81\\xd0\\xb0\\xd0\\xbf\\xd0\\xbe\\xd0\\xb3\\xd0\\xb0\\xd1\\x85, \\xd0\\xba\\xd0\\xbe\\xd1\\x82\\xd0\\xbe\\xd1\\x80\\xd1\\x8b\\xd0\\xb5 \\xd1\\x81\\xd0\\xb8\\xd0\\xbb\\xd1\\x8c\\xd0\\xbd\\xd0\\xbe \\xd1\\x81\\xd0\\xba\\xd1\\x80\\xd0\\xb8\\xd0\\xbf\\xd1\\x8f\\xd1\\x82; \\xd0\\xb2\\xd0\\xbe\\xd0\\xb9\\xd0\\xb4\\xd1\\x8f, \\xd0\\xbe\\xd0\\xbd \\xd1\\x80\\xd0\\xbe\\xd0\\xbd\\xd1\\x8f\\xd0\\xb5\\xd1\\x82 \\xd0\\xb1\\xd1\\x83\\xd0\\xba\\xd0\\xb5\\xd1\\x82. \\r\\n '\n",
            "b'    \\r\\n     \\xd0\\x95\\xd0\\xbf\\xd0\\xb8\\xd1\\x85\\xd0\\xbe\\xd0\\xb4\\xd0\\xbe\\xd0\\xb2 (\\xd0\\xbf\\xd0\\xbe\\xd0\\xb4\\xd0\\xbd\\xd0\\xb8\\xd0\\xbc\\xd0\\xb0\\xd0\\xb5\\xd1\\x82 \\xd0\\xb1\\xd1\\x83\\xd0\\xba\\xd0\\xb5\\xd1\\x82) . \\xd0\\x92\\xd0\\xbe\\xd1\\x82 \\xd1\\x81\\xd0\\xb0\\xd0\\xb4\\xd0\\xbe\\xd0\\xb2\\xd0\\xbd\\xd0\\xb8\\xd0\\xba \\xd0\\xbf\\xd1\\x80\\xd0\\xb8\\xd1\\x81\\xd0\\xbb\\xd0\\xb0\\xd0\\xbb, \\xd0\\xb3\\xd0\\xbe\\xd0\\xb2\\xd0\\xbe\\xd1\\x80\\xd0\\xb8\\xd1\\x82, \\xd0\\xb2 \\xd1\\x81\\xd1\\x82\\xd0\\xbe\\xd0\\xbb\\xd0\\xbe\\xd0\\xb2\\xd0\\xbe\\xd0\\xb9 \\xd0\\xbf\\xd0\\xbe\\xd1\\x81\\xd1\\x82\\xd0\\xb0\\xd0\\xb2\\xd0\\xb8\\xd1\\x82\\xd1\\x8c. (\\xd0\\x9e\\xd1\\x82\\xd0\\xb4\\xd0\\xb0\\xd0\\xb5\\xd1\\x82 '\n"
          ]
        }
      ]
    },
    {
      "cell_type": "code",
      "source": [
        "def split_input_target(sequence):\n",
        "    input_text = sequence[:-1]\n",
        "    target_text = sequence[1:]\n",
        "    return input_text, target_text"
      ],
      "metadata": {
        "execution": {
          "iopub.status.busy": "2022-09-07T14:43:13.005812Z",
          "iopub.execute_input": "2022-09-07T14:43:13.006746Z",
          "iopub.status.idle": "2022-09-07T14:43:13.012124Z",
          "shell.execute_reply.started": "2022-09-07T14:43:13.006696Z",
          "shell.execute_reply": "2022-09-07T14:43:13.010930Z"
        },
        "trusted": true,
        "id": "guj2e0MU7oPB"
      },
      "execution_count": 136,
      "outputs": []
    },
    {
      "cell_type": "code",
      "source": [
        "split_input_target(list(\"Tensorflow\"))"
      ],
      "metadata": {
        "execution": {
          "iopub.status.busy": "2022-09-07T14:43:13.389694Z",
          "iopub.execute_input": "2022-09-07T14:43:13.390740Z",
          "iopub.status.idle": "2022-09-07T14:43:13.397890Z",
          "shell.execute_reply.started": "2022-09-07T14:43:13.390694Z",
          "shell.execute_reply": "2022-09-07T14:43:13.396885Z"
        },
        "trusted": true,
        "colab": {
          "base_uri": "https://localhost:8080/"
        },
        "id": "2A-guro37oPB",
        "outputId": "a2dee815-ec92-4f39-aec5-4186f1369d8c"
      },
      "execution_count": 137,
      "outputs": [
        {
          "output_type": "execute_result",
          "data": {
            "text/plain": [
              "(['T', 'e', 'n', 's', 'o', 'r', 'f', 'l', 'o'],\n",
              " ['e', 'n', 's', 'o', 'r', 'f', 'l', 'o', 'w'])"
            ]
          },
          "metadata": {},
          "execution_count": 137
        }
      ]
    },
    {
      "cell_type": "code",
      "source": [
        "dataset = sequences.map(split_input_target)"
      ],
      "metadata": {
        "execution": {
          "iopub.status.busy": "2022-09-07T14:43:13.741470Z",
          "iopub.execute_input": "2022-09-07T14:43:13.741834Z",
          "iopub.status.idle": "2022-09-07T14:43:13.758278Z",
          "shell.execute_reply.started": "2022-09-07T14:43:13.741802Z",
          "shell.execute_reply": "2022-09-07T14:43:13.757375Z"
        },
        "trusted": true,
        "id": "3ANR_81R7oPC"
      },
      "execution_count": 138,
      "outputs": []
    },
    {
      "cell_type": "code",
      "source": [
        "for input_example, target_example in dataset.take(1):\n",
        "    print(\"Input :\", text_from_ids(input_example).numpy())\n",
        "    print(\"Target:\", text_from_ids(target_example).numpy())"
      ],
      "metadata": {
        "execution": {
          "iopub.status.busy": "2022-09-07T14:43:14.037624Z",
          "iopub.execute_input": "2022-09-07T14:43:14.038314Z",
          "iopub.status.idle": "2022-09-07T14:43:14.063772Z",
          "shell.execute_reply.started": "2022-09-07T14:43:14.038275Z",
          "shell.execute_reply": "2022-09-07T14:43:14.062778Z"
        },
        "trusted": true,
        "colab": {
          "base_uri": "https://localhost:8080/"
        },
        "id": "e8dUbni87oPC",
        "outputId": "3ce9d1d5-8b3d-4053-a1b7-ea706fa24f3b"
      },
      "execution_count": 139,
      "outputs": [
        {
          "output_type": "stream",
          "name": "stdout",
          "text": [
            "Input : b'     \\xd0\\x94\\xd1\\x83\\xd0\\xbd\\xd1\\x8f\\xd1\\x88\\xd0\\xb0. \\xd0\\x90 \\xd1\\x81\\xd0\\xbe\\xd0\\xb1\\xd0\\xb0\\xd0\\xba\\xd0\\xb8 \\xd0\\xb2\\xd1\\x81\\xd1\\x8e \\xd0\\xbd\\xd0\\xbe\\xd1\\x87\\xd1\\x8c \\xd0\\xbd\\xd0\\xb5 \\xd1\\x81\\xd0\\xbf\\xd0\\xb0\\xd0\\xbb\\xd0\\xb8, \\xd1\\x87\\xd1\\x83\\xd1\\x8e\\xd1\\x82, \\xd1\\x87\\xd1\\x82\\xd0\\xbe \\xd1\\x85\\xd0\\xbe\\xd0\\xb7\\xd1\\x8f\\xd0\\xb5\\xd0\\xb2\\xd0\\xb0 \\xd0\\xb5\\xd0\\xb4\\xd1\\x83\\xd1\\x82.\\r\\n     \\xd0\\x9b\\xd0\\xbe\\xd0\\xbf\\xd0\\xb0\\xd1\\x85\\xd0\\xb8\\xd0\\xbd. \\xd0\\xa7\\xd1\\x82\\xd0\\xbe \\xd1\\x82\\xd1\\x8b, \\xd0\\x94\\xd1\\x83\\xd0\\xbd\\xd1\\x8f\\xd1\\x88\\xd0\\xb0, \\xd1\\x82\\xd0\\xb0\\xd0\\xba\\xd0\\xb0'\n",
            "Target: b'    \\xd0\\x94\\xd1\\x83\\xd0\\xbd\\xd1\\x8f\\xd1\\x88\\xd0\\xb0. \\xd0\\x90 \\xd1\\x81\\xd0\\xbe\\xd0\\xb1\\xd0\\xb0\\xd0\\xba\\xd0\\xb8 \\xd0\\xb2\\xd1\\x81\\xd1\\x8e \\xd0\\xbd\\xd0\\xbe\\xd1\\x87\\xd1\\x8c \\xd0\\xbd\\xd0\\xb5 \\xd1\\x81\\xd0\\xbf\\xd0\\xb0\\xd0\\xbb\\xd0\\xb8, \\xd1\\x87\\xd1\\x83\\xd1\\x8e\\xd1\\x82, \\xd1\\x87\\xd1\\x82\\xd0\\xbe \\xd1\\x85\\xd0\\xbe\\xd0\\xb7\\xd1\\x8f\\xd0\\xb5\\xd0\\xb2\\xd0\\xb0 \\xd0\\xb5\\xd0\\xb4\\xd1\\x83\\xd1\\x82.\\r\\n     \\xd0\\x9b\\xd0\\xbe\\xd0\\xbf\\xd0\\xb0\\xd1\\x85\\xd0\\xb8\\xd0\\xbd. \\xd0\\xa7\\xd1\\x82\\xd0\\xbe \\xd1\\x82\\xd1\\x8b, \\xd0\\x94\\xd1\\x83\\xd0\\xbd\\xd1\\x8f\\xd1\\x88\\xd0\\xb0, \\xd1\\x82\\xd0\\xb0\\xd0\\xba\\xd0\\xb0\\xd1\\x8f'\n"
          ]
        }
      ]
    },
    {
      "cell_type": "code",
      "source": [
        "# Batch size\n",
        "BATCH_SIZE = 64\n",
        "\n",
        "# Buffer size to shuffle the dataset\n",
        "# (TF data is designed to work with possibly infinite sequences,\n",
        "# so it doesn't attempt to shuffle the entire sequence in memory. Instead,\n",
        "# it maintains a buffer in which it shuffles elements).\n",
        "BUFFER_SIZE = 10000\n",
        "\n",
        "dataset = (\n",
        "    dataset\n",
        "    .shuffle(BUFFER_SIZE)\n",
        "    .batch(BATCH_SIZE, drop_remainder=True)\n",
        "    .prefetch(tf.data.experimental.AUTOTUNE))\n",
        "\n",
        "dataset"
      ],
      "metadata": {
        "execution": {
          "iopub.status.busy": "2022-09-07T14:43:14.469559Z",
          "iopub.execute_input": "2022-09-07T14:43:14.470615Z",
          "iopub.status.idle": "2022-09-07T14:43:14.481054Z",
          "shell.execute_reply.started": "2022-09-07T14:43:14.470561Z",
          "shell.execute_reply": "2022-09-07T14:43:14.479929Z"
        },
        "trusted": true,
        "colab": {
          "base_uri": "https://localhost:8080/"
        },
        "id": "bjymI-Q67oPC",
        "outputId": "4c35d834-64bb-41a4-d77d-8e1042720896"
      },
      "execution_count": 140,
      "outputs": [
        {
          "output_type": "execute_result",
          "data": {
            "text/plain": [
              "<PrefetchDataset element_spec=(TensorSpec(shape=(64, 100), dtype=tf.int64, name=None), TensorSpec(shape=(64, 100), dtype=tf.int64, name=None))>"
            ]
          },
          "metadata": {},
          "execution_count": 140
        }
      ]
    },
    {
      "cell_type": "code",
      "source": [
        "# Length of the vocabulary in StringLookup Layer\n",
        "vocab_size = len(ids_from_chars.get_vocabulary())\n",
        "\n",
        "# The embedding dimension\n",
        "embedding_dim = 256\n",
        "\n",
        "# Number of RNN units\n",
        "rnn_units = 1024"
      ],
      "metadata": {
        "execution": {
          "iopub.status.busy": "2022-09-07T14:43:16.686448Z",
          "iopub.execute_input": "2022-09-07T14:43:16.686948Z",
          "iopub.status.idle": "2022-09-07T14:43:16.701368Z",
          "shell.execute_reply.started": "2022-09-07T14:43:16.686904Z",
          "shell.execute_reply": "2022-09-07T14:43:16.695701Z"
        },
        "trusted": true,
        "id": "zK7T4NU37oPD"
      },
      "execution_count": 141,
      "outputs": []
    },
    {
      "cell_type": "code",
      "source": [],
      "metadata": {
        "id": "hnbhTD287oPD"
      },
      "execution_count": 141,
      "outputs": []
    },
    {
      "cell_type": "markdown",
      "source": [
        "### train and target"
      ],
      "metadata": {
        "id": "hgsVvVxnymwf"
      }
    },
    {
      "cell_type": "code",
      "source": [
        "def build_model(vocab_size, embedding_dim, rnn_units):\n",
        "    model = tf.keras.Sequential([\n",
        "        tf.keras.layers.Embedding(vocab_size, embedding_dim),\n",
        "                                 \n",
        "        tf.keras.layers.GRU(rnn_units,\n",
        "                            return_sequences=True,\n",
        "                            stateful=False,\n",
        "                            recurrent_initializer='glorot_uniform'),\n",
        "\n",
        "        tf.keras.layers.LSTM(rnn_units,\n",
        "                            return_sequences=True,\n",
        "                            stateful=False,\n",
        "                            recurrent_initializer='glorot_uniform'),\n",
        "      \n",
        "                                   \n",
        "        tf.keras.layers.Dense(vocab_size)\n",
        "    ])\n",
        "    return model"
      ],
      "metadata": {
        "id": "FNfDlxWZ8NXK",
        "execution": {
          "iopub.status.busy": "2022-09-07T14:48:12.930930Z",
          "iopub.execute_input": "2022-09-07T14:48:12.931931Z",
          "iopub.status.idle": "2022-09-07T14:48:12.939694Z",
          "shell.execute_reply.started": "2022-09-07T14:48:12.931890Z",
          "shell.execute_reply": "2022-09-07T14:48:12.938374Z"
        },
        "trusted": true
      },
      "execution_count": 204,
      "outputs": []
    },
    {
      "cell_type": "code",
      "source": [
        "model = build_model(\n",
        "    vocab_size=vocab_size,\n",
        "    embedding_dim=embedding_dim,\n",
        "    rnn_units=rnn_units)"
      ],
      "metadata": {
        "id": "wwsrpOik5zhv",
        "execution": {
          "iopub.status.busy": "2022-09-07T14:48:13.387445Z",
          "iopub.execute_input": "2022-09-07T14:48:13.387864Z",
          "iopub.status.idle": "2022-09-07T14:48:14.092446Z",
          "shell.execute_reply.started": "2022-09-07T14:48:13.387828Z",
          "shell.execute_reply": "2022-09-07T14:48:14.091449Z"
        },
        "trusted": true
      },
      "execution_count": 205,
      "outputs": []
    },
    {
      "cell_type": "code",
      "source": [
        "for input_example_batch, target_example_batch in dataset.take(1):\n",
        "    example_batch_predictions = model(input_example_batch)\n",
        "    print(example_batch_predictions.shape, \"# (batch_size, sequence_length, vocab_size)\")"
      ],
      "metadata": {
        "id": "C-_70kKAPrPU",
        "outputId": "93aaedaf-9f07-454f-b62d-5d1dd4eb3bf7",
        "execution": {
          "iopub.status.busy": "2022-09-07T14:48:14.097305Z",
          "iopub.execute_input": "2022-09-07T14:48:14.099936Z",
          "iopub.status.idle": "2022-09-07T14:48:15.987681Z",
          "shell.execute_reply.started": "2022-09-07T14:48:14.099896Z",
          "shell.execute_reply": "2022-09-07T14:48:15.986705Z"
        },
        "trusted": true,
        "colab": {
          "base_uri": "https://localhost:8080/"
        }
      },
      "execution_count": 206,
      "outputs": [
        {
          "output_type": "stream",
          "name": "stdout",
          "text": [
            "(64, 100, 107) # (batch_size, sequence_length, vocab_size)\n"
          ]
        }
      ]
    },
    {
      "cell_type": "code",
      "source": [
        "model.summary()"
      ],
      "metadata": {
        "id": "vPGmAAXmVLGC",
        "outputId": "28ca7748-02a1-4324-f1fc-e9e625b0d6d7",
        "execution": {
          "iopub.status.busy": "2022-09-07T14:48:15.991106Z",
          "iopub.execute_input": "2022-09-07T14:48:15.991523Z",
          "iopub.status.idle": "2022-09-07T14:48:15.998505Z",
          "shell.execute_reply.started": "2022-09-07T14:48:15.991490Z",
          "shell.execute_reply": "2022-09-07T14:48:15.997293Z"
        },
        "trusted": true,
        "colab": {
          "base_uri": "https://localhost:8080/"
        }
      },
      "execution_count": 207,
      "outputs": [
        {
          "output_type": "stream",
          "name": "stdout",
          "text": [
            "Model: \"sequential_9\"\n",
            "_________________________________________________________________\n",
            " Layer (type)                Output Shape              Param #   \n",
            "=================================================================\n",
            " embedding_10 (Embedding)    (None, None, 256)         27392     \n",
            "                                                                 \n",
            " gru_11 (GRU)                (None, None, 1024)        3938304   \n",
            "                                                                 \n",
            " lstm_4 (LSTM)               (None, None, 1024)        8392704   \n",
            "                                                                 \n",
            " dense_9 (Dense)             (None, None, 107)         109675    \n",
            "                                                                 \n",
            "=================================================================\n",
            "Total params: 12,468,075\n",
            "Trainable params: 12,468,075\n",
            "Non-trainable params: 0\n",
            "_________________________________________________________________\n"
          ]
        }
      ]
    },
    {
      "cell_type": "code",
      "source": [
        "sampled_indices = tf.random.categorical(example_batch_predictions[0], num_samples=1)\n",
        "sampled_indices = tf.squeeze(sampled_indices,axis=-1).numpy()"
      ],
      "metadata": {
        "id": "4V4MfFg0RQJg",
        "execution": {
          "iopub.status.busy": "2022-09-07T14:48:16.001825Z",
          "iopub.execute_input": "2022-09-07T14:48:16.002710Z",
          "iopub.status.idle": "2022-09-07T14:48:16.009669Z",
          "shell.execute_reply.started": "2022-09-07T14:48:16.002604Z",
          "shell.execute_reply": "2022-09-07T14:48:16.008710Z"
        },
        "trusted": true
      },
      "execution_count": 208,
      "outputs": []
    },
    {
      "cell_type": "markdown",
      "source": [
        "## Train the model"
      ],
      "metadata": {
        "id": "LJL0Q0YPY6Ee"
      }
    },
    {
      "cell_type": "code",
      "source": [
        "def loss(labels, logits):\n",
        "    return tf.keras.losses.sparse_categorical_crossentropy(labels, logits, from_logits=True)\n",
        "\n",
        "example_batch_loss = loss(target_example_batch, example_batch_predictions)\n",
        "print(\"Prediction shape: \", example_batch_predictions.shape, \" # (batch_size, sequence_length, vocab_size)\")\n",
        "print(\"scalar_loss:      \", example_batch_loss.numpy().mean())"
      ],
      "metadata": {
        "id": "4HrXTACTdzY-",
        "outputId": "cfeedfaa-284e-4b99-b0b7-4d056922393a",
        "execution": {
          "iopub.status.busy": "2022-09-07T14:48:16.011521Z",
          "iopub.execute_input": "2022-09-07T14:48:16.011975Z",
          "iopub.status.idle": "2022-09-07T14:48:16.023837Z",
          "shell.execute_reply.started": "2022-09-07T14:48:16.011934Z",
          "shell.execute_reply": "2022-09-07T14:48:16.022604Z"
        },
        "trusted": true,
        "colab": {
          "base_uri": "https://localhost:8080/"
        }
      },
      "execution_count": 209,
      "outputs": [
        {
          "output_type": "stream",
          "name": "stdout",
          "text": [
            "Prediction shape:  (64, 100, 107)  # (batch_size, sequence_length, vocab_size)\n",
            "scalar_loss:       4.6732244\n"
          ]
        }
      ]
    },
    {
      "cell_type": "code",
      "source": [
        "model.compile(optimizer='adam', loss=loss)"
      ],
      "metadata": {
        "id": "DDl1_Een6rL0",
        "execution": {
          "iopub.status.busy": "2022-09-07T14:48:16.025624Z",
          "iopub.execute_input": "2022-09-07T14:48:16.026187Z",
          "iopub.status.idle": "2022-09-07T14:48:16.038174Z",
          "shell.execute_reply.started": "2022-09-07T14:48:16.026140Z",
          "shell.execute_reply": "2022-09-07T14:48:16.037146Z"
        },
        "trusted": true
      },
      "execution_count": 210,
      "outputs": []
    },
    {
      "cell_type": "markdown",
      "source": [
        "### Configure checkpoints"
      ],
      "metadata": {
        "id": "ieSJdchZggUj"
      }
    },
    {
      "cell_type": "code",
      "source": [
        "!rm -rf ./training_checkpoints"
      ],
      "metadata": {
        "id": "tINIEZEzLH1C",
        "execution": {
          "iopub.status.busy": "2022-09-07T14:48:16.039797Z",
          "iopub.execute_input": "2022-09-07T14:48:16.040144Z",
          "iopub.status.idle": "2022-09-07T14:48:17.065715Z",
          "shell.execute_reply.started": "2022-09-07T14:48:16.040110Z",
          "shell.execute_reply": "2022-09-07T14:48:17.064333Z"
        },
        "trusted": true
      },
      "execution_count": 211,
      "outputs": []
    },
    {
      "cell_type": "code",
      "source": [
        "!ls ./training_checkpoints"
      ],
      "metadata": {
        "id": "q71A8AWiOMa7",
        "outputId": "b3ceefb9-6c61-4c38-a0fd-f53aec908943",
        "execution": {
          "iopub.status.busy": "2022-09-07T14:48:17.067619Z",
          "iopub.execute_input": "2022-09-07T14:48:17.068076Z",
          "iopub.status.idle": "2022-09-07T14:48:18.085424Z",
          "shell.execute_reply.started": "2022-09-07T14:48:17.068034Z",
          "shell.execute_reply": "2022-09-07T14:48:18.084235Z"
        },
        "trusted": true,
        "colab": {
          "base_uri": "https://localhost:8080/"
        }
      },
      "execution_count": 212,
      "outputs": [
        {
          "output_type": "stream",
          "name": "stdout",
          "text": [
            "ls: cannot access './training_checkpoints': No such file or directory\n"
          ]
        }
      ]
    },
    {
      "cell_type": "code",
      "source": [
        "# Directory where the checkpoints will be saved\n",
        "checkpoint_dir = './training_checkpoints'\n",
        "# Name of the checkpoint files\n",
        "checkpoint_prefix = os.path.join(checkpoint_dir, \"ckpt_{epoch}\")\n",
        "\n",
        "checkpoint_callback = tf.keras.callbacks.ModelCheckpoint(\n",
        "    filepath=checkpoint_prefix,\n",
        "    save_freq=88*5,\n",
        "    save_weights_only=True)"
      ],
      "metadata": {
        "id": "W6fWTriUZP-n",
        "execution": {
          "iopub.status.busy": "2022-09-07T14:48:18.087238Z",
          "iopub.execute_input": "2022-09-07T14:48:18.087568Z",
          "iopub.status.idle": "2022-09-07T14:48:18.094208Z",
          "shell.execute_reply.started": "2022-09-07T14:48:18.087534Z",
          "shell.execute_reply": "2022-09-07T14:48:18.093063Z"
        },
        "trusted": true
      },
      "execution_count": 213,
      "outputs": []
    },
    {
      "cell_type": "markdown",
      "source": [
        "### Execute the training"
      ],
      "metadata": {
        "id": "3Ky3F_BhgkTW"
      }
    },
    {
      "cell_type": "code",
      "source": [
        "EPOCHS = 50"
      ],
      "metadata": {
        "id": "7yGBE2zxMMHs",
        "execution": {
          "iopub.status.busy": "2022-09-07T14:48:18.098377Z",
          "iopub.execute_input": "2022-09-07T14:48:18.098832Z",
          "iopub.status.idle": "2022-09-07T14:48:18.106965Z",
          "shell.execute_reply.started": "2022-09-07T14:48:18.098794Z",
          "shell.execute_reply": "2022-09-07T14:48:18.105924Z"
        },
        "trusted": true
      },
      "execution_count": 214,
      "outputs": []
    },
    {
      "cell_type": "code",
      "source": [
        "history = model.fit(dataset, epochs=EPOCHS, callbacks=[checkpoint_callback])"
      ],
      "metadata": {
        "id": "UK-hmKjYVoll",
        "execution": {
          "iopub.status.busy": "2022-09-07T14:48:18.108709Z",
          "iopub.execute_input": "2022-09-07T14:48:18.109231Z",
          "iopub.status.idle": "2022-09-07T14:53:34.788505Z",
          "shell.execute_reply.started": "2022-09-07T14:48:18.109176Z",
          "shell.execute_reply": "2022-09-07T14:53:34.787415Z"
        },
        "trusted": true,
        "colab": {
          "base_uri": "https://localhost:8080/"
        },
        "outputId": "81a01f17-13ee-4fcc-e46b-71a4b72f58aa"
      },
      "execution_count": 215,
      "outputs": [
        {
          "output_type": "stream",
          "name": "stdout",
          "text": [
            "Epoch 1/50\n",
            "41/41 [==============================] - 10s 162ms/step - loss: 3.5195\n",
            "Epoch 2/50\n",
            "41/41 [==============================] - 7s 167ms/step - loss: 3.0363\n",
            "Epoch 3/50\n",
            "41/41 [==============================] - 7s 170ms/step - loss: 2.5271\n",
            "Epoch 4/50\n",
            "41/41 [==============================] - 7s 164ms/step - loss: 2.2988\n",
            "Epoch 5/50\n",
            "41/41 [==============================] - 7s 164ms/step - loss: 2.1395\n",
            "Epoch 6/50\n",
            "41/41 [==============================] - 7s 162ms/step - loss: 1.9976\n",
            "Epoch 7/50\n",
            "41/41 [==============================] - 7s 157ms/step - loss: 1.8671\n",
            "Epoch 8/50\n",
            "41/41 [==============================] - 7s 157ms/step - loss: 1.7317\n",
            "Epoch 9/50\n",
            "41/41 [==============================] - 7s 158ms/step - loss: 1.5950\n",
            "Epoch 10/50\n",
            "41/41 [==============================] - 7s 161ms/step - loss: 1.4537\n",
            "Epoch 11/50\n",
            "41/41 [==============================] - 8s 179ms/step - loss: 1.3102\n",
            "Epoch 12/50\n",
            "41/41 [==============================] - 7s 166ms/step - loss: 1.1614\n",
            "Epoch 13/50\n",
            "41/41 [==============================] - 7s 167ms/step - loss: 1.0063\n",
            "Epoch 14/50\n",
            "41/41 [==============================] - 7s 164ms/step - loss: 0.8439\n",
            "Epoch 15/50\n",
            "41/41 [==============================] - 7s 163ms/step - loss: 0.6874\n",
            "Epoch 16/50\n",
            "41/41 [==============================] - 7s 163ms/step - loss: 0.5354\n",
            "Epoch 17/50\n",
            "41/41 [==============================] - 7s 160ms/step - loss: 0.4100\n",
            "Epoch 18/50\n",
            "41/41 [==============================] - 7s 161ms/step - loss: 0.3137\n",
            "Epoch 19/50\n",
            "41/41 [==============================] - 7s 161ms/step - loss: 0.2432\n",
            "Epoch 20/50\n",
            "41/41 [==============================] - 7s 162ms/step - loss: 0.1986\n",
            "Epoch 21/50\n",
            "41/41 [==============================] - 7s 162ms/step - loss: 0.1685\n",
            "Epoch 22/50\n",
            "41/41 [==============================] - 7s 175ms/step - loss: 0.1453\n",
            "Epoch 23/50\n",
            "41/41 [==============================] - 7s 163ms/step - loss: 0.1308\n",
            "Epoch 24/50\n",
            "41/41 [==============================] - 7s 163ms/step - loss: 0.1191\n",
            "Epoch 25/50\n",
            "41/41 [==============================] - 7s 162ms/step - loss: 0.1076\n",
            "Epoch 26/50\n",
            "41/41 [==============================] - 7s 162ms/step - loss: 0.1015\n",
            "Epoch 27/50\n",
            "41/41 [==============================] - 7s 162ms/step - loss: 0.0959\n",
            "Epoch 28/50\n",
            "41/41 [==============================] - 7s 161ms/step - loss: 0.0916\n",
            "Epoch 29/50\n",
            "41/41 [==============================] - 7s 162ms/step - loss: 0.0862\n",
            "Epoch 30/50\n",
            "41/41 [==============================] - 7s 162ms/step - loss: 0.0823\n",
            "Epoch 31/50\n",
            "41/41 [==============================] - 7s 163ms/step - loss: 0.0798\n",
            "Epoch 32/50\n",
            "41/41 [==============================] - 7s 164ms/step - loss: 0.0777\n",
            "Epoch 33/50\n",
            "41/41 [==============================] - 7s 174ms/step - loss: 0.0752\n",
            "Epoch 34/50\n",
            "41/41 [==============================] - 7s 163ms/step - loss: 0.0738\n",
            "Epoch 35/50\n",
            "41/41 [==============================] - 7s 163ms/step - loss: 0.0721\n",
            "Epoch 36/50\n",
            "41/41 [==============================] - 7s 162ms/step - loss: 0.0698\n",
            "Epoch 37/50\n",
            "41/41 [==============================] - 7s 162ms/step - loss: 0.0693\n",
            "Epoch 38/50\n",
            "41/41 [==============================] - 7s 162ms/step - loss: 0.0673\n",
            "Epoch 39/50\n",
            "41/41 [==============================] - 7s 162ms/step - loss: 0.0655\n",
            "Epoch 40/50\n",
            "41/41 [==============================] - 7s 163ms/step - loss: 0.0653\n",
            "Epoch 41/50\n",
            "41/41 [==============================] - 7s 164ms/step - loss: 0.0642\n",
            "Epoch 42/50\n",
            "41/41 [==============================] - 7s 163ms/step - loss: 0.0638\n",
            "Epoch 43/50\n",
            "41/41 [==============================] - 8s 183ms/step - loss: 0.0627\n",
            "Epoch 44/50\n",
            "41/41 [==============================] - 7s 162ms/step - loss: 0.0626\n",
            "Epoch 45/50\n",
            "41/41 [==============================] - 7s 162ms/step - loss: 0.0627\n",
            "Epoch 46/50\n",
            "41/41 [==============================] - 7s 162ms/step - loss: 0.0622\n",
            "Epoch 47/50\n",
            "41/41 [==============================] - 7s 163ms/step - loss: 0.0615\n",
            "Epoch 48/50\n",
            "41/41 [==============================] - 7s 162ms/step - loss: 0.0609\n",
            "Epoch 49/50\n",
            "41/41 [==============================] - 7s 163ms/step - loss: 0.0611\n",
            "Epoch 50/50\n",
            "41/41 [==============================] - 7s 162ms/step - loss: 0.0606\n"
          ]
        }
      ]
    },
    {
      "cell_type": "code",
      "source": [],
      "metadata": {
        "id": "9fXMkdP_7oPI"
      },
      "execution_count": 215,
      "outputs": []
    },
    {
      "cell_type": "markdown",
      "source": [
        "## Generate text"
      ],
      "metadata": {
        "id": "kKkD5M6eoSiN"
      }
    },
    {
      "cell_type": "code",
      "source": [
        "class OneStep(tf.keras.Model):\n",
        "    def __init__(self, model, chars_from_ids, ids_from_chars, temperature=1.0):\n",
        "        super().__init__()\n",
        "        self.temperature = temperature\n",
        "        self.model = model\n",
        "        self.chars_from_ids = chars_from_ids\n",
        "        self.ids_from_chars = ids_from_chars\n",
        "\n",
        "        # Create a mask to prevent \"[UNK]\" from being generated.\n",
        "        skip_ids = self.ids_from_chars(['[UNK]'])[:, None]\n",
        "        sparse_mask = tf.SparseTensor(\n",
        "            # Put a -inf at each bad index.\n",
        "            values=[-float('inf')]*len(skip_ids),\n",
        "            indices=skip_ids,\n",
        "            # Match the shape to the vocabulary\n",
        "            dense_shape=[len(ids_from_chars.get_vocabulary())])\n",
        "        self.prediction_mask = tf.sparse.to_dense(sparse_mask)\n",
        "\n",
        "    @tf.function\n",
        "    def generate_one_step(self, inputs):\n",
        "        # Convert strings to token IDs.\n",
        "        input_chars = tf.strings.unicode_split(inputs, 'UTF-8')\n",
        "        input_ids = self.ids_from_chars(input_chars).to_tensor()\n",
        "\n",
        "        # Run the model.\n",
        "        # predicted_logits.shape is [batch, char, next_char_logits]\n",
        "        predicted_logits = self.model(inputs=input_ids)\n",
        "        # Only use the last prediction.\n",
        "        predicted_logits = predicted_logits[:, -1, :]\n",
        "        predicted_logits = predicted_logits/self.temperature\n",
        "        # Apply the prediction mask: prevent \"[UNK]\" from being generated.\n",
        "        predicted_logits = predicted_logits + self.prediction_mask\n",
        "\n",
        "        # Sample the output logits to generate token IDs.\n",
        "        predicted_ids = tf.random.categorical(predicted_logits, num_samples=1)\n",
        "        predicted_ids = tf.squeeze(predicted_ids, axis=-1)\n",
        "\n",
        "        # Convert from token ids to characters\n",
        "        predicted_chars = self.chars_from_ids(predicted_ids)\n",
        "\n",
        "        # Return the characters and model state.\n",
        "        return predicted_chars"
      ],
      "metadata": {
        "id": "WvuwZBX5Ogfd",
        "execution": {
          "iopub.status.busy": "2022-09-07T14:53:34.791542Z",
          "iopub.execute_input": "2022-09-07T14:53:34.791933Z",
          "iopub.status.idle": "2022-09-07T14:53:34.802811Z",
          "shell.execute_reply.started": "2022-09-07T14:53:34.791904Z",
          "shell.execute_reply": "2022-09-07T14:53:34.801174Z"
        },
        "trusted": true
      },
      "execution_count": 216,
      "outputs": []
    },
    {
      "cell_type": "code",
      "source": [
        "one_step_model = OneStep(model, chars_from_ids, ids_from_chars)"
      ],
      "metadata": {
        "id": "ktovv0RFhrkn",
        "execution": {
          "iopub.status.busy": "2022-09-07T14:53:34.804725Z",
          "iopub.execute_input": "2022-09-07T14:53:34.805451Z",
          "iopub.status.idle": "2022-09-07T14:53:34.846832Z",
          "shell.execute_reply.started": "2022-09-07T14:53:34.805414Z",
          "shell.execute_reply": "2022-09-07T14:53:34.845935Z"
        },
        "trusted": true
      },
      "execution_count": 217,
      "outputs": []
    },
    {
      "cell_type": "code",
      "source": [
        "start = time.time()\n",
        "# states = None\n",
        "next_char = tf.constant(['Лопатин:'])\n",
        "result = [next_char]\n",
        "\n",
        "for n in range(1000):\n",
        "    next_char = one_step_model.generate_one_step(next_char)\n",
        "    \n",
        "    result.append(next_char)\n",
        "\n",
        "result = tf.strings.join(result)\n",
        "end = time.time()\n",
        "print(result[0].numpy().decode('utf-8'), '\\n\\n' + '_'*80)\n",
        "print('\\nRun time:', end - start)"
      ],
      "metadata": {
        "execution": {
          "iopub.status.busy": "2022-09-07T14:53:34.855674Z",
          "iopub.execute_input": "2022-09-07T14:53:34.856201Z",
          "iopub.status.idle": "2022-09-07T14:53:39.113000Z",
          "shell.execute_reply.started": "2022-09-07T14:53:34.856173Z",
          "shell.execute_reply": "2022-09-07T14:53:39.111893Z"
        },
        "trusted": true,
        "colab": {
          "base_uri": "https://localhost:8080/"
        },
        "id": "_Qek83Uu7oPJ",
        "outputId": "eb4de918-2dd4-4365-bb90-daebdfdc5d78"
      },
      "execution_count": 218,
      "outputs": [
        {
          "output_type": "stream",
          "name": "stdout",
          "text": [
            "Лопатин:   нта, про бы плоееня  рюба (н ж? н зв ные \r\n",
            " най.  м   Дачециму) парари, \r\n",
            " кла.  адо м, не\"н. .. нелька жебелебофедвлаль, повнофихолен пролоя бывет, м   (воде жи      нада  Анекодай пля, Зади пршет.  нак, Ототах!\r\n",
            "  Вшиво  (Неноза возвы,  пи    итеть петотышк ду га  завнак В,  вак нюбыйчкледо пя. ко  Вы, ндайчанужащивай Всловы  по Ха  инак. жейчкудит \r\n",
            "  у Тра  ум.  жи ни бы (гови  Ска нахомя  юбизахо т бла...  стетиза   \r\n",
            "  мцеля..  Епла.  ида и? демырюбыене   нь Этенетвдиневм;cда..  нышеторшенего Мерала..  тегас тст, Лошланетае.\r\n",
            " тск,  бы па буя, Засто  к. си  А- эт, (стьеетет, пров вуспи,   ужетс поядатст, па, Вайшашето палах    пукас   нюбы, мышлая... сх!\r\n",
            "  вдетана умети ча. Ана. Яшивна. со  Ан..) м.)  А чкоме ушихитаспедвняхо -евим ниса т. ни,    в итасе  Яшлоя.  мнья  (Пра Вслу каю, (м Ереня да да! по.  з да,  уде паже бы  мо Любо наененато. (деши тслазажа сли Трашь. праегдалакольhгобидя, гра Я\"  вцетво меводаюблы (вне задоядес насе  кукудатам  (в Пофи,  А г...\r\n",
            " Ани   ( ним \n",
            "\n",
            "________________________________________________________________________________\n",
            "\n",
            "Run time: 4.312785625457764\n"
          ]
        }
      ]
    },
    {
      "cell_type": "code",
      "source": [],
      "metadata": {
        "id": "XGHTBGPH7oPJ"
      },
      "execution_count": 170,
      "outputs": []
    },
    {
      "cell_type": "code",
      "source": [],
      "metadata": {
        "id": "tECZoPZP7oPJ"
      },
      "execution_count": null,
      "outputs": []
    },
    {
      "cell_type": "code",
      "source": [],
      "metadata": {
        "id": "hjuhCdppiVqy"
      },
      "execution_count": null,
      "outputs": []
    }
  ]
}