{
  "cells": [
    {
      "cell_type": "markdown",
      "metadata": {
        "id": "BFe4TBFLf6Mm"
      },
      "source": [
        "### Тематическое моделирование \n",
        "\n"
      ]
    },
    {
      "cell_type": "code",
      "source": [
        "from google.colab import drive\n",
        "drive.mount('/content/drive')"
      ],
      "metadata": {
        "colab": {
          "base_uri": "https://localhost:8080/"
        },
        "id": "G3cCFPj7n5Nm",
        "outputId": "dacec244-1bd8-4c6c-94c6-2f8af59224df"
      },
      "execution_count": 1,
      "outputs": [
        {
          "output_type": "stream",
          "name": "stdout",
          "text": [
            "Mounted at /content/drive\n"
          ]
        }
      ]
    },
    {
      "cell_type": "code",
      "source": [
        "import pandas as pd"
      ],
      "metadata": {
        "id": "zaaUS55ZoKhG"
      },
      "execution_count": 2,
      "outputs": []
    },
    {
      "cell_type": "code",
      "source": [
        "# neg_df = pd.read_csv('/content/drive/MyDrive/NLP/lessons4/negative.csv')\n",
        "# pos_df = pd.read_csv('/content/drive/MyDrive/NLP/lessons4/positive.csv')"
      ],
      "metadata": {
        "id": "S8Rc9xzfn5P9"
      },
      "execution_count": 20,
      "outputs": []
    },
    {
      "cell_type": "code",
      "source": [
        "import csv\n",
        "text = []\n",
        "with open('/content/drive/MyDrive/NLP/lessons4/negative.csv', 'r') as f:\n",
        "    data = csv.reader(x.replace('\\0', '') for x in f)\n",
        "    for row in data:\n",
        "        text.append(''.join(row))"
      ],
      "metadata": {
        "id": "QVXFft6WrcC_"
      },
      "execution_count": 81,
      "outputs": []
    },
    {
      "cell_type": "code",
      "source": [
        "neg_df = pd.DataFrame(text, columns=['text'])"
      ],
      "metadata": {
        "id": "BIkgJxn6rcHy"
      },
      "execution_count": 82,
      "outputs": []
    },
    {
      "cell_type": "code",
      "source": [
        "import csv\n",
        "text = []\n",
        "with open('/content/drive/MyDrive/NLP/lessons4/positive.csv', 'r') as f:\n",
        "    data = csv.reader(x.replace('\\0', '') for x in f)\n",
        "    for row in data:\n",
        "        text.append(''.join(row))"
      ],
      "metadata": {
        "id": "dK_4pg8hwcPI"
      },
      "execution_count": 84,
      "outputs": []
    },
    {
      "cell_type": "code",
      "source": [
        "pos_df = pd.DataFrame(text, columns=['text'])"
      ],
      "metadata": {
        "id": "rEY2tpH7yfUm"
      },
      "execution_count": 85,
      "outputs": []
    },
    {
      "cell_type": "code",
      "source": [
        "data = pos_df.append(neg_df, ignore_index = True, sort = False)"
      ],
      "metadata": {
        "id": "5FX8j37nyfXG"
      },
      "execution_count": 126,
      "outputs": []
    },
    {
      "cell_type": "code",
      "source": [
        "data.sample(5)"
      ],
      "metadata": {
        "colab": {
          "base_uri": "https://localhost:8080/",
          "height": 206
        },
        "id": "S0gX9CZoyn4O",
        "outputId": "f65cecf7-856b-4030-903e-46b4c3d98251"
      },
      "execution_count": 127,
      "outputs": [
        {
          "output_type": "execute_result",
          "data": {
            "text/plain": [
              "                                                     text\n",
              "201224  415148745760579584;\"1387814148\";\"kellydead\";\"н...\n",
              "143142  409192805718700032;\"1386394141\";\"MiuShizumi\";\"...\n",
              "254164  422389081092276224;\"1389540379\";\"_Holographik_...\n",
              "84650   Конечно на одних фруктах сижу)\";\"1\";\"0\";\"0\";\"0...\n",
              "129342  411128184101273600;\"1386855572\";\"K_Shishlik\";\"..."
            ],
            "text/html": [
              "\n",
              "  <div id=\"df-c0788302-bd5e-409a-93d5-72c9ddb5b21e\">\n",
              "    <div class=\"colab-df-container\">\n",
              "      <div>\n",
              "<style scoped>\n",
              "    .dataframe tbody tr th:only-of-type {\n",
              "        vertical-align: middle;\n",
              "    }\n",
              "\n",
              "    .dataframe tbody tr th {\n",
              "        vertical-align: top;\n",
              "    }\n",
              "\n",
              "    .dataframe thead th {\n",
              "        text-align: right;\n",
              "    }\n",
              "</style>\n",
              "<table border=\"1\" class=\"dataframe\">\n",
              "  <thead>\n",
              "    <tr style=\"text-align: right;\">\n",
              "      <th></th>\n",
              "      <th>text</th>\n",
              "    </tr>\n",
              "  </thead>\n",
              "  <tbody>\n",
              "    <tr>\n",
              "      <th>201224</th>\n",
              "      <td>415148745760579584;\"1387814148\";\"kellydead\";\"н...</td>\n",
              "    </tr>\n",
              "    <tr>\n",
              "      <th>143142</th>\n",
              "      <td>409192805718700032;\"1386394141\";\"MiuShizumi\";\"...</td>\n",
              "    </tr>\n",
              "    <tr>\n",
              "      <th>254164</th>\n",
              "      <td>422389081092276224;\"1389540379\";\"_Holographik_...</td>\n",
              "    </tr>\n",
              "    <tr>\n",
              "      <th>84650</th>\n",
              "      <td>Конечно на одних фруктах сижу)\";\"1\";\"0\";\"0\";\"0...</td>\n",
              "    </tr>\n",
              "    <tr>\n",
              "      <th>129342</th>\n",
              "      <td>411128184101273600;\"1386855572\";\"K_Shishlik\";\"...</td>\n",
              "    </tr>\n",
              "  </tbody>\n",
              "</table>\n",
              "</div>\n",
              "      <button class=\"colab-df-convert\" onclick=\"convertToInteractive('df-c0788302-bd5e-409a-93d5-72c9ddb5b21e')\"\n",
              "              title=\"Convert this dataframe to an interactive table.\"\n",
              "              style=\"display:none;\">\n",
              "        \n",
              "  <svg xmlns=\"http://www.w3.org/2000/svg\" height=\"24px\"viewBox=\"0 0 24 24\"\n",
              "       width=\"24px\">\n",
              "    <path d=\"M0 0h24v24H0V0z\" fill=\"none\"/>\n",
              "    <path d=\"M18.56 5.44l.94 2.06.94-2.06 2.06-.94-2.06-.94-.94-2.06-.94 2.06-2.06.94zm-11 1L8.5 8.5l.94-2.06 2.06-.94-2.06-.94L8.5 2.5l-.94 2.06-2.06.94zm10 10l.94 2.06.94-2.06 2.06-.94-2.06-.94-.94-2.06-.94 2.06-2.06.94z\"/><path d=\"M17.41 7.96l-1.37-1.37c-.4-.4-.92-.59-1.43-.59-.52 0-1.04.2-1.43.59L10.3 9.45l-7.72 7.72c-.78.78-.78 2.05 0 2.83L4 21.41c.39.39.9.59 1.41.59.51 0 1.02-.2 1.41-.59l7.78-7.78 2.81-2.81c.8-.78.8-2.07 0-2.86zM5.41 20L4 18.59l7.72-7.72 1.47 1.35L5.41 20z\"/>\n",
              "  </svg>\n",
              "      </button>\n",
              "      \n",
              "  <style>\n",
              "    .colab-df-container {\n",
              "      display:flex;\n",
              "      flex-wrap:wrap;\n",
              "      gap: 12px;\n",
              "    }\n",
              "\n",
              "    .colab-df-convert {\n",
              "      background-color: #E8F0FE;\n",
              "      border: none;\n",
              "      border-radius: 50%;\n",
              "      cursor: pointer;\n",
              "      display: none;\n",
              "      fill: #1967D2;\n",
              "      height: 32px;\n",
              "      padding: 0 0 0 0;\n",
              "      width: 32px;\n",
              "    }\n",
              "\n",
              "    .colab-df-convert:hover {\n",
              "      background-color: #E2EBFA;\n",
              "      box-shadow: 0px 1px 2px rgba(60, 64, 67, 0.3), 0px 1px 3px 1px rgba(60, 64, 67, 0.15);\n",
              "      fill: #174EA6;\n",
              "    }\n",
              "\n",
              "    [theme=dark] .colab-df-convert {\n",
              "      background-color: #3B4455;\n",
              "      fill: #D2E3FC;\n",
              "    }\n",
              "\n",
              "    [theme=dark] .colab-df-convert:hover {\n",
              "      background-color: #434B5C;\n",
              "      box-shadow: 0px 1px 3px 1px rgba(0, 0, 0, 0.15);\n",
              "      filter: drop-shadow(0px 1px 2px rgba(0, 0, 0, 0.3));\n",
              "      fill: #FFFFFF;\n",
              "    }\n",
              "  </style>\n",
              "\n",
              "      <script>\n",
              "        const buttonEl =\n",
              "          document.querySelector('#df-c0788302-bd5e-409a-93d5-72c9ddb5b21e button.colab-df-convert');\n",
              "        buttonEl.style.display =\n",
              "          google.colab.kernel.accessAllowed ? 'block' : 'none';\n",
              "\n",
              "        async function convertToInteractive(key) {\n",
              "          const element = document.querySelector('#df-c0788302-bd5e-409a-93d5-72c9ddb5b21e');\n",
              "          const dataTable =\n",
              "            await google.colab.kernel.invokeFunction('convertToInteractive',\n",
              "                                                     [key], {});\n",
              "          if (!dataTable) return;\n",
              "\n",
              "          const docLinkHtml = 'Like what you see? Visit the ' +\n",
              "            '<a target=\"_blank\" href=https://colab.research.google.com/notebooks/data_table.ipynb>data table notebook</a>'\n",
              "            + ' to learn more about interactive tables.';\n",
              "          element.innerHTML = '';\n",
              "          dataTable['output_type'] = 'display_data';\n",
              "          await google.colab.output.renderOutput(dataTable, element);\n",
              "          const docLink = document.createElement('div');\n",
              "          docLink.innerHTML = docLinkHtml;\n",
              "          element.appendChild(docLink);\n",
              "        }\n",
              "      </script>\n",
              "    </div>\n",
              "  </div>\n",
              "  "
            ]
          },
          "metadata": {},
          "execution_count": 127
        }
      ]
    },
    {
      "cell_type": "code",
      "execution_count": 88,
      "metadata": {
        "colab": {
          "base_uri": "https://localhost:8080/"
        },
        "id": "yQn0BZNTf6Mo",
        "outputId": "b08561a2-9155-45e5-dbe6-7ad295e0d1f9"
      },
      "outputs": [
        {
          "output_type": "execute_result",
          "data": {
            "text/plain": [
              "276051"
            ]
          },
          "metadata": {},
          "execution_count": 88
        }
      ],
      "source": [
        "len(data)"
      ]
    },
    {
      "cell_type": "code",
      "execution_count": 128,
      "metadata": {
        "id": "gBwWYrLLf6Mp"
      },
      "outputs": [],
      "source": [
        "topics = ['Россия', 'Мир', 'Экономика', 'Спорт', 'Культура', 'Путешествия', \n",
        "          'Наука и техника', 'Музыка']"
      ]
    },
    {
      "cell_type": "code",
      "execution_count": 129,
      "metadata": {
        "id": "JVrWuN09f6Mp"
      },
      "outputs": [],
      "source": [
        "import re\n",
        "import numpy as np\n",
        "from nltk.corpus import stopwords\n",
        "from tqdm.notebook import tqdm\n",
        "from multiprocessing import Pool\n",
        "from pymystem3 import Mystem"
      ]
    },
    {
      "cell_type": "code",
      "execution_count": 130,
      "metadata": {
        "colab": {
          "base_uri": "https://localhost:8080/"
        },
        "id": "KabTrpuCJIPw",
        "outputId": "3dbf4739-2643-4a8e-f0c8-6cece059a6dd"
      },
      "outputs": [
        {
          "output_type": "stream",
          "name": "stderr",
          "text": [
            "[nltk_data] Downloading package stopwords to /root/nltk_data...\n",
            "[nltk_data]   Package stopwords is already up-to-date!\n"
          ]
        },
        {
          "output_type": "execute_result",
          "data": {
            "text/plain": [
              "True"
            ]
          },
          "metadata": {},
          "execution_count": 130
        }
      ],
      "source": [
        "import nltk\n",
        "nltk.download('stopwords')"
      ]
    },
    {
      "cell_type": "code",
      "execution_count": 92,
      "metadata": {
        "colab": {
          "base_uri": "https://localhost:8080/"
        },
        "id": "nTW_QQmfKd0A",
        "outputId": "f78d2bd8-6e1c-4db1-961d-40bfd926febb"
      },
      "outputs": [
        {
          "output_type": "stream",
          "name": "stdout",
          "text": [
            "Looking in indexes: https://pypi.org/simple, https://us-python.pkg.dev/colab-wheels/public/simple/\n",
            "Collecting pymorphy2\n",
            "  Downloading pymorphy2-0.9.1-py3-none-any.whl (55 kB)\n",
            "\u001b[K     |████████████████████████████████| 55 kB 2.4 MB/s \n",
            "\u001b[?25hCollecting pymorphy2-dicts-ru<3.0,>=2.4\n",
            "  Downloading pymorphy2_dicts_ru-2.4.417127.4579844-py2.py3-none-any.whl (8.2 MB)\n",
            "\u001b[K     |████████████████████████████████| 8.2 MB 9.7 MB/s \n",
            "\u001b[?25hCollecting docopt>=0.6\n",
            "  Downloading docopt-0.6.2.tar.gz (25 kB)\n",
            "Collecting dawg-python>=0.7.1\n",
            "  Downloading DAWG_Python-0.7.2-py2.py3-none-any.whl (11 kB)\n",
            "Building wheels for collected packages: docopt\n",
            "  Building wheel for docopt (setup.py) ... \u001b[?25l\u001b[?25hdone\n",
            "  Created wheel for docopt: filename=docopt-0.6.2-py2.py3-none-any.whl size=13723 sha256=0636771c4b6993a1c46c5265c29fc165a858019f33f3522a89f47a8f1c2be4a2\n",
            "  Stored in directory: /root/.cache/pip/wheels/72/b0/3f/1d95f96ff986c7dfffe46ce2be4062f38ebd04b506c77c81b9\n",
            "Successfully built docopt\n",
            "Installing collected packages: pymorphy2-dicts-ru, docopt, dawg-python, pymorphy2\n",
            "Successfully installed dawg-python-0.7.2 docopt-0.6.2 pymorphy2-0.9.1 pymorphy2-dicts-ru-2.4.417127.4579844\n"
          ]
        }
      ],
      "source": [
        "! pip install pymorphy2"
      ]
    },
    {
      "cell_type": "code",
      "execution_count": 93,
      "metadata": {
        "id": "XDBV03ENKhgu"
      },
      "outputs": [],
      "source": [
        "import pymorphy2\n",
        "morph = pymorphy2.MorphAnalyzer()"
      ]
    },
    {
      "cell_type": "code",
      "execution_count": 131,
      "metadata": {
        "id": "V3a8Btmff6Mp",
        "colab": {
          "base_uri": "https://localhost:8080/"
        },
        "outputId": "c211178a-adbe-4535-ecd1-b376708bf513"
      },
      "outputs": [
        {
          "output_type": "stream",
          "name": "stderr",
          "text": [
            "<input>:1: DeprecationWarning: invalid escape sequence \\w\n",
            "<input>:1: DeprecationWarning: invalid escape sequence \\w\n",
            "<input>:1: DeprecationWarning: invalid escape sequence \\w\n",
            "<input>:1: DeprecationWarning: invalid escape sequence \\w\n",
            "<input>:1: DeprecationWarning: invalid escape sequence \\w\n",
            "<input>:1: DeprecationWarning: invalid escape sequence \\w\n",
            "<input>:1: DeprecationWarning: invalid escape sequence \\w\n",
            "<input>:1: DeprecationWarning: invalid escape sequence \\w\n",
            "<input>:1: DeprecationWarning: invalid escape sequence \\w\n",
            "<input>:1: DeprecationWarning: invalid escape sequence \\w\n",
            "<input>:1: DeprecationWarning: invalid escape sequence \\w\n",
            "<input>:1: DeprecationWarning: invalid escape sequence \\w\n",
            "<input>:1: DeprecationWarning: invalid escape sequence \\w\n",
            "<input>:1: DeprecationWarning: invalid escape sequence \\w\n",
            "<input>:1: DeprecationWarning: invalid escape sequence \\w\n",
            "<input>:1: DeprecationWarning: invalid escape sequence \\w\n",
            "<ipython-input-131-d08dd02f65d4>:1: DeprecationWarning: invalid escape sequence \\w\n",
            "  words_regex = re.compile('\\w+')\n"
          ]
        }
      ],
      "source": [
        "words_regex = re.compile('\\w+')\n",
        "\n",
        "def find_words(text, regex = words_regex):\n",
        "    tokens =  regex.findall(text.lower())\n",
        "    return [w for w in tokens if w.isalpha() and len(w) >= 3]\n",
        "\n",
        "\n",
        "stopwords_list = stopwords.words('russian')\n",
        "\n",
        "def del_pattern(text, sub_):\n",
        "    def del_user(text, sub_):\n",
        "        return re.sub(sub_, '', text)\n",
        "    vectorize_del_user = np.vectorize(del_user)\n",
        "    return vectorize_del_user(text, sub_)\n",
        "\n",
        "def lemmatize(words, lemmer = morph, stopwords = stopwords_list):\n",
        "    lemmas = [lemmer.parse(w)[0].normal_form for w in words]\n",
        "    return [w for w in lemmas if not w in stopwords \n",
        "            and w.isalpha()]\n",
        "\n",
        "def preprocess(text):\n",
        "    return (lemmatize(find_words(text)))"
      ]
    },
    {
      "cell_type": "code",
      "execution_count": 132,
      "metadata": {
        "colab": {
          "base_uri": "https://localhost:8080/",
          "height": 35
        },
        "id": "zkxfy_uXf6Mp",
        "outputId": "8307f333-921f-4d79-9589-8cfc8784a9a6"
      },
      "outputs": [
        {
          "output_type": "execute_result",
          "data": {
            "text/plain": [
              "'408906692693221377;\"1386325927\";\"alinakirpicheva\";\"Да все-таки он немного похож на него. Но мой мальчик все равно лучше:D\";\"1\";\"0\";\"0\";\"0\";\"11825\";\"59\";\"31\";\"2\"'"
            ],
            "application/vnd.google.colaboratory.intrinsic+json": {
              "type": "string"
            }
          },
          "metadata": {},
          "execution_count": 132
        }
      ],
      "source": [
        "data.text.iloc[1]"
      ]
    },
    {
      "cell_type": "code",
      "source": [
        "data['text'] = del_pattern(data['text'], \"[a|b|c|d|e|f|g|h|i|j|k|l|m|n|o|p|q|r|s|t|u|v|w|x|y|z]\")"
      ],
      "metadata": {
        "id": "qrjHRfPP-0-S"
      },
      "execution_count": 133,
      "outputs": []
    },
    {
      "cell_type": "code",
      "execution_count": 134,
      "metadata": {
        "colab": {
          "base_uri": "https://localhost:8080/"
        },
        "id": "TLz9uO5Yf6Mp",
        "outputId": "24b45e1c-be1e-4ffd-c145-da0382bec6f9",
        "scrolled": true
      },
      "outputs": [
        {
          "output_type": "stream",
          "name": "stdout",
          "text": [
            "['всё', 'таки', 'немного', 'похожий', 'мальчик', 'всё', 'равно', 'хороший']\n"
          ]
        }
      ],
      "source": [
        "print(preprocess(data.text.iloc[1]))"
      ]
    },
    {
      "cell_type": "markdown",
      "metadata": {
        "id": "5ldobYBOf6Mp"
      },
      "source": [
        "Ниже мы оставим только случайные 10,000 текстов из нашей коллекции, чтобы ускорить вычисления:"
      ]
    },
    {
      "cell_type": "code",
      "execution_count": 135,
      "metadata": {
        "colab": {
          "base_uri": "https://localhost:8080/",
          "height": 424
        },
        "id": "Cp9UP1pCf6Mp",
        "outputId": "496ea83c-79ad-456a-b90f-bad1e96fe87e"
      },
      "outputs": [
        {
          "output_type": "execute_result",
          "data": {
            "text/plain": [
              "                                                     text\n",
              "227940  ;( почему я?!\";\"-1\";\"0\";\"0\";\"0\";\"546\";\"184\";\"6...\n",
              "121667  411060032772788224;\"1386839323\";\"AL\";\"Девочки ...\n",
              "96691   и вот наконец с подругой которая видела их раз...\n",
              "91702   410639098899337216;\"1386738965\";\"\";\"G — очень ...\n",
              "148190                                        #   逃走   ((\n",
              "...                                                   ...\n",
              "41896   409763428899618817;\"1386530189\";\"16131\";\"Списо...\n",
              "208693  415885072269447168;\"1387989702\";\"_\";\"@ а у мну...\n",
              "130557                                                #RT\n",
              "209057  415900283642736640;\"1387993329\";\"SK\";\"я уже за...\n",
              "82021   410389387995009024;\"1386679429\";\"RO_\";\"RT @RR:...\n",
              "\n",
              "[10000 rows x 1 columns]"
            ],
            "text/html": [
              "\n",
              "  <div id=\"df-e61bbede-e578-4fa7-a465-c92def7f28b5\">\n",
              "    <div class=\"colab-df-container\">\n",
              "      <div>\n",
              "<style scoped>\n",
              "    .dataframe tbody tr th:only-of-type {\n",
              "        vertical-align: middle;\n",
              "    }\n",
              "\n",
              "    .dataframe tbody tr th {\n",
              "        vertical-align: top;\n",
              "    }\n",
              "\n",
              "    .dataframe thead th {\n",
              "        text-align: right;\n",
              "    }\n",
              "</style>\n",
              "<table border=\"1\" class=\"dataframe\">\n",
              "  <thead>\n",
              "    <tr style=\"text-align: right;\">\n",
              "      <th></th>\n",
              "      <th>text</th>\n",
              "    </tr>\n",
              "  </thead>\n",
              "  <tbody>\n",
              "    <tr>\n",
              "      <th>227940</th>\n",
              "      <td>;( почему я?!\";\"-1\";\"0\";\"0\";\"0\";\"546\";\"184\";\"6...</td>\n",
              "    </tr>\n",
              "    <tr>\n",
              "      <th>121667</th>\n",
              "      <td>411060032772788224;\"1386839323\";\"AL\";\"Девочки ...</td>\n",
              "    </tr>\n",
              "    <tr>\n",
              "      <th>96691</th>\n",
              "      <td>и вот наконец с подругой которая видела их раз...</td>\n",
              "    </tr>\n",
              "    <tr>\n",
              "      <th>91702</th>\n",
              "      <td>410639098899337216;\"1386738965\";\"\";\"G — очень ...</td>\n",
              "    </tr>\n",
              "    <tr>\n",
              "      <th>148190</th>\n",
              "      <td>#   逃走   ((</td>\n",
              "    </tr>\n",
              "    <tr>\n",
              "      <th>...</th>\n",
              "      <td>...</td>\n",
              "    </tr>\n",
              "    <tr>\n",
              "      <th>41896</th>\n",
              "      <td>409763428899618817;\"1386530189\";\"16131\";\"Списо...</td>\n",
              "    </tr>\n",
              "    <tr>\n",
              "      <th>208693</th>\n",
              "      <td>415885072269447168;\"1387989702\";\"_\";\"@ а у мну...</td>\n",
              "    </tr>\n",
              "    <tr>\n",
              "      <th>130557</th>\n",
              "      <td>#RT</td>\n",
              "    </tr>\n",
              "    <tr>\n",
              "      <th>209057</th>\n",
              "      <td>415900283642736640;\"1387993329\";\"SK\";\"я уже за...</td>\n",
              "    </tr>\n",
              "    <tr>\n",
              "      <th>82021</th>\n",
              "      <td>410389387995009024;\"1386679429\";\"RO_\";\"RT @RR:...</td>\n",
              "    </tr>\n",
              "  </tbody>\n",
              "</table>\n",
              "<p>10000 rows × 1 columns</p>\n",
              "</div>\n",
              "      <button class=\"colab-df-convert\" onclick=\"convertToInteractive('df-e61bbede-e578-4fa7-a465-c92def7f28b5')\"\n",
              "              title=\"Convert this dataframe to an interactive table.\"\n",
              "              style=\"display:none;\">\n",
              "        \n",
              "  <svg xmlns=\"http://www.w3.org/2000/svg\" height=\"24px\"viewBox=\"0 0 24 24\"\n",
              "       width=\"24px\">\n",
              "    <path d=\"M0 0h24v24H0V0z\" fill=\"none\"/>\n",
              "    <path d=\"M18.56 5.44l.94 2.06.94-2.06 2.06-.94-2.06-.94-.94-2.06-.94 2.06-2.06.94zm-11 1L8.5 8.5l.94-2.06 2.06-.94-2.06-.94L8.5 2.5l-.94 2.06-2.06.94zm10 10l.94 2.06.94-2.06 2.06-.94-2.06-.94-.94-2.06-.94 2.06-2.06.94z\"/><path d=\"M17.41 7.96l-1.37-1.37c-.4-.4-.92-.59-1.43-.59-.52 0-1.04.2-1.43.59L10.3 9.45l-7.72 7.72c-.78.78-.78 2.05 0 2.83L4 21.41c.39.39.9.59 1.41.59.51 0 1.02-.2 1.41-.59l7.78-7.78 2.81-2.81c.8-.78.8-2.07 0-2.86zM5.41 20L4 18.59l7.72-7.72 1.47 1.35L5.41 20z\"/>\n",
              "  </svg>\n",
              "      </button>\n",
              "      \n",
              "  <style>\n",
              "    .colab-df-container {\n",
              "      display:flex;\n",
              "      flex-wrap:wrap;\n",
              "      gap: 12px;\n",
              "    }\n",
              "\n",
              "    .colab-df-convert {\n",
              "      background-color: #E8F0FE;\n",
              "      border: none;\n",
              "      border-radius: 50%;\n",
              "      cursor: pointer;\n",
              "      display: none;\n",
              "      fill: #1967D2;\n",
              "      height: 32px;\n",
              "      padding: 0 0 0 0;\n",
              "      width: 32px;\n",
              "    }\n",
              "\n",
              "    .colab-df-convert:hover {\n",
              "      background-color: #E2EBFA;\n",
              "      box-shadow: 0px 1px 2px rgba(60, 64, 67, 0.3), 0px 1px 3px 1px rgba(60, 64, 67, 0.15);\n",
              "      fill: #174EA6;\n",
              "    }\n",
              "\n",
              "    [theme=dark] .colab-df-convert {\n",
              "      background-color: #3B4455;\n",
              "      fill: #D2E3FC;\n",
              "    }\n",
              "\n",
              "    [theme=dark] .colab-df-convert:hover {\n",
              "      background-color: #434B5C;\n",
              "      box-shadow: 0px 1px 3px 1px rgba(0, 0, 0, 0.15);\n",
              "      filter: drop-shadow(0px 1px 2px rgba(0, 0, 0, 0.3));\n",
              "      fill: #FFFFFF;\n",
              "    }\n",
              "  </style>\n",
              "\n",
              "      <script>\n",
              "        const buttonEl =\n",
              "          document.querySelector('#df-e61bbede-e578-4fa7-a465-c92def7f28b5 button.colab-df-convert');\n",
              "        buttonEl.style.display =\n",
              "          google.colab.kernel.accessAllowed ? 'block' : 'none';\n",
              "\n",
              "        async function convertToInteractive(key) {\n",
              "          const element = document.querySelector('#df-e61bbede-e578-4fa7-a465-c92def7f28b5');\n",
              "          const dataTable =\n",
              "            await google.colab.kernel.invokeFunction('convertToInteractive',\n",
              "                                                     [key], {});\n",
              "          if (!dataTable) return;\n",
              "\n",
              "          const docLinkHtml = 'Like what you see? Visit the ' +\n",
              "            '<a target=\"_blank\" href=https://colab.research.google.com/notebooks/data_table.ipynb>data table notebook</a>'\n",
              "            + ' to learn more about interactive tables.';\n",
              "          element.innerHTML = '';\n",
              "          dataTable['output_type'] = 'display_data';\n",
              "          await google.colab.output.renderOutput(dataTable, element);\n",
              "          const docLink = document.createElement('div');\n",
              "          docLink.innerHTML = docLinkHtml;\n",
              "          element.appendChild(docLink);\n",
              "        }\n",
              "      </script>\n",
              "    </div>\n",
              "  </div>\n",
              "  "
            ]
          },
          "metadata": {},
          "execution_count": 135
        }
      ],
      "source": [
        "data = data.sample(10000)\n",
        "data"
      ]
    },
    {
      "cell_type": "code",
      "execution_count": 136,
      "metadata": {
        "colab": {
          "base_uri": "https://localhost:8080/",
          "height": 49,
          "referenced_widgets": [
            "33a93f96646b4f34895311bcf4e606df",
            "4948f851520d443399ccf5be120d6a18",
            "256a2346abe34702975afe111080d88f",
            "cd9992814b3d4ac4add28f612a14d1f1",
            "1bb877e31e4f40f5b3beb602c142da12",
            "10bdf9c838074ab59b7e9c1a118ed7e5",
            "0090c09e119f4cb7ba45bdffe9a12724",
            "aa512a07a43745c3874d788a54453a86",
            "1501faad53b842008371eae646703ade",
            "9701b3d6315c41e594c4c4cbf93827c5",
            "0eedd580b3ae4024a8316dc0c3b55c79"
          ]
        },
        "id": "S8PnTSmRf6Mp",
        "outputId": "9561c2e4-9f32-4eda-837d-1a31058c53dc"
      },
      "outputs": [
        {
          "output_type": "display_data",
          "data": {
            "text/plain": [
              "  0%|          | 0/10000 [00:00<?, ?it/s]"
            ],
            "application/vnd.jupyter.widget-view+json": {
              "version_major": 2,
              "version_minor": 0,
              "model_id": "33a93f96646b4f34895311bcf4e606df"
            }
          },
          "metadata": {}
        }
      ],
      "source": [
        "preprocessed_text = list(tqdm(map(preprocess, data['text']), total=len(data)))"
      ]
    },
    {
      "cell_type": "code",
      "execution_count": 137,
      "metadata": {
        "colab": {
          "base_uri": "https://localhost:8080/",
          "height": 143
        },
        "id": "DriM5_5_f6Mq",
        "outputId": "526306c3-b42e-41ea-e95a-8ff7f2f8bae4"
      },
      "outputs": [
        {
          "output_type": "execute_result",
          "data": {
            "text/plain": [
              "                                                     text\n",
              "40173   [апрель, измазать, весь, спина, белый, верить,...\n",
              "113501  [дирекшионерфолловьдирекшионер, это, любовь, н...\n",
              "274492                           [шапочка, мочь, выбрать]"
            ],
            "text/html": [
              "\n",
              "  <div id=\"df-df49547d-f836-47d5-9953-b737f1649ded\">\n",
              "    <div class=\"colab-df-container\">\n",
              "      <div>\n",
              "<style scoped>\n",
              "    .dataframe tbody tr th:only-of-type {\n",
              "        vertical-align: middle;\n",
              "    }\n",
              "\n",
              "    .dataframe tbody tr th {\n",
              "        vertical-align: top;\n",
              "    }\n",
              "\n",
              "    .dataframe thead th {\n",
              "        text-align: right;\n",
              "    }\n",
              "</style>\n",
              "<table border=\"1\" class=\"dataframe\">\n",
              "  <thead>\n",
              "    <tr style=\"text-align: right;\">\n",
              "      <th></th>\n",
              "      <th>text</th>\n",
              "    </tr>\n",
              "  </thead>\n",
              "  <tbody>\n",
              "    <tr>\n",
              "      <th>40173</th>\n",
              "      <td>[апрель, измазать, весь, спина, белый, верить,...</td>\n",
              "    </tr>\n",
              "    <tr>\n",
              "      <th>113501</th>\n",
              "      <td>[дирекшионерфолловьдирекшионер, это, любовь, н...</td>\n",
              "    </tr>\n",
              "    <tr>\n",
              "      <th>274492</th>\n",
              "      <td>[шапочка, мочь, выбрать]</td>\n",
              "    </tr>\n",
              "  </tbody>\n",
              "</table>\n",
              "</div>\n",
              "      <button class=\"colab-df-convert\" onclick=\"convertToInteractive('df-df49547d-f836-47d5-9953-b737f1649ded')\"\n",
              "              title=\"Convert this dataframe to an interactive table.\"\n",
              "              style=\"display:none;\">\n",
              "        \n",
              "  <svg xmlns=\"http://www.w3.org/2000/svg\" height=\"24px\"viewBox=\"0 0 24 24\"\n",
              "       width=\"24px\">\n",
              "    <path d=\"M0 0h24v24H0V0z\" fill=\"none\"/>\n",
              "    <path d=\"M18.56 5.44l.94 2.06.94-2.06 2.06-.94-2.06-.94-.94-2.06-.94 2.06-2.06.94zm-11 1L8.5 8.5l.94-2.06 2.06-.94-2.06-.94L8.5 2.5l-.94 2.06-2.06.94zm10 10l.94 2.06.94-2.06 2.06-.94-2.06-.94-.94-2.06-.94 2.06-2.06.94z\"/><path d=\"M17.41 7.96l-1.37-1.37c-.4-.4-.92-.59-1.43-.59-.52 0-1.04.2-1.43.59L10.3 9.45l-7.72 7.72c-.78.78-.78 2.05 0 2.83L4 21.41c.39.39.9.59 1.41.59.51 0 1.02-.2 1.41-.59l7.78-7.78 2.81-2.81c.8-.78.8-2.07 0-2.86zM5.41 20L4 18.59l7.72-7.72 1.47 1.35L5.41 20z\"/>\n",
              "  </svg>\n",
              "      </button>\n",
              "      \n",
              "  <style>\n",
              "    .colab-df-container {\n",
              "      display:flex;\n",
              "      flex-wrap:wrap;\n",
              "      gap: 12px;\n",
              "    }\n",
              "\n",
              "    .colab-df-convert {\n",
              "      background-color: #E8F0FE;\n",
              "      border: none;\n",
              "      border-radius: 50%;\n",
              "      cursor: pointer;\n",
              "      display: none;\n",
              "      fill: #1967D2;\n",
              "      height: 32px;\n",
              "      padding: 0 0 0 0;\n",
              "      width: 32px;\n",
              "    }\n",
              "\n",
              "    .colab-df-convert:hover {\n",
              "      background-color: #E2EBFA;\n",
              "      box-shadow: 0px 1px 2px rgba(60, 64, 67, 0.3), 0px 1px 3px 1px rgba(60, 64, 67, 0.15);\n",
              "      fill: #174EA6;\n",
              "    }\n",
              "\n",
              "    [theme=dark] .colab-df-convert {\n",
              "      background-color: #3B4455;\n",
              "      fill: #D2E3FC;\n",
              "    }\n",
              "\n",
              "    [theme=dark] .colab-df-convert:hover {\n",
              "      background-color: #434B5C;\n",
              "      box-shadow: 0px 1px 3px 1px rgba(0, 0, 0, 0.15);\n",
              "      filter: drop-shadow(0px 1px 2px rgba(0, 0, 0, 0.3));\n",
              "      fill: #FFFFFF;\n",
              "    }\n",
              "  </style>\n",
              "\n",
              "      <script>\n",
              "        const buttonEl =\n",
              "          document.querySelector('#df-df49547d-f836-47d5-9953-b737f1649ded button.colab-df-convert');\n",
              "        buttonEl.style.display =\n",
              "          google.colab.kernel.accessAllowed ? 'block' : 'none';\n",
              "\n",
              "        async function convertToInteractive(key) {\n",
              "          const element = document.querySelector('#df-df49547d-f836-47d5-9953-b737f1649ded');\n",
              "          const dataTable =\n",
              "            await google.colab.kernel.invokeFunction('convertToInteractive',\n",
              "                                                     [key], {});\n",
              "          if (!dataTable) return;\n",
              "\n",
              "          const docLinkHtml = 'Like what you see? Visit the ' +\n",
              "            '<a target=\"_blank\" href=https://colab.research.google.com/notebooks/data_table.ipynb>data table notebook</a>'\n",
              "            + ' to learn more about interactive tables.';\n",
              "          element.innerHTML = '';\n",
              "          dataTable['output_type'] = 'display_data';\n",
              "          await google.colab.output.renderOutput(dataTable, element);\n",
              "          const docLink = document.createElement('div');\n",
              "          docLink.innerHTML = docLinkHtml;\n",
              "          element.appendChild(docLink);\n",
              "        }\n",
              "      </script>\n",
              "    </div>\n",
              "  </div>\n",
              "  "
            ]
          },
          "metadata": {},
          "execution_count": 137
        }
      ],
      "source": [
        "data['text'] = preprocessed_text\n",
        "data.sample(3)"
      ]
    },
    {
      "cell_type": "markdown",
      "metadata": {
        "id": "FFmXozKkf6Mq"
      },
      "source": [
        "## Модель LDA\n",
        "\n",
        "\n",
        "Первая модель, которую мы рассмотрим, LDA - латентное размещение Дирихле. Воспользуемся реализацией из библиотеки gensim."
      ]
    },
    {
      "cell_type": "code",
      "execution_count": 101,
      "metadata": {
        "colab": {
          "base_uri": "https://localhost:8080/"
        },
        "id": "8Q0q12sDPl3m",
        "outputId": "92807425-b075-495f-8a4b-fba197d0df55"
      },
      "outputs": [
        {
          "output_type": "stream",
          "name": "stdout",
          "text": [
            "Looking in indexes: https://pypi.org/simple, https://us-python.pkg.dev/colab-wheels/public/simple/\n",
            "Requirement already satisfied: gensim in /usr/local/lib/python3.7/dist-packages (3.6.0)\n",
            "Collecting gensim\n",
            "  Downloading gensim-4.2.0-cp37-cp37m-manylinux_2_12_x86_64.manylinux2010_x86_64.whl (24.1 MB)\n",
            "\u001b[K     |████████████████████████████████| 24.1 MB 1.5 MB/s \n",
            "\u001b[?25hRequirement already satisfied: numpy>=1.17.0 in /usr/local/lib/python3.7/dist-packages (from gensim) (1.21.6)\n",
            "Requirement already satisfied: smart-open>=1.8.1 in /usr/local/lib/python3.7/dist-packages (from gensim) (5.2.1)\n",
            "Requirement already satisfied: scipy>=0.18.1 in /usr/local/lib/python3.7/dist-packages (from gensim) (1.7.3)\n",
            "Installing collected packages: gensim\n",
            "  Attempting uninstall: gensim\n",
            "    Found existing installation: gensim 3.6.0\n",
            "    Uninstalling gensim-3.6.0:\n",
            "      Successfully uninstalled gensim-3.6.0\n",
            "Successfully installed gensim-4.2.0\n"
          ]
        }
      ],
      "source": [
        "!pip install -U gensim"
      ]
    },
    {
      "cell_type": "code",
      "execution_count": 102,
      "metadata": {
        "id": "jITId1Axf6Mq"
      },
      "outputs": [],
      "source": [
        "from gensim.models import *\n",
        "from gensim import corpora"
      ]
    },
    {
      "cell_type": "markdown",
      "metadata": {
        "id": "b1usmvtHf6Mq"
      },
      "source": [
        "Модель использует векторное представление документов, например, мешок слов (bow), поэтому сперва создадим словарь:"
      ]
    },
    {
      "cell_type": "code",
      "execution_count": 138,
      "metadata": {
        "id": "l9-iZNVuf6Mq"
      },
      "outputs": [],
      "source": [
        "dictionary = corpora.Dictionary(data['text'])\n",
        "\n",
        "dictionary.filter_extremes(no_below = 10, no_above = 0.9, keep_n=None) # игнорируем слова, которые встречаются реже 10 раз или составляют более 0.9 словаря \n",
        "dictionary.save('lenta.dict')"
      ]
    },
    {
      "cell_type": "markdown",
      "metadata": {
        "id": "gUZtBF3gf6Mq"
      },
      "source": [
        "Векторизуем документы:"
      ]
    },
    {
      "cell_type": "code",
      "execution_count": 139,
      "metadata": {
        "id": "Sn17WY1vf6Mq"
      },
      "outputs": [],
      "source": [
        "corpus = [dictionary.doc2bow(text) for text in data['text']]\n",
        "corpora.MmCorpus.serialize('lenta.model', corpus) "
      ]
    },
    {
      "cell_type": "code",
      "source": [
        "print(corpus[:3])"
      ],
      "metadata": {
        "colab": {
          "base_uri": "https://localhost:8080/"
        },
        "id": "qTWZRvG2DuLE",
        "outputId": "ca9cb850-4cad-42bf-a4ef-a58196225667"
      },
      "execution_count": 156,
      "outputs": [
        {
          "output_type": "stream",
          "name": "stdout",
          "text": [
            "[[(0, 1)], [(1, 1), (2, 1), (3, 1), (4, 1)], [(5, 1), (6, 1), (7, 1), (8, 1)]]\n"
          ]
        }
      ]
    },
    {
      "cell_type": "markdown",
      "metadata": {
        "id": "cx4kZUtff6Mq"
      },
      "source": [
        "Теперь можем обучать модель:"
      ]
    },
    {
      "cell_type": "code",
      "execution_count": 140,
      "metadata": {
        "colab": {
          "base_uri": "https://localhost:8080/"
        },
        "id": "oOzLXIDQf6Mq",
        "outputId": "d021d242-2177-413f-db4e-0a8af506c0b9"
      },
      "outputs": [
        {
          "output_type": "stream",
          "name": "stdout",
          "text": [
            "CPU times: user 3 s, sys: 14.1 ms, total: 3.02 s\n",
            "Wall time: 3.02 s\n"
          ]
        }
      ],
      "source": [
        "%time lda = ldamodel.LdaModel(corpus, id2word=dictionary, num_topics=20, chunksize=50, update_every=1, passes=2)"
      ]
    },
    {
      "cell_type": "markdown",
      "metadata": {
        "id": "BbQWg_jPf6Mq"
      },
      "source": [
        "Посмотрим на получившиеся темы:"
      ]
    },
    {
      "cell_type": "code",
      "execution_count": 141,
      "metadata": {
        "colab": {
          "base_uri": "https://localhost:8080/"
        },
        "id": "OakrnFdNnhoN",
        "outputId": "e1afb26a-fecf-4610-a929-6c8955f5b28d"
      },
      "outputs": [
        {
          "output_type": "execute_result",
          "data": {
            "text/plain": [
              "['Россия',\n",
              " 'Мир',\n",
              " 'Экономика',\n",
              " 'Спорт',\n",
              " 'Культура',\n",
              " 'Путешествия',\n",
              " 'Наука и техника',\n",
              " 'Музыка']"
            ]
          },
          "metadata": {},
          "execution_count": 141
        }
      ],
      "source": [
        "topics"
      ]
    },
    {
      "cell_type": "code",
      "execution_count": 142,
      "metadata": {
        "colab": {
          "base_uri": "https://localhost:8080/"
        },
        "id": "EqQzwFm2c1_B",
        "outputId": "15175b82-4743-4948-e00f-2d89e378627c"
      },
      "outputs": [
        {
          "output_type": "execute_result",
          "data": {
            "text/plain": [
              "[(0,\n",
              "  '0.431*\"день\" + 0.127*\"сидеть\" + 0.118*\"думать\" + 0.102*\"блин\" + 0.084*\"час\" + 0.075*\"прийти\" + 0.012*\"тренировка\" + 0.011*\"палец\" + 0.000*\"рождение\" + 0.000*\"мочь\"'),\n",
              " (9,\n",
              "  '0.602*\"хотеть\" + 0.215*\"вообще\" + 0.124*\"пойти\" + 0.000*\"новый\" + 0.000*\"сегодня\" + 0.000*\"нужно\" + 0.000*\"жить\" + 0.000*\"страна\" + 0.000*\"чувак\" + 0.000*\"забыть\"'),\n",
              " (13,\n",
              "  '0.298*\"первый\" + 0.292*\"почему\" + 0.098*\"девочка\" + 0.084*\"праздник\" + 0.054*\"понедельник\" + 0.053*\"экзамен\" + 0.028*\"сначала\" + 0.000*\"январь\" + 0.000*\"весь\" + 0.000*\"минута\"'),\n",
              " (12,\n",
              "  '0.566*\"стать\" + 0.243*\"увидеть\" + 0.000*\"ходить\" + 0.000*\"смотреть\" + 0.000*\"зал\" + 0.000*\"настроение\" + 0.000*\"танцевать\" + 0.000*\"большой\" + 0.000*\"купить\" + 0.000*\"парень\"'),\n",
              " (16,\n",
              "  '0.001*\"чай\" + 0.001*\"похоже\" + 0.001*\"весна\" + 0.001*\"уровень\" + 0.001*\"окно\" + 0.001*\"ловить\" + 0.001*\"рабочий\" + 0.001*\"рядом\" + 0.001*\"странно\" + 0.001*\"особенно\"'),\n",
              " (14,\n",
              "  '0.678*\"это\" + 0.133*\"говорить\" + 0.107*\"школа\" + 0.028*\"картинка\" + 0.022*\"проходить\" + 0.000*\"весь\" + 0.000*\"завтра\" + 0.000*\"человек\" + 0.000*\"мочь\" + 0.000*\"сегодня\"'),\n",
              " (10,\n",
              "  '0.275*\"хотя\" + 0.259*\"скоро\" + 0.168*\"конец\" + 0.128*\"урок\" + 0.047*\"оценка\" + 0.013*\"четверть\" + 0.000*\"весь\" + 0.000*\"давно\" + 0.000*\"сегодня\" + 0.000*\"жизнь\"'),\n",
              " (19,\n",
              "  '0.462*\"знать\" + 0.220*\"неделя\" + 0.173*\"самый\" + 0.043*\"прислать\" + 0.000*\"весь\" + 0.000*\"последний\" + 0.000*\"человек\" + 0.000*\"рабочий\" + 0.000*\"нравиться\" + 0.000*\"главное\"'),\n",
              " (5,\n",
              "  '0.509*\"который\" + 0.157*\"снова\" + 0.149*\"работать\" + 0.034*\"готовый\" + 0.000*\"человек\" + 0.000*\"нравиться\" + 0.000*\"весь\" + 0.000*\"пожалуйста\" + 0.000*\"фотография\" + 0.000*\"торт\"'),\n",
              " (15,\n",
              "  '0.433*\"ещё\" + 0.188*\"друг\" + 0.101*\"написать\" + 0.085*\"понимать\" + 0.062*\"слишком\" + 0.049*\"сердце\" + 0.030*\"приятно\" + 0.000*\"завтра\" + 0.000*\"весь\" + 0.000*\"мочь\"')]"
            ]
          },
          "metadata": {},
          "execution_count": 142
        }
      ],
      "source": [
        "lda.show_topics(num_topics=10, num_words=10, formatted=True)"
      ]
    },
    {
      "cell_type": "markdown",
      "metadata": {
        "id": "j5PIsI6ef6Mq"
      },
      "source": [
        "На полученные темы можно посмотреть, изобразив их на плоскости с помощью библиотеки __pyLDAvis__. Чтобы спроецировать темы на плоскость, внутри применяется PCA-разложение."
      ]
    },
    {
      "cell_type": "code",
      "execution_count": 143,
      "metadata": {
        "colab": {
          "base_uri": "https://localhost:8080/"
        },
        "id": "y9I-oR4kf6Mq",
        "outputId": "ddb51d71-bdcd-4351-da80-dbc1199b908b"
      },
      "outputs": [
        {
          "output_type": "stream",
          "name": "stdout",
          "text": [
            "Looking in indexes: https://pypi.org/simple, https://us-python.pkg.dev/colab-wheels/public/simple/\n",
            "Requirement already satisfied: pyLDAvis in /usr/local/lib/python3.7/dist-packages (3.3.1)\n",
            "Requirement already satisfied: sklearn in /usr/local/lib/python3.7/dist-packages (from pyLDAvis) (0.0)\n",
            "Requirement already satisfied: joblib in /usr/local/lib/python3.7/dist-packages (from pyLDAvis) (1.1.0)\n",
            "Requirement already satisfied: setuptools in /usr/local/lib/python3.7/dist-packages (from pyLDAvis) (57.4.0)\n",
            "Requirement already satisfied: funcy in /usr/local/lib/python3.7/dist-packages (from pyLDAvis) (1.17)\n",
            "Requirement already satisfied: pandas>=1.2.0 in /usr/local/lib/python3.7/dist-packages (from pyLDAvis) (1.3.5)\n",
            "Requirement already satisfied: scipy in /usr/local/lib/python3.7/dist-packages (from pyLDAvis) (1.7.3)\n",
            "Requirement already satisfied: scikit-learn in /usr/local/lib/python3.7/dist-packages (from pyLDAvis) (1.0.2)\n",
            "Requirement already satisfied: gensim in /usr/local/lib/python3.7/dist-packages (from pyLDAvis) (4.2.0)\n",
            "Requirement already satisfied: future in /usr/local/lib/python3.7/dist-packages (from pyLDAvis) (0.16.0)\n",
            "Requirement already satisfied: jinja2 in /usr/local/lib/python3.7/dist-packages (from pyLDAvis) (2.11.3)\n",
            "Requirement already satisfied: numpy>=1.20.0 in /usr/local/lib/python3.7/dist-packages (from pyLDAvis) (1.21.6)\n",
            "Requirement already satisfied: numexpr in /usr/local/lib/python3.7/dist-packages (from pyLDAvis) (2.8.3)\n",
            "Requirement already satisfied: python-dateutil>=2.7.3 in /usr/local/lib/python3.7/dist-packages (from pandas>=1.2.0->pyLDAvis) (2.8.2)\n",
            "Requirement already satisfied: pytz>=2017.3 in /usr/local/lib/python3.7/dist-packages (from pandas>=1.2.0->pyLDAvis) (2022.1)\n",
            "Requirement already satisfied: six>=1.5 in /usr/local/lib/python3.7/dist-packages (from python-dateutil>=2.7.3->pandas>=1.2.0->pyLDAvis) (1.15.0)\n",
            "Requirement already satisfied: smart-open>=1.8.1 in /usr/local/lib/python3.7/dist-packages (from gensim->pyLDAvis) (5.2.1)\n",
            "Requirement already satisfied: MarkupSafe>=0.23 in /usr/local/lib/python3.7/dist-packages (from jinja2->pyLDAvis) (2.0.1)\n",
            "Requirement already satisfied: packaging in /usr/local/lib/python3.7/dist-packages (from numexpr->pyLDAvis) (21.3)\n",
            "Requirement already satisfied: pyparsing!=3.0.5,>=2.0.2 in /usr/local/lib/python3.7/dist-packages (from packaging->numexpr->pyLDAvis) (3.0.9)\n",
            "Requirement already satisfied: threadpoolctl>=2.0.0 in /usr/local/lib/python3.7/dist-packages (from scikit-learn->pyLDAvis) (3.1.0)\n"
          ]
        }
      ],
      "source": [
        "!pip install pyLDAvis"
      ]
    },
    {
      "cell_type": "code",
      "execution_count": 144,
      "metadata": {
        "colab": {
          "base_uri": "https://localhost:8080/",
          "height": 951
        },
        "id": "BlW0h05wf6Mq",
        "outputId": "3cf78f4f-473c-4615-ba90-5eaefba69900"
      },
      "outputs": [
        {
          "output_type": "stream",
          "name": "stderr",
          "text": [
            "/usr/local/lib/python3.7/dist-packages/pyLDAvis/_prepare.py:247: FutureWarning: In a future version of pandas all arguments of DataFrame.drop except for the argument 'labels' will be keyword-only\n",
            "  by='saliency', ascending=False).head(R).drop('saliency', 1)\n"
          ]
        },
        {
          "output_type": "stream",
          "name": "stdout",
          "text": [
            "CPU times: user 1.1 s, sys: 142 ms, total: 1.24 s\n",
            "Wall time: 5.51 s\n"
          ]
        },
        {
          "output_type": "execute_result",
          "data": {
            "text/plain": [
              "<IPython.core.display.HTML object>"
            ],
            "text/html": [
              "\n",
              "<link rel=\"stylesheet\" type=\"text/css\" href=\"https://cdn.jsdelivr.net/gh/bmabey/pyLDAvis@3.3.1/pyLDAvis/js/ldavis.v1.0.0.css\">\n",
              "\n",
              "\n",
              "<div id=\"ldavis_el59140135460705616147444857\"></div>\n",
              "<script type=\"text/javascript\">\n",
              "\n",
              "var ldavis_el59140135460705616147444857_data = {\"mdsDat\": {\"x\": [0.22125756989256679, 0.23186261089949697, 0.16696081963629628, 0.12418043801801788, 0.10549112017482085, 0.13074756697516815, 0.08810566959687714, 0.06001046544184751, 0.00670289120842229, 0.012734550684185796, -0.038465759538498144, -0.07532133022352394, -0.07531907288863944, -0.01875805998086825, -0.09913318224844762, -0.07913679572204206, -0.11231324771256357, -0.2175080043540933, -0.21604912492951106, -0.21604912492951106], \"y\": [0.27450879516528276, -0.3764529317411275, 0.06574059613953424, 0.02302992818684645, 0.01572413892394604, 0.025248588674748943, 0.011582179139453752, 0.0056984961510294614, 0.0007481457822018134, 0.0006270166612228372, -0.0021471131558328783, -0.00421570257142161, -0.0043338246745298036, -0.0015713852658270282, -0.005089824346295019, -0.0044108475433039815, -0.005551059540732892, -0.00659274588734654, -0.006271225048924514, -0.006271225048924593], \"topics\": [1, 2, 3, 4, 5, 6, 7, 8, 9, 10, 11, 12, 13, 14, 15, 16, 17, 18, 19, 20], \"cluster\": [1, 1, 1, 1, 1, 1, 1, 1, 1, 1, 1, 1, 1, 1, 1, 1, 1, 1, 1, 1], \"Freq\": [8.491039780416665, 8.388604623128094, 7.913799637276122, 6.521249829713716, 6.279056609102571, 6.136888947152306, 6.026385869926666, 5.478399290579512, 4.84462988484664, 4.819437765313603, 4.0949519067826206, 4.053968835555677, 3.9878483393437683, 3.899026596240877, 3.808324492395543, 3.6950773456112938, 3.452504515959747, 2.757608037243713, 2.6755988467054332, 2.6755988467054332]}, \"tinfo\": {\"Term\": [\"\\u0432\\u0441\\u0451\", \"\\u044d\\u0442\\u043e\", \"\\u0445\\u043e\\u0442\\u0435\\u0442\\u044c\", \"\\u0445\\u043e\\u0440\\u043e\\u0448\\u0438\\u0439\", \"\\u0434\\u0435\\u043d\\u044c\", \"\\u0441\\u0432\\u043e\\u0439\", \"\\u0435\\u0449\\u0451\", \"\\u043e\\u0447\\u0435\\u043d\\u044c\", \"\\u0434\\u043e\\u043c\", \"\\u0437\\u043d\\u0430\\u0442\\u044c\", \"\\u0441\\u0442\\u0430\\u0442\\u044c\", \"\\u043a\\u043e\\u0442\\u043e\\u0440\\u044b\\u0439\", \"\\u043f\\u0440\\u043e\\u0441\\u0442\\u043e\", \"\\u043b\\u044e\\u0431\\u0438\\u0442\\u044c\", \"\\u0436\\u0434\\u0430\\u0442\\u044c\", \"\\u0433\\u043e\\u0434\", \"\\u043f\\u0435\\u0440\\u0432\\u044b\\u0439\", \"\\u043f\\u043e\\u0447\\u0435\\u043c\\u0443\", \"\\u0434\\u0435\\u043b\\u0430\\u0442\\u044c\", \"\\u0432\\u043e\\u043e\\u0431\\u0449\\u0435\", \"\\u043f\\u0438\\u0441\\u0430\\u0442\\u044c\", \"\\u0445\\u043e\\u0442\\u044f\", \"\\u0440\\u0430\\u043d\\u043d\\u0438\\u0439\", \"\\u0441\\u043a\\u043e\\u0440\\u043e\", \"\\u0434\\u0440\\u0443\\u0433\", \"\\u043d\\u0435\\u0434\\u0435\\u043b\\u044f\", \"\\u043d\\u0438\\u043a\\u0442\\u043e\", \"\\u0443\\u0432\\u0438\\u0434\\u0435\\u0442\\u044c\", \"\\u0432\\u0440\\u0435\\u043c\\u044f\", \"\\u043f\\u043e\\u043a\\u0430\\u0437\\u044b\\u0432\\u0430\\u0442\\u044c\", \"\\u0432\\u0441\\u0451\", \"\\u0433\\u043e\\u0434\", \"\\u043d\\u043e\\u0432\\u044b\\u0439\", \"\\u0441\\u0435\\u0433\\u043e\\u0434\\u043d\\u044f\", \"\\u0436\\u0438\\u0437\\u043d\\u044c\", \"\\u0431\\u043e\\u043b\\u044c\\u0448\\u043e\\u0439\", \"\\u043f\\u043b\\u043e\\u0445\\u043e\", \"\\u0436\\u0435\\u043b\\u0430\\u043d\\u0438\\u0435\", \"\\u0442\\u0430\\u043a\\u0438\", \"\\u043e\\u0431\\u0438\\u0434\\u043d\\u043e\", \"\\u0432\\u0440\\u043e\\u0434\\u0435\", \"\\u043a\\u0430\\u0436\\u0434\\u044b\\u0439\", \"\\u0441\\u043a\\u043e\\u043b\\u044c\\u043a\\u043e\", \"\\u043e\\u0441\\u0442\\u0430\\u043b\\u044c\\u043d\\u043e\\u0439\", \"\\u0437\\u0430\\u043a\\u043e\\u043d\\u0447\\u0438\\u0442\\u044c\\u0441\\u044f\", \"\\u0441\\u043a\\u0430\\u0437\\u0430\\u0442\\u044c\", \"\\u0433\\u043e\\u0432\\u043d\\u043e\", \"\\u0440\\u0430\\u0432\\u043d\\u043e\", \"\\u0432\\u0435\\u0441\\u044c\", \"\\u043d\\u0443\\u0436\\u043d\\u044b\\u0439\", \"\\u0442\\u0451\\u043f\\u043b\\u044b\\u0439\", \"\\u043f\\u043e\\u0441\\u0442\\u0430\\u0432\\u0438\\u0442\\u044c\", \"\\u043e\\u0441\\u0442\\u0430\\u0442\\u044c\\u0441\\u044f\", \"\\u0437\\u0430\\u0432\\u0442\\u0440\\u0430\", \"\\u043b\\u0438\\u0448\\u044c\", \"\\u0430\\u0432\\u0442\\u043e\\u0431\\u0443\\u0441\", \"\\u0451\\u043b\\u043a\\u0430\", \"\\u043d\\u0430\\u0439\\u0442\\u0438\", \"\\u043d\\u043e\\u0440\\u043c\\u0430\\u043b\\u044c\\u043d\\u043e\", \"\\u0438\\u043d\\u0442\\u0435\\u0440\\u043d\\u0435\\u0442\", \"\\u043f\\u043e\\u0441\\u043b\\u0435\\u0434\\u043d\\u0438\\u0439\", \"\\u043c\\u043e\\u0447\\u044c\", \"\\u0447\\u0435\\u043b\\u043e\\u0432\\u0435\\u043a\", \"\\u0441\\u043f\\u0430\\u0441\\u0438\\u0431\\u043e\", \"\\u044d\\u0442\\u043e\", \"\\u0433\\u043e\\u0432\\u043e\\u0440\\u0438\\u0442\\u044c\", \"\\u0448\\u043a\\u043e\\u043b\\u0430\", \"\\u043a\\u0430\\u0440\\u0442\\u0438\\u043d\\u043a\\u0430\", \"\\u043f\\u0440\\u043e\\u0445\\u043e\\u0434\\u0438\\u0442\\u044c\", \"\\u0437\\u0430\\u0432\\u0442\\u0440\\u0430\", \"\\u0432\\u0435\\u0441\\u044c\", \"\\u0441\\u0443\\u0434\\u0438\\u0442\\u044c\", \"\\u0441\\u0435\\u0433\\u043e\\u0434\\u043d\\u044f\", \"\\u043a\\u0440\\u0443\\u0442\\u043e\", \"\\u0440\\u043e\\u0434\\u043d\\u044b\\u0439\", \"\\u0431\\u043e\\u043b\\u0435\\u0442\\u044c\", \"\\u043a\\u0430\\u0436\\u0434\\u044b\\u0439\", \"\\u043f\\u044b\\u0442\\u0430\\u0442\\u044c\\u0441\\u044f\", \"\\u043c\\u043e\\u0447\\u044c\", \"\\u0437\\u0430\\u043a\\u043e\\u043d\\u0447\\u0438\\u0442\\u044c\\u0441\\u044f\", \"\\u0443\\u0447\\u0438\\u0442\\u044c\\u0441\\u044f\", \"\\u0438\\u043d\\u0442\\u0435\\u0440\\u0435\\u0441\\u043d\\u043e\", \"\\u0444\\u0438\\u0437\\u0438\\u043a\\u0430\", \"\\u0437\\u0432\\u0443\\u0447\\u0430\\u0442\\u044c\", \"\\u0441\\u043f\\u0430\\u0442\\u044c\", \"\\u0445\\u0438\\u043c\\u0438\\u044f\", \"\\u0447\\u0443\\u0432\\u0441\\u0442\\u0432\\u043e\", \"\\u043a\\u0440\\u043e\\u043c\\u0435\", \"\\u0430\\u0445\\u0430\\u0445\", \"\\u043d\\u0430\\u0448\", \"\\u0440\\u0430\\u0431\\u043e\\u0447\\u0438\\u0439\", \"\\u0434\\u043e\\u043b\\u0436\\u043d\\u044b\\u0439\", \"\\u0438\\u0434\\u0442\\u0438\", \"\\u0441\\u043a\\u0443\\u0447\\u043d\\u043e\", \"\\u043f\\u043e\\u0441\\u043b\\u0435\\u0434\\u043d\\u0438\\u0439\", \"\\u0447\\u0435\\u043b\\u043e\\u0432\\u0435\\u043a\", \"\\u0443\\u0442\\u0440\\u043e\", \"\\u0432\\u0447\\u0435\\u0440\\u0430\", \"\\u0431\\u043e\\u043b\\u044c\\u0448\\u043e\\u0439\", \"\\u043a\\u0443\\u043f\\u0438\\u0442\\u044c\", \"\\u0434\\u0435\\u043d\\u044c\", \"\\u0441\\u0438\\u0434\\u0435\\u0442\\u044c\", \"\\u0434\\u0443\\u043c\\u0430\\u0442\\u044c\", \"\\u0431\\u043b\\u0438\\u043d\", \"\\u0447\\u0430\\u0441\", \"\\u043f\\u0440\\u0438\\u0439\\u0442\\u0438\", \"\\u0442\\u0440\\u0435\\u043d\\u0438\\u0440\\u043e\\u0432\\u043a\\u0430\", \"\\u043f\\u0430\\u043b\\u0435\\u0446\", \"\\u0440\\u043e\\u0436\\u0434\\u0435\\u043d\\u0438\\u0435\", \"\\u043c\\u043e\\u0447\\u044c\", \"\\u0441\\u0435\\u0433\\u043e\\u0434\\u043d\\u044f\", \"\\u0431\\u043e\\u043b\\u044c\\u043d\\u0438\\u0446\\u0430\", \"\\u0432\\u0435\\u0441\\u044c\", \"\\u043a\\u0430\\u0436\\u0434\\u044b\\u0439\", \"\\u0432\\u0442\\u043e\\u0440\\u043e\\u0439\", \"\\u043d\\u0430\\u0439\\u0442\\u0438\", \"\\u043d\\u043e\\u0447\\u044c\", \"\\u043c\\u0430\\u043b\\u0435\\u043d\\u044c\\u043a\\u0438\\u0439\", \"\\u043d\\u0435\\u0441\\u043a\\u043e\\u043b\\u044c\\u043a\\u043e\", \"\\u0440\\u0430\\u0431\\u043e\\u0442\\u0430\", \"\\u0441\\u043f\\u0430\\u0441\\u0438\\u0431\\u043e\", \"\\u0434\\u0435\\u043a\\u0430\\u0431\\u0440\\u044c\", \"\\u043f\\u0440\\u043e\\u0431\\u043b\\u0435\\u043c\\u0430\", \"\\u043a\\u043e\\u043d\\u0446\\u0435\\u0440\\u0442\", \"\\u0446\\u0435\\u043b\\u044b\\u0439\", \"\\u043f\\u043e\\u0445\\u043e\\u0434\", \"\\u043f\\u043e\\u0434\\u0430\\u0440\\u0438\\u0442\\u044c\", \"\\u043f\\u0430\\u043f\\u0430\", \"\\u0431\\u0440\\u0430\\u0442\\u044c\", \"\\u043f\\u043b\\u0430\\u043d\", \"\\u043f\\u0440\\u0430\\u0432\\u0434\\u0430\", \"\\u043a\\u0443\\u043f\\u0438\\u0442\\u044c\", \"\\u0435\\u0449\\u0451\", \"\\u0434\\u0440\\u0443\\u0433\", \"\\u043d\\u0430\\u043f\\u0438\\u0441\\u0430\\u0442\\u044c\", \"\\u043f\\u043e\\u043d\\u0438\\u043c\\u0430\\u0442\\u044c\", \"\\u0441\\u043b\\u0438\\u0448\\u043a\\u043e\\u043c\", \"\\u0441\\u0435\\u0440\\u0434\\u0446\\u0435\", \"\\u043f\\u0440\\u0438\\u044f\\u0442\\u043d\\u043e\", \"\\u0437\\u0430\\u0432\\u0442\\u0440\\u0430\", \"\\u0443\\u0447\\u0438\\u0442\\u044c\", \"\\u043a\\u043e\\u043d\\u0442\\u0440\\u043e\\u043b\\u044c\\u043d\\u044b\\u0439\", \"\\u0436\\u0435\\u043d\\u0449\\u0438\\u043d\\u0430\", \"\\u0431\\u044b\\u0432\\u0430\\u0442\\u044c\", \"\\u0433\\u043e\\u0442\\u043e\\u0432\\u0438\\u0442\\u044c\", \"\\u043b\\u0435\\u0436\\u0430\\u0442\\u044c\", \"\\u0438\\u0434\\u0442\\u0438\", \"\\u043e\\u0442\\u043b\\u0438\\u0447\\u043d\\u044b\\u0439\", \"\\u043e\\u0441\\u0442\\u0430\\u0432\\u0438\\u0442\\u044c\", \"\\u043f\\u0440\\u0430\\u0432\\u0434\\u0430\", \"\\u0432\\u043e\\u043b\\u043e\\u0441\", \"\\u043a\\u043b\\u0430\\u0441\\u0441\\u043d\\u043e\", \"\\u0441\\u0447\\u0438\\u0442\\u0430\\u0442\\u044c\", \"\\u0441\\u043e\\u0431\\u0430\\u043a\\u0430\", \"\\u043d\\u0440\\u0430\\u0432\\u0438\\u0442\\u044c\\u0441\\u044f\", \"\\u0434\\u043e\\u043b\\u0436\\u043d\\u044b\\u0439\", \"\\u043a\\u0430\\u0437\\u0430\\u0442\\u044c\\u0441\\u044f\", \"\\u0434\\u0435\\u0432\\u0443\\u0448\\u043a\\u0430\", \"\\u043f\\u043e\\u0444\\u0438\\u0433\\u0430\", \"\\u0441\\u043a\\u0430\\u0437\\u0430\\u0442\\u044c\", \"\\u043c\\u0435\\u0441\\u0442\\u043e\", \"\\u0434\\u0430\\u0432\\u043d\\u043e\", \"\\u0432\\u0435\\u0441\\u044c\", \"\\u043c\\u043e\\u0447\\u044c\", \"\\u0432\\u0430\\u0448\", \"\\u043f\\u0440\\u043e\\u0441\\u0442\\u043e\", \"\\u0434\\u0435\\u043b\\u0430\\u0442\\u044c\", \"\\u0445\\u043e\\u0442\\u0435\\u0442\\u044c\\u0441\\u044f\", \"\\u0434\\u0435\\u043b\\u043e\", \"\\u043c\\u0430\\u043b\\u044c\\u0447\\u0438\\u043a\", \"\\u0441\\u0435\\u0441\\u0441\\u0438\\u044f\", \"\\u0441\\u0434\\u0430\\u0442\\u044c\", \"\\u0441\\u043e\\u0433\\u043b\\u0430\\u0441\\u043d\\u044b\\u0439\", \"\\u0438\\u0433\\u0440\\u0430\", \"\\u0443\\u0447\\u0438\\u0442\\u044c\", \"\\u0432\\u0430\\u0448\", \"\\u0436\\u0438\\u0437\\u043d\\u044c\", \"\\u0432\\u043e\\u0437\\u043c\\u043e\\u0436\\u043d\\u043e\", \"\\u0440\\u0430\\u0437\\u043d\\u044b\\u0439\", \"\\u043f\\u0440\\u0435\\u043a\\u0440\\u0430\\u0441\\u043d\\u044b\\u0439\", \"\\u0447\\u0435\\u0440\\u0442\\u0430\", \"\\u0441\\u043e\\u0431\\u0438\\u0440\\u0430\\u0442\\u044c\\u0441\\u044f\", \"\\u0436\\u0435\\u043b\\u0430\\u0442\\u044c\", \"\\u0440\\u0443\\u043a\\u0430\", \"\\u0441\\u0440\\u043e\\u0447\\u043d\\u043e\", \"\\u043e\\u0441\\u0442\\u0430\\u0442\\u044c\\u0441\\u044f\", \"\\u0441\\u0447\\u0430\\u0441\\u0442\\u043b\\u0438\\u0432\\u044b\\u0439\", \"\\u043f\\u043e\\u0445\\u043e\\u0436\\u0438\\u0439\", \"\\u0437\\u0430\\u0432\\u0442\\u0440\\u0430\", \"\\u043c\\u043e\\u0447\\u044c\", \"\\u043f\\u043b\\u0430\\u043a\\u0430\\u0442\\u044c\", \"\\u044d\\u043c\\u043e\\u0446\\u0438\\u044f\", \"\\u0431\\u043e\\u043b\\u044c\\u043d\\u043e\", \"\\u0441\\u0435\\u0440\\u0438\\u044f\", \"\\u0441\\u043a\\u0430\\u0437\\u0430\\u0442\\u044c\", \"\\u043c\\u0430\\u043b\\u0435\\u043d\\u044c\\u043a\\u0438\\u0439\", \"\\u043d\\u0440\\u0430\\u0432\\u0438\\u0442\\u044c\\u0441\\u044f\", \"\\u0441\\u0434\\u0435\\u043b\\u0430\\u0442\\u044c\", \"\\u0432\\u0435\\u0441\\u044c\", \"\\u043f\\u044f\\u0442\\u043d\\u0438\\u0446\\u0430\", \"\\u0445\\u043e\\u0442\\u0435\\u0442\\u044c\", \"\\u0432\\u043e\\u043e\\u0431\\u0449\\u0435\", \"\\u043f\\u043e\\u0439\\u0442\\u0438\", \"\\u043d\\u043e\\u0432\\u044b\\u0439\", \"\\u043d\\u0443\\u0436\\u043d\\u043e\", \"\\u0441\\u0435\\u0433\\u043e\\u0434\\u043d\\u044f\", \"\\u0436\\u0438\\u0442\\u044c\", \"\\u0441\\u0442\\u0440\\u0430\\u043d\\u0430\", \"\\u043b\\u044e\\u0431\\u043e\\u0439\", \"\\u0437\\u0430\\u0431\\u044b\\u0442\\u044c\", \"\\u0440\\u044f\\u0434\\u043e\\u043c\", \"\\u0447\\u0443\\u0432\\u0430\\u043a\", \"\\u043f\\u0438\\u0432\\u043e\", \"\\u0440\\u0435\\u0448\\u0430\\u0442\\u044c\", \"\\u043d\\u043e\\u0447\\u044c\", \"\\u043f\\u0430\\u0440\\u0435\\u043d\\u044c\", \"\\u043f\\u0440\\u0430\\u0432\\u0434\\u0430\", \"\\u0444\\u0438\\u0437\\u0438\\u043a\\u0430\", \"\\u0441\\u0434\\u0435\\u043b\\u0430\\u0442\\u044c\", \"\\u043e\\u0431\\u0435\\u0449\\u0430\\u0442\\u044c\", \"\\u0431\\u043e\\u043b\\u044c\\u0448\\u0438\\u0439\", \"\\u043d\\u0438\\u0431\\u044b\\u0442\\u044c\", \"\\u0432\\u0435\\u0437\\u0442\\u0438\", \"\\u0432\\u0435\\u0440\\u0438\\u0442\\u044c\", \"\\u0440\\u0435\\u0431\\u0451\\u043d\\u043e\\u043a\", \"\\u043c\\u0435\\u0441\\u044f\\u0446\", \"\\u0441\\u043f\\u0438\\u0441\\u043e\\u043a\", \"\\u0437\\u0432\\u0430\\u0442\\u044c\", \"\\u043f\\u043b\\u0430\\u0442\\u044c\\u0435\", \"\\u0431\\u043e\\u043b\\u044c\\u043d\\u0438\\u0446\\u0430\", \"\\u0436\\u0435\\u043b\\u0430\\u043d\\u0438\\u0435\", \"\\u043f\\u043e\\u0441\\u0442\\u043e\\u044f\\u043d\\u043d\\u043e\", \"\\u043e\\u0447\\u0435\\u043d\\u044c\", \"\\u0432\\u0440\\u0435\\u043c\\u044f\", \"\\u043f\\u043e\\u0441\\u043c\\u043e\\u0442\\u0440\\u0435\\u0442\\u044c\", \"\\u0432\\u0438\\u0434\\u0435\\u0442\\u044c\", \"\\u043f\\u043e\\u043a\\u0430\", \"\\u043f\\u043e\\u0434\\u0440\\u0443\\u0433\\u0430\", \"\\u043c\\u043e\\u0447\\u044c\", \"\\u043f\\u043e\\u043d\\u0440\\u0430\\u0432\\u0438\\u0442\\u044c\\u0441\\u044f\", \"\\u0441\\u0438\\u043b\\u044c\\u043d\\u043e\", \"\\u0441\\u043f\\u0430\\u0441\\u0438\\u0431\\u043e\", \"\\u0441\\u043a\\u0443\\u0447\\u0430\\u0442\\u044c\", \"\\u0441\\u0435\\u0433\\u043e\\u0434\\u043d\\u044f\", \"\\u0437\\u0430\\u0431\\u044b\\u0442\\u044c\", \"\\u0434\\u043e\\u0431\\u0440\\u044b\\u0439\", \"\\u0445\\u0432\\u0430\\u0442\\u0430\\u0442\\u044c\", \"\\u043d\\u043e\\u0447\\u044c\", \"\\u0442\\u0430\\u043d\\u0435\\u0446\", \"\\u0437\\u0430\\u043f\\u0438\\u0441\\u044c\", \"\\u0434\\u043e\\u0440\\u043e\\u0433\\u0430\", \"\\u043f\\u043e\\u044d\\u0442\\u043e\\u043c\\u0443\", \"\\u043d\\u0430\\u0439\\u0442\\u0438\", \"\\u043f\\u0435\\u0442\\u044c\", \"\\u043e\\u0444\\u0438\\u0433\\u0435\\u043d\\u043d\\u044b\\u0439\", \"\\u0438\\u0441\\u0442\\u043e\\u0440\\u0438\\u044f\", \"\\u043f\\u0440\\u043e\\u0441\\u0442\\u043e\\u0439\", \"\\u0437\\u0430\\u043c\\u0435\\u0442\\u0438\\u0442\\u044c\", \"\\u043d\\u0430\\u0443\\u0448\\u043d\\u0438\\u043a\", \"\\u0441\\u043a\\u043e\\u043b\\u044c\\u043a\\u043e\", \"\\u0438\\u043d\\u0442\\u0435\\u0440\\u043d\\u0435\\u0442\", \"\\u043b\\u0435\\u043d\\u0442\\u0430\", \"\\u043f\\u0440\\u044f\\u043c\", \"\\u043f\\u0430\\u0440\\u0430\", \"\\u0432\\u0435\\u0441\\u044c\", \"\\u0441\\u043b\\u044b\\u0448\\u0430\\u0442\\u044c\", \"\\u043f\\u043e\\u043c\\u043e\\u0447\\u044c\", \"\\u043c\\u0435\\u0441\\u044f\\u0446\", \"\\u0447\\u0435\\u043b\\u043e\\u0432\\u0435\\u043a\", \"\\u0440\\u0430\\u0434\\u0430\", \"\\u0441\\u043f\\u0430\\u0442\\u044c\", \"\\u043b\\u044e\\u0431\\u0438\\u0442\\u044c\", \"\\u043f\\u0438\\u0441\\u0430\\u0442\\u044c\", \"\\u043c\\u0430\\u043c\\u0430\", \"\\u0440\\u043e\\u0441\\u0441\\u0438\\u044f\", \"\\u0442\\u0435\\u043c\\u0430\", \"\\u043f\\u0440\\u0438\\u0445\\u043e\\u0434\\u0438\\u0442\\u044c\", \"\\u0443\\u0441\\u0442\\u0430\\u0442\\u044c\", \"\\u0434\\u043e\\u043c\\u043e\\u0439\", \"\\u0442\\u0443\\u043f\\u043e\\u0439\", \"\\u043f\\u043e\\u043c\\u043e\\u0447\\u044c\", \"\\u0432\\u0441\\u043f\\u043e\\u043c\\u0438\\u043d\\u0430\\u0442\\u044c\", \"\\u0437\\u0430\\u0442\\u043e\", \"\\u0442\\u043e\\u0447\\u043d\\u043e\", \"\\u0432\\u0435\\u0441\\u044c\", \"\\u0441\\u0442\\u0430\\u0440\\u044b\\u0439\", \"\\u0442\\u0432\\u043e\\u0439\", \"\\u043f\\u0440\\u0430\\u0432\\u0434\\u0430\", \"\\u043f\\u0430\\u043f\\u0430\", \"\\u043d\\u0430\\u0441\\u0442\\u0440\\u043e\\u0435\\u043d\\u0438\\u0435\", \"\\u043e\\u0431\\u0449\\u0430\\u0442\\u044c\\u0441\\u044f\", \"\\u043e\\u0442\\u0432\\u0435\\u0447\\u0430\\u0442\\u044c\", \"\\u0434\\u043e\\u0431\\u0440\\u044b\\u0439\", \"\\u043a\\u043e\\u043c\\u043f\", \"\\u043c\\u043e\\u0447\\u044c\", \"\\u0443\\u043c\", \"\\u043f\\u043e\\u0434\\u0430\\u0440\\u0438\\u0442\\u044c\", \"\\u043b\\u044e\\u0431\\u043e\\u0432\\u044c\", \"\\u043d\\u0430\\u0440\\u043e\\u0434\", \"\\u0437\\u0430\\u0431\\u044b\\u0442\\u044c\", \"\\u0438\\u0441\\u043a\\u0430\\u0442\\u044c\", \"\\u0441\\u043b\\u044b\\u0448\\u0430\\u0442\\u044c\", \"\\u0437\\u0432\\u043e\\u043d\\u0438\\u0442\\u044c\", \"\\u0447\\u0435\\u043b\\u043e\\u0432\\u0435\\u043a\", \"\\u043d\\u0440\\u0430\\u0432\\u0438\\u0442\\u044c\\u0441\\u044f\", \"\\u0440\\u043e\\u0436\\u0434\\u0435\\u043d\\u0438\\u0435\", \"\\u043c\\u0438\\u043d\\u0443\\u0442\\u0430\", \"\\u0441\\u0435\\u0433\\u043e\\u0434\\u043d\\u044f\", \"\\u0437\\u043d\\u0430\\u0442\\u044c\", \"\\u043d\\u0435\\u0434\\u0435\\u043b\\u044f\", \"\\u0441\\u0430\\u043c\\u044b\\u0439\", \"\\u043f\\u0440\\u0438\\u0441\\u043b\\u0430\\u0442\\u044c\", \"\\u0432\\u0435\\u0441\\u044c\", \"\\u043f\\u043e\\u0441\\u043b\\u0435\\u0434\\u043d\\u0438\\u0439\", \"\\u0440\\u0430\\u0431\\u043e\\u0447\\u0438\\u0439\", \"\\u043d\\u0440\\u0430\\u0432\\u0438\\u0442\\u044c\\u0441\\u044f\", \"\\u0433\\u043b\\u0430\\u0432\\u043d\\u043e\\u0435\", \"\\u0436\\u0435\\u043b\\u0430\\u043d\\u0438\\u0435\", \"\\u043e\\u043d\\u043e\", \"\\u0431\\u043b\\u0438\\u0437\\u043a\\u0438\\u0439\", \"\\u0444\\u0438\\u0437\\u0438\\u043a\\u0430\", \"\\u0431\\u043e\\u044f\\u0442\\u044c\\u0441\\u044f\", \"\\u0447\\u0435\\u043b\\u043e\\u0432\\u0435\\u043a\", \"\\u0441\\u043c\\u043e\\u0447\\u044c\", \"\\u043c\\u0435\\u0441\\u0442\\u043e\", \"\\u043e\\u0442\\u0432\\u0435\\u0442\", \"\\u0436\\u043e\\u043f\\u0430\", \"\\u0440\\u0430\\u0437\\u043d\\u044b\\u0439\", \"\\u043c\\u0430\\u043b\\u0435\\u043d\\u044c\\u043a\\u0438\\u0439\", \"\\u0445\\u0440\\u0435\\u043d\\u043e\\u0432\\u044b\\u0439\", \"\\u043c\\u043e\\u0447\\u044c\", \"\\u043e\\u0441\\u0442\\u0430\\u0432\\u0438\\u0442\\u044c\", \"\\u043a\\u043b\\u0430\\u0441\\u0441\\u043d\\u043e\", \"\\u0435\\u0434\\u0438\\u043d\\u0441\\u0442\\u0432\\u0435\\u043d\\u043d\\u044b\\u0439\", \"\\u0444\\u0438\\u0433\\u043d\\u044f\", \"\\u043f\\u043e\\u0441\\u0442\\u0430\\u0432\\u0438\\u0442\\u044c\", \"\\u0437\\u043d\\u0430\\u0447\\u0438\\u0442\", \"\\u0443\\u0436\\u0430\\u0441\", \"\\u0432\\u043c\\u0435\\u0441\\u0442\\u043e\", \"\\u0434\\u0435\\u0432\\u0443\\u0448\\u043a\\u0430\", \"\\u0443\\u0442\\u0440\\u043e\", \"\\u043f\\u0435\\u0440\\u0432\\u044b\\u0439\", \"\\u043f\\u043e\\u0447\\u0435\\u043c\\u0443\", \"\\u0434\\u0435\\u0432\\u043e\\u0447\\u043a\\u0430\", \"\\u043f\\u0440\\u0430\\u0437\\u0434\\u043d\\u0438\\u043a\", \"\\u043f\\u043e\\u043d\\u0435\\u0434\\u0435\\u043b\\u044c\\u043d\\u0438\\u043a\", \"\\u044d\\u043a\\u0437\\u0430\\u043c\\u0435\\u043d\", \"\\u0441\\u043d\\u0430\\u0447\\u0430\\u043b\\u0430\", \"\\u044f\\u043d\\u0432\\u0430\\u0440\\u044c\", \"\\u043d\\u0430\\u0441\\u0442\\u0443\\u043f\\u0438\\u0442\\u044c\", \"\\u0433\\u043e\\u0440\\u043e\\u0434\", \"\\u043c\\u0438\\u043d\\u0443\\u0442\\u0430\", \"\\u0432\\u0442\\u043e\\u0440\\u043e\\u0439\", \"\\u0444\\u0438\\u043b\\u044c\\u043c\", \"\\u0434\\u043e\\u0440\\u043e\\u0433\\u043e\\u0439\", \"\\u0432\\u0435\\u0441\\u044c\", \"\\u0445\\u043e\\u0434\\u0438\\u0442\\u044c\", \"\\u0436\\u0435\\u043d\\u0449\\u0438\\u043d\\u0430\", \"\\u0436\\u0435\\u043b\\u0430\\u0442\\u044c\", \"\\u0441\\u0442\\u0440\\u0430\\u0448\\u043d\\u043e\", \"\\u0441\\u0442\\u0440\\u0430\\u0448\\u043d\\u044b\\u0439\", \"\\u043c\\u0430\\u043b\\u0435\\u043d\\u044c\\u043a\\u0438\\u0439\", \"\\u043f\\u0440\\u0430\\u0432\\u0438\\u043b\\u044c\\u043d\\u043e\", \"\\u0441\\u0434\\u0435\\u043b\\u0430\\u0442\\u044c\", \"\\u043d\\u0443\\u0436\\u043d\\u044b\\u0439\", \"\\u043e\\u0442\\u0432\\u0435\\u0442\\u0438\\u0442\\u044c\", \"\\u0431\\u0440\\u0430\\u0442\\u044c\", \"\\u0441\\u0435\\u0433\\u043e\\u0434\\u043d\\u044f\", \"\\u043f\\u0440\\u0438\\u043d\\u0435\\u0441\\u0442\\u0438\", \"\\u0441\\u043c\\u0435\\u044f\\u0442\\u044c\\u0441\\u044f\", \"\\u0434\\u0430\\u043b\\u0451\\u043a\\u0438\\u0439\", \"\\u0432\\u043e\\u043f\\u0440\\u043e\\u0441\", \"\\u043f\\u043e\\u043b\\u0443\\u0447\\u0438\\u0442\\u044c\", \"\\u0445\\u043e\\u0440\\u043e\\u0448\\u0438\\u0439\", \"\\u043f\\u043b\\u043e\\u0445\\u043e\\u0439\", \"\\u0432\\u0435\\u0441\\u044c\", \"\\u0447\\u0438\\u0442\\u0430\\u0442\\u044c\", \"\\u0441\\u0435\\u0442\\u044c\", \"\\u0440\\u0435\\u0431\\u044f\\u0442\\u0430\", \"\\u0432\\u0430\\u0448\", \"\\u0432\\u0435\\u0447\\u0435\\u0440\", \"\\u0454\\u0432\\u0440\\u043e\\u043c\\u0430\\u0439\\u0434\\u0430\\u043d\", \"\\u043a\\u043e\\u043d\\u0442\\u0430\\u043a\\u0442\", \"\\u0441\\u043e\\u0431\\u0440\\u0430\\u0442\\u044c\\u0441\\u044f\", \"\\u0433\\u0440\\u0443\\u043f\\u043f\\u0430\", \"\\u043c\\u0438\\u0440\", \"\\u0442\\u043e\\u0447\\u043d\\u043e\", \"\\u0440\\u0430\\u0434\\u0430\", \"\\u0441\\u043a\\u0430\\u0437\\u0430\\u0442\\u044c\", \"\\u0432\\u043c\\u0435\\u0441\\u0442\\u0435\", \"\\u0443\\u0434\\u0430\\u043b\\u0438\\u0442\\u044c\", \"\\u043d\\u0443\\u0436\\u043d\\u044b\\u0439\", \"\\u043f\\u0430\\u0440\\u0430\", \"\\u0441\\u0442\\u043e\\u044f\\u0442\\u044c\", \"\\u043d\\u0430\\u0447\\u0430\\u043b\\u043e\", \"\\u0443\\u0434\\u043e\\u0432\\u043e\\u043b\\u044c\\u0441\\u0442\\u0432\\u0438\\u0435\", \"\\u043f\\u043e\\u0441\\u043b\\u0443\\u0448\\u0430\\u0442\\u044c\", \"\\u0442\\u0432\\u0438\\u0442\", \"\\u0433\\u043e\\u0432\\u043d\\u043e\", \"\\u0438\\u0437\\u043c\\u0435\\u043d\\u0438\\u0442\\u044c\\u0441\\u044f\", \"\\u043f\\u0440\\u043e\\u0441\\u0442\\u0438\\u0442\\u044c\", \"\\u0432\\u044b\\u0445\\u043e\\u0434\\u0438\\u0442\\u044c\", \"\\u043f\\u043e\\u043d\\u0440\\u0430\\u0432\\u0438\\u0442\\u044c\\u0441\\u044f\", \"\\u043b\\u0438\\u0448\\u044c\", \"\\u043f\\u043e\\u043b\\u0443\\u0447\\u0438\\u0442\\u044c\", \"\\u043f\\u0440\\u0438\\u0432\\u0435\\u0442\", \"\\u0434\\u0430\\u0432\\u0430\\u0442\\u044c\", \"\\u0441\\u0434\\u0435\\u043b\\u0430\\u0442\\u044c\", \"\\u0441\\u0432\\u043e\\u0439\", \"\\u0441\\u0440\\u0430\\u0437\\u0443\", \"\\u0432\\u0435\\u0449\\u044c\", \"\\u0434\\u0430\\u0432\\u0430\\u0442\\u044c\", \"\\u043f\\u043e\\u043b\\u0443\\u0447\\u0438\\u0442\\u044c\\u0441\\u044f\", \"\\u0441\\u0430\\u0448\\u0430\", \"\\u043f\\u043b\\u043e\\u0445\\u043e\", \"\\u0441\\u0434\\u0435\\u043b\\u0430\\u0442\\u044c\", \"\\u043b\\u0435\\u0432\\u044b\\u0439\", \"\\u0441\\u043b\\u043e\\u0432\\u043e\", \"\\u043e\\u0431\\u043e\\u0436\\u0430\\u0442\\u044c\", \"\\u0432\\u0435\\u0440\\u0438\\u0442\\u044c\", \"\\u0442\\u0438\\u043f\", \"\\u0432\\u0441\\u044f\\u043a\\u0438\\u0439\", \"\\u043f\\u0438\\u0441\\u044c\\u043c\\u043e\", \"\\u043f\\u0435\\u0441\\u043d\\u044f\", \"\\u0432\\u0435\\u0441\\u0442\\u0438\", \"\\u043f\\u0440\\u044f\\u043c\\u043e\", \"\\u0441\\u043b\\u044b\\u0448\\u0430\\u0442\\u044c\", \"\\u0442\\u043e\\u0440\\u0442\", \"\\u0447\\u0438\\u0442\\u0430\\u0442\\u044c\", \"\\u0434\\u0443\\u0448\\u0430\", \"\\u0438\\u0441\\u043a\\u0430\\u0442\\u044c\", \"\\u0434\\u0435\\u0432\\u043a\\u0430\", \"\\u043a\\u043e\\u0440\\u043e\\u0447\\u0435\", \"\\u043f\\u043e\\u0434\\u0443\\u043c\\u0430\\u0442\\u044c\", \"\\u043f\\u043e\\u0445\\u043e\\u0434\", \"\\u043c\\u0435\\u0441\\u0442\\u043e\", \"\\u043d\\u043e\\u0432\\u044b\\u0439\", \"\\u043f\\u043e\\u043a\\u0443\\u043f\\u0430\\u0442\\u044c\", \"\\u0447\\u0435\\u043b\\u043e\\u0432\\u0435\\u043a\", \"\\u0440\\u0430\\u0431\\u043e\\u0442\\u0430\", \"\\u043a\\u043e\\u0442\\u043e\\u0440\\u044b\\u0439\", \"\\u0441\\u043d\\u043e\\u0432\\u0430\", \"\\u0440\\u0430\\u0431\\u043e\\u0442\\u0430\\u0442\\u044c\", \"\\u0433\\u043e\\u0442\\u043e\\u0432\\u044b\\u0439\", \"\\u0447\\u0435\\u043b\\u043e\\u0432\\u0435\\u043a\", \"\\u043d\\u0440\\u0430\\u0432\\u0438\\u0442\\u044c\\u0441\\u044f\", \"\\u0444\\u043e\\u0442\\u043e\\u0433\\u0440\\u0430\\u0444\\u0438\\u044f\", \"\\u043f\\u043e\\u0436\\u0430\\u043b\\u0443\\u0439\\u0441\\u0442\\u0430\", \"\\u0442\\u043e\\u0440\\u0442\", \"\\u0432\\u0435\\u0441\\u044c\", \"\\u0436\\u0430\\u043b\\u044c\", \"\\u0440\\u0435\\u0431\\u0451\\u043d\\u043e\\u043a\", \"\\u043f\\u043e\\u043d\\u044f\\u0442\\u044c\", \"\\u0443\\u0431\\u0438\\u0442\\u044c\", \"\\u0436\\u0430\\u043b\\u043a\\u043e\", \"\\u0447\\u0443\\u0432\\u0430\\u043a\", \"\\u043c\\u044b\\u0441\\u043b\\u044c\", \"\\u043a\\u043e\\u043c\\u043d\\u0430\\u0442\\u0430\", \"\\u0434\\u0435\\u0432\\u0443\\u0448\\u043a\\u0430\", \"\\u0442\\u0432\\u0438\\u0442\", \"\\u0435\\u0434\\u0438\\u043d\\u0441\\u0442\\u0432\\u0435\\u043d\\u043d\\u044b\\u0439\", \"\\u0443\\u0447\\u0438\\u0442\\u044c\\u0441\\u044f\", \"\\u043e\\u043a\\u0430\\u0437\\u0430\\u0442\\u044c\\u0441\\u044f\", \"\\u0444\\u0438\\u0433\\u043d\\u044f\", \"\\u0446\\u0435\\u043d\\u0430\", \"\\u0437\\u043d\\u0430\\u0447\\u0438\\u0442\", \"\\u0432\\u0435\\u0447\\u0435\\u0440\", \"\\u043f\\u0440\\u044f\\u043c\\u043e\", \"\\u043d\\u0435\\u043d\\u0430\\u0432\\u0438\\u0434\\u0435\\u0442\\u044c\", \"\\u0441\\u043b\\u043e\\u0436\\u043d\\u043e\", \"\\u0440\\u0430\\u0431\\u043e\\u0442\\u0430\", \"\\u043c\\u043e\\u0447\\u044c\", \"\\u0445\\u043e\\u0442\\u044f\", \"\\u0441\\u043a\\u043e\\u0440\\u043e\", \"\\u043a\\u043e\\u043d\\u0435\\u0446\", \"\\u0443\\u0440\\u043e\\u043a\", \"\\u043e\\u0446\\u0435\\u043d\\u043a\\u0430\", \"\\u0447\\u0435\\u0442\\u0432\\u0435\\u0440\\u0442\\u044c\", \"\\u0432\\u0435\\u0441\\u044c\", \"\\u0434\\u0430\\u0432\\u043d\\u043e\", \"\\u0436\\u0438\\u0437\\u043d\\u044c\", \"\\u0448\\u043e\\u043a\", \"\\u0430\\u0445\\u0438\", \"\\u0441\\u043e\\u0431\\u0440\\u0430\\u0442\\u044c\\u0441\\u044f\", \"\\u0445\\u0432\\u0430\\u0442\\u0438\\u0442\\u044c\", \"\\u043b\\u0438\\u0448\\u044c\", \"\\u0441\\u0435\\u0433\\u043e\\u0434\\u043d\\u044f\", \"\\u043c\\u0438\\u043d\\u0443\\u0442\\u0430\", \"\\u043d\\u0430\\u0434\\u0435\\u044f\\u0442\\u044c\\u0441\\u044f\", \"\\u043a\\u043e\\u043c\\u043f\", \"\\u0441\\u043b\\u0443\\u0448\\u0430\\u0442\\u044c\", \"\\u0441\\u043f\\u0430\\u0441\\u0438\\u0431\\u043e\", \"\\u043f\\u0430\\u0440\\u0430\", \"\\u0443\\u0447\\u0451\\u0431\\u0430\", \"\\u0432\\u044b\\u0439\\u0442\\u0438\", \"\\u0437\\u0430\\u0432\\u0442\\u0440\\u0430\", \"\\u0441\\u0434\\u0435\\u043b\\u0430\\u0442\\u044c\", \"\\u0430\\u0430\\u0430\\u0430\", \"\\u043c\\u043e\\u0441\\u043a\\u0432\\u0430\", \"\\u043f\\u043e\\u0435\\u0437\\u0434\", \"\\u0433\\u043e\\u0432\\u043d\\u043e\", \"\\u0443\\u0441\\u043f\\u0435\\u0442\\u044c\", \"\\u0443\\u0431\\u0438\\u0442\\u044c\", \"\\u043c\\u043e\\u0447\\u044c\", \"\\u0447\\u0443\\u0432\\u0430\\u043a\", \"\\u0434\\u043e\\u043c\", \"\\u043d\\u0438\\u043a\\u0442\\u043e\", \"\\u0442\\u0435\\u043b\\u0435\\u0444\\u043e\\u043d\", \"\\u043c\\u043e\\u0447\\u044c\", \"\\u0437\\u0432\\u043e\\u043d\\u0438\\u0442\\u044c\", \"\\u0441\\u043b\\u043e\\u043c\\u0430\\u0442\\u044c\\u0441\\u044f\", \"\\u043d\\u0430\\u0432\\u0435\\u0440\\u043d\\u043e\\u0435\", \"\\u043a\\u0443\\u043f\\u0438\\u0442\\u044c\", \"\\u0437\\u0430\\u0445\\u043e\\u0442\\u0435\\u0442\\u044c\", \"\\u043c\\u043e\\u043c\\u0435\\u043d\\u0442\", \"\\u043e\\u0441\\u0442\\u0430\\u0442\\u044c\\u0441\\u044f\", \"\\u043f\\u043e\\u0433\\u043e\\u0434\\u0430\", \"\\u0432\\u044b\\u0445\\u043e\\u0434\\u0438\\u0442\\u044c\", \"\\u0441\\u0442\\u0440\\u0430\\u043d\\u0430\", \"\\u0447\\u0443\\u0432\\u0430\\u043a\", \"\\u043d\\u0438\\u0431\\u044b\\u0442\\u044c\", \"\\u043d\\u043e\\u0432\\u044b\\u0439\", \"\\u0441\\u043a\\u0438\\u043d\\u0443\\u0442\\u044c\", \"\\u0432\\u044b\\u0445\\u043e\\u0434\\u043d\\u043e\\u0439\", \"\\u0438\\u043d\\u0442\\u0435\\u0440\\u0435\\u0441\\u043d\\u044b\\u0439\", \"\\u0443\\u043b\\u0438\\u0446\\u0430\", \"\\u0441\\u043e\\u0441\\u0442\\u043e\\u044f\\u043d\\u0438\\u0435\", \"\\u0432\\u044b\\u0439\\u0442\\u0438\", \"\\u043f\\u043f\\u0446\", \"\\u043f\\u0438\\u0442\\u044c\", \"\\u0443\\u0437\\u043d\\u0430\\u0442\\u044c\", \"\\u043e\\u0441\\u0442\\u0430\\u0432\\u0430\\u0442\\u044c\\u0441\\u044f\", \"\\u0441\\u043e\\u0439\\u0442\\u0438\", \"\\u043f\\u0443\\u0441\\u0442\\u044c\", \"\\u0447\\u0443\\u0432\\u0441\\u0442\\u0432\\u043e\\u0432\\u0430\\u0442\\u044c\", \"\\u0441\\u0435\\u0433\\u043e\\u0434\\u043d\\u044f\", \"\\u043e\\u043d\\u043e\", \"\\u0441\\u043c\\u043e\\u0442\\u0440\\u0435\\u0442\\u044c\", \"\\u0432\\u0435\\u0441\\u044c\", \"\\u0436\\u0434\\u0430\\u0442\\u044c\", \"\\u0440\\u0430\\u043d\\u043d\\u0438\\u0439\", \"\\u043f\\u0440\\u0438\\u0435\\u0445\\u0430\\u0442\\u044c\", \"\\u0431\\u0438\\u043b\\u0435\\u0442\", \"\\u043c\\u0435\\u043d\\u044f\\u0442\\u044c\", \"\\u043f\\u043e\\u043a\\u0443\\u043f\\u0430\\u0442\\u044c\", \"\\u043d\\u0430\\u0434\\u0435\\u044f\\u0442\\u044c\\u0441\\u044f\", \"\\u0440\\u0430\\u0431\\u043e\\u0442\\u0430\", \"\\u043b\\u0435\\u0447\\u044c\", \"\\u0443\\u0442\\u0440\\u043e\", \"\\u0441\\u043f\\u0430\\u0442\\u044c\", \"\\u043a\\u0438\\u0434\\u0430\\u0442\\u044c\", \"\\u043e\\u0431\\u044b\\u0447\\u043d\\u043e\", \"\\u0431\\u0440\\u0430\\u0442\\u044c\", \"\\u0441\\u0435\\u0437\\u043e\\u043d\", \"\\u0434\\u0430\\u0432\\u0430\\u0442\\u044c\", \"\\u0431\\u043e\\u043b\\u044c\\u0448\\u043e\\u0439\", \"\\u043f\\u043e\\u043b\\u0443\\u0447\\u0438\\u0442\\u044c\", \"\\u043f\\u0440\\u043e\\u0441\\u043d\\u0443\\u0442\\u044c\\u0441\\u044f\", \"\\u0441\\u0435\\u0440\\u0438\\u044f\", \"\\u0433\\u043b\\u0430\\u0437\", \"\\u0432\\u0430\\u0448\", \"\\u0441\\u0438\\u043b\\u044c\\u043d\\u043e\", \"\\u043e\\u0442\\u0432\\u0435\\u0442\\u0438\\u0442\\u044c\", \"\\u043f\\u0440\\u0430\\u0432\\u0438\\u043b\\u044c\\u043d\\u043e\", \"\\u0441\\u043a\\u043e\\u0440\\u0435\\u0435\", \"\\u0432\\u043e\\u043f\\u0440\\u043e\\u0441\", \"\\u0432\\u0435\\u0447\\u043d\\u043e\", \"\\u0437\\u0430\\u043d\\u044f\\u0442\\u044b\\u0439\", \"\\u043a\\u0430\\u043d\\u0438\\u043a\\u0443\\u043b\\u044b\", \"\\u0432\\u0435\\u0441\\u044c\", \"\\u043d\\u043e\\u0432\\u044b\\u0439\", \"\\u0447\\u0435\\u043b\\u043e\\u0432\\u0435\\u043a\", \"\\u0441\\u0442\\u0430\\u0442\\u044c\", \"\\u0443\\u0432\\u0438\\u0434\\u0435\\u0442\\u044c\", \"\\u0445\\u043e\\u0434\\u0438\\u0442\\u044c\", \"\\u0437\\u0430\\u043b\", \"\\u0442\\u0430\\u043d\\u0446\\u0435\\u0432\\u0430\\u0442\\u044c\", \"\\u043d\\u0430\\u0441\\u0442\\u0440\\u043e\\u0435\\u043d\\u0438\\u0435\", \"\\u0441\\u043c\\u043e\\u0442\\u0440\\u0435\\u0442\\u044c\", \"\\u0431\\u043e\\u043b\\u044c\\u0448\\u043e\\u0439\", \"\\u043e\\u0442\\u043d\\u043e\\u0448\\u0435\\u043d\\u0438\\u0435\", \"\\u0434\\u043e\\u043b\\u0436\\u043d\\u044b\\u0439\", \"\\u043f\\u0430\\u0440\\u0435\\u043d\\u044c\", \"\\u043c\\u0430\\u043b\\u0435\\u043d\\u044c\\u043a\\u0438\\u0439\", \"\\u043a\\u0443\\u043f\\u0438\\u0442\\u044c\", \"\\u0432\\u0447\\u0435\\u0440\\u0430\", \"\\u0436\\u0435\\u0441\\u0442\\u044c\", \"\\u0446\\u0432\\u0435\\u0442\", \"\\u0434\\u0430\\u0442\\u044c\", \"\\u043d\\u043e\\u0440\\u043c\\u0430\\u043b\\u044c\\u043d\\u044b\\u0439\", \"\\u0444\\u043e\\u0442\\u043a\\u0430\", \"\\u043f\\u0440\\u0438\\u0432\\u0435\\u0442\", \"\\u0441\\u0435\\u0433\\u043e\\u0434\\u043d\\u044f\", \"\\u0441\\u0438\\u043b\\u0430\", \"\\u043f\\u043f\\u0446\", \"\\u0433\\u043b\\u0430\\u0437\", \"\\u043b\\u0438\\u0448\\u044c\", \"\\u0447\\u0443\\u0432\\u0441\\u0442\\u0432\\u043e\", \"\\u0433\\u0440\\u0443\\u0441\\u0442\\u043d\\u044b\\u0439\", \"\\u0440\\u043e\\u0434\\u043d\\u044b\\u0439\", \"\\u0437\\u0432\\u0435\\u0437\\u0434\\u0430\", \"\\u043d\\u0430\\u0441\\u0442\\u043e\\u043b\\u044c\\u043a\\u043e\", \"\\u0432\\u043e\\u043f\\u0440\\u043e\\u0441\", \"\\u0443\\u0442\\u0440\\u043e\", \"\\u0436\\u0438\\u0437\\u043d\\u044c\", \"\\u0447\\u0435\\u043b\\u043e\\u0432\\u0435\\u043a\", \"\\u043f\\u043e\\u043a\\u0430\\u0437\\u044b\\u0432\\u0430\\u0442\\u044c\", \"\\u043f\\u043e\\u043b\\u043e\\u0432\\u0438\\u043d\\u0430\", \"\\u043f\\u044f\\u0442\\u043d\\u0438\\u0446\\u0430\", \"\\u0447\\u0435\\u043b\\u043e\\u0432\\u0435\\u043a\", \"\\u043f\\u043e\\u0441\\u0442\\u043e\\u044f\\u043d\\u043d\\u043e\", \"\\u0442\\u0435\\u043b\\u0435\\u0444\\u043e\\u043d\", \"\\u0433\\u043b\\u0430\\u0432\\u043d\\u044b\\u0439\", \"\\u043d\\u0435\\u043a\\u043e\\u0442\\u043e\\u0440\\u044b\\u0439\", \"\\u043f\\u0440\\u043e\\u0431\\u043b\\u0435\\u043c\\u0430\", \"\\u0440\\u0430\\u0434\\u0430\", \"\\u0433\\u043e\\u0440\\u043e\\u0434\", \"\\u0444\\u0438\\u043b\\u044c\\u043c\", \"\\u043f\\u0440\\u043e\\u0433\\u0440\\u0430\\u043c\\u043c\\u0430\", \"\\u0437\\u0431\\u0441\", \"\\u043f\\u0440\\u0438\\u0447\\u0451\\u043c\", \"\\u043c\\u0438\\u043d\\u044c\", \"\\u0440\\u0430\\u0434\\u043e\\u0441\\u0442\\u044c\", \"\\u0434\\u0430\\u0448\\u0430\", \"\\u043f\\u0440\\u0435\\u0434\\u043d\\u043e\\u0432\\u043e\\u0433\\u043e\\u0434\\u043d\\u0438\\u0435\\u043e\\u0431\\u043d\\u0438\\u043c\\u0430\\u0448\\u043a\\u0430\", \"\\u0441\\u0442\\u0440\\u0430\\u0434\\u0430\\u0442\\u044c\", \"\\u0434\\u043e\\u0436\\u0434\\u0430\\u0442\\u044c\\u0441\\u044f\", \"\\u0441\\u043c\\u0435\\u0445\", \"\\u044f\\u0432\\u043d\\u043e\", \"\\u043f\\u0440\\u0438\\u043a\\u043e\\u043b\\u044c\\u043d\\u043e\", \"\\u0431\\u0435\\u043b\\u044b\\u0439\", \"\\u043e\\u0433\\u043e\", \"\\u0441\\u043e\\u0437\\u0434\\u0430\\u0442\\u044c\", \"\\u043c\\u0430\\u0439\\u0434\\u0430\\u043d\", \"\\u0438\\u0434\\u0435\\u0430\\u043b\\u044c\\u043d\\u044b\\u0439\", \"\\u043a\\u0440\\u0430\\u0441\\u043e\\u0442\\u0430\", \"\\u043f\\u043e\\u043c\\u043d\\u0438\\u0442\\u044c\", \"\\u0442\\u043e\\u0447\\u043d\\u043e\", \"\\u0437\\u043d\\u0430\\u0447\\u0438\\u0442\", \"\\u0443\\u0436\\u0430\\u0441\", \"\\u0437\\u0432\\u0435\\u0437\\u0434\\u0430\", \"\\u0441\\u043a\\u0430\\u0437\\u0430\\u0442\\u044c\", \"\\u0445\\u043e\\u0434\\u0438\\u0442\\u044c\", \"\\u043c\\u0443\\u0436\\u0438\\u043a\", \"\\u0432\\u0441\\u044f\\u043a\\u0438\\u0439\", \"\\u0440\\u0430\\u0441\\u0441\\u043a\\u0430\\u0437\\u044b\\u0432\\u0430\\u0442\\u044c\", \"\\u043e\\u0431\\u043e\\u0436\\u0430\\u0442\\u044c\", \"\\u043f\\u043e\\u0447\\u0435\\u043c\\u0443\", \"\\u0434\\u0435\\u0432\\u043e\\u0447\\u043a\\u0430\", \"\\u0435\\u0449\\u0451\", \"\\u043f\\u0440\\u0430\\u0437\\u0434\\u043d\\u0438\\u043a\", \"\\u043c\\u0438\\u043d\\u044c\", \"\\u0440\\u0430\\u0434\\u043e\\u0441\\u0442\\u044c\", \"\\u0434\\u0430\\u0448\\u0430\", \"\\u043f\\u0440\\u0435\\u0434\\u043d\\u043e\\u0432\\u043e\\u0433\\u043e\\u0434\\u043d\\u0438\\u0435\\u043e\\u0431\\u043d\\u0438\\u043c\\u0430\\u0448\\u043a\\u0430\", \"\\u0441\\u0442\\u0440\\u0430\\u0434\\u0430\\u0442\\u044c\", \"\\u0434\\u043e\\u0436\\u0434\\u0430\\u0442\\u044c\\u0441\\u044f\", \"\\u0441\\u043c\\u0435\\u0445\", \"\\u044f\\u0432\\u043d\\u043e\", \"\\u043f\\u0440\\u0438\\u043a\\u043e\\u043b\\u044c\\u043d\\u043e\", \"\\u0431\\u0435\\u043b\\u044b\\u0439\", \"\\u043e\\u0433\\u043e\", \"\\u0441\\u043e\\u0437\\u0434\\u0430\\u0442\\u044c\", \"\\u043c\\u0430\\u0439\\u0434\\u0430\\u043d\", \"\\u0438\\u0434\\u0435\\u0430\\u043b\\u044c\\u043d\\u044b\\u0439\", \"\\u043a\\u0440\\u0430\\u0441\\u043e\\u0442\\u0430\", \"\\u0437\\u0430\\u0433\\u0430\\u0434\\u0430\\u0442\\u044c\", \"\\u0440\\u0430\\u0434\\u043e\\u0432\\u0430\\u0442\\u044c\\u0441\\u044f\", \"\\u043d\\u0430\\u0443\\u0447\\u0438\\u0442\\u044c\", \"\\u0434\\u043e\\u0436\\u0434\\u044c\", \"\\u043f\\u043e\\u043a\\u0430\\u0437\\u0430\\u0442\\u044c\", \"\\u043a\\u0440\\u0430\\u0441\\u043d\\u044b\\u0439\", \"\\u0432\\u0438\\u0434\\u0438\\u043c\\u043e\", \"\\u0437\\u043b\\u043e\\u0439\", \"\\u043f\\u043e\\u0437\\u0434\\u0440\\u0430\\u0432\\u0438\\u0442\\u044c\", \"\\u0436\\u0435\\u043d\\u0430\", \"\\u043e\\u0433\\u0440\\u043e\\u043c\\u043d\\u044b\\u0439\", \"\\u043f\\u0440\\u0438\\u0447\\u0451\\u043c\", \"\\u0437\\u0430\\u043d\\u0438\\u043c\\u0430\\u0442\\u044c\\u0441\\u044f\", \"\\u043f\\u0435\\u0440\\u0435\\u0441\\u0442\\u0430\\u0442\\u044c\", \"\\u043f\\u043e\\u044f\\u0432\\u0438\\u0442\\u044c\\u0441\\u044f\", \"\\u043f\\u043e\\u0447\\u0435\\u043c\\u0443\", \"\\u0434\\u0435\\u0432\\u043e\\u0447\\u043a\\u0430\", \"\\u0435\\u0449\\u0451\", \"\\u043f\\u0440\\u0430\\u0437\\u0434\\u043d\\u0438\\u043a\", \"\\u0441\\u043d\\u0430\\u0447\\u0430\\u043b\\u0430\", \"\\u0432\\u0438\\u0434\\u0435\\u0442\\u044c\", \"\\u043a\\u043e\\u0442\\u043e\\u0440\\u044b\\u0439\", \"\\u043f\\u043e\\u0434\\u0440\\u0443\\u0433\\u0430\", \"\\u043f\\u043e\\u0441\\u043c\\u043e\\u0442\\u0440\\u0435\\u0442\\u044c\", \"\\u0432\\u0440\\u0435\\u043c\\u044f\", \"\\u043e\\u0447\\u0435\\u043d\\u044c\", \"\\u043f\\u043e\\u043a\\u0430\", \"\\u0433\\u043e\\u0442\\u043e\\u0432\\u044b\\u0439\", \"\\u0440\\u0430\\u0431\\u043e\\u0442\\u0430\\u0442\\u044c\", \"\\u0431\\u0440\\u0430\\u0442\\u044c\", \"\\u0432\\u0441\\u0451\", \"\\u043f\\u0440\\u0438\\u043d\\u0438\\u043c\\u0430\\u0442\\u044c\", \"\\u0441\\u0435\\u0440\\u0434\\u0446\\u0435\", \"\\u0441\\u043b\\u0438\\u0448\\u043a\\u043e\\u043c\", \"\\u0434\\u043e\\u043c\", \"\\u043d\\u0438\\u043a\\u0442\\u043e\", \"\\u0443\\u0441\\u0442\\u0440\\u043e\\u0438\\u0442\\u044c\", \"\\u0437\\u043d\\u0430\\u0442\\u044c\", \"\\u0441\\u0430\\u043c\\u044b\\u0439\", \"\\u0448\\u0442\\u0443\\u043a\\u0430\", \"\\u0441\\u043d\\u043e\\u0432\\u0430\", \"\\u0441\\u0442\\u0430\\u0442\\u044c\", \"\\u0443\\u0432\\u0438\\u0434\\u0435\\u0442\\u044c\", \"\\u0445\\u0440\\u0435\\u043d\\u043e\\u0432\\u044b\\u0439\", \"\\u0431\\u043b\\u0438\\u043d\", \"\\u043c\\u0438\\u043d\\u044c\", \"\\u0440\\u0430\\u0434\\u043e\\u0441\\u0442\\u044c\", \"\\u0434\\u0430\\u0448\\u0430\", \"\\u043f\\u0440\\u0435\\u0434\\u043d\\u043e\\u0432\\u043e\\u0433\\u043e\\u0434\\u043d\\u0438\\u0435\\u043e\\u0431\\u043d\\u0438\\u043c\\u0430\\u0448\\u043a\\u0430\", \"\\u0441\\u0442\\u0440\\u0430\\u0434\\u0430\\u0442\\u044c\", \"\\u0434\\u043e\\u0436\\u0434\\u0430\\u0442\\u044c\\u0441\\u044f\", \"\\u0441\\u043c\\u0435\\u0445\", \"\\u044f\\u0432\\u043d\\u043e\", \"\\u043f\\u0440\\u0438\\u043a\\u043e\\u043b\\u044c\\u043d\\u043e\", \"\\u0431\\u0435\\u043b\\u044b\\u0439\", \"\\u043e\\u0433\\u043e\", \"\\u0441\\u043e\\u0437\\u0434\\u0430\\u0442\\u044c\", \"\\u043c\\u0430\\u0439\\u0434\\u0430\\u043d\", \"\\u0438\\u0434\\u0435\\u0430\\u043b\\u044c\\u043d\\u044b\\u0439\", \"\\u043a\\u0440\\u0430\\u0441\\u043e\\u0442\\u0430\", \"\\u0437\\u0430\\u0433\\u0430\\u0434\\u0430\\u0442\\u044c\", \"\\u0440\\u0430\\u0434\\u043e\\u0432\\u0430\\u0442\\u044c\\u0441\\u044f\", \"\\u043d\\u0430\\u0443\\u0447\\u0438\\u0442\\u044c\", \"\\u0434\\u043e\\u0436\\u0434\\u044c\", \"\\u043f\\u043e\\u043a\\u0430\\u0437\\u0430\\u0442\\u044c\", \"\\u043a\\u0440\\u0430\\u0441\\u043d\\u044b\\u0439\", \"\\u0432\\u0438\\u0434\\u0438\\u043c\\u043e\", \"\\u0437\\u043b\\u043e\\u0439\", \"\\u043f\\u043e\\u0437\\u0434\\u0440\\u0430\\u0432\\u0438\\u0442\\u044c\", \"\\u0436\\u0435\\u043d\\u0430\", \"\\u043e\\u0433\\u0440\\u043e\\u043c\\u043d\\u044b\\u0439\", \"\\u043f\\u0440\\u0438\\u0447\\u0451\\u043c\", \"\\u0437\\u0430\\u043d\\u0438\\u043c\\u0430\\u0442\\u044c\\u0441\\u044f\", \"\\u043f\\u0435\\u0440\\u0435\\u0441\\u0442\\u0430\\u0442\\u044c\", \"\\u043f\\u043e\\u044f\\u0432\\u0438\\u0442\\u044c\\u0441\\u044f\", \"\\u043f\\u043e\\u0447\\u0435\\u043c\\u0443\", \"\\u0434\\u0435\\u0432\\u043e\\u0447\\u043a\\u0430\", \"\\u0435\\u0449\\u0451\", \"\\u043f\\u0440\\u0430\\u0437\\u0434\\u043d\\u0438\\u043a\", \"\\u0441\\u043d\\u0430\\u0447\\u0430\\u043b\\u0430\", \"\\u0432\\u0438\\u0434\\u0435\\u0442\\u044c\", \"\\u043a\\u043e\\u0442\\u043e\\u0440\\u044b\\u0439\", \"\\u043f\\u043e\\u0434\\u0440\\u0443\\u0433\\u0430\", \"\\u043f\\u043e\\u0441\\u043c\\u043e\\u0442\\u0440\\u0435\\u0442\\u044c\", \"\\u0432\\u0440\\u0435\\u043c\\u044f\", \"\\u043e\\u0447\\u0435\\u043d\\u044c\", \"\\u043f\\u043e\\u043a\\u0430\", \"\\u0433\\u043e\\u0442\\u043e\\u0432\\u044b\\u0439\", \"\\u0440\\u0430\\u0431\\u043e\\u0442\\u0430\\u0442\\u044c\", \"\\u0431\\u0440\\u0430\\u0442\\u044c\", \"\\u0432\\u0441\\u0451\", \"\\u043f\\u0440\\u0438\\u043d\\u0438\\u043c\\u0430\\u0442\\u044c\", \"\\u0441\\u0435\\u0440\\u0434\\u0446\\u0435\", \"\\u0441\\u043b\\u0438\\u0448\\u043a\\u043e\\u043c\", \"\\u0434\\u043e\\u043c\", \"\\u043d\\u0438\\u043a\\u0442\\u043e\", \"\\u0443\\u0441\\u0442\\u0440\\u043e\\u0438\\u0442\\u044c\", \"\\u0437\\u043d\\u0430\\u0442\\u044c\", \"\\u0441\\u0430\\u043c\\u044b\\u0439\", \"\\u0448\\u0442\\u0443\\u043a\\u0430\", \"\\u0441\\u043d\\u043e\\u0432\\u0430\", \"\\u0441\\u0442\\u0430\\u0442\\u044c\", \"\\u0443\\u0432\\u0438\\u0434\\u0435\\u0442\\u044c\", \"\\u0445\\u0440\\u0435\\u043d\\u043e\\u0432\\u044b\\u0439\", \"\\u0431\\u043b\\u0438\\u043d\"], \"Freq\": [1740.0, 1634.0, 1063.0, 903.0, 982.0, 728.0, 813.0, 766.0, 634.0, 646.0, 564.0, 586.0, 647.0, 569.0, 453.0, 608.0, 416.0, 407.0, 408.0, 382.0, 361.0, 312.0, 292.0, 293.0, 355.0, 310.0, 272.0, 245.0, 296.0, 218.0, 1735.2309203650598, 603.5521472133686, 0.11256459860012225, 0.11196868555956181, 0.11186626618475874, 0.11188263134656437, 0.11184719413673011, 0.11183688850780926, 0.11181872760122172, 0.11181489726875585, 0.11180121245507298, 0.11179811634338002, 0.11178193694827596, 0.11177133055421921, 0.11176788944722334, 0.1117935075599742, 0.11177211785119258, 0.11177072017791403, 0.11194015710181955, 0.11177534665338666, 0.11175705305629798, 0.11175698228803072, 0.11179286179953539, 0.11179739096864053, 0.11177896468105071, 0.1117569734419973, 0.1117488085531613, 0.11177464781674738, 0.11174419092372209, 0.11173926368311357, 0.11175685844356299, 0.11182829900936966, 0.11187249379227829, 0.1117599103250889, 1629.0334746240123, 319.4276480131986, 255.89614677271186, 68.11878004482776, 53.912846568280564, 0.09190159454448363, 0.09194031845208114, 0.09173439395767348, 0.09181311771295185, 0.09173345011158444, 0.09173923553853762, 0.09171648709992865, 0.09173169350914095, 0.09170870910900972, 0.09182381463529429, 0.0917094169935765, 0.09170037180188988, 0.09169850158834307, 0.09170185748554854, 0.09168375836285966, 0.09171771060411815, 0.09168374962354402, 0.09169216558450462, 0.09168350492270612, 0.09168086564938306, 0.09168674720880829, 0.09169333665280027, 0.0917015341308699, 0.09169668381069011, 0.0916821415894664, 0.09169338908869411, 0.09184555805260475, 0.09170082624630312, 0.09169735673799433, 0.09169780244309193, 0.09169599340475461, 977.821736503611, 287.0064024272336, 266.6490942686134, 230.33749469324832, 190.9856212093229, 168.9557292991115, 27.51829109772019, 24.257692435910343, 0.11317307086985616, 0.11311742765956136, 0.11296560224578468, 0.11271415660530891, 0.1128880117505877, 0.11271674542854682, 0.11268391519245348, 0.11269848350666165, 0.11265885967073383, 0.11268811172439007, 0.11263854482851032, 0.11264950198164143, 0.11262224513570357, 0.11257302451554355, 0.11258876357147077, 0.11256474687691027, 0.11254283257064807, 0.11254942005398272, 0.11253127355733746, 0.11253296371263609, 0.11253378817863542, 0.11251260764711261, 0.11253170227965711, 0.11256160566145282, 808.465436584923, 350.2138585318194, 188.41575753964221, 158.313576553714, 115.48898200039814, 92.2087661856883, 55.46115943427663, 0.12010364500076369, 0.11999736137896228, 0.11997413986149122, 0.1199779308523481, 0.11994392063688288, 0.11994491254488486, 0.11994542888055713, 0.11995860902798072, 0.11993223514535269, 0.11991190782520247, 0.11992625652177909, 0.11990938049796454, 0.11991163606958549, 0.11990938049796454, 0.11990376874447388, 0.11997707482215461, 0.11992436782024107, 0.11989596935826652, 0.11990323882102076, 0.11988246310410254, 0.1199166499607188, 0.11991754675425484, 0.11990068431822114, 0.12005986517086799, 0.12001187312890908, 0.11990944843686879, 642.3783806439195, 402.9089223949459, 210.66220738150662, 129.20539415358442, 87.87744549147668, 78.31944451583279, 61.11134246999188, 46.729648152149814, 39.73029969240552, 0.12068329541613004, 0.12068528405389128, 0.12065842436097149, 0.1206129735216128, 0.12059770549353808, 0.12056943282115637, 0.12055931955148905, 0.12055420404251115, 0.12056168760040209, 0.1205478325517893, 0.12054152647678329, 0.1205758435613077, 0.12053507648720245, 0.12053107304539366, 0.12057821161022075, 0.12067892564631261, 0.12053404291889235, 0.12052183634631847, 0.12053269535514624, 0.12053103379596417, 0.12055259481590172, 0.12056917115829305, 0.12056075869723731, 0.12054435243570714, 0.12056540321306124, 0.12054184047221927, 1058.7717873031754, 377.32689106365467, 218.63756461936165, 0.12419070054593719, 0.12398525309678712, 0.12405826641194533, 0.12397153273125915, 0.12394517888843233, 0.1239286709742696, 0.12394187986298386, 0.12391768700969501, 0.12394517888843233, 0.12390258565677, 0.12390259844369034, 0.12391879947176485, 0.12390989977520615, 0.12389157611835472, 0.12387298393617607, 0.12390582074761676, 0.12385551700298762, 0.12385812553473757, 0.12387545181180226, 0.12383056972139854, 0.12384147696445107, 0.12384302418181256, 0.1238390474495859, 0.12383204021723797, 0.12382317888144032, 0.12382197691092807, 0.1238260942992785, 0.12383204021723797, 0.12384261500036159, 761.7673130778085, 291.8490449859485, 235.1122475212512, 142.3562636112687, 116.94970027754061, 64.93790905601384, 0.13734279459580204, 0.1369044787640215, 0.13676379378452547, 0.13667088695095786, 0.13660876908291367, 0.13671198494612838, 0.13661744574489437, 0.13659839726989478, 0.1365813578627923, 0.13658586570888648, 0.1365489867562999, 0.13654869795278968, 0.1365548883932477, 0.13654426544674167, 0.13658022776210016, 0.1365381503463298, 0.1365355511147379, 0.1365296745911388, 0.1365296745911388, 0.13652961180776702, 0.13652959925109265, 0.1365379745528888, 0.13652980015788238, 0.1365315204222693, 0.13654194246198562, 0.13654842170595383, 0.13668035468342304, 0.13654307256267775, 0.13653708302900944, 0.13653655564868644, 0.13660103417150976, 0.13653930556037064, 0.13653974504397312, 564.5521197061845, 356.14591496153554, 211.08816183610404, 84.42990189563179, 70.2042180225235, 55.9157008015028, 48.47507755148991, 47.99474521513, 20.32312669256189, 0.1334831038884978, 0.1334390196191497, 0.1334127882232507, 0.13341265124468205, 0.13359177355297058, 0.13337256218358662, 0.13336024552728767, 0.133361626727855, 0.13334407064130469, 0.13337758473110428, 0.13332819254222048, 0.13331062504078942, 0.13332466534407741, 0.13331412940917106, 0.13346152976393336, 0.13330405006949358, 0.1332858775793843, 0.1332748964641298, 0.13327200849930715, 0.13329843394817842, 0.13327545579328515, 0.1332858319198614, 0.1333022921778624, 0.13350554554399713, 0.13331208614552184, 0.13328825187457444, 0.13328954175609603, 0.13329282924174393, 641.3588024631346, 305.8020175367769, 240.3666472492384, 59.486339419636394, 0.17043401159652327, 0.17011513112385532, 0.17008288977438707, 0.1699935547891667, 0.1698229199202215, 0.1697585179760739, 0.16975857854216558, 0.16972397511512205, 0.16971886737472414, 0.16968182111531635, 0.17010968017560457, 0.16966280336253048, 0.1696894524428674, 0.16954819212838446, 0.1695499889224375, 0.16955013024331805, 0.16956395950091716, 0.1694936624571799, 0.16969187508653438, 0.16947032432318787, 0.1694701830023073, 0.1694676997925486, 0.1694676997925486, 0.1694555461968192, 0.1694676997925486, 0.16944551241429842, 0.16944577486736234, 0.1694676997925486, 0.16946206714602285, 411.47125185664004, 402.86095864151815, 135.3720955617525, 116.39592630016996, 74.84497151021716, 73.6573317403413, 39.10810141929863, 0.1536252326572946, 0.15357801584141245, 0.15357877902261344, 0.1535979388875014, 0.15355350366625967, 0.15342948672109916, 0.15340639044791138, 0.15361966946801373, 0.15343281057606661, 0.15337362386555844, 0.15337332260982123, 0.15329433335551898, 0.15329733587103342, 0.15334708323510832, 0.15328139944253383, 0.1533187451120927, 0.15327248227271176, 0.15326199857305609, 0.1532562947977645, 0.15336352175650328, 0.15322229306688892, 0.15320243027194744, 0.15321919013279542, 0.15322639014491526, 0.15322594830316733, 898.9047811736408, 119.90493015052887, 0.18674680285402226, 0.18579860751702448, 0.18574405194260926, 0.18572608290292855, 0.1857440178133791, 0.1855615629489288, 0.18549722935007196, 0.18549722935007196, 0.18551582978051068, 0.18549734880237753, 0.1854972805439172, 0.18549722935007196, 0.18551613694358213, 0.1855031507715052, 0.18545106956627677, 0.18545106956627677, 0.18546758811367556, 0.18547248565820393, 0.18545106956627677, 0.1854524176708682, 0.18542830536975818, 0.18542830536975818, 0.18545106956627677, 0.18543695712960445, 0.18542038738836042, 0.18542035325913026, 0.1854510525016617, 0.18542629174517858, 0.18543695712960445, 0.1854510525016617, 0.18542830536975818, 0.1854400458249342, 0.18543320291428655, 723.9657762317976, 177.7189390693615, 80.93379529048751, 0.2158422844654461, 0.2155165207586997, 0.2155165207586997, 0.2155165207586997, 0.2155165207586997, 0.2154055958767572, 0.215415765961882, 0.21535097812724152, 0.2153066825073126, 0.21529828627424447, 0.2152976949902256, 0.2152976949902256, 0.2152708675895974, 0.21523741780795774, 0.21524125270716593, 0.21523741780795774, 0.21523741780795774, 0.21524824675241785, 0.21519129765448486, 0.21518469216730246, 0.21518965895306108, 0.21518469216730246, 0.21518965895306108, 0.21518467527347335, 0.21521895285273948, 0.21529146116728365, 0.21518467527347335, 0.21522922430083893, 0.21518486110559357, 581.8305340998562, 179.1901430157725, 170.1291346488343, 38.95612132246667, 0.20960573960680684, 0.20886453065157448, 0.2081068529712931, 0.2081068529712931, 0.20808905478307166, 0.2083222093869439, 0.20800027987972985, 0.20779702157894855, 0.2078190906676116, 0.20778831359516886, 0.2077874328258171, 0.20779027455334825, 0.20772052759166246, 0.20769561677546827, 0.20769958854669604, 0.20769742816904077, 0.20767989587345378, 0.20767527598892946, 0.2076598542161288, 0.20767153687375686, 0.20765845827979768, 0.20767153687375686, 0.20766450733723243, 0.20761225943455427, 0.20758646784900833, 0.20758223018514607, 0.20765987083441842, 0.20780950191448014, 307.54734041354845, 288.9129629625894, 187.902315663791, 142.41546857547425, 52.787335338041856, 15.064594159131541, 0.14847433295436765, 0.14811394901318892, 0.14794223857629185, 0.1479004970819326, 0.14790184567828596, 0.14789906724483504, 0.14788007315884596, 0.14789817359664906, 0.14798328140025116, 0.14788356651084567, 0.14787277774001867, 0.1478147068560794, 0.1478171115821071, 0.14784994909090432, 0.14777858722121734, 0.1477431012641599, 0.1477430037752669, 0.14778217806211008, 0.1477754350803432, 0.14772028886319438, 0.14772028886319438, 0.14772028886319438, 0.14770493436254453, 0.1476881500247971, 0.14770493436254453, 0.1478505827687089, 0.14770493436254453, 629.691767183862, 267.6526212383049, 0.23513561236618186, 0.2341099707528348, 0.2338585872265158, 0.2338272912471029, 0.23377036493972245, 0.2338257518404076, 0.23341233385678328, 0.23341233385678328, 0.2334144287195026, 0.2331840255607211, 0.2331828511679845, 0.23308580506549456, 0.2330610952075098, 0.23297601521479538, 0.23306423750158878, 0.23292066005445444, 0.23289003062227037, 0.2328870787702568, 0.23276660829372348, 0.23273810546460297, 0.23273739130685775, 0.23273810546460297, 0.23269644626279823, 0.23269544644195492, 0.23267511675147418, 0.23267511675147418, 0.2326917963023682, 0.23269644626279823, 0.23283002550149942, 0.2326918121725403, 0.2327001757532455, 0.23271264970852876, 448.3056294681195, 287.2555617347122, 157.51508401274856, 0.200028683928643, 0.20002543489895444, 0.20002543489895444, 0.19971871725740753, 0.1997022873300251, 0.1996258196455067, 0.19963065469442712, 0.19962726708053385, 0.1995160301588744, 0.19951639971675364, 0.1995160301588744, 0.19948149189540787, 0.19953920451755344, 0.19952810238293045, 0.1995013402331735, 0.19940025075494894, 0.19933534715240261, 0.19931197261653893, 0.19932855652637108, 0.19930504340630267, 0.1992747704566927, 0.1992673177061275, 0.1992355819232454, 0.1992673177061275, 0.19918824771820925, 0.1991853990428899, 0.19917907036420743, 0.19943729893234546, 0.19926312938349577, 0.1993496829184692, 559.7825095259246, 240.45941491542288, 0.2289411193380071, 0.22808655167171998, 0.22808652289694462, 0.22808652289694462, 0.22808676748253523, 0.22785898636071666, 0.22776113773707543, 0.22776106580013702, 0.22776234627764091, 0.2277610945749124, 0.2277654683407684, 0.22764295973463622, 0.22748464092055767, 0.22748464092055767, 0.22748464092055767, 0.22748464092055767, 0.22748464092055767, 0.22743786752319586, 0.22749743130820904, 0.22721753906819778, 0.22721753906819778, 0.22721792752766526, 0.22721935187904602, 0.22716557182388192, 0.2271419765080796, 0.2271538461029192, 0.2271391278053181, 0.22714200528285497, 0.2271959004371205, 0.2271959004371205, 0.22717393089612653, 0.22723543697847712, 214.38960222258527, 0.6995673033686969, 0.6995673033686969, 0.6995701073173313, 0.6981199602432561, 0.6981199602432561, 0.6919192346869126, 0.6919192346869126, 0.6919192346869126, 0.6919192346869126, 0.6917846451524606, 0.6915884147144226, 0.6914578702206234, 0.6914472060225384, 0.6914273025838712, 0.6914253719962868, 0.6914253719962868, 0.6914253719962868, 0.6914253719962868, 0.6914253719962868, 0.6914253719962868, 0.6914253719962868, 0.6914253719962868, 0.6914253719962868, 0.6914253719962868, 0.6914253719962868, 0.6914253719962868, 0.6914253719962868, 0.6914253719962868, 0.6914253719962868, 0.6915553189272622, 0.6915553189272622, 0.6914472060225384, 0.6914273025838712, 0.6914273025838712, 0.6914273025838712, 0.6914254639290289, 0.6914254639290289, 0.6914254179626579, 0.6914254179626579, 0.6914254179626579, 0.6914253719962868, 0.6914253719962868, 0.6914253719962868, 0.6914253719962868, 0.9198213326962927, 0.9198213326962927, 0.9198213326962927, 0.9198213326962927, 0.9198213326962927, 0.9198213326962927, 0.9198213326962927, 0.9198213326962927, 0.9198213326962927, 0.9198213326962927, 0.9198213326962927, 0.9198213326962927, 0.9198213326962927, 0.9198213326962927, 0.9198213326962927, 0.9198213326962927, 0.9198213326962927, 0.9198213326962927, 0.9198213326962927, 0.9198213326962927, 0.9198213326962927, 0.9198213326962927, 0.9198213326962927, 0.9198213326962927, 0.9198213326962927, 0.9198213326962927, 0.9198213326962927, 0.9198213326962927, 0.9198213326962927, 0.9198213326962927, 0.9198213326962927, 0.9198213326962927, 0.9198213326962927, 0.9198213326962927, 0.9198213326962927, 0.9198213326962927, 0.9198213326962927, 0.9198213326962927, 0.9198213326962927, 0.9198213326962927, 0.9198213326962927, 0.9198213326962927, 0.9198213326962927, 0.9198213326962927, 0.9198213326962927, 0.9198213326962927, 0.9198213326962927, 0.9198213326962927, 0.9198213326962927, 0.9198213326962927, 0.9198213326962927, 0.9198213326962927, 0.9198213326962927, 0.9198213326962927, 0.9198213326962927, 0.9198213326962927, 0.9198213326962927, 0.9198213326962927, 0.9198213326962927, 0.9198213326962927, 0.9198213326962927, 0.9198213326962927, 0.9198213326962927, 0.9198213326962927, 0.9198213326962927, 0.9198213326962927, 0.9198213326962927, 0.9198213326962927, 0.9198213326962927, 0.9198213326962927, 0.9198213326962927, 0.9198213326962927, 0.9198213326962927, 0.9198213326962927, 0.9198213326962927, 0.9198213326962927, 0.9198213326962927, 0.9198213326962927, 0.9198213326962927, 0.9198213326962927, 0.9198213326962927, 0.9198213326962927, 0.9198213326962927, 0.9198213326962927, 0.9198213326962927, 0.9198213326962927, 0.9198213326962927, 0.9198213326962927, 0.9198213326962927, 0.9198213326962927, 0.9198213326962927, 0.9198213326962927, 0.9198213326962927, 0.9198213326962927, 0.9198213326962927, 0.9198213326962927, 0.9198213326962927, 0.9198213326962927, 0.9198213326962927, 0.9198213326962927, 0.9198213326962927, 0.9198213326962927, 0.9198213326962927, 0.9198213326962927, 0.9198213326962927, 0.9198213326962927, 0.9198213326962927, 0.9198213326962927, 0.9198213326962927, 0.9198213326962927, 0.9198213326962927, 0.9198213326962927, 0.9198213326962927, 0.9198213326962927, 0.9198213326962927, 0.9198213326962927, 0.9198213326962927, 0.9198213326962927, 0.9198213326962927, 0.9198213326962927], \"Total\": [1740.0, 1634.0, 1063.0, 903.0, 982.0, 728.0, 813.0, 766.0, 634.0, 646.0, 564.0, 586.0, 647.0, 569.0, 453.0, 608.0, 416.0, 407.0, 408.0, 382.0, 361.0, 312.0, 292.0, 293.0, 355.0, 310.0, 272.0, 245.0, 296.0, 218.0, 1740.3344179032013, 608.6556447515105, 5.218803231660247, 5.2199561662522065, 5.216912262693698, 5.218079697531654, 5.216690324688511, 5.216293403372809, 5.215737187455454, 5.2158790391359275, 5.2153789425762636, 5.216361472695048, 5.215710626130046, 5.215470231278445, 5.215499758117212, 5.216921386166668, 5.215943455458216, 5.215899836034743, 5.2238577638172625, 5.216200347556413, 5.2153553331978175, 5.215493834036831, 5.2171842023027155, 5.2173976217406475, 5.216627008852116, 5.215651164518281, 5.215280194916799, 5.21700198304835, 5.21569451500669, 5.215467435721057, 5.216538786442902, 5.221972808210247, 5.229427754156163, 5.217095966010944, 1634.1570243090903, 324.55119769827655, 261.0196964577898, 73.24232972990573, 59.036396253358554, 5.2173976217406475, 5.2238577638172625, 5.215318692741333, 5.2199561662522065, 5.215604146188939, 5.2159950200579885, 5.2154462914431345, 5.216361472695048, 5.215331293188733, 5.221972808210247, 5.215499758117212, 5.2158114063183625, 5.215741754151068, 5.215948779249202, 5.215247311204752, 5.217201441204967, 5.21527606986548, 5.215856364703058, 5.215402195944725, 5.21536537442572, 5.215738603867798, 5.21619371427861, 5.216745816329964, 5.216486160939153, 5.215701555679741, 5.216538786442902, 5.229427754156163, 5.217209382360542, 5.216889815614965, 5.218079697531654, 5.218149886147075, 982.9244876626755, 292.10915358629785, 271.75184542767767, 235.44024585231261, 196.08837236838718, 174.0584804581758, 32.62104488306885, 29.360443594974655, 5.216404543982444, 5.221972808210247, 5.2199561662522065, 5.215670926240886, 5.2238577638172625, 5.216361472695048, 5.216280640451185, 5.21700198304835, 5.2162917264776905, 5.21768583044816, 5.215609675552014, 5.217644481722472, 5.217095966010944, 5.215362109484034, 5.216309691760063, 5.2154518416361375, 5.215415476063696, 5.216111520207673, 5.2154806113675365, 5.215669927716466, 5.21625010841293, 5.215325187767732, 5.216219594825485, 5.218149886147075, 813.5608418128135, 355.30926375970955, 193.51116276753243, 163.4089817816042, 120.58438722828836, 97.30417141357853, 60.55656466216686, 5.2173976217406475, 5.215799804825999, 5.215534439519712, 5.215951546120684, 5.21547165607927, 5.215526612183622, 5.215712135821088, 5.216486160939153, 5.215570271502225, 5.2155319268805, 5.216219594825485, 5.21556549619353, 5.21567911590996, 5.215590874197359, 5.215410159311771, 5.218804265549257, 5.216745816329964, 5.215698727850274, 5.216106007542929, 5.215292187735708, 5.216921386166668, 5.216965904119171, 5.216595718175532, 5.2238577638172625, 5.221972808210247, 5.217236831975911, 647.4731462763935, 408.00368802741974, 215.75697301398054, 134.30015978605834, 92.97221112395061, 83.41421014830672, 66.20610810246582, 51.82441381116187, 44.82506532487947, 5.215799804825999, 5.217236831975911, 5.216912262693698, 5.215380187653198, 5.215984674935621, 5.215572221186026, 5.215463086883556, 5.21555037804738, 5.215987252838401, 5.215464493823916, 5.215544331687022, 5.2171842023027155, 5.215422543505411, 5.215301541463237, 5.2173976217406475, 5.221972808210247, 5.215773678390632, 5.215353327393473, 5.215868562443956, 5.215860573129333, 5.216921386166668, 5.21768583044816, 5.218804265549257, 5.217377920164097, 5.2238577638172625, 5.223836014596873, 1063.8632347418213, 382.4183385023007, 223.7290120580077, 5.218803231660247, 5.2159681309141845, 5.2199561662522065, 5.216568854407667, 5.216061544677505, 5.215492869625435, 5.2165908745299205, 5.21567977287622, 5.216969128294646, 5.215375224444643, 5.215443940716228, 5.2162917264776905, 5.216794446246522, 5.216219594825485, 5.215948779249202, 5.217377920164097, 5.21538340795977, 5.215624135671599, 5.216501358114031, 5.215324016244843, 5.215846122877892, 5.215940635148234, 5.215959463455805, 5.215688210704352, 5.215347311958647, 5.215385450897732, 5.215670926240886, 5.216293403372809, 5.222019824832621, 766.8460798302035, 296.9278117383434, 240.1910142736461, 147.4350303636636, 122.02846702993556, 70.01667580840878, 5.221972808210247, 5.21608766091166, 5.216693206847429, 5.217095966010944, 5.21588208394255, 5.2199561662522065, 5.2165908745299205, 5.2159365604687515, 5.2155572178610266, 5.2162917264776905, 5.215362762234701, 5.215352578844356, 5.215794737927683, 5.215484166599975, 5.21700198304835, 5.215414943182588, 5.215346867476862, 5.215298870051539, 5.215331899498703, 5.215354351179651, 5.215376846722803, 5.215710626130046, 5.215467435721057, 5.215561124112494, 5.215986755175778, 5.2163862671651655, 5.2238577638172625, 5.216134042814113, 5.215993817070113, 5.215959463455805, 5.229427754156163, 5.216848254118136, 5.217201441204967, 569.6341292805606, 361.22792453591154, 216.1701714104801, 89.51191147000785, 75.28622760699392, 60.99771037587887, 53.557087125865976, 53.07675478950607, 25.40513626693796, 5.215993817070113, 5.215811857029764, 5.2155470116846905, 5.216194247065543, 5.2238577638172625, 5.2158203599453286, 5.215622556249869, 5.216219594825485, 5.215669927716466, 5.21723663400531, 5.215587171391165, 5.215363289785845, 5.2159365604687515, 5.215780428933376, 5.221972808210247, 5.215867990797497, 5.2154806113675365, 5.215426636373102, 5.215411516166967, 5.2165908745299205, 5.215702984667685, 5.216134042814113, 5.216932365586171, 5.229427754156163, 5.218804265549257, 5.216404543982444, 5.21706290772265, 5.2199561662522065, 646.4046815180552, 310.84789659169746, 245.41252630415897, 64.53221847455698, 5.2238577638172625, 5.216538786442902, 5.21619371427861, 5.218804265549257, 5.215990253083549, 5.216293403372809, 5.2165321056259435, 5.215884520800037, 5.215948779249202, 5.2159929145214186, 5.229427754156163, 5.215748688976342, 5.216965904119171, 5.215504016443794, 5.21570671223997, 5.215984674935621, 5.21768583044816, 5.215644530923607, 5.221972808210247, 5.2155319268805, 5.21567911590996, 5.215850005807412, 5.215859015766896, 5.215493834036831, 5.215987141714649, 5.215384011286115, 5.215392299763935, 5.216106007542929, 5.217209382360542, 416.5333566143059, 407.923063399184, 140.43420031941838, 121.45803105783585, 79.90707626788306, 78.7194364980072, 44.17020617696452, 5.215835879819972, 5.215708313057199, 5.216276301281739, 5.21706290772265, 5.216280640451185, 5.216058485939408, 5.215810943869589, 5.2238577638172625, 5.217922056641348, 5.215951546120684, 5.215987252838401, 5.215481938089903, 5.2156879769868105, 5.21768583044816, 5.215995418606399, 5.217377920164097, 5.216200347556413, 5.216123886446702, 5.21625010841293, 5.2199561662522065, 5.215567107914192, 5.2153699345544355, 5.215947099733923, 5.217060027548347, 5.217427426899321, 903.9348027455219, 124.93495172240989, 5.2238577638172625, 5.2171632971807895, 5.215954353143478, 5.21586738824701, 5.217236831975911, 5.216687750586004, 5.215518801231084, 5.2155392839512205, 5.216219096696568, 5.2157136864610765, 5.215718732227466, 5.216194247065543, 5.216848254118136, 5.216921386166668, 5.2156086730690685, 5.215699650828484, 5.216200347556413, 5.2163862671651655, 5.215928019462479, 5.21607997548486, 5.215452515541968, 5.215466290666122, 5.21612069133285, 5.215943455458216, 5.2156851965185735, 5.215702678293503, 5.216577968650121, 5.21608766091166, 5.216627008852116, 5.217427426899321, 5.216270807127593, 5.217670614653768, 5.217377920164097, 728.9661165245134, 182.7192793620772, 85.93413558320321, 5.217670614653768, 5.215960855763683, 5.21606160042721, 5.216690324688511, 5.217377920164097, 5.215828241307606, 5.216098372607225, 5.216135824096047, 5.215846122877892, 5.215668719920407, 5.215808931085128, 5.215824171166054, 5.2158844732426815, 5.215733092430913, 5.216074735911313, 5.216134042814113, 5.216538714118966, 5.2171632971807895, 5.215829635590858, 5.215702984667685, 5.215922631069307, 5.215845872438972, 5.216041927569884, 5.216111520207673, 5.216965904119171, 5.218803231660247, 5.216700575215902, 5.229427754156163, 5.217644481722472, 586.8383621801936, 184.19797109610977, 175.1369627291716, 43.96394940280397, 5.229427754156163, 5.218804265549257, 5.2159378733912005, 5.216118617209106, 5.216538714118966, 5.2238577638172625, 5.2161181832294226, 5.215940635148234, 5.216561179069448, 5.216069264734437, 5.216326293312422, 5.216969128294646, 5.215680071093712, 5.2156164468562745, 5.216106007542929, 5.21612069133285, 5.215850005807412, 5.2158114063183625, 5.215546820404835, 5.215859015766896, 5.215622044288434, 5.215987141714649, 5.216687750586004, 5.216074735911313, 5.215504240877058, 5.215641897723399, 5.217644481722472, 5.221972808210247, 312.6150720747696, 293.98069462381056, 192.97004732501222, 147.48320023669547, 57.85506709343219, 20.13232582035277, 5.2238577638172625, 5.216595718175532, 5.216912262693698, 5.215650444789904, 5.2158350790442825, 5.216219096696568, 5.215836115227724, 5.216627008852116, 5.2199561662522065, 5.21706290772265, 5.216869173088008, 5.215780428933376, 5.215917626026871, 5.217095966010944, 5.2163862671651655, 5.215596182406068, 5.215980344048817, 5.2173976217406475, 5.217377920164097, 5.215568773824287, 5.215657228905976, 5.2158139868981115, 5.215943455458216, 5.215449942112189, 5.216069264734437, 5.221972808210247, 5.216969128294646, 634.6743987848189, 272.63525283926174, 5.224810820059997, 5.221972808210247, 5.216932365586171, 5.216462659444814, 5.216609236500995, 5.218149886147075, 5.216052414542751, 5.216454001615966, 5.2171842023027155, 5.2160630002409745, 5.216577968650121, 5.216061544677505, 5.216969128294646, 5.216501358114031, 5.218803231660247, 5.215620432938843, 5.215797628260011, 5.215906653704222, 5.2156335332070425, 5.215622005497114, 5.215980344048817, 5.216140742824842, 5.215709698874424, 5.215700028267503, 5.2154468845420086, 5.215483642576334, 5.215872704718941, 5.215989010974802, 5.2199561662522065, 5.2165321056259435, 5.21791482328459, 5.2238577638172625, 453.32191353865045, 292.2718458052432, 162.53136808327952, 5.216407738109657, 5.2163406731109045, 5.216700575215902, 5.216869173088008, 5.217644481722472, 5.215910003186526, 5.217209382360542, 5.217201441204967, 5.215800982226633, 5.215931975881061, 5.21625010841293, 5.216088500736597, 5.217670614653768, 5.218079697531654, 5.217427426899321, 5.21577868420366, 5.215860573129333, 5.216446188725277, 5.217236831975911, 5.216693206847429, 5.216123886446702, 5.215995418606399, 5.215640037846054, 5.217060027548347, 5.215503768686476, 5.215514796546921, 5.215697050957118, 5.2238577638172625, 5.218803231660247, 5.229427754156163, 564.7709233413632, 245.44782873086143, 5.217922056641348, 5.216504024387347, 5.216535217382731, 5.21723663400531, 5.21791482328459, 5.218079697531654, 5.216471490017436, 5.216745816329964, 5.216794446246522, 5.21768583044816, 5.218149886147075, 5.216889815614965, 5.21595172816777, 5.215956959240366, 5.216177313287759, 5.2163667869134756, 5.216467333467829, 5.216270807127593, 5.2199561662522065, 5.215995057527264, 5.216140742824842, 5.216446188725277, 5.216627008852116, 5.215856364703058, 5.215660870565635, 5.2159950200579885, 5.215670776622699, 5.215786507954291, 5.217060027548347, 5.217209382360542, 5.216912262693698, 5.229427754156163, 218.91332434286053, 5.223697528353836, 5.223836014596873, 5.229427754156163, 5.222019824832621, 5.224810820059997, 5.215704076600223, 5.215801500407121, 5.216309691760063, 5.216848254118136, 5.216276301281739, 5.216058485939408, 5.215179990495864, 5.215194556737162, 5.215150725659874, 5.2151474922715275, 5.2151475560576115, 5.215147560083663, 5.215147560760812, 5.215147582270041, 5.2151476010405435, 5.215147760771711, 5.215147818007533, 5.21514782870935, 5.215147856637094, 5.21514789195018, 5.215148019630807, 5.215148072888401, 5.2151481794542205, 5.2151482786801395, 5.216135292946832, 5.216194247065543, 5.215987141714649, 5.215384011286115, 5.215670776622699, 5.216921386166668, 5.217922056641348, 5.2152475882874025, 5.215808931085128, 5.215301311937026, 5.216135824096047, 407.923063399184, 140.43420031941838, 813.5608418128135, 121.45803105783585, 5.2151474922715275, 5.2151475560576115, 5.215147560083663, 5.215147560760812, 5.215147582270041, 5.2151476010405435, 5.215147760771711, 5.215147818007533, 5.21514782870935, 5.215147856637094, 5.21514789195018, 5.215148019630807, 5.215148072888401, 5.2151481794542205, 5.2151482786801395, 5.21514832443613, 5.215148491616447, 5.215148706821767, 5.215148942936094, 5.215148994440767, 5.215149318635626, 5.215149891984338, 5.21515009150312, 5.215150159022301, 5.215150534845828, 5.215150643365204, 5.215150725659874, 5.21515186061034, 5.215151922262452, 5.21515198400592, 407.923063399184, 140.43420031941838, 813.5608418128135, 121.45803105783585, 44.17020617696452, 147.4350303636636, 586.8383621801936, 70.01667580840878, 240.1910142736461, 296.9278117383434, 766.8460798302035, 122.02846702993556, 43.96394940280397, 175.1369627291716, 5.21625010841293, 1740.3344179032013, 5.2152648899541285, 97.30417141357853, 120.58438722828836, 634.6743987848189, 272.63525283926174, 5.215242442050844, 646.4046815180552, 245.41252630415897, 5.2151693453050685, 184.19797109610977, 564.7709233413632, 245.44782873086143, 5.215644530923607, 235.44024585231261, 5.2151474922715275, 5.2151475560576115, 5.215147560083663, 5.215147560760812, 5.215147582270041, 5.2151476010405435, 5.215147760771711, 5.215147818007533, 5.21514782870935, 5.215147856637094, 5.21514789195018, 5.215148019630807, 5.215148072888401, 5.2151481794542205, 5.2151482786801395, 5.21514832443613, 5.215148491616447, 5.215148706821767, 5.215148942936094, 5.215148994440767, 5.215149318635626, 5.215149891984338, 5.21515009150312, 5.215150159022301, 5.215150534845828, 5.215150643365204, 5.215150725659874, 5.21515186061034, 5.215151922262452, 5.21515198400592, 407.923063399184, 140.43420031941838, 813.5608418128135, 121.45803105783585, 44.17020617696452, 147.4350303636636, 586.8383621801936, 70.01667580840878, 240.1910142736461, 296.9278117383434, 766.8460798302035, 122.02846702993556, 43.96394940280397, 175.1369627291716, 5.21625010841293, 1740.3344179032013, 5.2152648899541285, 97.30417141357853, 120.58438722828836, 634.6743987848189, 272.63525283926174, 5.215242442050844, 646.4046815180552, 245.41252630415897, 5.2151693453050685, 184.19797109610977, 564.7709233413632, 245.44782873086143, 5.215644530923607, 235.44024585231261], \"Category\": [\"Default\", \"Default\", \"Default\", \"Default\", \"Default\", \"Default\", \"Default\", \"Default\", \"Default\", \"Default\", \"Default\", \"Default\", \"Default\", \"Default\", \"Default\", \"Default\", \"Default\", \"Default\", \"Default\", \"Default\", \"Default\", \"Default\", \"Default\", \"Default\", \"Default\", \"Default\", \"Default\", \"Default\", \"Default\", \"Default\", \"Topic1\", \"Topic1\", \"Topic1\", \"Topic1\", \"Topic1\", \"Topic1\", \"Topic1\", \"Topic1\", \"Topic1\", \"Topic1\", \"Topic1\", \"Topic1\", \"Topic1\", \"Topic1\", \"Topic1\", \"Topic1\", \"Topic1\", \"Topic1\", \"Topic1\", \"Topic1\", \"Topic1\", \"Topic1\", \"Topic1\", \"Topic1\", \"Topic1\", \"Topic1\", \"Topic1\", \"Topic1\", \"Topic1\", \"Topic1\", \"Topic1\", \"Topic1\", \"Topic1\", \"Topic1\", \"Topic2\", \"Topic2\", \"Topic2\", \"Topic2\", \"Topic2\", \"Topic2\", \"Topic2\", \"Topic2\", \"Topic2\", \"Topic2\", \"Topic2\", \"Topic2\", \"Topic2\", \"Topic2\", \"Topic2\", \"Topic2\", \"Topic2\", \"Topic2\", \"Topic2\", \"Topic2\", \"Topic2\", \"Topic2\", \"Topic2\", \"Topic2\", \"Topic2\", \"Topic2\", \"Topic2\", \"Topic2\", \"Topic2\", \"Topic2\", \"Topic2\", \"Topic2\", \"Topic2\", \"Topic2\", \"Topic2\", \"Topic2\", \"Topic3\", \"Topic3\", \"Topic3\", \"Topic3\", \"Topic3\", \"Topic3\", \"Topic3\", \"Topic3\", \"Topic3\", \"Topic3\", \"Topic3\", \"Topic3\", \"Topic3\", \"Topic3\", \"Topic3\", \"Topic3\", \"Topic3\", \"Topic3\", \"Topic3\", \"Topic3\", \"Topic3\", \"Topic3\", \"Topic3\", \"Topic3\", \"Topic3\", \"Topic3\", \"Topic3\", \"Topic3\", \"Topic3\", \"Topic3\", \"Topic3\", \"Topic3\", \"Topic4\", \"Topic4\", \"Topic4\", \"Topic4\", \"Topic4\", \"Topic4\", \"Topic4\", \"Topic4\", \"Topic4\", \"Topic4\", \"Topic4\", \"Topic4\", \"Topic4\", \"Topic4\", \"Topic4\", \"Topic4\", \"Topic4\", \"Topic4\", \"Topic4\", \"Topic4\", \"Topic4\", \"Topic4\", \"Topic4\", \"Topic4\", \"Topic4\", \"Topic4\", \"Topic4\", \"Topic4\", \"Topic4\", \"Topic4\", \"Topic4\", \"Topic4\", \"Topic4\", \"Topic5\", \"Topic5\", \"Topic5\", \"Topic5\", \"Topic5\", \"Topic5\", \"Topic5\", \"Topic5\", \"Topic5\", \"Topic5\", \"Topic5\", \"Topic5\", \"Topic5\", \"Topic5\", \"Topic5\", \"Topic5\", \"Topic5\", \"Topic5\", \"Topic5\", \"Topic5\", \"Topic5\", \"Topic5\", \"Topic5\", \"Topic5\", \"Topic5\", \"Topic5\", \"Topic5\", \"Topic5\", \"Topic5\", \"Topic5\", \"Topic5\", \"Topic5\", \"Topic5\", \"Topic5\", \"Topic5\", \"Topic6\", \"Topic6\", \"Topic6\", \"Topic6\", \"Topic6\", \"Topic6\", \"Topic6\", \"Topic6\", \"Topic6\", \"Topic6\", \"Topic6\", \"Topic6\", \"Topic6\", \"Topic6\", \"Topic6\", \"Topic6\", \"Topic6\", \"Topic6\", \"Topic6\", \"Topic6\", \"Topic6\", \"Topic6\", \"Topic6\", \"Topic6\", \"Topic6\", \"Topic6\", \"Topic6\", \"Topic6\", \"Topic6\", \"Topic6\", \"Topic6\", \"Topic6\", \"Topic7\", \"Topic7\", \"Topic7\", \"Topic7\", \"Topic7\", \"Topic7\", \"Topic7\", \"Topic7\", \"Topic7\", \"Topic7\", \"Topic7\", \"Topic7\", \"Topic7\", \"Topic7\", \"Topic7\", \"Topic7\", \"Topic7\", \"Topic7\", \"Topic7\", \"Topic7\", \"Topic7\", \"Topic7\", \"Topic7\", \"Topic7\", \"Topic7\", \"Topic7\", \"Topic7\", \"Topic7\", \"Topic7\", \"Topic7\", \"Topic7\", \"Topic7\", \"Topic7\", \"Topic7\", \"Topic7\", \"Topic7\", \"Topic7\", \"Topic7\", \"Topic7\", \"Topic8\", \"Topic8\", \"Topic8\", \"Topic8\", \"Topic8\", \"Topic8\", \"Topic8\", \"Topic8\", \"Topic8\", \"Topic8\", \"Topic8\", \"Topic8\", \"Topic8\", \"Topic8\", \"Topic8\", \"Topic8\", \"Topic8\", \"Topic8\", \"Topic8\", \"Topic8\", \"Topic8\", \"Topic8\", \"Topic8\", \"Topic8\", \"Topic8\", \"Topic8\", \"Topic8\", \"Topic8\", \"Topic8\", \"Topic8\", \"Topic8\", \"Topic8\", \"Topic8\", \"Topic8\", \"Topic8\", \"Topic8\", \"Topic8\", \"Topic9\", \"Topic9\", \"Topic9\", \"Topic9\", \"Topic9\", \"Topic9\", \"Topic9\", \"Topic9\", \"Topic9\", \"Topic9\", \"Topic9\", \"Topic9\", \"Topic9\", \"Topic9\", \"Topic9\", \"Topic9\", \"Topic9\", \"Topic9\", \"Topic9\", \"Topic9\", \"Topic9\", \"Topic9\", \"Topic9\", \"Topic9\", \"Topic9\", \"Topic9\", \"Topic9\", \"Topic9\", \"Topic9\", \"Topic9\", \"Topic9\", \"Topic9\", \"Topic9\", \"Topic10\", \"Topic10\", \"Topic10\", \"Topic10\", \"Topic10\", \"Topic10\", \"Topic10\", \"Topic10\", \"Topic10\", \"Topic10\", \"Topic10\", \"Topic10\", \"Topic10\", \"Topic10\", \"Topic10\", \"Topic10\", \"Topic10\", \"Topic10\", \"Topic10\", \"Topic10\", \"Topic10\", \"Topic10\", \"Topic10\", \"Topic10\", \"Topic10\", \"Topic10\", \"Topic10\", \"Topic10\", \"Topic10\", \"Topic10\", \"Topic10\", \"Topic10\", \"Topic11\", \"Topic11\", \"Topic11\", \"Topic11\", \"Topic11\", \"Topic11\", \"Topic11\", \"Topic11\", \"Topic11\", \"Topic11\", \"Topic11\", \"Topic11\", \"Topic11\", \"Topic11\", \"Topic11\", \"Topic11\", \"Topic11\", \"Topic11\", \"Topic11\", \"Topic11\", \"Topic11\", \"Topic11\", \"Topic11\", \"Topic11\", \"Topic11\", \"Topic11\", \"Topic11\", \"Topic11\", \"Topic11\", \"Topic11\", \"Topic11\", \"Topic11\", \"Topic11\", \"Topic11\", \"Topic11\", \"Topic12\", \"Topic12\", \"Topic12\", \"Topic12\", \"Topic12\", \"Topic12\", \"Topic12\", \"Topic12\", \"Topic12\", \"Topic12\", \"Topic12\", \"Topic12\", \"Topic12\", \"Topic12\", \"Topic12\", \"Topic12\", \"Topic12\", \"Topic12\", \"Topic12\", \"Topic12\", \"Topic12\", \"Topic12\", \"Topic12\", \"Topic12\", \"Topic12\", \"Topic12\", \"Topic12\", \"Topic12\", \"Topic12\", \"Topic12\", \"Topic12\", \"Topic12\", \"Topic13\", \"Topic13\", \"Topic13\", \"Topic13\", \"Topic13\", \"Topic13\", \"Topic13\", \"Topic13\", \"Topic13\", \"Topic13\", \"Topic13\", \"Topic13\", \"Topic13\", \"Topic13\", \"Topic13\", \"Topic13\", \"Topic13\", \"Topic13\", \"Topic13\", \"Topic13\", \"Topic13\", \"Topic13\", \"Topic13\", \"Topic13\", \"Topic13\", \"Topic13\", \"Topic13\", \"Topic13\", \"Topic13\", \"Topic13\", \"Topic13\", \"Topic13\", \"Topic14\", \"Topic14\", \"Topic14\", \"Topic14\", \"Topic14\", \"Topic14\", \"Topic14\", \"Topic14\", \"Topic14\", \"Topic14\", \"Topic14\", \"Topic14\", \"Topic14\", \"Topic14\", \"Topic14\", \"Topic14\", \"Topic14\", \"Topic14\", \"Topic14\", \"Topic14\", \"Topic14\", \"Topic14\", \"Topic14\", \"Topic14\", \"Topic14\", \"Topic14\", \"Topic14\", \"Topic14\", \"Topic14\", \"Topic14\", \"Topic14\", \"Topic14\", \"Topic14\", \"Topic15\", \"Topic15\", \"Topic15\", \"Topic15\", \"Topic15\", \"Topic15\", \"Topic15\", \"Topic15\", \"Topic15\", \"Topic15\", \"Topic15\", \"Topic15\", \"Topic15\", \"Topic15\", \"Topic15\", \"Topic15\", \"Topic15\", \"Topic15\", \"Topic15\", \"Topic15\", \"Topic15\", \"Topic15\", \"Topic15\", \"Topic15\", \"Topic15\", \"Topic15\", \"Topic15\", \"Topic15\", \"Topic15\", \"Topic15\", \"Topic15\", \"Topic15\", \"Topic15\", \"Topic15\", \"Topic16\", \"Topic16\", \"Topic16\", \"Topic16\", \"Topic16\", \"Topic16\", \"Topic16\", \"Topic16\", \"Topic16\", \"Topic16\", \"Topic16\", \"Topic16\", \"Topic16\", \"Topic16\", \"Topic16\", \"Topic16\", \"Topic16\", \"Topic16\", \"Topic16\", \"Topic16\", \"Topic16\", \"Topic16\", \"Topic16\", \"Topic16\", \"Topic16\", \"Topic16\", \"Topic16\", \"Topic16\", \"Topic16\", \"Topic16\", \"Topic16\", \"Topic16\", \"Topic16\", \"Topic17\", \"Topic17\", \"Topic17\", \"Topic17\", \"Topic17\", \"Topic17\", \"Topic17\", \"Topic17\", \"Topic17\", \"Topic17\", \"Topic17\", \"Topic17\", \"Topic17\", \"Topic17\", \"Topic17\", \"Topic17\", \"Topic17\", \"Topic17\", \"Topic17\", \"Topic17\", \"Topic17\", \"Topic17\", \"Topic17\", \"Topic17\", \"Topic17\", \"Topic17\", \"Topic17\", \"Topic17\", \"Topic17\", \"Topic17\", \"Topic17\", \"Topic17\", \"Topic17\", \"Topic17\", \"Topic18\", \"Topic18\", \"Topic18\", \"Topic18\", \"Topic18\", \"Topic18\", \"Topic18\", \"Topic18\", \"Topic18\", \"Topic18\", \"Topic18\", \"Topic18\", \"Topic18\", \"Topic18\", \"Topic18\", \"Topic18\", \"Topic18\", \"Topic18\", \"Topic18\", \"Topic18\", \"Topic18\", \"Topic18\", \"Topic18\", \"Topic18\", \"Topic18\", \"Topic18\", \"Topic18\", \"Topic18\", \"Topic18\", \"Topic18\", \"Topic18\", \"Topic18\", \"Topic18\", \"Topic18\", \"Topic18\", \"Topic18\", \"Topic18\", \"Topic18\", \"Topic18\", \"Topic18\", \"Topic18\", \"Topic18\", \"Topic18\", \"Topic18\", \"Topic18\", \"Topic19\", \"Topic19\", \"Topic19\", \"Topic19\", \"Topic19\", \"Topic19\", \"Topic19\", \"Topic19\", \"Topic19\", \"Topic19\", \"Topic19\", \"Topic19\", \"Topic19\", \"Topic19\", \"Topic19\", \"Topic19\", \"Topic19\", \"Topic19\", \"Topic19\", \"Topic19\", \"Topic19\", \"Topic19\", \"Topic19\", \"Topic19\", \"Topic19\", \"Topic19\", \"Topic19\", \"Topic19\", \"Topic19\", \"Topic19\", \"Topic19\", \"Topic19\", \"Topic19\", \"Topic19\", \"Topic19\", \"Topic19\", \"Topic19\", \"Topic19\", \"Topic19\", \"Topic19\", \"Topic19\", \"Topic19\", \"Topic19\", \"Topic19\", \"Topic19\", \"Topic19\", \"Topic19\", \"Topic19\", \"Topic19\", \"Topic19\", \"Topic19\", \"Topic19\", \"Topic19\", \"Topic19\", \"Topic19\", \"Topic19\", \"Topic19\", \"Topic19\", \"Topic19\", \"Topic19\", \"Topic20\", \"Topic20\", \"Topic20\", \"Topic20\", \"Topic20\", \"Topic20\", \"Topic20\", \"Topic20\", \"Topic20\", \"Topic20\", \"Topic20\", \"Topic20\", \"Topic20\", \"Topic20\", \"Topic20\", \"Topic20\", \"Topic20\", \"Topic20\", \"Topic20\", \"Topic20\", \"Topic20\", \"Topic20\", \"Topic20\", \"Topic20\", \"Topic20\", \"Topic20\", \"Topic20\", \"Topic20\", \"Topic20\", \"Topic20\", \"Topic20\", \"Topic20\", \"Topic20\", \"Topic20\", \"Topic20\", \"Topic20\", \"Topic20\", \"Topic20\", \"Topic20\", \"Topic20\", \"Topic20\", \"Topic20\", \"Topic20\", \"Topic20\", \"Topic20\", \"Topic20\", \"Topic20\", \"Topic20\", \"Topic20\", \"Topic20\", \"Topic20\", \"Topic20\", \"Topic20\", \"Topic20\", \"Topic20\", \"Topic20\", \"Topic20\", \"Topic20\", \"Topic20\", \"Topic20\"], \"logprob\": [30.0, 29.0, 28.0, 27.0, 26.0, 25.0, 24.0, 23.0, 22.0, 21.0, 20.0, 19.0, 18.0, 17.0, 16.0, 15.0, 14.0, 13.0, 12.0, 11.0, 10.0, 9.0, 8.0, 7.0, 6.0, 5.0, 4.0, 3.0, 2.0, 1.0, -0.3374, -1.3935, -9.9805, -9.9858, -9.9867, -9.9866, -9.9869, -9.987, -9.9872, -9.9872, -9.9873, -9.9874, -9.9875, -9.9876, -9.9876, -9.9874, -9.9876, -9.9876, -9.9861, -9.9876, -9.9877, -9.9877, -9.9874, -9.9874, -9.9875, -9.9877, -9.9878, -9.9876, -9.9878, -9.9879, -9.9877, -9.9871, -9.9867, -9.9877, -0.3884, -2.0176, -2.2394, -3.5629, -3.7968, -10.1712, -10.1708, -10.173, -10.1722, -10.173, -10.173, -10.1732, -10.173, -10.1733, -10.172, -10.1733, -10.1734, -10.1734, -10.1734, -10.1736, -10.1732, -10.1736, -10.1735, -10.1736, -10.1736, -10.1735, -10.1735, -10.1734, -10.1734, -10.1736, -10.1735, -10.1718, -10.1734, -10.1734, -10.1734, -10.1734, -0.8406, -2.0664, -2.14, -2.2863, -2.4737, -2.5963, -4.411, -4.5372, -9.9047, -9.9052, -9.9066, -9.9088, -9.9073, -9.9088, -9.9091, -9.9089, -9.9093, -9.909, -9.9095, -9.9094, -9.9096, -9.91, -9.9099, -9.9101, -9.9103, -9.9103, -9.9104, -9.9104, -9.9104, -9.9106, -9.9104, -9.9101, -0.8372, -1.6738, -2.2937, -2.4678, -2.7832, -3.0083, -3.5167, -9.6518, -9.6526, -9.6528, -9.6528, -9.6531, -9.6531, -9.6531, -9.653, -9.6532, -9.6533, -9.6532, -9.6534, -9.6534, -9.6534, -9.6534, -9.6528, -9.6532, -9.6535, -9.6534, -9.6536, -9.6533, -9.6533, -9.6534, -9.6521, -9.6525, -9.6534, -1.0293, -1.4958, -2.1442, -2.6331, -3.0186, -3.1337, -3.3818, -3.6501, -3.8124, -9.6091, -9.6091, -9.6093, -9.6097, -9.6098, -9.61, -9.6101, -9.6102, -9.6101, -9.6102, -9.6103, -9.61, -9.6103, -9.6104, -9.61, -9.6091, -9.6103, -9.6104, -9.6103, -9.6104, -9.6102, -9.61, -9.6101, -9.6102, -9.6101, -9.6103, -0.5067, -1.5385, -2.0842, -9.5575, -9.5592, -9.5586, -9.5593, -9.5595, -9.5597, -9.5595, -9.5597, -9.5595, -9.5599, -9.5599, -9.5597, -9.5598, -9.56, -9.5601, -9.5598, -9.5602, -9.5602, -9.5601, -9.5604, -9.5604, -9.5603, -9.5604, -9.5604, -9.5605, -9.5605, -9.5605, -9.5604, -9.5603, -0.8178, -1.7772, -1.9934, -2.4951, -2.6917, -3.28, -9.4387, -9.4419, -9.4429, -9.4436, -9.4441, -9.4433, -9.444, -9.4441, -9.4443, -9.4442, -9.4445, -9.4445, -9.4445, -9.4445, -9.4443, -9.4446, -9.4446, -9.4446, -9.4446, -9.4446, -9.4446, -9.4446, -9.4446, -9.4446, -9.4446, -9.4445, -9.4435, -9.4445, -9.4446, -9.4446, -9.4441, -9.4446, -9.4446, -1.0221, -1.4828, -2.0058, -2.9222, -3.1067, -3.3343, -3.477, -3.487, -4.3463, -9.3719, -9.3722, -9.3724, -9.3724, -9.3711, -9.3727, -9.3728, -9.3728, -9.3729, -9.3727, -9.373, -9.3732, -9.3731, -9.3731, -9.372, -9.3732, -9.3734, -9.3734, -9.3735, -9.3733, -9.3734, -9.3734, -9.3732, -9.3717, -9.3732, -9.3733, -9.3733, -9.3733, -0.7716, -1.5122, -1.753, -3.1494, -9.0046, -9.0064, -9.0066, -9.0072, -9.0082, -9.0085, -9.0085, -9.0087, -9.0088, -9.009, -9.0065, -9.0091, -9.0089, -9.0098, -9.0098, -9.0098, -9.0097, -9.0101, -9.0089, -9.0102, -9.0102, -9.0102, -9.0102, -9.0103, -9.0102, -9.0104, -9.0104, -9.0102, -9.0103, -1.2102, -1.2314, -2.3219, -2.4729, -2.9145, -2.9305, -3.5636, -9.1032, -9.1035, -9.1035, -9.1034, -9.1036, -9.1045, -9.1046, -9.1032, -9.1044, -9.1048, -9.1048, -9.1053, -9.1053, -9.105, -9.1054, -9.1052, -9.1055, -9.1055, -9.1056, -9.1049, -9.1058, -9.1059, -9.1058, -9.1058, -9.1058, -0.2659, -2.2803, -8.745, -8.7501, -8.7504, -8.7505, -8.7504, -8.7514, -8.7518, -8.7518, -8.7517, -8.7518, -8.7518, -8.7518, -8.7517, -8.7517, -8.752, -8.752, -8.7519, -8.7519, -8.752, -8.752, -8.7521, -8.7521, -8.752, -8.7521, -8.7522, -8.7522, -8.752, -8.7521, -8.7521, -8.752, -8.7521, -8.7521, -8.7521, -0.4722, -1.8768, -2.6633, -8.5902, -8.5917, -8.5917, -8.5917, -8.5917, -8.5922, -8.5922, -8.5925, -8.5927, -8.5927, -8.5927, -8.5927, -8.5928, -8.593, -8.593, -8.593, -8.593, -8.5929, -8.5932, -8.5932, -8.5932, -8.5932, -8.5932, -8.5932, -8.5931, -8.5927, -8.5932, -8.593, -8.5932, -0.6744, -1.8521, -1.904, -3.3781, -8.6031, -8.6066, -8.6102, -8.6102, -8.6103, -8.6092, -8.6108, -8.6117, -8.6116, -8.6118, -8.6118, -8.6118, -8.6121, -8.6122, -8.6122, -8.6122, -8.6123, -8.6123, -8.6124, -8.6123, -8.6124, -8.6123, -8.6124, -8.6126, -8.6127, -8.6128, -8.6124, -8.6117, -1.2894, -1.3519, -1.7821, -2.0593, -3.0517, -4.3057, -8.9254, -8.9278, -8.9289, -8.9292, -8.9292, -8.9292, -8.9294, -8.9292, -8.9287, -8.9293, -8.9294, -8.9298, -8.9298, -8.9296, -8.9301, -8.9303, -8.9303, -8.93, -8.9301, -8.9304, -8.9304, -8.9304, -8.9306, -8.9307, -8.9306, -8.9296, -8.9306, -0.5492, -1.4048, -8.4421, -8.4464, -8.4475, -8.4476, -8.4479, -8.4477, -8.4494, -8.4494, -8.4494, -8.4504, -8.4504, -8.4508, -8.4509, -8.4513, -8.4509, -8.4515, -8.4517, -8.4517, -8.4522, -8.4523, -8.4523, -8.4523, -8.4525, -8.4525, -8.4526, -8.4526, -8.4525, -8.4525, -8.4519, -8.4525, -8.4525, -8.4524, -0.8588, -1.3039, -1.9048, -8.5736, -8.5736, -8.5736, -8.5751, -8.5752, -8.5756, -8.5756, -8.5756, -8.5761, -8.5761, -8.5761, -8.5763, -8.576, -8.5761, -8.5762, -8.5767, -8.5771, -8.5772, -8.5771, -8.5772, -8.5774, -8.5774, -8.5776, -8.5774, -8.5778, -8.5778, -8.5778, -8.5765, -8.5774, -8.577, -0.5688, -1.4138, -8.3707, -8.3744, -8.3744, -8.3744, -8.3744, -8.3754, -8.3758, -8.3758, -8.3758, -8.3758, -8.3758, -8.3764, -8.3771, -8.3771, -8.3771, -8.3771, -8.3771, -8.3773, -8.377, -8.3782, -8.3782, -8.3782, -8.3782, -8.3785, -8.3786, -8.3785, -8.3786, -8.3786, -8.3783, -8.3783, -8.3784, -8.3782, -1.3039, -7.0289, -7.0289, -7.0289, -7.031, -7.031, -7.0399, -7.0399, -7.0399, -7.0399, -7.0401, -7.0404, -7.0406, -7.0406, -7.0406, -7.0406, -7.0406, -7.0406, -7.0406, -7.0406, -7.0406, -7.0406, -7.0406, -7.0406, -7.0406, -7.0406, -7.0406, -7.0406, -7.0406, -7.0406, -7.0405, -7.0405, -7.0406, -7.0406, -7.0406, -7.0406, -7.0406, -7.0406, -7.0406, -7.0406, -7.0406, -7.0406, -7.0406, -7.0406, -7.0406, -6.725, -6.725, -6.725, -6.725, -6.725, -6.725, -6.725, -6.725, -6.725, -6.725, -6.725, -6.725, -6.725, -6.725, -6.725, -6.725, -6.725, -6.725, -6.725, -6.725, -6.725, -6.725, -6.725, -6.725, -6.725, -6.725, -6.725, -6.725, -6.725, -6.725, -6.725, -6.725, -6.725, -6.725, -6.725, -6.725, -6.725, -6.725, -6.725, -6.725, -6.725, -6.725, -6.725, -6.725, -6.725, -6.725, -6.725, -6.725, -6.725, -6.725, -6.725, -6.725, -6.725, -6.725, -6.725, -6.725, -6.725, -6.725, -6.725, -6.725, -6.725, -6.725, -6.725, -6.725, -6.725, -6.725, -6.725, -6.725, -6.725, -6.725, -6.725, -6.725, -6.725, -6.725, -6.725, -6.725, -6.725, -6.725, -6.725, -6.725, -6.725, -6.725, -6.725, -6.725, -6.725, -6.725, -6.725, -6.725, -6.725, -6.725, -6.725, -6.725, -6.725, -6.725, -6.725, -6.725, -6.725, -6.725, -6.725, -6.725, -6.725, -6.725, -6.725, -6.725, -6.725, -6.725, -6.725, -6.725, -6.725, -6.725, -6.725, -6.725, -6.725, -6.725, -6.725, -6.725, -6.725, -6.725, -6.725, -6.725], \"loglift\": [30.0, 29.0, 28.0, 27.0, 26.0, 25.0, 24.0, 23.0, 22.0, 21.0, 20.0, 19.0, 18.0, 17.0, 16.0, 15.0, 14.0, 13.0, 12.0, 11.0, 10.0, 9.0, 8.0, 7.0, 6.0, 5.0, 4.0, 3.0, 2.0, 1.0, 2.4632, 2.4577, -1.3703, -1.3759, -1.3762, -1.3763, -1.3763, -1.3763, -1.3764, -1.3765, -1.3765, -1.3767, -1.3767, -1.3768, -1.3768, -1.3769, -1.3769, -1.3769, -1.3769, -1.3769, -1.3769, -1.3769, -1.3769, -1.3769, -1.3769, -1.3769, -1.3769, -1.377, -1.3771, -1.3771, -1.3771, -1.3775, -1.3785, -1.3772, 2.4752, 2.4624, 2.4585, 2.4058, 2.3875, -1.5607, -1.5616, -1.5622, -1.5622, -1.5622, -1.5622, -1.5624, -1.5624, -1.5624, -1.5625, -1.5625, -1.5626, -1.5626, -1.5626, -1.5627, -1.5627, -1.5627, -1.5627, -1.5627, -1.5628, -1.5628, -1.5628, -1.5628, -1.5628, -1.5628, -1.5628, -1.5637, -1.5629, -1.5629, -1.5631, -1.5631, 2.5314, 2.5189, 2.5176, 2.5147, 2.5102, 2.5068, 2.3665, 2.3456, -1.2941, -1.2956, -1.2966, -1.298, -1.298, -1.2981, -1.2984, -1.2984, -1.2986, -1.2986, -1.2987, -1.299, -1.2991, -1.2992, -1.2992, -1.2993, -1.2995, -1.2996, -1.2996, -1.2996, -1.2997, -1.2997, -1.2997, -1.2998, 2.7238, 2.7157, 2.7034, 2.6984, 2.6869, 2.6763, 2.6422, -1.0413, -1.0419, -1.042, -1.0421, -1.0423, -1.0423, -1.0423, -1.0423, -1.0424, -1.0425, -1.0425, -1.0426, -1.0426, -1.0426, -1.0426, -1.0426, -1.0427, -1.0427, -1.0427, -1.0427, -1.0428, -1.0428, -1.0428, -1.0429, -1.0429, -1.0429, 2.7601, 2.7554, 2.7441, 2.7293, 2.7116, 2.7049, 2.6879, 2.6645, 2.6473, -0.9983, -0.9986, -0.9987, -0.9988, -0.9991, -0.9992, -0.9993, -0.9993, -0.9994, -0.9994, -0.9995, -0.9995, -0.9995, -0.9995, -0.9995, -0.9995, -0.9996, -0.9996, -0.9996, -0.9996, -0.9996, -0.9996, -0.9999, -0.9998, -1.0008, -1.001, 2.7861, 2.7774, 2.7678, -0.9474, -0.9485, -0.9486, -0.9487, -0.9488, -0.9488, -0.9489, -0.949, -0.949, -0.949, -0.949, -0.9491, -0.9492, -0.9493, -0.9494, -0.9494, -0.9494, -0.9494, -0.9495, -0.9496, -0.9496, -0.9496, -0.9496, -0.9496, -0.9497, -0.9497, -0.9497, -0.9498, -0.9508, 2.8024, 2.7918, 2.7877, 2.774, 2.7665, 2.7337, -0.8291, -0.8312, -0.8323, -0.8331, -0.8333, -0.8333, -0.8334, -0.8334, -0.8335, -0.8336, -0.8337, -0.8337, -0.8337, -0.8337, -0.8337, -0.8337, -0.8338, -0.8338, -0.8338, -0.8338, -0.8338, -0.8338, -0.8338, -0.8338, -0.8338, -0.8339, -0.8343, -0.8338, -0.8339, -0.8339, -0.836, -0.834, -0.8341, 2.8954, 2.8902, 2.8806, 2.8459, 2.8345, 2.8174, 2.8047, 2.8037, 2.6812, -0.7612, -0.7614, -0.7616, -0.7617, -0.7618, -0.7619, -0.762, -0.7621, -0.7621, -0.7622, -0.7622, -0.7623, -0.7623, -0.7624, -0.7625, -0.7625, -0.7625, -0.7626, -0.7626, -0.7627, -0.7627, -0.7627, -0.7627, -0.7636, -0.763, -0.7627, -0.7628, -0.7633, 3.0195, 3.0109, 3.0065, 2.9459, -0.3953, -0.3958, -0.3959, -0.397, -0.3974, -0.3979, -0.3979, -0.398, -0.398, -0.3983, -0.3983, -0.3983, -0.3984, -0.399, -0.399, -0.399, -0.3993, -0.3993, -0.3993, -0.3994, -0.3994, -0.3995, -0.3995, -0.3995, -0.3995, -0.3995, -0.3995, -0.3995, -0.3998, 3.0203, 3.02, 2.9958, 2.9899, 2.9671, 2.966, 2.9108, -0.4924, -0.4927, -0.4928, -0.4928, -0.493, -0.4937, -0.4938, -0.494, -0.4941, -0.4941, -0.4941, -0.4945, -0.4945, -0.4946, -0.4947, -0.4947, -0.4948, -0.4948, -0.4949, -0.4949, -0.495, -0.4951, -0.4951, -0.4953, -0.4953, 3.1898, 3.1543, -0.1358, -0.1396, -0.1397, -0.1398, -0.1399, -0.1408, -0.1409, -0.1409, -0.141, -0.141, -0.141, -0.1411, -0.1411, -0.1412, -0.1412, -0.1412, -0.1412, -0.1412, -0.1413, -0.1413, -0.1413, -0.1413, -0.1413, -0.1413, -0.1414, -0.1414, -0.1414, -0.1414, -0.1415, -0.1416, -0.1415, -0.1417, -0.1416, 3.1986, 3.1777, 3.1455, 0.0202, 0.019, 0.019, 0.0189, 0.0188, 0.0185, 0.0185, 0.0182, 0.0181, 0.0181, 0.018, 0.018, 0.0179, 0.0178, 0.0177, 0.0177, 0.0176, 0.0176, 0.0175, 0.0175, 0.0175, 0.0175, 0.0175, 0.0175, 0.0175, 0.0174, 0.0174, 0.0151, 0.0172, 3.2133, 3.1944, 3.1929, 3.101, 0.0051, 0.0036, 0.0005, 0.0005, 0.0003, 0.0, -0.0001, -0.001, -0.001, -0.0011, -0.0011, -0.0012, -0.0013, -0.0014, -0.0015, -0.0015, -0.0015, -0.0016, -0.0016, -0.0016, -0.0016, -0.0016, -0.0018, -0.0019, -0.0019, -0.002, -0.002, -0.0021, 3.2281, 3.2271, 3.2178, 3.2095, 3.1528, 2.9545, -0.3161, -0.3172, -0.3184, -0.3184, -0.3185, -0.3186, -0.3186, -0.3186, -0.3187, -0.3188, -0.3189, -0.319, -0.3191, -0.3191, -0.3194, -0.3195, -0.3196, -0.3196, -0.3196, -0.3196, -0.3197, -0.3197, -0.3198, -0.3198, -0.3198, -0.32, -0.32, 3.2601, 3.2495, 0.167, 0.1631, 0.163, 0.163, 0.1627, 0.1627, 0.1613, 0.1612, 0.1611, 0.1603, 0.1602, 0.1599, 0.1596, 0.1593, 0.1593, 0.1593, 0.1591, 0.1591, 0.1586, 0.1585, 0.1584, 0.1584, 0.1583, 0.1583, 0.1582, 0.1582, 0.1582, 0.1582, 0.158, 0.1581, 0.1579, 0.1568, 3.287, 3.2809, 3.2668, 0.0371, 0.0371, 0.037, 0.0354, 0.0352, 0.0351, 0.0349, 0.0349, 0.0346, 0.0346, 0.0345, 0.0344, 0.0344, 0.0342, 0.0342, 0.034, 0.0337, 0.0335, 0.0334, 0.0334, 0.0333, 0.0333, 0.0332, 0.0331, 0.033, 0.033, 0.0329, 0.0327, 0.0328, 0.0312, 3.3572, 3.3455, 0.2397, 0.2362, 0.2362, 0.2361, 0.2359, 0.2349, 0.2348, 0.2347, 0.2347, 0.2346, 0.2345, 0.2342, 0.2337, 0.2337, 0.2336, 0.2336, 0.2336, 0.2334, 0.233, 0.2325, 0.2325, 0.2324, 0.2324, 0.2323, 0.2322, 0.2322, 0.2322, 0.2322, 0.2322, 0.2322, 0.2321, 0.23, 3.5699, 1.5803, 1.5803, 1.5792, 1.5786, 1.578, 1.5708, 1.5708, 1.5707, 1.5706, 1.5705, 1.5703, 1.5703, 1.5703, 1.5702, 1.5702, 1.5702, 1.5702, 1.5702, 1.5702, 1.5702, 1.5702, 1.5702, 1.5702, 1.5702, 1.5702, 1.5702, 1.5702, 1.5702, 1.5702, 1.5702, 1.5702, 1.5701, 1.5702, 1.5701, 1.5699, 1.5697, 1.5702, 1.5701, 1.5702, 1.57, -2.7893, -1.7229, -3.4796, -1.5778, 1.8859, 1.8859, 1.8859, 1.8859, 1.8859, 1.8859, 1.8859, 1.8859, 1.8859, 1.8859, 1.8859, 1.8859, 1.8859, 1.8859, 1.8859, 1.8859, 1.8859, 1.8859, 1.8859, 1.8859, 1.8859, 1.8859, 1.8859, 1.8859, 1.8859, 1.8859, 1.8859, 1.8859, 1.8859, 1.8859, -2.4737, -1.4073, -3.164, -1.2621, -0.2506, -1.456, -2.8373, -0.7113, -1.944, -2.1561, -3.1049, -1.2668, -0.2459, -1.6281, 1.8856, -3.9244, 1.8858, -1.0404, -1.2549, -2.9157, -2.0707, 1.8858, -2.934, -1.9655, 1.8858, -1.6786, -2.799, -1.9657, 1.8858, -1.924, 1.8859, 1.8859, 1.8859, 1.8859, 1.8859, 1.8859, 1.8859, 1.8859, 1.8859, 1.8859, 1.8859, 1.8859, 1.8859, 1.8859, 1.8859, 1.8859, 1.8859, 1.8859, 1.8859, 1.8859, 1.8859, 1.8859, 1.8859, 1.8859, 1.8859, 1.8859, 1.8859, 1.8859, 1.8859, 1.8859, -2.4737, -1.4073, -3.164, -1.2621, -0.2506, -1.456, -2.8373, -0.7113, -1.944, -2.1561, -3.1049, -1.2668, -0.2459, -1.6281, 1.8856, -3.9244, 1.8858, -1.0404, -1.2549, -2.9157, -2.0707, 1.8858, -2.934, -1.9655, 1.8858, -1.6786, -2.799, -1.9657, 1.8858, -1.924]}, \"token.table\": {\"Topic\": [18, 19, 20, 18, 19, 20, 18, 19, 20, 18, 19, 20, 18, 19, 20, 18, 19, 20, 18, 19, 20, 3, 18, 19, 20, 18, 19, 20, 18, 19, 20, 18, 19, 20, 18, 19, 20, 18, 19, 20, 18, 19, 20, 18, 19, 20, 18, 19, 20, 18, 19, 20, 18, 19, 20, 18, 19, 20, 18, 19, 20, 18, 19, 20, 18, 19, 20, 18, 19, 20, 12, 18, 19, 20, 7, 18, 19, 20, 18, 19, 20, 18, 19, 20, 18, 19, 20, 18, 19, 20, 18, 19, 20, 6, 18, 19, 20, 18, 19, 20, 7, 18, 19, 20, 18, 19, 20, 18, 19, 20, 18, 19, 20, 1, 18, 19, 20, 18, 19, 20, 18, 19, 20, 18, 19, 20, 18, 19, 20, 18, 19, 20, 18, 19, 20, 18, 19, 20, 18, 19, 20, 18, 19, 20, 2, 18, 19, 20, 1, 18, 19, 20, 18, 19, 20, 18, 19, 20, 13, 18, 19, 20, 18, 19, 20, 18, 19, 20, 18, 19, 20, 18, 19, 20, 18, 19, 20, 18, 19, 20, 18, 19, 20, 18, 19, 20, 10, 18, 19, 20, 18, 19, 20, 18, 19, 20, 5, 18, 19, 20, 5, 18, 19, 20, 3, 18, 19, 20, 18, 19, 20, 18, 19, 20, 18, 19, 20, 18, 19, 20, 15, 18, 19, 20, 8, 18, 19, 20, 18, 19, 20, 18, 19, 20, 4, 18, 19, 20, 3, 18, 19, 20, 18, 19, 20, 18, 19, 20, 4, 18, 19, 20, 18, 19, 20, 18, 19, 20, 16, 18, 19, 20, 18, 19, 20, 18, 19, 20, 18, 19, 20, 18, 19, 20, 18, 19, 20, 18, 19, 20, 18, 19, 20, 18, 19, 20, 18, 19, 20, 18, 19, 20, 18, 19, 20, 18, 19, 20, 18, 19, 20, 18, 19, 20, 18, 19, 20, 18, 19, 20, 18, 19, 20, 18, 19, 20, 18, 19, 20, 18, 19, 20, 18, 19, 20, 18, 19, 20, 18, 19, 20, 18, 19, 20, 18, 19, 20, 9, 18, 19, 20, 18, 19, 20, 5, 18, 19, 20, 18, 19, 20, 18, 19, 20, 18, 19, 20, 18, 19, 20, 18, 19, 20, 18, 19, 20, 18, 19, 20, 18, 19, 20, 18, 19, 20, 18, 19, 20, 18, 19, 20, 2, 18, 19, 20, 18, 19, 20, 18, 19, 20, 18, 19, 20, 18, 19, 20, 14, 18, 19, 20, 18, 19, 20, 18, 19, 20, 18, 19, 20, 18, 19, 20, 13, 18, 19, 20, 18, 19, 20, 18, 19, 20, 18, 19, 20, 18, 19, 20, 18, 19, 20, 18, 19, 20, 18, 19, 20, 18, 19, 20, 18, 19, 20, 18, 19, 20, 8, 18, 19, 20, 18, 19, 20, 18, 19, 20, 18, 19, 20, 18, 19, 20, 5, 18, 19, 20, 8, 18, 19, 20, 18, 19, 20, 18, 19, 20, 18, 19, 20, 18, 19, 20, 18, 19, 20, 18, 19, 20, 18, 19, 20, 18, 19, 20, 18, 19, 20, 18, 19, 20, 18, 19, 20, 18, 19, 20, 18, 19, 20, 18, 19, 20, 4, 18, 19, 20, 18, 19, 20, 18, 19, 20, 18, 19, 20, 18, 19, 20, 18, 19, 20, 18, 19, 20, 18, 19, 20, 18, 19, 20, 9, 18, 19, 20, 18, 19, 20, 18, 19, 20, 18, 19, 20, 18, 19, 20, 15, 18, 19, 20, 18, 19, 20, 18, 19, 20, 18, 19, 20, 18, 19, 20, 18, 19, 20, 18, 19, 20, 18, 19, 20, 18, 19, 20, 18, 19, 20, 18, 19, 20, 18, 19, 20, 18, 19, 20, 18, 19, 20, 18, 19, 20, 18, 19, 20, 18, 19, 20, 18, 19, 20, 18, 19, 20, 18, 19, 20, 18, 19, 20, 18, 19, 20, 18, 19, 20, 18, 19, 20, 18, 19, 20, 18, 19, 20, 18, 19, 20, 14, 18, 19, 20, 7, 18, 19, 20, 3, 18, 19, 20, 18, 19, 20, 18, 19, 20, 18, 19, 20, 10, 18, 19, 20, 18, 19, 20, 18, 19, 20, 18, 19, 20, 18, 19, 20, 8, 18, 19, 20, 18, 19, 20, 18, 19, 20, 18, 19, 20, 18, 19, 20, 18, 19, 20, 18, 19, 20, 11, 18, 19, 20, 18, 19, 20, 18, 19, 20, 7, 18, 19, 20, 18, 19, 20, 18, 19, 20, 18, 19, 20, 18, 19, 20, 6, 18, 19, 20, 7, 18, 19, 20, 18, 19, 20, 18, 19, 20, 18, 19, 20, 18, 19, 20, 18, 19, 20, 18, 19, 20, 18, 19, 20, 18, 19, 20, 10, 18, 19, 20, 4, 18, 19, 20, 18, 19, 20, 18, 19, 20, 18, 19, 20, 18, 19, 20, 7, 18, 19, 20, 18, 19, 20, 18, 19, 20, 18, 19, 20, 18, 19, 20, 18, 19, 20, 10, 18, 19, 20, 18, 19, 20, 18, 19, 20, 18, 19, 20, 18, 19, 20, 18, 19, 20, 10, 18, 19, 20, 18, 19, 20, 18, 19, 20, 18, 19, 20, 16, 18, 19, 20, 3, 18, 19, 20, 18, 19, 20, 18, 19, 20, 18, 19, 20, 9, 18, 19, 20, 8, 18, 19, 20, 18, 19, 20, 4, 18, 19, 20, 18, 19, 20, 18, 19, 20, 18, 19, 20, 18, 19, 20, 5, 18, 19, 20, 18, 19, 20, 2, 18, 19, 20, 18, 19, 20, 18, 19, 20, 18, 19, 20, 18, 19, 20, 18, 19, 20, 18, 19, 20, 13, 18, 19, 20, 18, 19, 20, 18, 19, 20, 18, 19, 20, 18, 19, 20, 18, 19, 20, 18, 19, 20, 16, 18, 19, 20, 18, 19, 20, 18, 19, 20, 18, 19, 20, 18, 19, 20, 18, 19, 20, 18, 19, 20, 8, 18, 19, 20, 18, 19, 20, 18, 19, 20, 9, 18, 19, 20, 18, 19, 20, 12, 18, 19, 20, 5, 18, 19, 20, 18, 19, 20, 18, 19, 20, 18, 19, 20, 4, 18, 19, 20, 18, 19, 20, 5, 18, 19, 20, 18, 19, 20, 3, 18, 19, 20, 18, 19, 20, 18, 19, 20, 18, 19, 20, 18, 19, 20, 18, 19, 20, 18, 19, 20, 14, 18, 19, 20, 18, 19, 20, 18, 19, 20, 4, 18, 19, 20, 18, 19, 20, 18, 19, 20, 18, 19, 20, 18, 19, 20, 18, 19, 20, 18, 19, 20, 18, 19, 20, 18, 19, 20, 18, 19, 20, 10, 18, 19, 20, 13, 18, 19, 20, 18, 19, 20, 18, 19, 20, 18, 19, 20, 5, 18, 19, 20, 18, 19, 20, 18, 19, 20, 18, 19, 20, 18, 19, 20, 18, 19, 20, 18, 19, 20, 12, 18, 19, 20, 18, 19, 20, 18, 19, 20, 17, 18, 19, 20, 18, 19, 20, 18, 19, 20, 18, 19, 20, 18, 19, 20, 18, 19, 20, 18, 19, 20, 18, 19, 20, 18, 19, 20, 18, 19, 20, 18, 19, 20, 18, 19, 20, 18, 19, 20, 18, 19, 20, 18, 19, 20, 8, 18, 19, 20, 18, 19, 20, 18, 19, 20, 18, 19, 20, 3, 18, 19, 20, 8, 18, 19, 20, 18, 19, 20, 18, 19, 20, 17, 18, 19, 20, 18, 19, 20, 18, 19, 20, 18, 19, 20, 18, 19, 20, 18, 19, 20, 18, 19, 20, 14, 18, 19, 20, 18, 19, 20, 8, 18, 19, 20, 18, 19, 20, 18, 19, 20, 18, 19, 20, 18, 19, 20, 18, 19, 20, 18, 19, 20, 18, 19, 20, 18, 19, 20, 18, 19, 20, 18, 19, 20, 18, 19, 20, 18, 19, 20, 18, 19, 20, 18, 19, 20, 11, 18, 19, 20, 6, 18, 19, 20, 5, 18, 19, 20, 14, 18, 19, 20, 18, 19, 20, 18, 19, 20, 18, 19, 20, 18, 19, 20, 3, 18, 19, 20, 18, 19, 20, 18, 19, 20, 14, 18, 19, 20, 18, 19, 20, 18, 19, 20, 18, 19, 20, 18, 19, 20, 2, 18, 19, 20, 18, 19, 20, 18, 19, 20, 10, 18, 19, 20, 18, 19, 20, 2, 18, 19, 20, 18, 19, 20, 18, 19, 20, 18, 19, 20, 18, 19, 20], \"Freq\": [0.19173364274645652, 0.19173364274645652, 0.19173364274645652, 0.19173061396493152, 0.19173061396493152, 0.19173061396493152, 0.191741120364, 0.191741120364, 0.191741120364, 0.19172385338978812, 0.19172385338978812, 0.19172385338978812, 0.19174911766448638, 0.19174911766448638, 0.19174911766448638, 0.19170280587812794, 0.19170280587812794, 0.19170280587812794, 0.19172203602517934, 0.19172203602517934, 0.19172203602517934, 0.9768933054218556, 0.004247362197486329, 0.004247362197486329, 0.004247362197486329, 0.19173814552374502, 0.19173814552374502, 0.19173814552374502, 0.1917298875143441, 0.1917298875143441, 0.1917298875143441, 0.19172262261367998, 0.19172262261367998, 0.19172262261367998, 0.1917316075674677, 0.1917316075674677, 0.1917316075674677, 0.19164138111440446, 0.19164138111440446, 0.19164138111440446, 0.19171805184320362, 0.19171805184320362, 0.19171805184320362, 0.19170859893914385, 0.19170859893914385, 0.19170859893914385, 0.19173721303506228, 0.19173721303506228, 0.19173721303506228, 0.19167234154890234, 0.19167234154890234, 0.19167234154890234, 0.19174264089540188, 0.19174264089540188, 0.19174264089540188, 0.19172344744101474, 0.19172344744101474, 0.19172344744101474, 0.19172760229069294, 0.19172760229069294, 0.19172760229069294, 0.19142940815242712, 0.19142940815242712, 0.19142940815242712, 0.19169251598155695, 0.19169251598155695, 0.19169251598155695, 0.19173603248145094, 0.19173603248145094, 0.19173603248145094, 0.9425823562462453, 0.01163681921291661, 0.01163681921291661, 0.01163681921291661, 0.9631360989972496, 0.006782648584487673, 0.006782648584487673, 0.006782648584487673, 0.1917490428294296, 0.1917490428294296, 0.1917490428294296, 0.19173217599002895, 0.19173217599002895, 0.19173217599002895, 0.19174013046828003, 0.19174013046828003, 0.19174013046828003, 0.191740575762316, 0.191740575762316, 0.191740575762316, 0.19173376323810504, 0.19173376323810504, 0.19173376323810504, 0.9858313842282747, 0.002614937358695689, 0.002614937358695689, 0.002614937358695689, 0.19167883726074933, 0.19167883726074933, 0.19167883726074933, 0.9834040074943002, 0.003367821943473631, 0.003367821943473631, 0.003367821943473631, 0.19174062153689367, 0.19174062153689367, 0.19174062153689367, 0.19172470698923325, 0.19172470698923325, 0.19172470698923325, 0.19172481454222942, 0.19172481454222942, 0.19172481454222942, 0.9969348316919294, 0.0005746022084679709, 0.0005746022084679709, 0.0005746022084679709, 0.19170747682653524, 0.19170747682653524, 0.19170747682653524, 0.19168509118341814, 0.19168509118341814, 0.19168509118341814, 0.1917185138822373, 0.1917185138822373, 0.1917185138822373, 0.1916965501157394, 0.1916965501157394, 0.1916965501157394, 0.19172523001694752, 0.19172523001694752, 0.19172523001694752, 0.1917181496665619, 0.1917181496665619, 0.1917181496665619, 0.1917286689032854, 0.1917286689032854, 0.1917286689032854, 0.19170139282973533, 0.19170139282973533, 0.19170139282973533, 0.19171986976844074, 0.19171986976844074, 0.19171986976844074, 0.9828957719532518, 0.003081177968505492, 0.003081177968505492, 0.003081177968505492, 0.9923509380194588, 0.0016429651291712895, 0.0016429651291712895, 0.0016429651291712895, 0.19170763629876755, 0.19170763629876755, 0.19170763629876755, 0.1917351926963561, 0.1917351926963561, 0.1917351926963561, 0.8870904577447408, 0.022745909172942072, 0.022745909172942072, 0.022745909172942072, 0.19172831564658063, 0.19172831564658063, 0.19172831564658063, 0.19173025716519612, 0.19173025716519612, 0.19173025716519612, 0.1916564064415089, 0.1916564064415089, 0.1916564064415089, 0.19169589786607863, 0.19169589786607863, 0.19169589786607863, 0.19171973581768345, 0.19171973581768345, 0.19171973581768345, 0.1917112743565267, 0.1917112743565267, 0.1917112743565267, 0.1917491285680817, 0.1917491285680817, 0.1917491285680817, 0.1917206352033239, 0.1917206352033239, 0.1917206352033239, 0.9613042954845881, 0.007120772559145097, 0.007120772559145097, 0.007120772559145097, 0.19171389510756026, 0.19171389510756026, 0.19171389510756026, 0.19174124039853715, 0.19174124039853715, 0.19174124039853715, 0.9877361696125564, 0.002450958237252001, 0.002450958237252001, 0.002450958237252001, 0.9605349703641339, 0.007446007522202589, 0.007446007522202589, 0.007446007522202589, 0.9949899633954735, 0.0010173721507111182, 0.0010173721507111182, 0.0010173721507111182, 0.19172012320451437, 0.19172012320451437, 0.19172012320451437, 0.19174912706219027, 0.19174912706219027, 0.19174912706219027, 0.19174907772375274, 0.19174907772375274, 0.19174907772375274, 0.1916903823202777, 0.1916903823202777, 0.1916903823202777, 0.9926349655921702, 0.0015756110564955083, 0.0015756110564955083, 0.0015756110564955083, 0.9043506934506514, 0.01884063944688857, 0.01884063944688857, 0.01884063944688857, 0.19172533626147176, 0.19172533626147176, 0.19172533626147176, 0.19172474055551256, 0.19172474055551256, 0.19172474055551256, 0.9850573449632878, 0.002814449557037965, 0.002814449557037965, 0.002814449557037965, 0.9825140270153481, 0.003679827816536884, 0.003679827816536884, 0.003679827816536884, 0.19172405348065366, 0.19172405348065366, 0.19172405348065366, 0.19172330471286247, 0.19172330471286247, 0.19172330471286247, 0.9931648113736368, 0.0012291643705119267, 0.0012291643705119267, 0.0012291643705119267, 0.1917057990183719, 0.1917057990183719, 0.1917057990183719, 0.1917134476007743, 0.1917134476007743, 0.1917134476007743, 0.9882601891068813, 0.0022059379221135746, 0.0022059379221135746, 0.0022059379221135746, 0.19170700776789298, 0.19170700776789298, 0.19170700776789298, 0.1917182599431827, 0.1917182599431827, 0.1917182599431827, 0.19174901919289708, 0.19174901919289708, 0.19174901919289708, 0.19171957238439855, 0.19171957238439855, 0.19171957238439855, 0.19171956569300427, 0.19171956569300427, 0.19171956569300427, 0.19168426641004319, 0.19168426641004319, 0.19168426641004319, 0.1916968850425628, 0.1916968850425628, 0.1916968850425628, 0.191728572017527, 0.191728572017527, 0.191728572017527, 0.1916960758572259, 0.1916960758572259, 0.1916960758572259, 0.19166643459050306, 0.19166643459050306, 0.19166643459050306, 0.19174910046458202, 0.19174910046458202, 0.19174910046458202, 0.1917361799209437, 0.1917361799209437, 0.1917361799209437, 0.19169926742603158, 0.19169926742603158, 0.19169926742603158, 0.19174152563071997, 0.19174152563071997, 0.19174152563071997, 0.19174897044761569, 0.19174897044761569, 0.19174897044761569, 0.19173562706831515, 0.19173562706831515, 0.19173562706831515, 0.1917415907903172, 0.1917415907903172, 0.1917415907903172, 0.19173444276499518, 0.19173444276499518, 0.19173444276499518, 0.19171586489658807, 0.19171586489658807, 0.19171586489658807, 0.19174740062346607, 0.19174740062346607, 0.19174740062346607, 0.1917417844267107, 0.1917417844267107, 0.1917417844267107, 0.19172989301436116, 0.19172989301436116, 0.19172989301436116, 0.19168352777516615, 0.19168352777516615, 0.19168352777516615, 0.1917454610161132, 0.1917454610161132, 0.1917454610161132, 0.19174903549358407, 0.19174903549358407, 0.19174903549358407, 0.991638857711608, 0.0015470184987700592, 0.0015470184987700592, 0.0015470184987700592, 0.19171826402763534, 0.19171826402763534, 0.19171826402763534, 0.8923578741066243, 0.022308946852665608, 0.022308946852665608, 0.022308946852665608, 0.19174910579523605, 0.19174910579523605, 0.19174910579523605, 0.19169992388515497, 0.19169992388515497, 0.19169992388515497, 0.19172936293538032, 0.19172936293538032, 0.19172936293538032, 0.19172728389094934, 0.19172728389094934, 0.19172728389094934, 0.19172122248196716, 0.19172122248196716, 0.19172122248196716, 0.19173736818888726, 0.19173736818888726, 0.19173736818888726, 0.19172870904260558, 0.19172870904260558, 0.19172870904260558, 0.1917435654056999, 0.1917435654056999, 0.1917435654056999, 0.19170450614561174, 0.19170450614561174, 0.19170450614561174, 0.19172886552290655, 0.19172886552290655, 0.19172886552290655, 0.19172892716544815, 0.19172892716544815, 0.19172892716544815, 0.9284248637469921, 0.013653306819808708, 0.013653306819808708, 0.013653306819808708, 0.19172510673003065, 0.19172510673003065, 0.19172510673003065, 0.19172958645971722, 0.19172958645971722, 0.19172958645971722, 0.19173189021649636, 0.19173189021649636, 0.19173189021649636, 0.1917258622415782, 0.1917258622415782, 0.1917258622415782, 0.9742444623198887, 0.005182151395318557, 0.005182151395318557, 0.005182151395318557, 0.1917347268531, 0.1917347268531, 0.1917347268531, 0.19173490494525197, 0.19173490494525197, 0.19173490494525197, 0.1917379414793504, 0.1917379414793504, 0.1917379414793504, 0.19172345664661902, 0.19172345664661902, 0.19172345664661902, 0.9917552046832482, 0.001704046743442007, 0.001704046743442007, 0.001704046743442007, 0.19174906391014274, 0.19174906391014274, 0.19174906391014274, 0.19174910214692537, 0.19174910214692537, 0.19174910214692537, 0.19173976664303233, 0.19173976664303233, 0.19173976664303233, 0.19173234240384282, 0.19173234240384282, 0.19173234240384282, 0.1916388033725819, 0.1916388033725819, 0.1916388033725819, 0.19172410473188825, 0.19172410473188825, 0.19172410473188825, 0.1917283726477313, 0.1917283726477313, 0.1917283726477313, 0.19173392396396563, 0.19173392396396563, 0.19173392396396563, 0.19172109936503426, 0.19172109936503426, 0.19172109936503426, 0.19169474802455605, 0.19169474802455605, 0.19169474802455605, 0.9918647267739849, 0.0017555127907504155, 0.0017555127907504155, 0.0017555127907504155, 0.19173886811595867, 0.19173886811595867, 0.19173886811595867, 0.19173643316126665, 0.19173643316126665, 0.19173643316126665, 0.1917491097134183, 0.1917491097134183, 0.1917491097134183, 0.19165584753386875, 0.19165584753386875, 0.19165584753386875, 0.9465193839767706, 0.010755902090645121, 0.010755902090645121, 0.010755902090645121, 0.9760828638995591, 0.004625985136964735, 0.004625985136964735, 0.004625985136964735, 0.19170527054622435, 0.19170527054622435, 0.19170527054622435, 0.1916822954910301, 0.1916822954910301, 0.1916822954910301, 0.1917192813721477, 0.1917192813721477, 0.1917192813721477, 0.19167873144096695, 0.19167873144096695, 0.19167873144096695, 0.19174913106137992, 0.19174913106137992, 0.19174913106137992, 0.19172813016566406, 0.19172813016566406, 0.19172813016566406, 0.19170110571093268, 0.19170110571093268, 0.19170110571093268, 0.1917303910344886, 0.1917303910344886, 0.1917303910344886, 0.19149850769574095, 0.19149850769574095, 0.19149850769574095, 0.19174545082880384, 0.19174545082880384, 0.19174545082880384, 0.19172955134694508, 0.19172955134694508, 0.19172955134694508, 0.1916954011051714, 0.1916954011051714, 0.1916954011051714, 0.19168584965838287, 0.19168584965838287, 0.19168584965838287, 0.19168096988448705, 0.19168096988448705, 0.19168096988448705, 0.9715201816333817, 0.0051676605406030945, 0.0051676605406030945, 0.0051676605406030945, 0.19173942399370691, 0.19173942399370691, 0.19173942399370691, 0.1917256387842866, 0.1917256387842866, 0.1917256387842866, 0.19167234882200326, 0.19167234882200326, 0.19167234882200326, 0.19172851317175132, 0.19172851317175132, 0.19172851317175132, 0.19174908640513597, 0.19174908640513597, 0.19174908640513597, 0.19174069858985782, 0.19174069858985782, 0.19174069858985782, 0.1917148519002616, 0.1917148519002616, 0.1917148519002616, 0.19172739969338898, 0.19172739969338898, 0.19172739969338898, 0.9844042805344595, 0.0032170074527269918, 0.0032170074527269918, 0.0032170074527269918, 0.19172508768248653, 0.19172508768248653, 0.19172508768248653, 0.1917360151224489, 0.1917360151224489, 0.1917360151224489, 0.1917321391375326, 0.1917321391375326, 0.1917321391375326, 0.1916993654079176, 0.1916993654079176, 0.1916993654079176, 0.9829983364550638, 0.003667904240503969, 0.003667904240503969, 0.003667904240503969, 0.19161481198092079, 0.19161481198092079, 0.19161481198092079, 0.19172902038698433, 0.19172902038698433, 0.19172902038698433, 0.191704310845001, 0.191704310845001, 0.191704310845001, 0.19170706939645257, 0.19170706939645257, 0.19170706939645257, 0.19161477402041524, 0.19161477402041524, 0.19161477402041524, 0.1917189627891253, 0.1917189627891253, 0.1917189627891253, 0.19171042777688957, 0.19171042777688957, 0.19171042777688957, 0.19174045736959436, 0.19174045736959436, 0.19174045736959436, 0.19172223751677758, 0.19172223751677758, 0.19172223751677758, 0.19171279922974385, 0.19171279922974385, 0.19171279922974385, 0.1917329664213565, 0.1917329664213565, 0.1917329664213565, 0.19172029171854427, 0.19172029171854427, 0.19172029171854427, 0.19174911636610456, 0.19174911636610456, 0.19174911636610456, 0.19174901520289075, 0.19174901520289075, 0.19174901520289075, 0.19173444979684395, 0.19173444979684395, 0.19173444979684395, 0.19169823548512557, 0.19169823548512557, 0.19169823548512557, 0.1917381237193473, 0.1917381237193473, 0.1917381237193473, 0.1917349973156271, 0.1917349973156271, 0.1917349973156271, 0.19173726541525565, 0.19173726541525565, 0.19173726541525565, 0.1916742750924203, 0.1916742750924203, 0.1916742750924203, 0.1917360233732219, 0.1917360233732219, 0.1917360233732219, 0.1917132379846933, 0.1917132379846933, 0.1917132379846933, 0.19174119700510112, 0.19174119700510112, 0.19174119700510112, 0.19173358768915083, 0.19173358768915083, 0.19173358768915083, 0.19170046302633154, 0.19170046302633154, 0.19170046302633154, 0.19174180076804576, 0.19174180076804576, 0.19174180076804576, 0.9160822493630234, 0.017284570742698555, 0.017284570742698555, 0.017284570742698555, 0.9936805051787231, 0.0013040426577148596, 0.0013040426577148596, 0.0013040426577148596, 0.8174263417500902, 0.03405943090625376, 0.03405943090625376, 0.03405943090625376, 0.19172992422045804, 0.19172992422045804, 0.19172992422045804, 0.1917035949378511, 0.1917035949378511, 0.1917035949378511, 0.19168859542079505, 0.19168859542079505, 0.19168859542079505, 0.9867156938899624, 0.00240076811165441, 0.00240076811165441, 0.00240076811165441, 0.19174896818081136, 0.19174896818081136, 0.19174896818081136, 0.19172203777326122, 0.19172203777326122, 0.19172203777326122, 0.1917392980029644, 0.1917392980029644, 0.1917392980029644, 0.19174075823211445, 0.19174075823211445, 0.19174075823211445, 0.9855273521762523, 0.002768335258922057, 0.002768335258922057, 0.002768335258922057, 0.1917242543428068, 0.1917242543428068, 0.1917242543428068, 0.1917284622293693, 0.1917284622293693, 0.1917284622293693, 0.19172611038379217, 0.19172611038379217, 0.19172611038379217, 0.19174259782409098, 0.19174259782409098, 0.19174259782409098, 0.19174038226222925, 0.19174038226222925, 0.19174038226222925, 0.1916924213935797, 0.1916924213935797, 0.1916924213935797, 0.9604998308769931, 0.008004165257308276, 0.008004165257308276, 0.008004165257308276, 0.19171547582032683, 0.19171547582032683, 0.19171547582032683, 0.19173688381094237, 0.19173688381094237, 0.19173688381094237, 0.928350271553362, 0.014282311870051722, 0.014282311870051722, 0.014282311870051722, 0.19171625034576606, 0.19171625034576606, 0.19171625034576606, 0.19172462869879078, 0.19172462869879078, 0.19172462869879078, 0.19171343165026639, 0.19171343165026639, 0.19171343165026639, 0.19174903301105964, 0.19174903301105964, 0.19174903301105964, 0.9788627678882273, 0.004469693004055832, 0.004469693004055832, 0.004469693004055832, 0.9587926722975059, 0.008194809164935948, 0.008194809164935948, 0.008194809164935948, 0.1917490758300439, 0.1917490758300439, 0.1917490758300439, 0.9775558460974932, 0.004568017972418193, 0.004568017972418193, 0.1916920447286, 0.1916920447286, 0.1916920447286, 0.19143528019608247, 0.19143528019608247, 0.19143528019608247, 0.19166533967378876, 0.19166533967378876, 0.19166533967378876, 0.19171923019609918, 0.19171923019609918, 0.19171923019609918, 0.19171281875149648, 0.19171281875149648, 0.19171281875149648, 0.19171801866929974, 0.19171801866929974, 0.19171801866929974, 0.9385902163228647, 0.012514536217638195, 0.012514536217638195, 0.012514536217638195, 0.9668991158097215, 0.006119614657023553, 0.006119614657023553, 0.006119614657023553, 0.1917145694260095, 0.1917145694260095, 0.1917145694260095, 0.19169716709397133, 0.19169716709397133, 0.19169716709397133, 0.19169798997735213, 0.19169798997735213, 0.19169798997735213, 0.1917374102848011, 0.1917374102848011, 0.1917374102848011, 0.9783879747152737, 0.004163353083894782, 0.004163353083894782, 0.004163353083894782, 0.19173639770675227, 0.19173639770675227, 0.19173639770675227, 0.19149678353280716, 0.19149678353280716, 0.19149678353280716, 0.19174381108533137, 0.19174381108533137, 0.19174381108533137, 0.19171369249409495, 0.19171369249409495, 0.19171369249409495, 0.19174346718970997, 0.19174346718970997, 0.19174346718970997, 0.987931392360705, 0.0024514426609446773, 0.0024514426609446773, 0.0024514426609446773, 0.19173675310990537, 0.19173675310990537, 0.19173675310990537, 0.1917489659106481, 0.1917489659106481, 0.1917489659106481, 0.1917126184479528, 0.1917126184479528, 0.1917126184479528, 0.191709720386773, 0.191709720386773, 0.191709720386773, 0.19171795980357254, 0.19171795980357254, 0.19171795980357254, 0.9550624111859936, 0.008233296648155117, 0.008233296648155117, 0.008233296648155117, 0.1917491285431845, 0.1917491285431845, 0.1917491285431845, 0.1917335160153528, 0.1917335160153528, 0.1917335160153528, 0.19170783821913245, 0.19170783821913245, 0.19170783821913245, 0.9721200397392971, 0.00615265847936264, 0.00615265847936264, 0.00615265847936264, 0.9709380407960571, 0.005745195507668977, 0.005745195507668977, 0.005745195507668977, 0.19174911869132596, 0.19174911869132596, 0.19174911869132596, 0.19173370398831271, 0.19173370398831271, 0.19173370398831271, 0.1917448147123349, 0.1917448147123349, 0.1917448147123349, 0.9142719930395983, 0.01549613547524743, 0.01549613547524743, 0.01549613547524743, 0.9180672463756085, 0.016394057970993012, 0.016394057970993012, 0.016394057970993012, 0.19174901217710633, 0.19174901217710633, 0.19174901217710633, 0.9082417456610057, 0.016513486284745558, 0.016513486284745558, 0.016513486284745558, 0.19170640914584666, 0.19170640914584666, 0.19170640914584666, 0.1917479361829119, 0.1917479361829119, 0.1917479361829119, 0.19172592637578123, 0.19172592637578123, 0.19172592637578123, 0.19172872030488985, 0.19172872030488985, 0.19172872030488985, 0.991546913863734, 0.0015444655979185886, 0.0015444655979185886, 0.0015444655979185886, 0.19174235106611717, 0.19174235106611717, 0.19174235106611717, 0.9146899781662734, 0.016938703299375434, 0.016938703299375434, 0.016938703299375434, 0.19171827823521767, 0.19171827823521767, 0.19171827823521767, 0.1917150444788034, 0.1917150444788034, 0.1917150444788034, 0.19172247035386292, 0.19172247035386292, 0.19172247035386292, 0.19174237335718414, 0.19174237335718414, 0.19174237335718414, 0.19143020516067455, 0.19143020516067455, 0.19143020516067455, 0.19165736636580413, 0.19165736636580413, 0.19165736636580413, 0.9706688830894293, 0.0057098169593495845, 0.0057098169593495845, 0.0057098169593495845, 0.19171067156931654, 0.19171067156931654, 0.19171067156931654, 0.19172147307955686, 0.19172147307955686, 0.19172147307955686, 0.19168661829690148, 0.19168661829690148, 0.19168661829690148, 0.19174909431774353, 0.19174909431774353, 0.19174909431774353, 0.1917491287161105, 0.1917491287161105, 0.1917491287161105, 0.19171835469634363, 0.19171835469634363, 0.19171835469634363, 0.9819625260492723, 0.0034214722161995553, 0.0034214722161995553, 0.0034214722161995553, 0.19174347562836938, 0.19174347562836938, 0.19174347562836938, 0.1917226657743091, 0.1917226657743091, 0.1917226657743091, 0.1917199734332445, 0.1917199734332445, 0.1917199734332445, 0.19173823194477127, 0.19173823194477127, 0.19173823194477127, 0.19171797445252978, 0.19171797445252978, 0.19171797445252978, 0.1917029232622656, 0.1917029232622656, 0.1917029232622656, 0.9384225922618725, 0.011171697526927054, 0.011171697526927054, 0.011171697526927054, 0.19173747634255525, 0.19173747634255525, 0.19173747634255525, 0.1917295623094866, 0.1917295623094866, 0.1917295623094866, 0.977945191365453, 0.0040747716306893875, 0.0040747716306893875, 0.0040747716306893875, 0.19171552727024874, 0.19171552727024874, 0.19171552727024874, 0.9931874521847596, 0.0013718058731833696, 0.0013718058731833696, 0.0013718058731833696, 0.9213651390834146, 0.01510434654235106, 0.01510434654235106, 0.01510434654235106, 0.1916671583507886, 0.1916671583507886, 0.1916671583507886, 0.19157248991191705, 0.19157248991191705, 0.19157248991191705, 0.19171453855868886, 0.19171453855868886, 0.19171453855868886, 0.9454887561702381, 0.010277051697502588, 0.010277051697502588, 0.010277051697502588, 0.19172291628187355, 0.19172291628187355, 0.19172291628187355, 0.9350924723895305, 0.011988365030635008, 0.011988365030635008, 0.011988365030635008, 0.19171946920841706, 0.19171946920841706, 0.19171946920841706, 0.9825094368883293, 0.003423377828879196, 0.003423377828879196, 0.003423377828879196, 0.19171797307531727, 0.19171797307531727, 0.19171797307531727, 0.19169231548587148, 0.19169231548587148, 0.19169231548587148, 0.19168393118815774, 0.19168393118815774, 0.19168393118815774, 0.19173174368375775, 0.19173174368375775, 0.19173174368375775, 0.19172842814364113, 0.19172842814364113, 0.19172842814364113, 0.1917310229892664, 0.1917310229892664, 0.1917310229892664, 0.9830577493185937, 0.0034015839076767945, 0.0034015839076767945, 0.0034015839076767945, 0.19172212559761817, 0.19172212559761817, 0.19172212559761817, 0.19172876157207086, 0.19172876157207086, 0.19172876157207086, 0.9536889695536115, 0.008292947561335752, 0.008292947561335752, 0.008292947561335752, 0.19171417572405908, 0.19171417572405908, 0.19171417572405908, 0.19173095461873924, 0.19173095461873924, 0.19173095461873924, 0.19170078754219042, 0.19170078754219042, 0.19170078754219042, 0.19172081917285405, 0.19172081917285405, 0.19172081917285405, 0.1917128646986415, 0.1917128646986415, 0.1917128646986415, 0.19174912118923837, 0.19174912118923837, 0.19174912118923837, 0.1917409527125774, 0.1917409527125774, 0.1917409527125774, 0.19164743654640892, 0.19164743654640892, 0.19164743654640892, 0.19172702897160923, 0.19172702897160923, 0.19172702897160923, 0.8829481085904266, 0.02263969509206222, 0.02263969509206222, 0.02263969509206222, 0.9717805192685993, 0.005428941448427929, 0.005428941448427929, 0.005428941448427929, 0.19173947387715343, 0.19173947387715343, 0.19173947387715343, 0.19173431901052487, 0.19173431901052487, 0.19173431901052487, 0.19170973869431598, 0.19170973869431598, 0.19170973869431598, 0.9069084731234761, 0.01929592496007396, 0.01929592496007396, 0.01929592496007396, 0.19174911167157865, 0.19174911167157865, 0.19174911167157865, 0.19173677237457923, 0.19173677237457923, 0.19173677237457923, 0.19173168587486386, 0.19173168587486386, 0.19173168587486386, 0.19167751686281753, 0.19167751686281753, 0.19167751686281753, 0.19167364175400511, 0.19167364175400511, 0.19167364175400511, 0.1917292521335272, 0.1917292521335272, 0.1917292521335272, 0.9741719681767929, 0.005472876225712319, 0.005472876225712319, 0.005472876225712319, 0.19173454128737882, 0.19173454128737882, 0.19173454128737882, 0.1917243944364836, 0.1917243944364836, 0.1917243944364836, 0.9915524628762102, 0.0017706293979932325, 0.0017706293979932325, 0.0017706293979932325, 0.1917204371434278, 0.1917204371434278, 0.1917204371434278, 0.19174912775233902, 0.19174912775233902, 0.19174912775233902, 0.19171552931932043, 0.19171552931932043, 0.19171552931932043, 0.19173683503661715, 0.19173683503661715, 0.19173683503661715, 0.1917292607250092, 0.1917292607250092, 0.1917292607250092, 0.19174283661548766, 0.19174283661548766, 0.19174283661548766, 0.19173901858541953, 0.19173901858541953, 0.19173901858541953, 0.19173283030063065, 0.19173283030063065, 0.19173283030063065, 0.1917274517598651, 0.1917274517598651, 0.1917274517598651, 0.19174121640035557, 0.19174121640035557, 0.19174121640035557, 0.19169812113369103, 0.19169812113369103, 0.19169812113369103, 0.19171335541786994, 0.19171335541786994, 0.19171335541786994, 0.19173166562862226, 0.19173166562862226, 0.19173166562862226, 0.19139448956900545, 0.19139448956900545, 0.19139448956900545, 0.9297849317860782, 0.01328264188265826, 0.01328264188265826, 0.01328264188265826, 0.19172996861949093, 0.19172996861949093, 0.19172996861949093, 0.1916979926351208, 0.1916979926351208, 0.1916979926351208, 0.1917106519878102, 0.1917106519878102, 0.1917106519878102, 0.8583416043344679, 0.030655057297659567, 0.030655057297659567, 0.030655057297659567, 0.7872423824007526, 0.03936211912003763, 0.03936211912003763, 0.03936211912003763, 0.19174148952701286, 0.19174148952701286, 0.19174148952701286, 0.19171524557025077, 0.19171524557025077, 0.19171524557025077, 0.9778045348413529, 0.0040741855618389704, 0.0040741855618389704, 0.0040741855618389704, 0.19172883159427243, 0.19172883159427243, 0.19172883159427243, 0.19173791670425824, 0.19173791670425824, 0.19173791670425824, 0.19174043518866402, 0.19174043518866402, 0.19174043518866402, 0.19172881771963593, 0.19172881771963593, 0.19172881771963593, 0.19173126210520194, 0.19173126210520194, 0.19173126210520194, 0.1917226436260136, 0.1917226436260136, 0.1917226436260136, 0.9628215266017045, 0.006780433285927497, 0.006780433285927497, 0.006780433285927497, 0.19173801131240714, 0.19173801131240714, 0.19173801131240714, 0.8962399296883694, 0.01867166520184103, 0.01867166520184103, 0.01867166520184103, 0.19174564003715994, 0.19174564003715994, 0.19174564003715994, 0.19167335000604233, 0.19167335000604233, 0.19167335000604233, 0.19172515000954113, 0.19172515000954113, 0.19172515000954113, 0.1917247235566481, 0.1917247235566481, 0.1917247235566481, 0.19173263516323044, 0.19173263516323044, 0.19173263516323044, 0.19172297352691547, 0.19172297352691547, 0.19172297352691547, 0.19171967408467203, 0.19171967408467203, 0.19171967408467203, 0.19171564174282849, 0.19171564174282849, 0.19171564174282849, 0.1917006157757754, 0.1917006157757754, 0.1917006157757754, 0.19172007494595383, 0.19172007494595383, 0.19172007494595383, 0.19173406756528963, 0.19173406756528963, 0.19173406756528963, 0.1917238153017275, 0.1917238153017275, 0.1917238153017275, 0.19174440367176832, 0.19174440367176832, 0.19174440367176832, 0.191647170874698, 0.191647170874698, 0.191647170874698, 0.9945407536798745, 0.0011062744757284477, 0.0011062744757284477, 0.0011062744757284477, 0.9954287030672683, 0.0009399704467113015, 0.0009399704467113015, 0.0009399704467113015, 0.9779521702240775, 0.004634844408644917, 0.004634844408644917, 0.004634844408644917, 0.9852372054740028, 0.0031988220956948145, 0.0031988220956948145, 0.0031988220956948145, 0.19173085782035, 0.19173085782035, 0.19173085782035, 0.1917193734178429, 0.1917193734178429, 0.1917193734178429, 0.19173927841214752, 0.19173927841214752, 0.19173927841214752, 0.1917316844488546, 0.1917316844488546, 0.1917316844488546, 0.9740506165310621, 0.005099741447806607, 0.005099741447806607, 0.005099741447806607, 0.19122551204675037, 0.19122551204675037, 0.19122551204675037, 0.19173752806628322, 0.19173752806628322, 0.19173752806628322, 0.7450703974220283, 0.049671359828135225, 0.049671359828135225, 0.049671359828135225, 0.191675043129352, 0.191675043129352, 0.191675043129352, 0.19168217702811785, 0.19168217702811785, 0.19168217702811785, 0.19172307097397048, 0.19172307097397048, 0.19172307097397048, 0.19171819532133422, 0.19171819532133422, 0.19171819532133422, 0.9807688978038424, 0.003831128507046259, 0.003831128507046259, 0.003831128507046259, 0.19173064042260254, 0.19173064042260254, 0.19173064042260254, 0.19174832757832597, 0.19174832757832597, 0.19174832757832597, 0.9400473795550268, 0.01270334296695982, 0.01270334296695982, 0.01270334296695982, 0.19174156327003442, 0.19174156327003442, 0.19174156327003442, 0.9968442296349883, 0.0006119362981184704, 0.0006119362981184704, 0.0006119362981184704, 0.19174911908480743, 0.19174911908480743, 0.19174911908480743, 0.19172382395485107, 0.19172382395485107, 0.19172382395485107, 0.19174425201059658, 0.19174425201059658, 0.19174425201059658, 0.19173547984602368, 0.19173547984602368, 0.19173547984602368], \"Term\": [\"\\u0430\\u0430\\u0430\\u0430\", \"\\u0430\\u0430\\u0430\\u0430\", \"\\u0430\\u0430\\u0430\\u0430\", \"\\u0430\\u0432\\u0442\\u043e\\u0431\\u0443\\u0441\", \"\\u0430\\u0432\\u0442\\u043e\\u0431\\u0443\\u0441\", \"\\u0430\\u0432\\u0442\\u043e\\u0431\\u0443\\u0441\", \"\\u0430\\u0445\\u0430\\u0445\", \"\\u0430\\u0445\\u0430\\u0445\", \"\\u0430\\u0445\\u0430\\u0445\", \"\\u0430\\u0445\\u0438\", \"\\u0430\\u0445\\u0438\", \"\\u0430\\u0445\\u0438\", \"\\u0431\\u0435\\u043b\\u044b\\u0439\", \"\\u0431\\u0435\\u043b\\u044b\\u0439\", \"\\u0431\\u0435\\u043b\\u044b\\u0439\", \"\\u0431\\u0438\\u043b\\u0435\\u0442\", \"\\u0431\\u0438\\u043b\\u0435\\u0442\", \"\\u0431\\u0438\\u043b\\u0435\\u0442\", \"\\u0431\\u043b\\u0438\\u0437\\u043a\\u0438\\u0439\", \"\\u0431\\u043b\\u0438\\u0437\\u043a\\u0438\\u0439\", \"\\u0431\\u043b\\u0438\\u0437\\u043a\\u0438\\u0439\", \"\\u0431\\u043b\\u0438\\u043d\", \"\\u0431\\u043b\\u0438\\u043d\", \"\\u0431\\u043b\\u0438\\u043d\", \"\\u0431\\u043b\\u0438\\u043d\", \"\\u0431\\u043e\\u043b\\u0435\\u0442\\u044c\", \"\\u0431\\u043e\\u043b\\u0435\\u0442\\u044c\", \"\\u0431\\u043e\\u043b\\u0435\\u0442\\u044c\", \"\\u0431\\u043e\\u043b\\u044c\\u043d\\u0438\\u0446\\u0430\", \"\\u0431\\u043e\\u043b\\u044c\\u043d\\u0438\\u0446\\u0430\", \"\\u0431\\u043e\\u043b\\u044c\\u043d\\u0438\\u0446\\u0430\", \"\\u0431\\u043e\\u043b\\u044c\\u043d\\u043e\", \"\\u0431\\u043e\\u043b\\u044c\\u043d\\u043e\", \"\\u0431\\u043e\\u043b\\u044c\\u043d\\u043e\", \"\\u0431\\u043e\\u043b\\u044c\\u0448\\u0438\\u0439\", \"\\u0431\\u043e\\u043b\\u044c\\u0448\\u0438\\u0439\", \"\\u0431\\u043e\\u043b\\u044c\\u0448\\u0438\\u0439\", \"\\u0431\\u043e\\u043b\\u044c\\u0448\\u043e\\u0439\", \"\\u0431\\u043e\\u043b\\u044c\\u0448\\u043e\\u0439\", \"\\u0431\\u043e\\u043b\\u044c\\u0448\\u043e\\u0439\", \"\\u0431\\u043e\\u044f\\u0442\\u044c\\u0441\\u044f\", \"\\u0431\\u043e\\u044f\\u0442\\u044c\\u0441\\u044f\", \"\\u0431\\u043e\\u044f\\u0442\\u044c\\u0441\\u044f\", \"\\u0431\\u0440\\u0430\\u0442\\u044c\", \"\\u0431\\u0440\\u0430\\u0442\\u044c\", \"\\u0431\\u0440\\u0430\\u0442\\u044c\", \"\\u0431\\u044b\\u0432\\u0430\\u0442\\u044c\", \"\\u0431\\u044b\\u0432\\u0430\\u0442\\u044c\", \"\\u0431\\u044b\\u0432\\u0430\\u0442\\u044c\", \"\\u0432\\u0430\\u0448\", \"\\u0432\\u0430\\u0448\", \"\\u0432\\u0430\\u0448\", \"\\u0432\\u0435\\u0437\\u0442\\u0438\", \"\\u0432\\u0435\\u0437\\u0442\\u0438\", \"\\u0432\\u0435\\u0437\\u0442\\u0438\", \"\\u0432\\u0435\\u0440\\u0438\\u0442\\u044c\", \"\\u0432\\u0435\\u0440\\u0438\\u0442\\u044c\", \"\\u0432\\u0435\\u0440\\u0438\\u0442\\u044c\", \"\\u0432\\u0435\\u0441\\u0442\\u0438\", \"\\u0432\\u0435\\u0441\\u0442\\u0438\", \"\\u0432\\u0435\\u0441\\u0442\\u0438\", \"\\u0432\\u0435\\u0441\\u044c\", \"\\u0432\\u0435\\u0441\\u044c\", \"\\u0432\\u0435\\u0441\\u044c\", \"\\u0432\\u0435\\u0447\\u0435\\u0440\", \"\\u0432\\u0435\\u0447\\u0435\\u0440\", \"\\u0432\\u0435\\u0447\\u0435\\u0440\", \"\\u0432\\u0435\\u0447\\u043d\\u043e\", \"\\u0432\\u0435\\u0447\\u043d\\u043e\", \"\\u0432\\u0435\\u0447\\u043d\\u043e\", \"\\u0432\\u0435\\u0449\\u044c\", \"\\u0432\\u0435\\u0449\\u044c\", \"\\u0432\\u0435\\u0449\\u044c\", \"\\u0432\\u0435\\u0449\\u044c\", \"\\u0432\\u0438\\u0434\\u0435\\u0442\\u044c\", \"\\u0432\\u0438\\u0434\\u0435\\u0442\\u044c\", \"\\u0432\\u0438\\u0434\\u0435\\u0442\\u044c\", \"\\u0432\\u0438\\u0434\\u0435\\u0442\\u044c\", \"\\u0432\\u0438\\u0434\\u0438\\u043c\\u043e\", \"\\u0432\\u0438\\u0434\\u0438\\u043c\\u043e\", \"\\u0432\\u0438\\u0434\\u0438\\u043c\\u043e\", \"\\u0432\\u043c\\u0435\\u0441\\u0442\\u0435\", \"\\u0432\\u043c\\u0435\\u0441\\u0442\\u0435\", \"\\u0432\\u043c\\u0435\\u0441\\u0442\\u0435\", \"\\u0432\\u043c\\u0435\\u0441\\u0442\\u043e\", \"\\u0432\\u043c\\u0435\\u0441\\u0442\\u043e\", \"\\u0432\\u043c\\u0435\\u0441\\u0442\\u043e\", \"\\u0432\\u043e\\u0437\\u043c\\u043e\\u0436\\u043d\\u043e\", \"\\u0432\\u043e\\u0437\\u043c\\u043e\\u0436\\u043d\\u043e\", \"\\u0432\\u043e\\u0437\\u043c\\u043e\\u0436\\u043d\\u043e\", \"\\u0432\\u043e\\u043b\\u043e\\u0441\", \"\\u0432\\u043e\\u043b\\u043e\\u0441\", \"\\u0432\\u043e\\u043b\\u043e\\u0441\", \"\\u0432\\u043e\\u043e\\u0431\\u0449\\u0435\", \"\\u0432\\u043e\\u043e\\u0431\\u0449\\u0435\", \"\\u0432\\u043e\\u043e\\u0431\\u0449\\u0435\", \"\\u0432\\u043e\\u043e\\u0431\\u0449\\u0435\", \"\\u0432\\u043e\\u043f\\u0440\\u043e\\u0441\", \"\\u0432\\u043e\\u043f\\u0440\\u043e\\u0441\", \"\\u0432\\u043e\\u043f\\u0440\\u043e\\u0441\", \"\\u0432\\u0440\\u0435\\u043c\\u044f\", \"\\u0432\\u0440\\u0435\\u043c\\u044f\", \"\\u0432\\u0440\\u0435\\u043c\\u044f\", \"\\u0432\\u0440\\u0435\\u043c\\u044f\", \"\\u0432\\u0440\\u043e\\u0434\\u0435\", \"\\u0432\\u0440\\u043e\\u0434\\u0435\", \"\\u0432\\u0440\\u043e\\u0434\\u0435\", \"\\u0432\\u0441\\u043f\\u043e\\u043c\\u0438\\u043d\\u0430\\u0442\\u044c\", \"\\u0432\\u0441\\u043f\\u043e\\u043c\\u0438\\u043d\\u0430\\u0442\\u044c\", \"\\u0432\\u0441\\u043f\\u043e\\u043c\\u0438\\u043d\\u0430\\u0442\\u044c\", \"\\u0432\\u0441\\u044f\\u043a\\u0438\\u0439\", \"\\u0432\\u0441\\u044f\\u043a\\u0438\\u0439\", \"\\u0432\\u0441\\u044f\\u043a\\u0438\\u0439\", \"\\u0432\\u0441\\u0451\", \"\\u0432\\u0441\\u0451\", \"\\u0432\\u0441\\u0451\", \"\\u0432\\u0441\\u0451\", \"\\u0432\\u0442\\u043e\\u0440\\u043e\\u0439\", \"\\u0432\\u0442\\u043e\\u0440\\u043e\\u0439\", \"\\u0432\\u0442\\u043e\\u0440\\u043e\\u0439\", \"\\u0432\\u0447\\u0435\\u0440\\u0430\", \"\\u0432\\u0447\\u0435\\u0440\\u0430\", \"\\u0432\\u0447\\u0435\\u0440\\u0430\", \"\\u0432\\u044b\\u0439\\u0442\\u0438\", \"\\u0432\\u044b\\u0439\\u0442\\u0438\", \"\\u0432\\u044b\\u0439\\u0442\\u0438\", \"\\u0432\\u044b\\u0445\\u043e\\u0434\\u0438\\u0442\\u044c\", \"\\u0432\\u044b\\u0445\\u043e\\u0434\\u0438\\u0442\\u044c\", \"\\u0432\\u044b\\u0445\\u043e\\u0434\\u0438\\u0442\\u044c\", \"\\u0432\\u044b\\u0445\\u043e\\u0434\\u043d\\u043e\\u0439\", \"\\u0432\\u044b\\u0445\\u043e\\u0434\\u043d\\u043e\\u0439\", \"\\u0432\\u044b\\u0445\\u043e\\u0434\\u043d\\u043e\\u0439\", \"\\u0433\\u043b\\u0430\\u0432\\u043d\\u043e\\u0435\", \"\\u0433\\u043b\\u0430\\u0432\\u043d\\u043e\\u0435\", \"\\u0433\\u043b\\u0430\\u0432\\u043d\\u043e\\u0435\", \"\\u0433\\u043b\\u0430\\u0432\\u043d\\u044b\\u0439\", \"\\u0433\\u043b\\u0430\\u0432\\u043d\\u044b\\u0439\", \"\\u0433\\u043b\\u0430\\u0432\\u043d\\u044b\\u0439\", \"\\u0433\\u043b\\u0430\\u0437\", \"\\u0433\\u043b\\u0430\\u0437\", \"\\u0433\\u043b\\u0430\\u0437\", \"\\u0433\\u043e\\u0432\\u043d\\u043e\", \"\\u0433\\u043e\\u0432\\u043d\\u043e\", \"\\u0433\\u043e\\u0432\\u043d\\u043e\", \"\\u0433\\u043e\\u0432\\u043e\\u0440\\u0438\\u0442\\u044c\", \"\\u0433\\u043e\\u0432\\u043e\\u0440\\u0438\\u0442\\u044c\", \"\\u0433\\u043e\\u0432\\u043e\\u0440\\u0438\\u0442\\u044c\", \"\\u0433\\u043e\\u0432\\u043e\\u0440\\u0438\\u0442\\u044c\", \"\\u0433\\u043e\\u0434\", \"\\u0433\\u043e\\u0434\", \"\\u0433\\u043e\\u0434\", \"\\u0433\\u043e\\u0434\", \"\\u0433\\u043e\\u0440\\u043e\\u0434\", \"\\u0433\\u043e\\u0440\\u043e\\u0434\", \"\\u0433\\u043e\\u0440\\u043e\\u0434\", \"\\u0433\\u043e\\u0442\\u043e\\u0432\\u0438\\u0442\\u044c\", \"\\u0433\\u043e\\u0442\\u043e\\u0432\\u0438\\u0442\\u044c\", \"\\u0433\\u043e\\u0442\\u043e\\u0432\\u0438\\u0442\\u044c\", \"\\u0433\\u043e\\u0442\\u043e\\u0432\\u044b\\u0439\", \"\\u0433\\u043e\\u0442\\u043e\\u0432\\u044b\\u0439\", \"\\u0433\\u043e\\u0442\\u043e\\u0432\\u044b\\u0439\", \"\\u0433\\u043e\\u0442\\u043e\\u0432\\u044b\\u0439\", \"\\u0433\\u0440\\u0443\\u043f\\u043f\\u0430\", \"\\u0433\\u0440\\u0443\\u043f\\u043f\\u0430\", \"\\u0433\\u0440\\u0443\\u043f\\u043f\\u0430\", \"\\u0433\\u0440\\u0443\\u0441\\u0442\\u043d\\u044b\\u0439\", \"\\u0433\\u0440\\u0443\\u0441\\u0442\\u043d\\u044b\\u0439\", \"\\u0433\\u0440\\u0443\\u0441\\u0442\\u043d\\u044b\\u0439\", \"\\u0434\\u0430\\u0432\\u0430\\u0442\\u044c\", \"\\u0434\\u0430\\u0432\\u0430\\u0442\\u044c\", \"\\u0434\\u0430\\u0432\\u0430\\u0442\\u044c\", \"\\u0434\\u0430\\u0432\\u043d\\u043e\", \"\\u0434\\u0430\\u0432\\u043d\\u043e\", \"\\u0434\\u0430\\u0432\\u043d\\u043e\", \"\\u0434\\u0430\\u043b\\u0451\\u043a\\u0438\\u0439\", \"\\u0434\\u0430\\u043b\\u0451\\u043a\\u0438\\u0439\", \"\\u0434\\u0430\\u043b\\u0451\\u043a\\u0438\\u0439\", \"\\u0434\\u0430\\u0442\\u044c\", \"\\u0434\\u0430\\u0442\\u044c\", \"\\u0434\\u0430\\u0442\\u044c\", \"\\u0434\\u0430\\u0448\\u0430\", \"\\u0434\\u0430\\u0448\\u0430\", \"\\u0434\\u0430\\u0448\\u0430\", \"\\u0434\\u0435\\u0432\\u043a\\u0430\", \"\\u0434\\u0435\\u0432\\u043a\\u0430\", \"\\u0434\\u0435\\u0432\\u043a\\u0430\", \"\\u0434\\u0435\\u0432\\u043e\\u0447\\u043a\\u0430\", \"\\u0434\\u0435\\u0432\\u043e\\u0447\\u043a\\u0430\", \"\\u0434\\u0435\\u0432\\u043e\\u0447\\u043a\\u0430\", \"\\u0434\\u0435\\u0432\\u043e\\u0447\\u043a\\u0430\", \"\\u0434\\u0435\\u0432\\u0443\\u0448\\u043a\\u0430\", \"\\u0434\\u0435\\u0432\\u0443\\u0448\\u043a\\u0430\", \"\\u0434\\u0435\\u0432\\u0443\\u0448\\u043a\\u0430\", \"\\u0434\\u0435\\u043a\\u0430\\u0431\\u0440\\u044c\", \"\\u0434\\u0435\\u043a\\u0430\\u0431\\u0440\\u044c\", \"\\u0434\\u0435\\u043a\\u0430\\u0431\\u0440\\u044c\", \"\\u0434\\u0435\\u043b\\u0430\\u0442\\u044c\", \"\\u0434\\u0435\\u043b\\u0430\\u0442\\u044c\", \"\\u0434\\u0435\\u043b\\u0430\\u0442\\u044c\", \"\\u0434\\u0435\\u043b\\u0430\\u0442\\u044c\", \"\\u0434\\u0435\\u043b\\u043e\", \"\\u0434\\u0435\\u043b\\u043e\", \"\\u0434\\u0435\\u043b\\u043e\", \"\\u0434\\u0435\\u043b\\u043e\", \"\\u0434\\u0435\\u043d\\u044c\", \"\\u0434\\u0435\\u043d\\u044c\", \"\\u0434\\u0435\\u043d\\u044c\", \"\\u0434\\u0435\\u043d\\u044c\", \"\\u0434\\u043e\\u0431\\u0440\\u044b\\u0439\", \"\\u0434\\u043e\\u0431\\u0440\\u044b\\u0439\", \"\\u0434\\u043e\\u0431\\u0440\\u044b\\u0439\", \"\\u0434\\u043e\\u0436\\u0434\\u0430\\u0442\\u044c\\u0441\\u044f\", \"\\u0434\\u043e\\u0436\\u0434\\u0430\\u0442\\u044c\\u0441\\u044f\", \"\\u0434\\u043e\\u0436\\u0434\\u0430\\u0442\\u044c\\u0441\\u044f\", \"\\u0434\\u043e\\u0436\\u0434\\u044c\", \"\\u0434\\u043e\\u0436\\u0434\\u044c\", \"\\u0434\\u043e\\u0436\\u0434\\u044c\", \"\\u0434\\u043e\\u043b\\u0436\\u043d\\u044b\\u0439\", \"\\u0434\\u043e\\u043b\\u0436\\u043d\\u044b\\u0439\", \"\\u0434\\u043e\\u043b\\u0436\\u043d\\u044b\\u0439\", \"\\u0434\\u043e\\u043c\", \"\\u0434\\u043e\\u043c\", \"\\u0434\\u043e\\u043c\", \"\\u0434\\u043e\\u043c\", \"\\u0434\\u043e\\u043c\\u043e\\u0439\", \"\\u0434\\u043e\\u043c\\u043e\\u0439\", \"\\u0434\\u043e\\u043c\\u043e\\u0439\", \"\\u0434\\u043e\\u043c\\u043e\\u0439\", \"\\u0434\\u043e\\u0440\\u043e\\u0433\\u0430\", \"\\u0434\\u043e\\u0440\\u043e\\u0433\\u0430\", \"\\u0434\\u043e\\u0440\\u043e\\u0433\\u0430\", \"\\u0434\\u043e\\u0440\\u043e\\u0433\\u043e\\u0439\", \"\\u0434\\u043e\\u0440\\u043e\\u0433\\u043e\\u0439\", \"\\u0434\\u043e\\u0440\\u043e\\u0433\\u043e\\u0439\", \"\\u0434\\u0440\\u0443\\u0433\", \"\\u0434\\u0440\\u0443\\u0433\", \"\\u0434\\u0440\\u0443\\u0433\", \"\\u0434\\u0440\\u0443\\u0433\", \"\\u0434\\u0443\\u043c\\u0430\\u0442\\u044c\", \"\\u0434\\u0443\\u043c\\u0430\\u0442\\u044c\", \"\\u0434\\u0443\\u043c\\u0430\\u0442\\u044c\", \"\\u0434\\u0443\\u043c\\u0430\\u0442\\u044c\", \"\\u0434\\u0443\\u0448\\u0430\", \"\\u0434\\u0443\\u0448\\u0430\", \"\\u0434\\u0443\\u0448\\u0430\", \"\\u0435\\u0434\\u0438\\u043d\\u0441\\u0442\\u0432\\u0435\\u043d\\u043d\\u044b\\u0439\", \"\\u0435\\u0434\\u0438\\u043d\\u0441\\u0442\\u0432\\u0435\\u043d\\u043d\\u044b\\u0439\", \"\\u0435\\u0434\\u0438\\u043d\\u0441\\u0442\\u0432\\u0435\\u043d\\u043d\\u044b\\u0439\", \"\\u0435\\u0449\\u0451\", \"\\u0435\\u0449\\u0451\", \"\\u0435\\u0449\\u0451\", \"\\u0435\\u0449\\u0451\", \"\\u0436\\u0430\\u043b\\u043a\\u043e\", \"\\u0436\\u0430\\u043b\\u043a\\u043e\", \"\\u0436\\u0430\\u043b\\u043a\\u043e\", \"\\u0436\\u0430\\u043b\\u044c\", \"\\u0436\\u0430\\u043b\\u044c\", \"\\u0436\\u0430\\u043b\\u044c\", \"\\u0436\\u0434\\u0430\\u0442\\u044c\", \"\\u0436\\u0434\\u0430\\u0442\\u044c\", \"\\u0436\\u0434\\u0430\\u0442\\u044c\", \"\\u0436\\u0434\\u0430\\u0442\\u044c\", \"\\u0436\\u0435\\u043b\\u0430\\u043d\\u0438\\u0435\", \"\\u0436\\u0435\\u043b\\u0430\\u043d\\u0438\\u0435\", \"\\u0436\\u0435\\u043b\\u0430\\u043d\\u0438\\u0435\", \"\\u0436\\u0435\\u043b\\u0430\\u0442\\u044c\", \"\\u0436\\u0435\\u043b\\u0430\\u0442\\u044c\", \"\\u0436\\u0435\\u043b\\u0430\\u0442\\u044c\", \"\\u0436\\u0435\\u043d\\u0430\", \"\\u0436\\u0435\\u043d\\u0430\", \"\\u0436\\u0435\\u043d\\u0430\", \"\\u0436\\u0435\\u043d\\u0449\\u0438\\u043d\\u0430\", \"\\u0436\\u0435\\u043d\\u0449\\u0438\\u043d\\u0430\", \"\\u0436\\u0435\\u043d\\u0449\\u0438\\u043d\\u0430\", \"\\u0436\\u0435\\u0441\\u0442\\u044c\", \"\\u0436\\u0435\\u0441\\u0442\\u044c\", \"\\u0436\\u0435\\u0441\\u0442\\u044c\", \"\\u0436\\u0438\\u0437\\u043d\\u044c\", \"\\u0436\\u0438\\u0437\\u043d\\u044c\", \"\\u0436\\u0438\\u0437\\u043d\\u044c\", \"\\u0436\\u0438\\u0442\\u044c\", \"\\u0436\\u0438\\u0442\\u044c\", \"\\u0436\\u0438\\u0442\\u044c\", \"\\u0436\\u043e\\u043f\\u0430\", \"\\u0436\\u043e\\u043f\\u0430\", \"\\u0436\\u043e\\u043f\\u0430\", \"\\u0437\\u0430\\u0431\\u044b\\u0442\\u044c\", \"\\u0437\\u0430\\u0431\\u044b\\u0442\\u044c\", \"\\u0437\\u0430\\u0431\\u044b\\u0442\\u044c\", \"\\u0437\\u0430\\u0432\\u0442\\u0440\\u0430\", \"\\u0437\\u0430\\u0432\\u0442\\u0440\\u0430\", \"\\u0437\\u0430\\u0432\\u0442\\u0440\\u0430\", \"\\u0437\\u0430\\u0433\\u0430\\u0434\\u0430\\u0442\\u044c\", \"\\u0437\\u0430\\u0433\\u0430\\u0434\\u0430\\u0442\\u044c\", \"\\u0437\\u0430\\u0433\\u0430\\u0434\\u0430\\u0442\\u044c\", \"\\u0437\\u0430\\u043a\\u043e\\u043d\\u0447\\u0438\\u0442\\u044c\\u0441\\u044f\", \"\\u0437\\u0430\\u043a\\u043e\\u043d\\u0447\\u0438\\u0442\\u044c\\u0441\\u044f\", \"\\u0437\\u0430\\u043a\\u043e\\u043d\\u0447\\u0438\\u0442\\u044c\\u0441\\u044f\", \"\\u0437\\u0430\\u043b\", \"\\u0437\\u0430\\u043b\", \"\\u0437\\u0430\\u043b\", \"\\u0437\\u0430\\u043c\\u0435\\u0442\\u0438\\u0442\\u044c\", \"\\u0437\\u0430\\u043c\\u0435\\u0442\\u0438\\u0442\\u044c\", \"\\u0437\\u0430\\u043c\\u0435\\u0442\\u0438\\u0442\\u044c\", \"\\u0437\\u0430\\u043d\\u0438\\u043c\\u0430\\u0442\\u044c\\u0441\\u044f\", \"\\u0437\\u0430\\u043d\\u0438\\u043c\\u0430\\u0442\\u044c\\u0441\\u044f\", \"\\u0437\\u0430\\u043d\\u0438\\u043c\\u0430\\u0442\\u044c\\u0441\\u044f\", \"\\u0437\\u0430\\u043d\\u044f\\u0442\\u044b\\u0439\", \"\\u0437\\u0430\\u043d\\u044f\\u0442\\u044b\\u0439\", \"\\u0437\\u0430\\u043d\\u044f\\u0442\\u044b\\u0439\", \"\\u0437\\u0430\\u043f\\u0438\\u0441\\u044c\", \"\\u0437\\u0430\\u043f\\u0438\\u0441\\u044c\", \"\\u0437\\u0430\\u043f\\u0438\\u0441\\u044c\", \"\\u0437\\u0430\\u0442\\u043e\", \"\\u0437\\u0430\\u0442\\u043e\", \"\\u0437\\u0430\\u0442\\u043e\", \"\\u0437\\u0430\\u0445\\u043e\\u0442\\u0435\\u0442\\u044c\", \"\\u0437\\u0430\\u0445\\u043e\\u0442\\u0435\\u0442\\u044c\", \"\\u0437\\u0430\\u0445\\u043e\\u0442\\u0435\\u0442\\u044c\", \"\\u0437\\u0431\\u0441\", \"\\u0437\\u0431\\u0441\", \"\\u0437\\u0431\\u0441\", \"\\u0437\\u0432\\u0430\\u0442\\u044c\", \"\\u0437\\u0432\\u0430\\u0442\\u044c\", \"\\u0437\\u0432\\u0430\\u0442\\u044c\", \"\\u0437\\u0432\\u0435\\u0437\\u0434\\u0430\", \"\\u0437\\u0432\\u0435\\u0437\\u0434\\u0430\", \"\\u0437\\u0432\\u0435\\u0437\\u0434\\u0430\", \"\\u0437\\u0432\\u043e\\u043d\\u0438\\u0442\\u044c\", \"\\u0437\\u0432\\u043e\\u043d\\u0438\\u0442\\u044c\", \"\\u0437\\u0432\\u043e\\u043d\\u0438\\u0442\\u044c\", \"\\u0437\\u0432\\u0443\\u0447\\u0430\\u0442\\u044c\", \"\\u0437\\u0432\\u0443\\u0447\\u0430\\u0442\\u044c\", \"\\u0437\\u0432\\u0443\\u0447\\u0430\\u0442\\u044c\", \"\\u0437\\u043b\\u043e\\u0439\", \"\\u0437\\u043b\\u043e\\u0439\", \"\\u0437\\u043b\\u043e\\u0439\", \"\\u0437\\u043d\\u0430\\u0442\\u044c\", \"\\u0437\\u043d\\u0430\\u0442\\u044c\", \"\\u0437\\u043d\\u0430\\u0442\\u044c\", \"\\u0437\\u043d\\u0430\\u0442\\u044c\", \"\\u0437\\u043d\\u0430\\u0447\\u0438\\u0442\", \"\\u0437\\u043d\\u0430\\u0447\\u0438\\u0442\", \"\\u0437\\u043d\\u0430\\u0447\\u0438\\u0442\", \"\\u0438\\u0433\\u0440\\u0430\", \"\\u0438\\u0433\\u0440\\u0430\", \"\\u0438\\u0433\\u0440\\u0430\", \"\\u0438\\u0433\\u0440\\u0430\", \"\\u0438\\u0434\\u0435\\u0430\\u043b\\u044c\\u043d\\u044b\\u0439\", \"\\u0438\\u0434\\u0435\\u0430\\u043b\\u044c\\u043d\\u044b\\u0439\", \"\\u0438\\u0434\\u0435\\u0430\\u043b\\u044c\\u043d\\u044b\\u0439\", \"\\u0438\\u0434\\u0442\\u0438\", \"\\u0438\\u0434\\u0442\\u0438\", \"\\u0438\\u0434\\u0442\\u0438\", \"\\u0438\\u0437\\u043c\\u0435\\u043d\\u0438\\u0442\\u044c\\u0441\\u044f\", \"\\u0438\\u0437\\u043c\\u0435\\u043d\\u0438\\u0442\\u044c\\u0441\\u044f\", \"\\u0438\\u0437\\u043c\\u0435\\u043d\\u0438\\u0442\\u044c\\u0441\\u044f\", \"\\u0438\\u043d\\u0442\\u0435\\u0440\\u0435\\u0441\\u043d\\u043e\", \"\\u0438\\u043d\\u0442\\u0435\\u0440\\u0435\\u0441\\u043d\\u043e\", \"\\u0438\\u043d\\u0442\\u0435\\u0440\\u0435\\u0441\\u043d\\u043e\", \"\\u0438\\u043d\\u0442\\u0435\\u0440\\u0435\\u0441\\u043d\\u044b\\u0439\", \"\\u0438\\u043d\\u0442\\u0435\\u0440\\u0435\\u0441\\u043d\\u044b\\u0439\", \"\\u0438\\u043d\\u0442\\u0435\\u0440\\u0435\\u0441\\u043d\\u044b\\u0439\", \"\\u0438\\u043d\\u0442\\u0435\\u0440\\u043d\\u0435\\u0442\", \"\\u0438\\u043d\\u0442\\u0435\\u0440\\u043d\\u0435\\u0442\", \"\\u0438\\u043d\\u0442\\u0435\\u0440\\u043d\\u0435\\u0442\", \"\\u0438\\u0441\\u043a\\u0430\\u0442\\u044c\", \"\\u0438\\u0441\\u043a\\u0430\\u0442\\u044c\", \"\\u0438\\u0441\\u043a\\u0430\\u0442\\u044c\", \"\\u0438\\u0441\\u0442\\u043e\\u0440\\u0438\\u044f\", \"\\u0438\\u0441\\u0442\\u043e\\u0440\\u0438\\u044f\", \"\\u0438\\u0441\\u0442\\u043e\\u0440\\u0438\\u044f\", \"\\u043a\\u0430\\u0436\\u0434\\u044b\\u0439\", \"\\u043a\\u0430\\u0436\\u0434\\u044b\\u0439\", \"\\u043a\\u0430\\u0436\\u0434\\u044b\\u0439\", \"\\u043a\\u0430\\u0437\\u0430\\u0442\\u044c\\u0441\\u044f\", \"\\u043a\\u0430\\u0437\\u0430\\u0442\\u044c\\u0441\\u044f\", \"\\u043a\\u0430\\u0437\\u0430\\u0442\\u044c\\u0441\\u044f\", \"\\u043a\\u0430\\u043d\\u0438\\u043a\\u0443\\u043b\\u044b\", \"\\u043a\\u0430\\u043d\\u0438\\u043a\\u0443\\u043b\\u044b\", \"\\u043a\\u0430\\u043d\\u0438\\u043a\\u0443\\u043b\\u044b\", \"\\u043a\\u0430\\u0440\\u0442\\u0438\\u043d\\u043a\\u0430\", \"\\u043a\\u0430\\u0440\\u0442\\u0438\\u043d\\u043a\\u0430\", \"\\u043a\\u0430\\u0440\\u0442\\u0438\\u043d\\u043a\\u0430\", \"\\u043a\\u0430\\u0440\\u0442\\u0438\\u043d\\u043a\\u0430\", \"\\u043a\\u0438\\u0434\\u0430\\u0442\\u044c\", \"\\u043a\\u0438\\u0434\\u0430\\u0442\\u044c\", \"\\u043a\\u0438\\u0434\\u0430\\u0442\\u044c\", \"\\u043a\\u043b\\u0430\\u0441\\u0441\\u043d\\u043e\", \"\\u043a\\u043b\\u0430\\u0441\\u0441\\u043d\\u043e\", \"\\u043a\\u043b\\u0430\\u0441\\u0441\\u043d\\u043e\", \"\\u043a\\u043e\\u043c\\u043d\\u0430\\u0442\\u0430\", \"\\u043a\\u043e\\u043c\\u043d\\u0430\\u0442\\u0430\", \"\\u043a\\u043e\\u043c\\u043d\\u0430\\u0442\\u0430\", \"\\u043a\\u043e\\u043c\\u043f\", \"\\u043a\\u043e\\u043c\\u043f\", \"\\u043a\\u043e\\u043c\\u043f\", \"\\u043a\\u043e\\u043d\\u0435\\u0446\", \"\\u043a\\u043e\\u043d\\u0435\\u0446\", \"\\u043a\\u043e\\u043d\\u0435\\u0446\", \"\\u043a\\u043e\\u043d\\u0435\\u0446\", \"\\u043a\\u043e\\u043d\\u0442\\u0430\\u043a\\u0442\", \"\\u043a\\u043e\\u043d\\u0442\\u0430\\u043a\\u0442\", \"\\u043a\\u043e\\u043d\\u0442\\u0430\\u043a\\u0442\", \"\\u043a\\u043e\\u043d\\u0442\\u0440\\u043e\\u043b\\u044c\\u043d\\u044b\\u0439\", \"\\u043a\\u043e\\u043d\\u0442\\u0440\\u043e\\u043b\\u044c\\u043d\\u044b\\u0439\", \"\\u043a\\u043e\\u043d\\u0442\\u0440\\u043e\\u043b\\u044c\\u043d\\u044b\\u0439\", \"\\u043a\\u043e\\u043d\\u0446\\u0435\\u0440\\u0442\", \"\\u043a\\u043e\\u043d\\u0446\\u0435\\u0440\\u0442\", \"\\u043a\\u043e\\u043d\\u0446\\u0435\\u0440\\u0442\", \"\\u043a\\u043e\\u0440\\u043e\\u0447\\u0435\", \"\\u043a\\u043e\\u0440\\u043e\\u0447\\u0435\", \"\\u043a\\u043e\\u0440\\u043e\\u0447\\u0435\", \"\\u043a\\u043e\\u0442\\u043e\\u0440\\u044b\\u0439\", \"\\u043a\\u043e\\u0442\\u043e\\u0440\\u044b\\u0439\", \"\\u043a\\u043e\\u0442\\u043e\\u0440\\u044b\\u0439\", \"\\u043a\\u043e\\u0442\\u043e\\u0440\\u044b\\u0439\", \"\\u043a\\u0440\\u0430\\u0441\\u043d\\u044b\\u0439\", \"\\u043a\\u0440\\u0430\\u0441\\u043d\\u044b\\u0439\", \"\\u043a\\u0440\\u0430\\u0441\\u043d\\u044b\\u0439\", \"\\u043a\\u0440\\u0430\\u0441\\u043e\\u0442\\u0430\", \"\\u043a\\u0440\\u0430\\u0441\\u043e\\u0442\\u0430\", \"\\u043a\\u0440\\u0430\\u0441\\u043e\\u0442\\u0430\", \"\\u043a\\u0440\\u043e\\u043c\\u0435\", \"\\u043a\\u0440\\u043e\\u043c\\u0435\", \"\\u043a\\u0440\\u043e\\u043c\\u0435\", \"\\u043a\\u0440\\u0443\\u0442\\u043e\", \"\\u043a\\u0440\\u0443\\u0442\\u043e\", \"\\u043a\\u0440\\u0443\\u0442\\u043e\", \"\\u043a\\u0443\\u043f\\u0438\\u0442\\u044c\", \"\\u043a\\u0443\\u043f\\u0438\\u0442\\u044c\", \"\\u043a\\u0443\\u043f\\u0438\\u0442\\u044c\", \"\\u043b\\u0435\\u0432\\u044b\\u0439\", \"\\u043b\\u0435\\u0432\\u044b\\u0439\", \"\\u043b\\u0435\\u0432\\u044b\\u0439\", \"\\u043b\\u0435\\u0436\\u0430\\u0442\\u044c\", \"\\u043b\\u0435\\u0436\\u0430\\u0442\\u044c\", \"\\u043b\\u0435\\u0436\\u0430\\u0442\\u044c\", \"\\u043b\\u0435\\u043d\\u0442\\u0430\", \"\\u043b\\u0435\\u043d\\u0442\\u0430\", \"\\u043b\\u0435\\u043d\\u0442\\u0430\", \"\\u043b\\u0435\\u0447\\u044c\", \"\\u043b\\u0435\\u0447\\u044c\", \"\\u043b\\u0435\\u0447\\u044c\", \"\\u043b\\u0438\\u0448\\u044c\", \"\\u043b\\u0438\\u0448\\u044c\", \"\\u043b\\u0438\\u0448\\u044c\", \"\\u043b\\u044e\\u0431\\u0438\\u0442\\u044c\", \"\\u043b\\u044e\\u0431\\u0438\\u0442\\u044c\", \"\\u043b\\u044e\\u0431\\u0438\\u0442\\u044c\", \"\\u043b\\u044e\\u0431\\u0438\\u0442\\u044c\", \"\\u043b\\u044e\\u0431\\u043e\\u0432\\u044c\", \"\\u043b\\u044e\\u0431\\u043e\\u0432\\u044c\", \"\\u043b\\u044e\\u0431\\u043e\\u0432\\u044c\", \"\\u043b\\u044e\\u0431\\u043e\\u0439\", \"\\u043b\\u044e\\u0431\\u043e\\u0439\", \"\\u043b\\u044e\\u0431\\u043e\\u0439\", \"\\u043c\\u0430\\u0439\\u0434\\u0430\\u043d\", \"\\u043c\\u0430\\u0439\\u0434\\u0430\\u043d\", \"\\u043c\\u0430\\u0439\\u0434\\u0430\\u043d\", \"\\u043c\\u0430\\u043b\\u0435\\u043d\\u044c\\u043a\\u0438\\u0439\", \"\\u043c\\u0430\\u043b\\u0435\\u043d\\u044c\\u043a\\u0438\\u0439\", \"\\u043c\\u0430\\u043b\\u0435\\u043d\\u044c\\u043a\\u0438\\u0439\", \"\\u043c\\u0430\\u043b\\u044c\\u0447\\u0438\\u043a\", \"\\u043c\\u0430\\u043b\\u044c\\u0447\\u0438\\u043a\", \"\\u043c\\u0430\\u043b\\u044c\\u0447\\u0438\\u043a\", \"\\u043c\\u0430\\u043b\\u044c\\u0447\\u0438\\u043a\", \"\\u043c\\u0430\\u043c\\u0430\", \"\\u043c\\u0430\\u043c\\u0430\", \"\\u043c\\u0430\\u043c\\u0430\", \"\\u043c\\u0430\\u043c\\u0430\", \"\\u043c\\u0435\\u043d\\u044f\\u0442\\u044c\", \"\\u043c\\u0435\\u043d\\u044f\\u0442\\u044c\", \"\\u043c\\u0435\\u043d\\u044f\\u0442\\u044c\", \"\\u043c\\u0435\\u0441\\u0442\\u043e\", \"\\u043c\\u0435\\u0441\\u0442\\u043e\", \"\\u043c\\u0435\\u0441\\u0442\\u043e\", \"\\u043c\\u0435\\u0441\\u044f\\u0446\", \"\\u043c\\u0435\\u0441\\u044f\\u0446\", \"\\u043c\\u0435\\u0441\\u044f\\u0446\", \"\\u043c\\u0438\\u043d\\u0443\\u0442\\u0430\", \"\\u043c\\u0438\\u043d\\u0443\\u0442\\u0430\", \"\\u043c\\u0438\\u043d\\u0443\\u0442\\u0430\", \"\\u043c\\u0438\\u043d\\u044c\", \"\\u043c\\u0438\\u043d\\u044c\", \"\\u043c\\u0438\\u043d\\u044c\", \"\\u043c\\u0438\\u0440\", \"\\u043c\\u0438\\u0440\", \"\\u043c\\u0438\\u0440\", \"\\u043c\\u043e\\u043c\\u0435\\u043d\\u0442\", \"\\u043c\\u043e\\u043c\\u0435\\u043d\\u0442\", \"\\u043c\\u043e\\u043c\\u0435\\u043d\\u0442\", \"\\u043c\\u043e\\u0441\\u043a\\u0432\\u0430\", \"\\u043c\\u043e\\u0441\\u043a\\u0432\\u0430\", \"\\u043c\\u043e\\u0441\\u043a\\u0432\\u0430\", \"\\u043c\\u043e\\u0447\\u044c\", \"\\u043c\\u043e\\u0447\\u044c\", \"\\u043c\\u043e\\u0447\\u044c\", \"\\u043c\\u0443\\u0436\\u0438\\u043a\", \"\\u043c\\u0443\\u0436\\u0438\\u043a\", \"\\u043c\\u0443\\u0436\\u0438\\u043a\", \"\\u043c\\u044b\\u0441\\u043b\\u044c\", \"\\u043c\\u044b\\u0441\\u043b\\u044c\", \"\\u043c\\u044b\\u0441\\u043b\\u044c\", \"\\u043d\\u0430\\u0432\\u0435\\u0440\\u043d\\u043e\\u0435\", \"\\u043d\\u0430\\u0432\\u0435\\u0440\\u043d\\u043e\\u0435\", \"\\u043d\\u0430\\u0432\\u0435\\u0440\\u043d\\u043e\\u0435\", \"\\u043d\\u0430\\u0434\\u0435\\u044f\\u0442\\u044c\\u0441\\u044f\", \"\\u043d\\u0430\\u0434\\u0435\\u044f\\u0442\\u044c\\u0441\\u044f\", \"\\u043d\\u0430\\u0434\\u0435\\u044f\\u0442\\u044c\\u0441\\u044f\", \"\\u043d\\u0430\\u0439\\u0442\\u0438\", \"\\u043d\\u0430\\u0439\\u0442\\u0438\", \"\\u043d\\u0430\\u0439\\u0442\\u0438\", \"\\u043d\\u0430\\u043f\\u0438\\u0441\\u0430\\u0442\\u044c\", \"\\u043d\\u0430\\u043f\\u0438\\u0441\\u0430\\u0442\\u044c\", \"\\u043d\\u0430\\u043f\\u0438\\u0441\\u0430\\u0442\\u044c\", \"\\u043d\\u0430\\u043f\\u0438\\u0441\\u0430\\u0442\\u044c\", \"\\u043d\\u0430\\u0440\\u043e\\u0434\", \"\\u043d\\u0430\\u0440\\u043e\\u0434\", \"\\u043d\\u0430\\u0440\\u043e\\u0434\", \"\\u043d\\u0430\\u0441\\u0442\\u043e\\u043b\\u044c\\u043a\\u043e\", \"\\u043d\\u0430\\u0441\\u0442\\u043e\\u043b\\u044c\\u043a\\u043e\", \"\\u043d\\u0430\\u0441\\u0442\\u043e\\u043b\\u044c\\u043a\\u043e\", \"\\u043d\\u0430\\u0441\\u0442\\u0440\\u043e\\u0435\\u043d\\u0438\\u0435\", \"\\u043d\\u0430\\u0441\\u0442\\u0440\\u043e\\u0435\\u043d\\u0438\\u0435\", \"\\u043d\\u0430\\u0441\\u0442\\u0440\\u043e\\u0435\\u043d\\u0438\\u0435\", \"\\u043d\\u0430\\u0441\\u0442\\u0443\\u043f\\u0438\\u0442\\u044c\", \"\\u043d\\u0430\\u0441\\u0442\\u0443\\u043f\\u0438\\u0442\\u044c\", \"\\u043d\\u0430\\u0441\\u0442\\u0443\\u043f\\u0438\\u0442\\u044c\", \"\\u043d\\u0430\\u0443\\u0447\\u0438\\u0442\\u044c\", \"\\u043d\\u0430\\u0443\\u0447\\u0438\\u0442\\u044c\", \"\\u043d\\u0430\\u0443\\u0447\\u0438\\u0442\\u044c\", \"\\u043d\\u0430\\u0443\\u0448\\u043d\\u0438\\u043a\", \"\\u043d\\u0430\\u0443\\u0448\\u043d\\u0438\\u043a\", \"\\u043d\\u0430\\u0443\\u0448\\u043d\\u0438\\u043a\", \"\\u043d\\u0430\\u0447\\u0430\\u043b\\u043e\", \"\\u043d\\u0430\\u0447\\u0430\\u043b\\u043e\", \"\\u043d\\u0430\\u0447\\u0430\\u043b\\u043e\", \"\\u043d\\u0430\\u0448\", \"\\u043d\\u0430\\u0448\", \"\\u043d\\u0430\\u0448\", \"\\u043d\\u0435\\u0434\\u0435\\u043b\\u044f\", \"\\u043d\\u0435\\u0434\\u0435\\u043b\\u044f\", \"\\u043d\\u0435\\u0434\\u0435\\u043b\\u044f\", \"\\u043d\\u0435\\u0434\\u0435\\u043b\\u044f\", \"\\u043d\\u0435\\u043a\\u043e\\u0442\\u043e\\u0440\\u044b\\u0439\", \"\\u043d\\u0435\\u043a\\u043e\\u0442\\u043e\\u0440\\u044b\\u0439\", \"\\u043d\\u0435\\u043a\\u043e\\u0442\\u043e\\u0440\\u044b\\u0439\", \"\\u043d\\u0435\\u043d\\u0430\\u0432\\u0438\\u0434\\u0435\\u0442\\u044c\", \"\\u043d\\u0435\\u043d\\u0430\\u0432\\u0438\\u0434\\u0435\\u0442\\u044c\", \"\\u043d\\u0435\\u043d\\u0430\\u0432\\u0438\\u0434\\u0435\\u0442\\u044c\", \"\\u043d\\u0435\\u0441\\u043a\\u043e\\u043b\\u044c\\u043a\\u043e\", \"\\u043d\\u0435\\u0441\\u043a\\u043e\\u043b\\u044c\\u043a\\u043e\", \"\\u043d\\u0435\\u0441\\u043a\\u043e\\u043b\\u044c\\u043a\\u043e\", \"\\u043d\\u0438\\u0431\\u044b\\u0442\\u044c\", \"\\u043d\\u0438\\u0431\\u044b\\u0442\\u044c\", \"\\u043d\\u0438\\u0431\\u044b\\u0442\\u044c\", \"\\u043d\\u0438\\u043a\\u0442\\u043e\", \"\\u043d\\u0438\\u043a\\u0442\\u043e\", \"\\u043d\\u0438\\u043a\\u0442\\u043e\", \"\\u043d\\u0438\\u043a\\u0442\\u043e\", \"\\u043d\\u043e\\u0432\\u044b\\u0439\", \"\\u043d\\u043e\\u0432\\u044b\\u0439\", \"\\u043d\\u043e\\u0432\\u044b\\u0439\", \"\\u043d\\u043e\\u0440\\u043c\\u0430\\u043b\\u044c\\u043d\\u043e\", \"\\u043d\\u043e\\u0440\\u043c\\u0430\\u043b\\u044c\\u043d\\u043e\", \"\\u043d\\u043e\\u0440\\u043c\\u0430\\u043b\\u044c\\u043d\\u043e\", \"\\u043d\\u043e\\u0440\\u043c\\u0430\\u043b\\u044c\\u043d\\u044b\\u0439\", \"\\u043d\\u043e\\u0440\\u043c\\u0430\\u043b\\u044c\\u043d\\u044b\\u0439\", \"\\u043d\\u043e\\u0440\\u043c\\u0430\\u043b\\u044c\\u043d\\u044b\\u0439\", \"\\u043d\\u043e\\u0447\\u044c\", \"\\u043d\\u043e\\u0447\\u044c\", \"\\u043d\\u043e\\u0447\\u044c\", \"\\u043d\\u0440\\u0430\\u0432\\u0438\\u0442\\u044c\\u0441\\u044f\", \"\\u043d\\u0440\\u0430\\u0432\\u0438\\u0442\\u044c\\u0441\\u044f\", \"\\u043d\\u0440\\u0430\\u0432\\u0438\\u0442\\u044c\\u0441\\u044f\", \"\\u043d\\u0443\\u0436\\u043d\\u043e\", \"\\u043d\\u0443\\u0436\\u043d\\u043e\", \"\\u043d\\u0443\\u0436\\u043d\\u043e\", \"\\u043d\\u0443\\u0436\\u043d\\u044b\\u0439\", \"\\u043d\\u0443\\u0436\\u043d\\u044b\\u0439\", \"\\u043d\\u0443\\u0436\\u043d\\u044b\\u0439\", \"\\u043e\\u0431\\u0435\\u0449\\u0430\\u0442\\u044c\", \"\\u043e\\u0431\\u0435\\u0449\\u0430\\u0442\\u044c\", \"\\u043e\\u0431\\u0435\\u0449\\u0430\\u0442\\u044c\", \"\\u043e\\u0431\\u0438\\u0434\\u043d\\u043e\", \"\\u043e\\u0431\\u0438\\u0434\\u043d\\u043e\", \"\\u043e\\u0431\\u0438\\u0434\\u043d\\u043e\", \"\\u043e\\u0431\\u043e\\u0436\\u0430\\u0442\\u044c\", \"\\u043e\\u0431\\u043e\\u0436\\u0430\\u0442\\u044c\", \"\\u043e\\u0431\\u043e\\u0436\\u0430\\u0442\\u044c\", \"\\u043e\\u0431\\u0449\\u0430\\u0442\\u044c\\u0441\\u044f\", \"\\u043e\\u0431\\u0449\\u0430\\u0442\\u044c\\u0441\\u044f\", \"\\u043e\\u0431\\u0449\\u0430\\u0442\\u044c\\u0441\\u044f\", \"\\u043e\\u0431\\u044b\\u0447\\u043d\\u043e\", \"\\u043e\\u0431\\u044b\\u0447\\u043d\\u043e\", \"\\u043e\\u0431\\u044b\\u0447\\u043d\\u043e\", \"\\u043e\\u0433\\u043e\", \"\\u043e\\u0433\\u043e\", \"\\u043e\\u0433\\u043e\", \"\\u043e\\u0433\\u0440\\u043e\\u043c\\u043d\\u044b\\u0439\", \"\\u043e\\u0433\\u0440\\u043e\\u043c\\u043d\\u044b\\u0439\", \"\\u043e\\u0433\\u0440\\u043e\\u043c\\u043d\\u044b\\u0439\", \"\\u043e\\u043a\\u0430\\u0437\\u0430\\u0442\\u044c\\u0441\\u044f\", \"\\u043e\\u043a\\u0430\\u0437\\u0430\\u0442\\u044c\\u0441\\u044f\", \"\\u043e\\u043a\\u0430\\u0437\\u0430\\u0442\\u044c\\u0441\\u044f\", \"\\u043e\\u043d\\u043e\", \"\\u043e\\u043d\\u043e\", \"\\u043e\\u043d\\u043e\", \"\\u043e\\u0441\\u0442\\u0430\\u0432\\u0430\\u0442\\u044c\\u0441\\u044f\", \"\\u043e\\u0441\\u0442\\u0430\\u0432\\u0430\\u0442\\u044c\\u0441\\u044f\", \"\\u043e\\u0441\\u0442\\u0430\\u0432\\u0430\\u0442\\u044c\\u0441\\u044f\", \"\\u043e\\u0441\\u0442\\u0430\\u0432\\u0438\\u0442\\u044c\", \"\\u043e\\u0441\\u0442\\u0430\\u0432\\u0438\\u0442\\u044c\", \"\\u043e\\u0441\\u0442\\u0430\\u0432\\u0438\\u0442\\u044c\", \"\\u043e\\u0441\\u0442\\u0430\\u043b\\u044c\\u043d\\u043e\\u0439\", \"\\u043e\\u0441\\u0442\\u0430\\u043b\\u044c\\u043d\\u043e\\u0439\", \"\\u043e\\u0441\\u0442\\u0430\\u043b\\u044c\\u043d\\u043e\\u0439\", \"\\u043e\\u0441\\u0442\\u0430\\u0442\\u044c\\u0441\\u044f\", \"\\u043e\\u0441\\u0442\\u0430\\u0442\\u044c\\u0441\\u044f\", \"\\u043e\\u0441\\u0442\\u0430\\u0442\\u044c\\u0441\\u044f\", \"\\u043e\\u0442\\u0432\\u0435\\u0442\", \"\\u043e\\u0442\\u0432\\u0435\\u0442\", \"\\u043e\\u0442\\u0432\\u0435\\u0442\", \"\\u043e\\u0442\\u0432\\u0435\\u0442\\u0438\\u0442\\u044c\", \"\\u043e\\u0442\\u0432\\u0435\\u0442\\u0438\\u0442\\u044c\", \"\\u043e\\u0442\\u0432\\u0435\\u0442\\u0438\\u0442\\u044c\", \"\\u043e\\u0442\\u0432\\u0435\\u0447\\u0430\\u0442\\u044c\", \"\\u043e\\u0442\\u0432\\u0435\\u0447\\u0430\\u0442\\u044c\", \"\\u043e\\u0442\\u0432\\u0435\\u0447\\u0430\\u0442\\u044c\", \"\\u043e\\u0442\\u043b\\u0438\\u0447\\u043d\\u044b\\u0439\", \"\\u043e\\u0442\\u043b\\u0438\\u0447\\u043d\\u044b\\u0439\", \"\\u043e\\u0442\\u043b\\u0438\\u0447\\u043d\\u044b\\u0439\", \"\\u043e\\u0442\\u043d\\u043e\\u0448\\u0435\\u043d\\u0438\\u0435\", \"\\u043e\\u0442\\u043d\\u043e\\u0448\\u0435\\u043d\\u0438\\u0435\", \"\\u043e\\u0442\\u043d\\u043e\\u0448\\u0435\\u043d\\u0438\\u0435\", \"\\u043e\\u0444\\u0438\\u0433\\u0435\\u043d\\u043d\\u044b\\u0439\", \"\\u043e\\u0444\\u0438\\u0433\\u0435\\u043d\\u043d\\u044b\\u0439\", \"\\u043e\\u0444\\u0438\\u0433\\u0435\\u043d\\u043d\\u044b\\u0439\", \"\\u043e\\u0446\\u0435\\u043d\\u043a\\u0430\", \"\\u043e\\u0446\\u0435\\u043d\\u043a\\u0430\", \"\\u043e\\u0446\\u0435\\u043d\\u043a\\u0430\", \"\\u043e\\u0446\\u0435\\u043d\\u043a\\u0430\", \"\\u043e\\u0447\\u0435\\u043d\\u044c\", \"\\u043e\\u0447\\u0435\\u043d\\u044c\", \"\\u043e\\u0447\\u0435\\u043d\\u044c\", \"\\u043e\\u0447\\u0435\\u043d\\u044c\", \"\\u043f\\u0430\\u043b\\u0435\\u0446\", \"\\u043f\\u0430\\u043b\\u0435\\u0446\", \"\\u043f\\u0430\\u043b\\u0435\\u0446\", \"\\u043f\\u0430\\u043b\\u0435\\u0446\", \"\\u043f\\u0430\\u043f\\u0430\", \"\\u043f\\u0430\\u043f\\u0430\", \"\\u043f\\u0430\\u043f\\u0430\", \"\\u043f\\u0430\\u0440\\u0430\", \"\\u043f\\u0430\\u0440\\u0430\", \"\\u043f\\u0430\\u0440\\u0430\", \"\\u043f\\u0430\\u0440\\u0435\\u043d\\u044c\", \"\\u043f\\u0430\\u0440\\u0435\\u043d\\u044c\", \"\\u043f\\u0430\\u0440\\u0435\\u043d\\u044c\", \"\\u043f\\u0435\\u0440\\u0432\\u044b\\u0439\", \"\\u043f\\u0435\\u0440\\u0432\\u044b\\u0439\", \"\\u043f\\u0435\\u0440\\u0432\\u044b\\u0439\", \"\\u043f\\u0435\\u0440\\u0432\\u044b\\u0439\", \"\\u043f\\u0435\\u0440\\u0435\\u0441\\u0442\\u0430\\u0442\\u044c\", \"\\u043f\\u0435\\u0440\\u0435\\u0441\\u0442\\u0430\\u0442\\u044c\", \"\\u043f\\u0435\\u0440\\u0435\\u0441\\u0442\\u0430\\u0442\\u044c\", \"\\u043f\\u0435\\u0441\\u043d\\u044f\", \"\\u043f\\u0435\\u0441\\u043d\\u044f\", \"\\u043f\\u0435\\u0441\\u043d\\u044f\", \"\\u043f\\u0435\\u0442\\u044c\", \"\\u043f\\u0435\\u0442\\u044c\", \"\\u043f\\u0435\\u0442\\u044c\", \"\\u043f\\u0438\\u0432\\u043e\", \"\\u043f\\u0438\\u0432\\u043e\", \"\\u043f\\u0438\\u0432\\u043e\", \"\\u043f\\u0438\\u0441\\u0430\\u0442\\u044c\", \"\\u043f\\u0438\\u0441\\u0430\\u0442\\u044c\", \"\\u043f\\u0438\\u0441\\u0430\\u0442\\u044c\", \"\\u043f\\u0438\\u0441\\u0430\\u0442\\u044c\", \"\\u043f\\u0438\\u0441\\u044c\\u043c\\u043e\", \"\\u043f\\u0438\\u0441\\u044c\\u043c\\u043e\", \"\\u043f\\u0438\\u0441\\u044c\\u043c\\u043e\", \"\\u043f\\u0438\\u0442\\u044c\", \"\\u043f\\u0438\\u0442\\u044c\", \"\\u043f\\u0438\\u0442\\u044c\", \"\\u043f\\u043b\\u0430\\u043a\\u0430\\u0442\\u044c\", \"\\u043f\\u043b\\u0430\\u043a\\u0430\\u0442\\u044c\", \"\\u043f\\u043b\\u0430\\u043a\\u0430\\u0442\\u044c\", \"\\u043f\\u043b\\u0430\\u043d\", \"\\u043f\\u043b\\u0430\\u043d\", \"\\u043f\\u043b\\u0430\\u043d\", \"\\u043f\\u043b\\u0430\\u0442\\u044c\\u0435\", \"\\u043f\\u043b\\u0430\\u0442\\u044c\\u0435\", \"\\u043f\\u043b\\u0430\\u0442\\u044c\\u0435\", \"\\u043f\\u043b\\u043e\\u0445\\u043e\", \"\\u043f\\u043b\\u043e\\u0445\\u043e\", \"\\u043f\\u043b\\u043e\\u0445\\u043e\", \"\\u043f\\u043b\\u043e\\u0445\\u043e\\u0439\", \"\\u043f\\u043b\\u043e\\u0445\\u043e\\u0439\", \"\\u043f\\u043b\\u043e\\u0445\\u043e\\u0439\", \"\\u043f\\u043b\\u043e\\u0445\\u043e\\u0439\", \"\\u043f\\u043e\\u0433\\u043e\\u0434\\u0430\", \"\\u043f\\u043e\\u0433\\u043e\\u0434\\u0430\", \"\\u043f\\u043e\\u0433\\u043e\\u0434\\u0430\", \"\\u043f\\u043e\\u0434\\u0430\\u0440\\u0438\\u0442\\u044c\", \"\\u043f\\u043e\\u0434\\u0430\\u0440\\u0438\\u0442\\u044c\", \"\\u043f\\u043e\\u0434\\u0430\\u0440\\u0438\\u0442\\u044c\", \"\\u043f\\u043e\\u0434\\u0440\\u0443\\u0433\\u0430\", \"\\u043f\\u043e\\u0434\\u0440\\u0443\\u0433\\u0430\", \"\\u043f\\u043e\\u0434\\u0440\\u0443\\u0433\\u0430\", \"\\u043f\\u043e\\u0434\\u0440\\u0443\\u0433\\u0430\", \"\\u043f\\u043e\\u0434\\u0443\\u043c\\u0430\\u0442\\u044c\", \"\\u043f\\u043e\\u0434\\u0443\\u043c\\u0430\\u0442\\u044c\", \"\\u043f\\u043e\\u0434\\u0443\\u043c\\u0430\\u0442\\u044c\", \"\\u043f\\u043e\\u0435\\u0437\\u0434\", \"\\u043f\\u043e\\u0435\\u0437\\u0434\", \"\\u043f\\u043e\\u0435\\u0437\\u0434\", \"\\u043f\\u043e\\u0436\\u0430\\u043b\\u0443\\u0439\\u0441\\u0442\\u0430\", \"\\u043f\\u043e\\u0436\\u0430\\u043b\\u0443\\u0439\\u0441\\u0442\\u0430\", \"\\u043f\\u043e\\u0436\\u0430\\u043b\\u0443\\u0439\\u0441\\u0442\\u0430\", \"\\u043f\\u043e\\u0437\\u0434\\u0440\\u0430\\u0432\\u0438\\u0442\\u044c\", \"\\u043f\\u043e\\u0437\\u0434\\u0440\\u0430\\u0432\\u0438\\u0442\\u044c\", \"\\u043f\\u043e\\u0437\\u0434\\u0440\\u0430\\u0432\\u0438\\u0442\\u044c\", \"\\u043f\\u043e\\u0439\\u0442\\u0438\", \"\\u043f\\u043e\\u0439\\u0442\\u0438\", \"\\u043f\\u043e\\u0439\\u0442\\u0438\", \"\\u043f\\u043e\\u0439\\u0442\\u0438\", \"\\u043f\\u043e\\u043a\\u0430\", \"\\u043f\\u043e\\u043a\\u0430\", \"\\u043f\\u043e\\u043a\\u0430\", \"\\u043f\\u043e\\u043a\\u0430\", \"\\u043f\\u043e\\u043a\\u0430\\u0437\\u0430\\u0442\\u044c\", \"\\u043f\\u043e\\u043a\\u0430\\u0437\\u0430\\u0442\\u044c\", \"\\u043f\\u043e\\u043a\\u0430\\u0437\\u0430\\u0442\\u044c\", \"\\u043f\\u043e\\u043a\\u0430\\u0437\\u044b\\u0432\\u0430\\u0442\\u044c\", \"\\u043f\\u043e\\u043a\\u0430\\u0437\\u044b\\u0432\\u0430\\u0442\\u044c\", \"\\u043f\\u043e\\u043a\\u0430\\u0437\\u044b\\u0432\\u0430\\u0442\\u044c\", \"\\u043f\\u043e\\u043a\\u0443\\u043f\\u0430\\u0442\\u044c\", \"\\u043f\\u043e\\u043a\\u0443\\u043f\\u0430\\u0442\\u044c\", \"\\u043f\\u043e\\u043a\\u0443\\u043f\\u0430\\u0442\\u044c\", \"\\u043f\\u043e\\u043b\\u043e\\u0432\\u0438\\u043d\\u0430\", \"\\u043f\\u043e\\u043b\\u043e\\u0432\\u0438\\u043d\\u0430\", \"\\u043f\\u043e\\u043b\\u043e\\u0432\\u0438\\u043d\\u0430\", \"\\u043f\\u043e\\u043b\\u0443\\u0447\\u0438\\u0442\\u044c\", \"\\u043f\\u043e\\u043b\\u0443\\u0447\\u0438\\u0442\\u044c\", \"\\u043f\\u043e\\u043b\\u0443\\u0447\\u0438\\u0442\\u044c\", \"\\u043f\\u043e\\u043b\\u0443\\u0447\\u0438\\u0442\\u044c\\u0441\\u044f\", \"\\u043f\\u043e\\u043b\\u0443\\u0447\\u0438\\u0442\\u044c\\u0441\\u044f\", \"\\u043f\\u043e\\u043b\\u0443\\u0447\\u0438\\u0442\\u044c\\u0441\\u044f\", \"\\u043f\\u043e\\u043c\\u043d\\u0438\\u0442\\u044c\", \"\\u043f\\u043e\\u043c\\u043d\\u0438\\u0442\\u044c\", \"\\u043f\\u043e\\u043c\\u043d\\u0438\\u0442\\u044c\", \"\\u043f\\u043e\\u043c\\u043e\\u0447\\u044c\", \"\\u043f\\u043e\\u043c\\u043e\\u0447\\u044c\", \"\\u043f\\u043e\\u043c\\u043e\\u0447\\u044c\", \"\\u043f\\u043e\\u043d\\u0435\\u0434\\u0435\\u043b\\u044c\\u043d\\u0438\\u043a\", \"\\u043f\\u043e\\u043d\\u0435\\u0434\\u0435\\u043b\\u044c\\u043d\\u0438\\u043a\", \"\\u043f\\u043e\\u043d\\u0435\\u0434\\u0435\\u043b\\u044c\\u043d\\u0438\\u043a\", \"\\u043f\\u043e\\u043d\\u0435\\u0434\\u0435\\u043b\\u044c\\u043d\\u0438\\u043a\", \"\\u043f\\u043e\\u043d\\u0438\\u043c\\u0430\\u0442\\u044c\", \"\\u043f\\u043e\\u043d\\u0438\\u043c\\u0430\\u0442\\u044c\", \"\\u043f\\u043e\\u043d\\u0438\\u043c\\u0430\\u0442\\u044c\", \"\\u043f\\u043e\\u043d\\u0438\\u043c\\u0430\\u0442\\u044c\", \"\\u043f\\u043e\\u043d\\u0440\\u0430\\u0432\\u0438\\u0442\\u044c\\u0441\\u044f\", \"\\u043f\\u043e\\u043d\\u0440\\u0430\\u0432\\u0438\\u0442\\u044c\\u0441\\u044f\", \"\\u043f\\u043e\\u043d\\u0440\\u0430\\u0432\\u0438\\u0442\\u044c\\u0441\\u044f\", \"\\u043f\\u043e\\u043d\\u044f\\u0442\\u044c\", \"\\u043f\\u043e\\u043d\\u044f\\u0442\\u044c\", \"\\u043f\\u043e\\u043d\\u044f\\u0442\\u044c\", \"\\u043f\\u043e\\u0441\\u043b\\u0435\\u0434\\u043d\\u0438\\u0439\", \"\\u043f\\u043e\\u0441\\u043b\\u0435\\u0434\\u043d\\u0438\\u0439\", \"\\u043f\\u043e\\u0441\\u043b\\u0435\\u0434\\u043d\\u0438\\u0439\", \"\\u043f\\u043e\\u0441\\u043b\\u0443\\u0448\\u0430\\u0442\\u044c\", \"\\u043f\\u043e\\u0441\\u043b\\u0443\\u0448\\u0430\\u0442\\u044c\", \"\\u043f\\u043e\\u0441\\u043b\\u0443\\u0448\\u0430\\u0442\\u044c\", \"\\u043f\\u043e\\u0441\\u043c\\u043e\\u0442\\u0440\\u0435\\u0442\\u044c\", \"\\u043f\\u043e\\u0441\\u043c\\u043e\\u0442\\u0440\\u0435\\u0442\\u044c\", \"\\u043f\\u043e\\u0441\\u043c\\u043e\\u0442\\u0440\\u0435\\u0442\\u044c\", \"\\u043f\\u043e\\u0441\\u043c\\u043e\\u0442\\u0440\\u0435\\u0442\\u044c\", \"\\u043f\\u043e\\u0441\\u0442\\u0430\\u0432\\u0438\\u0442\\u044c\", \"\\u043f\\u043e\\u0441\\u0442\\u0430\\u0432\\u0438\\u0442\\u044c\", \"\\u043f\\u043e\\u0441\\u0442\\u0430\\u0432\\u0438\\u0442\\u044c\", \"\\u043f\\u043e\\u0441\\u0442\\u043e\\u044f\\u043d\\u043d\\u043e\", \"\\u043f\\u043e\\u0441\\u0442\\u043e\\u044f\\u043d\\u043d\\u043e\", \"\\u043f\\u043e\\u0441\\u0442\\u043e\\u044f\\u043d\\u043d\\u043e\", \"\\u043f\\u043e\\u0444\\u0438\\u0433\\u0430\", \"\\u043f\\u043e\\u0444\\u0438\\u0433\\u0430\", \"\\u043f\\u043e\\u0444\\u0438\\u0433\\u0430\", \"\\u043f\\u043e\\u0445\\u043e\\u0434\", \"\\u043f\\u043e\\u0445\\u043e\\u0434\", \"\\u043f\\u043e\\u0445\\u043e\\u0434\", \"\\u043f\\u043e\\u0445\\u043e\\u0436\\u0438\\u0439\", \"\\u043f\\u043e\\u0445\\u043e\\u0436\\u0438\\u0439\", \"\\u043f\\u043e\\u0445\\u043e\\u0436\\u0438\\u0439\", \"\\u043f\\u043e\\u0447\\u0435\\u043c\\u0443\", \"\\u043f\\u043e\\u0447\\u0435\\u043c\\u0443\", \"\\u043f\\u043e\\u0447\\u0435\\u043c\\u0443\", \"\\u043f\\u043e\\u0447\\u0435\\u043c\\u0443\", \"\\u043f\\u043e\\u044d\\u0442\\u043e\\u043c\\u0443\", \"\\u043f\\u043e\\u044d\\u0442\\u043e\\u043c\\u0443\", \"\\u043f\\u043e\\u044d\\u0442\\u043e\\u043c\\u0443\", \"\\u043f\\u043e\\u044f\\u0432\\u0438\\u0442\\u044c\\u0441\\u044f\", \"\\u043f\\u043e\\u044f\\u0432\\u0438\\u0442\\u044c\\u0441\\u044f\", \"\\u043f\\u043e\\u044f\\u0432\\u0438\\u0442\\u044c\\u0441\\u044f\", \"\\u043f\\u043f\\u0446\", \"\\u043f\\u043f\\u0446\", \"\\u043f\\u043f\\u0446\", \"\\u043f\\u0440\\u0430\\u0432\\u0434\\u0430\", \"\\u043f\\u0440\\u0430\\u0432\\u0434\\u0430\", \"\\u043f\\u0440\\u0430\\u0432\\u0434\\u0430\", \"\\u043f\\u0440\\u0430\\u0432\\u0438\\u043b\\u044c\\u043d\\u043e\", \"\\u043f\\u0440\\u0430\\u0432\\u0438\\u043b\\u044c\\u043d\\u043e\", \"\\u043f\\u0440\\u0430\\u0432\\u0438\\u043b\\u044c\\u043d\\u043e\", \"\\u043f\\u0440\\u0430\\u0437\\u0434\\u043d\\u0438\\u043a\", \"\\u043f\\u0440\\u0430\\u0437\\u0434\\u043d\\u0438\\u043a\", \"\\u043f\\u0440\\u0430\\u0437\\u0434\\u043d\\u0438\\u043a\", \"\\u043f\\u0440\\u0430\\u0437\\u0434\\u043d\\u0438\\u043a\", \"\\u043f\\u0440\\u0435\\u0434\\u043d\\u043e\\u0432\\u043e\\u0433\\u043e\\u0434\\u043d\\u0438\\u0435\\u043e\\u0431\\u043d\\u0438\\u043c\\u0430\\u0448\\u043a\\u0430\", \"\\u043f\\u0440\\u0435\\u0434\\u043d\\u043e\\u0432\\u043e\\u0433\\u043e\\u0434\\u043d\\u0438\\u0435\\u043e\\u0431\\u043d\\u0438\\u043c\\u0430\\u0448\\u043a\\u0430\", \"\\u043f\\u0440\\u0435\\u0434\\u043d\\u043e\\u0432\\u043e\\u0433\\u043e\\u0434\\u043d\\u0438\\u0435\\u043e\\u0431\\u043d\\u0438\\u043c\\u0430\\u0448\\u043a\\u0430\", \"\\u043f\\u0440\\u0435\\u043a\\u0440\\u0430\\u0441\\u043d\\u044b\\u0439\", \"\\u043f\\u0440\\u0435\\u043a\\u0440\\u0430\\u0441\\u043d\\u044b\\u0439\", \"\\u043f\\u0440\\u0435\\u043a\\u0440\\u0430\\u0441\\u043d\\u044b\\u0439\", \"\\u043f\\u0440\\u0438\\u0432\\u0435\\u0442\", \"\\u043f\\u0440\\u0438\\u0432\\u0435\\u0442\", \"\\u043f\\u0440\\u0438\\u0432\\u0435\\u0442\", \"\\u043f\\u0440\\u0438\\u0435\\u0445\\u0430\\u0442\\u044c\", \"\\u043f\\u0440\\u0438\\u0435\\u0445\\u0430\\u0442\\u044c\", \"\\u043f\\u0440\\u0438\\u0435\\u0445\\u0430\\u0442\\u044c\", \"\\u043f\\u0440\\u0438\\u0435\\u0445\\u0430\\u0442\\u044c\", \"\\u043f\\u0440\\u0438\\u0439\\u0442\\u0438\", \"\\u043f\\u0440\\u0438\\u0439\\u0442\\u0438\", \"\\u043f\\u0440\\u0438\\u0439\\u0442\\u0438\", \"\\u043f\\u0440\\u0438\\u0439\\u0442\\u0438\", \"\\u043f\\u0440\\u0438\\u043a\\u043e\\u043b\\u044c\\u043d\\u043e\", \"\\u043f\\u0440\\u0438\\u043a\\u043e\\u043b\\u044c\\u043d\\u043e\", \"\\u043f\\u0440\\u0438\\u043a\\u043e\\u043b\\u044c\\u043d\\u043e\", \"\\u043f\\u0440\\u0438\\u043d\\u0435\\u0441\\u0442\\u0438\", \"\\u043f\\u0440\\u0438\\u043d\\u0435\\u0441\\u0442\\u0438\", \"\\u043f\\u0440\\u0438\\u043d\\u0435\\u0441\\u0442\\u0438\", \"\\u043f\\u0440\\u0438\\u043d\\u0438\\u043c\\u0430\\u0442\\u044c\", \"\\u043f\\u0440\\u0438\\u043d\\u0438\\u043c\\u0430\\u0442\\u044c\", \"\\u043f\\u0440\\u0438\\u043d\\u0438\\u043c\\u0430\\u0442\\u044c\", \"\\u043f\\u0440\\u0438\\u0441\\u043b\\u0430\\u0442\\u044c\", \"\\u043f\\u0440\\u0438\\u0441\\u043b\\u0430\\u0442\\u044c\", \"\\u043f\\u0440\\u0438\\u0441\\u043b\\u0430\\u0442\\u044c\", \"\\u043f\\u0440\\u0438\\u0441\\u043b\\u0430\\u0442\\u044c\", \"\\u043f\\u0440\\u0438\\u0445\\u043e\\u0434\\u0438\\u0442\\u044c\", \"\\u043f\\u0440\\u0438\\u0445\\u043e\\u0434\\u0438\\u0442\\u044c\", \"\\u043f\\u0440\\u0438\\u0445\\u043e\\u0434\\u0438\\u0442\\u044c\", \"\\u043f\\u0440\\u0438\\u0445\\u043e\\u0434\\u0438\\u0442\\u044c\", \"\\u043f\\u0440\\u0438\\u0447\\u0451\\u043c\", \"\\u043f\\u0440\\u0438\\u0447\\u0451\\u043c\", \"\\u043f\\u0440\\u0438\\u0447\\u0451\\u043c\", \"\\u043f\\u0440\\u0438\\u044f\\u0442\\u043d\\u043e\", \"\\u043f\\u0440\\u0438\\u044f\\u0442\\u043d\\u043e\", \"\\u043f\\u0440\\u0438\\u044f\\u0442\\u043d\\u043e\", \"\\u043f\\u0440\\u0438\\u044f\\u0442\\u043d\\u043e\", \"\\u043f\\u0440\\u043e\\u0431\\u043b\\u0435\\u043c\\u0430\", \"\\u043f\\u0440\\u043e\\u0431\\u043b\\u0435\\u043c\\u0430\", \"\\u043f\\u0440\\u043e\\u0431\\u043b\\u0435\\u043c\\u0430\", \"\\u043f\\u0440\\u043e\\u0433\\u0440\\u0430\\u043c\\u043c\\u0430\", \"\\u043f\\u0440\\u043e\\u0433\\u0440\\u0430\\u043c\\u043c\\u0430\", \"\\u043f\\u0440\\u043e\\u0433\\u0440\\u0430\\u043c\\u043c\\u0430\", \"\\u043f\\u0440\\u043e\\u0441\\u043d\\u0443\\u0442\\u044c\\u0441\\u044f\", \"\\u043f\\u0440\\u043e\\u0441\\u043d\\u0443\\u0442\\u044c\\u0441\\u044f\", \"\\u043f\\u0440\\u043e\\u0441\\u043d\\u0443\\u0442\\u044c\\u0441\\u044f\", \"\\u043f\\u0440\\u043e\\u0441\\u0442\\u0438\\u0442\\u044c\", \"\\u043f\\u0440\\u043e\\u0441\\u0442\\u0438\\u0442\\u044c\", \"\\u043f\\u0440\\u043e\\u0441\\u0442\\u0438\\u0442\\u044c\", \"\\u043f\\u0440\\u043e\\u0441\\u0442\\u043e\", \"\\u043f\\u0440\\u043e\\u0441\\u0442\\u043e\", \"\\u043f\\u0440\\u043e\\u0441\\u0442\\u043e\", \"\\u043f\\u0440\\u043e\\u0441\\u0442\\u043e\", \"\\u043f\\u0440\\u043e\\u0441\\u0442\\u043e\\u0439\", \"\\u043f\\u0440\\u043e\\u0441\\u0442\\u043e\\u0439\", \"\\u043f\\u0440\\u043e\\u0441\\u0442\\u043e\\u0439\", \"\\u043f\\u0440\\u043e\\u0445\\u043e\\u0434\\u0438\\u0442\\u044c\", \"\\u043f\\u0440\\u043e\\u0445\\u043e\\u0434\\u0438\\u0442\\u044c\", \"\\u043f\\u0440\\u043e\\u0445\\u043e\\u0434\\u0438\\u0442\\u044c\", \"\\u043f\\u0440\\u043e\\u0445\\u043e\\u0434\\u0438\\u0442\\u044c\", \"\\u043f\\u0440\\u044f\\u043c\", \"\\u043f\\u0440\\u044f\\u043c\", \"\\u043f\\u0440\\u044f\\u043c\", \"\\u043f\\u0440\\u044f\\u043c\\u043e\", \"\\u043f\\u0440\\u044f\\u043c\\u043e\", \"\\u043f\\u0440\\u044f\\u043c\\u043e\", \"\\u043f\\u0443\\u0441\\u0442\\u044c\", \"\\u043f\\u0443\\u0441\\u0442\\u044c\", \"\\u043f\\u0443\\u0441\\u0442\\u044c\", \"\\u043f\\u044b\\u0442\\u0430\\u0442\\u044c\\u0441\\u044f\", \"\\u043f\\u044b\\u0442\\u0430\\u0442\\u044c\\u0441\\u044f\", \"\\u043f\\u044b\\u0442\\u0430\\u0442\\u044c\\u0441\\u044f\", \"\\u043f\\u044f\\u0442\\u043d\\u0438\\u0446\\u0430\", \"\\u043f\\u044f\\u0442\\u043d\\u0438\\u0446\\u0430\", \"\\u043f\\u044f\\u0442\\u043d\\u0438\\u0446\\u0430\", \"\\u0440\\u0430\\u0431\\u043e\\u0442\\u0430\", \"\\u0440\\u0430\\u0431\\u043e\\u0442\\u0430\", \"\\u0440\\u0430\\u0431\\u043e\\u0442\\u0430\", \"\\u0440\\u0430\\u0431\\u043e\\u0442\\u0430\\u0442\\u044c\", \"\\u0440\\u0430\\u0431\\u043e\\u0442\\u0430\\u0442\\u044c\", \"\\u0440\\u0430\\u0431\\u043e\\u0442\\u0430\\u0442\\u044c\", \"\\u0440\\u0430\\u0431\\u043e\\u0442\\u0430\\u0442\\u044c\", \"\\u0440\\u0430\\u0431\\u043e\\u0447\\u0438\\u0439\", \"\\u0440\\u0430\\u0431\\u043e\\u0447\\u0438\\u0439\", \"\\u0440\\u0430\\u0431\\u043e\\u0447\\u0438\\u0439\", \"\\u0440\\u0430\\u0432\\u043d\\u043e\", \"\\u0440\\u0430\\u0432\\u043d\\u043e\", \"\\u0440\\u0430\\u0432\\u043d\\u043e\", \"\\u0440\\u0430\\u0434\\u0430\", \"\\u0440\\u0430\\u0434\\u0430\", \"\\u0440\\u0430\\u0434\\u0430\", \"\\u0440\\u0430\\u0434\\u043e\\u0432\\u0430\\u0442\\u044c\\u0441\\u044f\", \"\\u0440\\u0430\\u0434\\u043e\\u0432\\u0430\\u0442\\u044c\\u0441\\u044f\", \"\\u0440\\u0430\\u0434\\u043e\\u0432\\u0430\\u0442\\u044c\\u0441\\u044f\", \"\\u0440\\u0430\\u0434\\u043e\\u0441\\u0442\\u044c\", \"\\u0440\\u0430\\u0434\\u043e\\u0441\\u0442\\u044c\", \"\\u0440\\u0430\\u0434\\u043e\\u0441\\u0442\\u044c\", \"\\u0440\\u0430\\u0437\\u043d\\u044b\\u0439\", \"\\u0440\\u0430\\u0437\\u043d\\u044b\\u0439\", \"\\u0440\\u0430\\u0437\\u043d\\u044b\\u0439\", \"\\u0440\\u0430\\u043d\\u043d\\u0438\\u0439\", \"\\u0440\\u0430\\u043d\\u043d\\u0438\\u0439\", \"\\u0440\\u0430\\u043d\\u043d\\u0438\\u0439\", \"\\u0440\\u0430\\u043d\\u043d\\u0438\\u0439\", \"\\u0440\\u0430\\u0441\\u0441\\u043a\\u0430\\u0437\\u044b\\u0432\\u0430\\u0442\\u044c\", \"\\u0440\\u0430\\u0441\\u0441\\u043a\\u0430\\u0437\\u044b\\u0432\\u0430\\u0442\\u044c\", \"\\u0440\\u0430\\u0441\\u0441\\u043a\\u0430\\u0437\\u044b\\u0432\\u0430\\u0442\\u044c\", \"\\u0440\\u0435\\u0431\\u044f\\u0442\\u0430\", \"\\u0440\\u0435\\u0431\\u044f\\u0442\\u0430\", \"\\u0440\\u0435\\u0431\\u044f\\u0442\\u0430\", \"\\u0440\\u0435\\u0431\\u0451\\u043d\\u043e\\u043a\", \"\\u0440\\u0435\\u0431\\u0451\\u043d\\u043e\\u043a\", \"\\u0440\\u0435\\u0431\\u0451\\u043d\\u043e\\u043a\", \"\\u0440\\u0435\\u0448\\u0430\\u0442\\u044c\", \"\\u0440\\u0435\\u0448\\u0430\\u0442\\u044c\", \"\\u0440\\u0435\\u0448\\u0430\\u0442\\u044c\", \"\\u0440\\u043e\\u0434\\u043d\\u044b\\u0439\", \"\\u0440\\u043e\\u0434\\u043d\\u044b\\u0439\", \"\\u0440\\u043e\\u0434\\u043d\\u044b\\u0439\", \"\\u0440\\u043e\\u0436\\u0434\\u0435\\u043d\\u0438\\u0435\", \"\\u0440\\u043e\\u0436\\u0434\\u0435\\u043d\\u0438\\u0435\", \"\\u0440\\u043e\\u0436\\u0434\\u0435\\u043d\\u0438\\u0435\", \"\\u0440\\u043e\\u0441\\u0441\\u0438\\u044f\", \"\\u0440\\u043e\\u0441\\u0441\\u0438\\u044f\", \"\\u0440\\u043e\\u0441\\u0441\\u0438\\u044f\", \"\\u0440\\u043e\\u0441\\u0441\\u0438\\u044f\", \"\\u0440\\u0443\\u043a\\u0430\", \"\\u0440\\u0443\\u043a\\u0430\", \"\\u0440\\u0443\\u043a\\u0430\", \"\\u0440\\u044f\\u0434\\u043e\\u043c\", \"\\u0440\\u044f\\u0434\\u043e\\u043c\", \"\\u0440\\u044f\\u0434\\u043e\\u043c\", \"\\u0441\\u0430\\u043c\\u044b\\u0439\", \"\\u0441\\u0430\\u043c\\u044b\\u0439\", \"\\u0441\\u0430\\u043c\\u044b\\u0439\", \"\\u0441\\u0430\\u043c\\u044b\\u0439\", \"\\u0441\\u0430\\u0448\\u0430\", \"\\u0441\\u0430\\u0448\\u0430\", \"\\u0441\\u0430\\u0448\\u0430\", \"\\u0441\\u0432\\u043e\\u0439\", \"\\u0441\\u0432\\u043e\\u0439\", \"\\u0441\\u0432\\u043e\\u0439\", \"\\u0441\\u0432\\u043e\\u0439\", \"\\u0441\\u0434\\u0430\\u0442\\u044c\", \"\\u0441\\u0434\\u0430\\u0442\\u044c\", \"\\u0441\\u0434\\u0430\\u0442\\u044c\", \"\\u0441\\u0434\\u0430\\u0442\\u044c\", \"\\u0441\\u0434\\u0435\\u043b\\u0430\\u0442\\u044c\", \"\\u0441\\u0434\\u0435\\u043b\\u0430\\u0442\\u044c\", \"\\u0441\\u0434\\u0435\\u043b\\u0430\\u0442\\u044c\", \"\\u0441\\u0435\\u0433\\u043e\\u0434\\u043d\\u044f\", \"\\u0441\\u0435\\u0433\\u043e\\u0434\\u043d\\u044f\", \"\\u0441\\u0435\\u0433\\u043e\\u0434\\u043d\\u044f\", \"\\u0441\\u0435\\u0437\\u043e\\u043d\", \"\\u0441\\u0435\\u0437\\u043e\\u043d\", \"\\u0441\\u0435\\u0437\\u043e\\u043d\", \"\\u0441\\u0435\\u0440\\u0434\\u0446\\u0435\", \"\\u0441\\u0435\\u0440\\u0434\\u0446\\u0435\", \"\\u0441\\u0435\\u0440\\u0434\\u0446\\u0435\", \"\\u0441\\u0435\\u0440\\u0434\\u0446\\u0435\", \"\\u0441\\u0435\\u0440\\u0438\\u044f\", \"\\u0441\\u0435\\u0440\\u0438\\u044f\", \"\\u0441\\u0435\\u0440\\u0438\\u044f\", \"\\u0441\\u0435\\u0441\\u0441\\u0438\\u044f\", \"\\u0441\\u0435\\u0441\\u0441\\u0438\\u044f\", \"\\u0441\\u0435\\u0441\\u0441\\u0438\\u044f\", \"\\u0441\\u0435\\u0441\\u0441\\u0438\\u044f\", \"\\u0441\\u0435\\u0442\\u044c\", \"\\u0441\\u0435\\u0442\\u044c\", \"\\u0441\\u0435\\u0442\\u044c\", \"\\u0441\\u0438\\u0434\\u0435\\u0442\\u044c\", \"\\u0441\\u0438\\u0434\\u0435\\u0442\\u044c\", \"\\u0441\\u0438\\u0434\\u0435\\u0442\\u044c\", \"\\u0441\\u0438\\u0434\\u0435\\u0442\\u044c\", \"\\u0441\\u0438\\u043b\\u0430\", \"\\u0441\\u0438\\u043b\\u0430\", \"\\u0441\\u0438\\u043b\\u0430\", \"\\u0441\\u0438\\u043b\\u044c\\u043d\\u043e\", \"\\u0441\\u0438\\u043b\\u044c\\u043d\\u043e\", \"\\u0441\\u0438\\u043b\\u044c\\u043d\\u043e\", \"\\u0441\\u043a\\u0430\\u0437\\u0430\\u0442\\u044c\", \"\\u0441\\u043a\\u0430\\u0437\\u0430\\u0442\\u044c\", \"\\u0441\\u043a\\u0430\\u0437\\u0430\\u0442\\u044c\", \"\\u0441\\u043a\\u0438\\u043d\\u0443\\u0442\\u044c\", \"\\u0441\\u043a\\u0438\\u043d\\u0443\\u0442\\u044c\", \"\\u0441\\u043a\\u0438\\u043d\\u0443\\u0442\\u044c\", \"\\u0441\\u043a\\u043e\\u043b\\u044c\\u043a\\u043e\", \"\\u0441\\u043a\\u043e\\u043b\\u044c\\u043a\\u043e\", \"\\u0441\\u043a\\u043e\\u043b\\u044c\\u043a\\u043e\", \"\\u0441\\u043a\\u043e\\u0440\\u0435\\u0435\", \"\\u0441\\u043a\\u043e\\u0440\\u0435\\u0435\", \"\\u0441\\u043a\\u043e\\u0440\\u0435\\u0435\", \"\\u0441\\u043a\\u043e\\u0440\\u043e\", \"\\u0441\\u043a\\u043e\\u0440\\u043e\", \"\\u0441\\u043a\\u043e\\u0440\\u043e\", \"\\u0441\\u043a\\u043e\\u0440\\u043e\", \"\\u0441\\u043a\\u0443\\u0447\\u0430\\u0442\\u044c\", \"\\u0441\\u043a\\u0443\\u0447\\u0430\\u0442\\u044c\", \"\\u0441\\u043a\\u0443\\u0447\\u0430\\u0442\\u044c\", \"\\u0441\\u043a\\u0443\\u0447\\u043d\\u043e\", \"\\u0441\\u043a\\u0443\\u0447\\u043d\\u043e\", \"\\u0441\\u043a\\u0443\\u0447\\u043d\\u043e\", \"\\u0441\\u043b\\u0438\\u0448\\u043a\\u043e\\u043c\", \"\\u0441\\u043b\\u0438\\u0448\\u043a\\u043e\\u043c\", \"\\u0441\\u043b\\u0438\\u0448\\u043a\\u043e\\u043c\", \"\\u0441\\u043b\\u0438\\u0448\\u043a\\u043e\\u043c\", \"\\u0441\\u043b\\u043e\\u0432\\u043e\", \"\\u0441\\u043b\\u043e\\u0432\\u043e\", \"\\u0441\\u043b\\u043e\\u0432\\u043e\", \"\\u0441\\u043b\\u043e\\u0436\\u043d\\u043e\", \"\\u0441\\u043b\\u043e\\u0436\\u043d\\u043e\", \"\\u0441\\u043b\\u043e\\u0436\\u043d\\u043e\", \"\\u0441\\u043b\\u043e\\u043c\\u0430\\u0442\\u044c\\u0441\\u044f\", \"\\u0441\\u043b\\u043e\\u043c\\u0430\\u0442\\u044c\\u0441\\u044f\", \"\\u0441\\u043b\\u043e\\u043c\\u0430\\u0442\\u044c\\u0441\\u044f\", \"\\u0441\\u043b\\u0443\\u0448\\u0430\\u0442\\u044c\", \"\\u0441\\u043b\\u0443\\u0448\\u0430\\u0442\\u044c\", \"\\u0441\\u043b\\u0443\\u0448\\u0430\\u0442\\u044c\", \"\\u0441\\u043b\\u044b\\u0448\\u0430\\u0442\\u044c\", \"\\u0441\\u043b\\u044b\\u0448\\u0430\\u0442\\u044c\", \"\\u0441\\u043b\\u044b\\u0448\\u0430\\u0442\\u044c\", \"\\u0441\\u043c\\u0435\\u0445\", \"\\u0441\\u043c\\u0435\\u0445\", \"\\u0441\\u043c\\u0435\\u0445\", \"\\u0441\\u043c\\u0435\\u044f\\u0442\\u044c\\u0441\\u044f\", \"\\u0441\\u043c\\u0435\\u044f\\u0442\\u044c\\u0441\\u044f\", \"\\u0441\\u043c\\u0435\\u044f\\u0442\\u044c\\u0441\\u044f\", \"\\u0441\\u043c\\u043e\\u0442\\u0440\\u0435\\u0442\\u044c\", \"\\u0441\\u043c\\u043e\\u0442\\u0440\\u0435\\u0442\\u044c\", \"\\u0441\\u043c\\u043e\\u0442\\u0440\\u0435\\u0442\\u044c\", \"\\u0441\\u043c\\u043e\\u0447\\u044c\", \"\\u0441\\u043c\\u043e\\u0447\\u044c\", \"\\u0441\\u043c\\u043e\\u0447\\u044c\", \"\\u0441\\u043d\\u0430\\u0447\\u0430\\u043b\\u0430\", \"\\u0441\\u043d\\u0430\\u0447\\u0430\\u043b\\u0430\", \"\\u0441\\u043d\\u0430\\u0447\\u0430\\u043b\\u0430\", \"\\u0441\\u043d\\u0430\\u0447\\u0430\\u043b\\u0430\", \"\\u0441\\u043d\\u043e\\u0432\\u0430\", \"\\u0441\\u043d\\u043e\\u0432\\u0430\", \"\\u0441\\u043d\\u043e\\u0432\\u0430\", \"\\u0441\\u043d\\u043e\\u0432\\u0430\", \"\\u0441\\u043e\\u0431\\u0430\\u043a\\u0430\", \"\\u0441\\u043e\\u0431\\u0430\\u043a\\u0430\", \"\\u0441\\u043e\\u0431\\u0430\\u043a\\u0430\", \"\\u0441\\u043e\\u0431\\u0438\\u0440\\u0430\\u0442\\u044c\\u0441\\u044f\", \"\\u0441\\u043e\\u0431\\u0438\\u0440\\u0430\\u0442\\u044c\\u0441\\u044f\", \"\\u0441\\u043e\\u0431\\u0438\\u0440\\u0430\\u0442\\u044c\\u0441\\u044f\", \"\\u0441\\u043e\\u0431\\u0440\\u0430\\u0442\\u044c\\u0441\\u044f\", \"\\u0441\\u043e\\u0431\\u0440\\u0430\\u0442\\u044c\\u0441\\u044f\", \"\\u0441\\u043e\\u0431\\u0440\\u0430\\u0442\\u044c\\u0441\\u044f\", \"\\u0441\\u043e\\u0433\\u043b\\u0430\\u0441\\u043d\\u044b\\u0439\", \"\\u0441\\u043e\\u0433\\u043b\\u0430\\u0441\\u043d\\u044b\\u0439\", \"\\u0441\\u043e\\u0433\\u043b\\u0430\\u0441\\u043d\\u044b\\u0439\", \"\\u0441\\u043e\\u0433\\u043b\\u0430\\u0441\\u043d\\u044b\\u0439\", \"\\u0441\\u043e\\u0437\\u0434\\u0430\\u0442\\u044c\", \"\\u0441\\u043e\\u0437\\u0434\\u0430\\u0442\\u044c\", \"\\u0441\\u043e\\u0437\\u0434\\u0430\\u0442\\u044c\", \"\\u0441\\u043e\\u0439\\u0442\\u0438\", \"\\u0441\\u043e\\u0439\\u0442\\u0438\", \"\\u0441\\u043e\\u0439\\u0442\\u0438\", \"\\u0441\\u043e\\u0441\\u0442\\u043e\\u044f\\u043d\\u0438\\u0435\", \"\\u0441\\u043e\\u0441\\u0442\\u043e\\u044f\\u043d\\u0438\\u0435\", \"\\u0441\\u043e\\u0441\\u0442\\u043e\\u044f\\u043d\\u0438\\u0435\", \"\\u0441\\u043f\\u0430\\u0441\\u0438\\u0431\\u043e\", \"\\u0441\\u043f\\u0430\\u0441\\u0438\\u0431\\u043e\", \"\\u0441\\u043f\\u0430\\u0441\\u0438\\u0431\\u043e\", \"\\u0441\\u043f\\u0430\\u0442\\u044c\", \"\\u0441\\u043f\\u0430\\u0442\\u044c\", \"\\u0441\\u043f\\u0430\\u0442\\u044c\", \"\\u0441\\u043f\\u0438\\u0441\\u043e\\u043a\", \"\\u0441\\u043f\\u0438\\u0441\\u043e\\u043a\", \"\\u0441\\u043f\\u0438\\u0441\\u043e\\u043a\", \"\\u0441\\u0440\\u0430\\u0437\\u0443\", \"\\u0441\\u0440\\u0430\\u0437\\u0443\", \"\\u0441\\u0440\\u0430\\u0437\\u0443\", \"\\u0441\\u0440\\u0430\\u0437\\u0443\", \"\\u0441\\u0440\\u043e\\u0447\\u043d\\u043e\", \"\\u0441\\u0440\\u043e\\u0447\\u043d\\u043e\", \"\\u0441\\u0440\\u043e\\u0447\\u043d\\u043e\", \"\\u0441\\u0442\\u0430\\u0440\\u044b\\u0439\", \"\\u0441\\u0442\\u0430\\u0440\\u044b\\u0439\", \"\\u0441\\u0442\\u0430\\u0440\\u044b\\u0439\", \"\\u0441\\u0442\\u0430\\u0442\\u044c\", \"\\u0441\\u0442\\u0430\\u0442\\u044c\", \"\\u0441\\u0442\\u0430\\u0442\\u044c\", \"\\u0441\\u0442\\u0430\\u0442\\u044c\", \"\\u0441\\u0442\\u043e\\u044f\\u0442\\u044c\", \"\\u0441\\u0442\\u043e\\u044f\\u0442\\u044c\", \"\\u0441\\u0442\\u043e\\u044f\\u0442\\u044c\", \"\\u0441\\u0442\\u0440\\u0430\\u0434\\u0430\\u0442\\u044c\", \"\\u0441\\u0442\\u0440\\u0430\\u0434\\u0430\\u0442\\u044c\", \"\\u0441\\u0442\\u0440\\u0430\\u0434\\u0430\\u0442\\u044c\", \"\\u0441\\u0442\\u0440\\u0430\\u043d\\u0430\", \"\\u0441\\u0442\\u0440\\u0430\\u043d\\u0430\", \"\\u0441\\u0442\\u0440\\u0430\\u043d\\u0430\", \"\\u0441\\u0442\\u0440\\u0430\\u0448\\u043d\\u043e\", \"\\u0441\\u0442\\u0440\\u0430\\u0448\\u043d\\u043e\", \"\\u0441\\u0442\\u0440\\u0430\\u0448\\u043d\\u043e\", \"\\u0441\\u0442\\u0440\\u0430\\u0448\\u043d\\u044b\\u0439\", \"\\u0441\\u0442\\u0440\\u0430\\u0448\\u043d\\u044b\\u0439\", \"\\u0441\\u0442\\u0440\\u0430\\u0448\\u043d\\u044b\\u0439\", \"\\u0441\\u0443\\u0434\\u0438\\u0442\\u044c\", \"\\u0441\\u0443\\u0434\\u0438\\u0442\\u044c\", \"\\u0441\\u0443\\u0434\\u0438\\u0442\\u044c\", \"\\u0441\\u0447\\u0430\\u0441\\u0442\\u043b\\u0438\\u0432\\u044b\\u0439\", \"\\u0441\\u0447\\u0430\\u0441\\u0442\\u043b\\u0438\\u0432\\u044b\\u0439\", \"\\u0441\\u0447\\u0430\\u0441\\u0442\\u043b\\u0438\\u0432\\u044b\\u0439\", \"\\u0441\\u0447\\u0438\\u0442\\u0430\\u0442\\u044c\", \"\\u0441\\u0447\\u0438\\u0442\\u0430\\u0442\\u044c\", \"\\u0441\\u0447\\u0438\\u0442\\u0430\\u0442\\u044c\", \"\\u0442\\u0430\\u043a\\u0438\", \"\\u0442\\u0430\\u043a\\u0438\", \"\\u0442\\u0430\\u043a\\u0438\", \"\\u0442\\u0430\\u043d\\u0435\\u0446\", \"\\u0442\\u0430\\u043d\\u0435\\u0446\", \"\\u0442\\u0430\\u043d\\u0435\\u0446\", \"\\u0442\\u0430\\u043d\\u0446\\u0435\\u0432\\u0430\\u0442\\u044c\", \"\\u0442\\u0430\\u043d\\u0446\\u0435\\u0432\\u0430\\u0442\\u044c\", \"\\u0442\\u0430\\u043d\\u0446\\u0435\\u0432\\u0430\\u0442\\u044c\", \"\\u0442\\u0432\\u0438\\u0442\", \"\\u0442\\u0432\\u0438\\u0442\", \"\\u0442\\u0432\\u0438\\u0442\", \"\\u0442\\u0432\\u043e\\u0439\", \"\\u0442\\u0432\\u043e\\u0439\", \"\\u0442\\u0432\\u043e\\u0439\", \"\\u0442\\u0435\\u043b\\u0435\\u0444\\u043e\\u043d\", \"\\u0442\\u0435\\u043b\\u0435\\u0444\\u043e\\u043d\", \"\\u0442\\u0435\\u043b\\u0435\\u0444\\u043e\\u043d\", \"\\u0442\\u0435\\u043c\\u0430\", \"\\u0442\\u0435\\u043c\\u0430\", \"\\u0442\\u0435\\u043c\\u0430\", \"\\u0442\\u0435\\u043c\\u0430\", \"\\u0442\\u0438\\u043f\", \"\\u0442\\u0438\\u043f\", \"\\u0442\\u0438\\u043f\", \"\\u0442\\u043e\\u0440\\u0442\", \"\\u0442\\u043e\\u0440\\u0442\", \"\\u0442\\u043e\\u0440\\u0442\", \"\\u0442\\u043e\\u0447\\u043d\\u043e\", \"\\u0442\\u043e\\u0447\\u043d\\u043e\", \"\\u0442\\u043e\\u0447\\u043d\\u043e\", \"\\u0442\\u0440\\u0435\\u043d\\u0438\\u0440\\u043e\\u0432\\u043a\\u0430\", \"\\u0442\\u0440\\u0435\\u043d\\u0438\\u0440\\u043e\\u0432\\u043a\\u0430\", \"\\u0442\\u0440\\u0435\\u043d\\u0438\\u0440\\u043e\\u0432\\u043a\\u0430\", \"\\u0442\\u0440\\u0435\\u043d\\u0438\\u0440\\u043e\\u0432\\u043a\\u0430\", \"\\u0442\\u0443\\u043f\\u043e\\u0439\", \"\\u0442\\u0443\\u043f\\u043e\\u0439\", \"\\u0442\\u0443\\u043f\\u043e\\u0439\", \"\\u0442\\u0443\\u043f\\u043e\\u0439\", \"\\u0442\\u0451\\u043f\\u043b\\u044b\\u0439\", \"\\u0442\\u0451\\u043f\\u043b\\u044b\\u0439\", \"\\u0442\\u0451\\u043f\\u043b\\u044b\\u0439\", \"\\u0443\\u0431\\u0438\\u0442\\u044c\", \"\\u0443\\u0431\\u0438\\u0442\\u044c\", \"\\u0443\\u0431\\u0438\\u0442\\u044c\", \"\\u0443\\u0432\\u0438\\u0434\\u0435\\u0442\\u044c\", \"\\u0443\\u0432\\u0438\\u0434\\u0435\\u0442\\u044c\", \"\\u0443\\u0432\\u0438\\u0434\\u0435\\u0442\\u044c\", \"\\u0443\\u0432\\u0438\\u0434\\u0435\\u0442\\u044c\", \"\\u0443\\u0434\\u0430\\u043b\\u0438\\u0442\\u044c\", \"\\u0443\\u0434\\u0430\\u043b\\u0438\\u0442\\u044c\", \"\\u0443\\u0434\\u0430\\u043b\\u0438\\u0442\\u044c\", \"\\u0443\\u0434\\u043e\\u0432\\u043e\\u043b\\u044c\\u0441\\u0442\\u0432\\u0438\\u0435\", \"\\u0443\\u0434\\u043e\\u0432\\u043e\\u043b\\u044c\\u0441\\u0442\\u0432\\u0438\\u0435\", \"\\u0443\\u0434\\u043e\\u0432\\u043e\\u043b\\u044c\\u0441\\u0442\\u0432\\u0438\\u0435\", \"\\u0443\\u0436\\u0430\\u0441\", \"\\u0443\\u0436\\u0430\\u0441\", \"\\u0443\\u0436\\u0430\\u0441\", \"\\u0443\\u0437\\u043d\\u0430\\u0442\\u044c\", \"\\u0443\\u0437\\u043d\\u0430\\u0442\\u044c\", \"\\u0443\\u0437\\u043d\\u0430\\u0442\\u044c\", \"\\u0443\\u043b\\u0438\\u0446\\u0430\", \"\\u0443\\u043b\\u0438\\u0446\\u0430\", \"\\u0443\\u043b\\u0438\\u0446\\u0430\", \"\\u0443\\u043c\", \"\\u0443\\u043c\", \"\\u0443\\u043c\", \"\\u0443\\u0440\\u043e\\u043a\", \"\\u0443\\u0440\\u043e\\u043a\", \"\\u0443\\u0440\\u043e\\u043a\", \"\\u0443\\u0440\\u043e\\u043a\", \"\\u0443\\u0441\\u043f\\u0435\\u0442\\u044c\", \"\\u0443\\u0441\\u043f\\u0435\\u0442\\u044c\", \"\\u0443\\u0441\\u043f\\u0435\\u0442\\u044c\", \"\\u0443\\u0441\\u0442\\u0430\\u0442\\u044c\", \"\\u0443\\u0441\\u0442\\u0430\\u0442\\u044c\", \"\\u0443\\u0441\\u0442\\u0430\\u0442\\u044c\", \"\\u0443\\u0441\\u0442\\u0430\\u0442\\u044c\", \"\\u0443\\u0441\\u0442\\u0440\\u043e\\u0438\\u0442\\u044c\", \"\\u0443\\u0441\\u0442\\u0440\\u043e\\u0438\\u0442\\u044c\", \"\\u0443\\u0441\\u0442\\u0440\\u043e\\u0438\\u0442\\u044c\", \"\\u0443\\u0442\\u0440\\u043e\", \"\\u0443\\u0442\\u0440\\u043e\", \"\\u0443\\u0442\\u0440\\u043e\", \"\\u0443\\u0447\\u0438\\u0442\\u044c\", \"\\u0443\\u0447\\u0438\\u0442\\u044c\", \"\\u0443\\u0447\\u0438\\u0442\\u044c\", \"\\u0443\\u0447\\u0438\\u0442\\u044c\\u0441\\u044f\", \"\\u0443\\u0447\\u0438\\u0442\\u044c\\u0441\\u044f\", \"\\u0443\\u0447\\u0438\\u0442\\u044c\\u0441\\u044f\", \"\\u0443\\u0447\\u0451\\u0431\\u0430\", \"\\u0443\\u0447\\u0451\\u0431\\u0430\", \"\\u0443\\u0447\\u0451\\u0431\\u0430\", \"\\u0444\\u0438\\u0433\\u043d\\u044f\", \"\\u0444\\u0438\\u0433\\u043d\\u044f\", \"\\u0444\\u0438\\u0433\\u043d\\u044f\", \"\\u0444\\u0438\\u0437\\u0438\\u043a\\u0430\", \"\\u0444\\u0438\\u0437\\u0438\\u043a\\u0430\", \"\\u0444\\u0438\\u0437\\u0438\\u043a\\u0430\", \"\\u0444\\u0438\\u043b\\u044c\\u043c\", \"\\u0444\\u0438\\u043b\\u044c\\u043c\", \"\\u0444\\u0438\\u043b\\u044c\\u043c\", \"\\u0444\\u043e\\u0442\\u043a\\u0430\", \"\\u0444\\u043e\\u0442\\u043a\\u0430\", \"\\u0444\\u043e\\u0442\\u043a\\u0430\", \"\\u0444\\u043e\\u0442\\u043e\\u0433\\u0440\\u0430\\u0444\\u0438\\u044f\", \"\\u0444\\u043e\\u0442\\u043e\\u0433\\u0440\\u0430\\u0444\\u0438\\u044f\", \"\\u0444\\u043e\\u0442\\u043e\\u0433\\u0440\\u0430\\u0444\\u0438\\u044f\", \"\\u0445\\u0432\\u0430\\u0442\\u0430\\u0442\\u044c\", \"\\u0445\\u0432\\u0430\\u0442\\u0430\\u0442\\u044c\", \"\\u0445\\u0432\\u0430\\u0442\\u0430\\u0442\\u044c\", \"\\u0445\\u0432\\u0430\\u0442\\u0438\\u0442\\u044c\", \"\\u0445\\u0432\\u0430\\u0442\\u0438\\u0442\\u044c\", \"\\u0445\\u0432\\u0430\\u0442\\u0438\\u0442\\u044c\", \"\\u0445\\u0438\\u043c\\u0438\\u044f\", \"\\u0445\\u0438\\u043c\\u0438\\u044f\", \"\\u0445\\u0438\\u043c\\u0438\\u044f\", \"\\u0445\\u043e\\u0434\\u0438\\u0442\\u044c\", \"\\u0445\\u043e\\u0434\\u0438\\u0442\\u044c\", \"\\u0445\\u043e\\u0434\\u0438\\u0442\\u044c\", \"\\u0445\\u043e\\u0440\\u043e\\u0448\\u0438\\u0439\", \"\\u0445\\u043e\\u0440\\u043e\\u0448\\u0438\\u0439\", \"\\u0445\\u043e\\u0440\\u043e\\u0448\\u0438\\u0439\", \"\\u0445\\u043e\\u0440\\u043e\\u0448\\u0438\\u0439\", \"\\u0445\\u043e\\u0442\\u0435\\u0442\\u044c\", \"\\u0445\\u043e\\u0442\\u0435\\u0442\\u044c\", \"\\u0445\\u043e\\u0442\\u0435\\u0442\\u044c\", \"\\u0445\\u043e\\u0442\\u0435\\u0442\\u044c\", \"\\u0445\\u043e\\u0442\\u0435\\u0442\\u044c\\u0441\\u044f\", \"\\u0445\\u043e\\u0442\\u0435\\u0442\\u044c\\u0441\\u044f\", \"\\u0445\\u043e\\u0442\\u0435\\u0442\\u044c\\u0441\\u044f\", \"\\u0445\\u043e\\u0442\\u0435\\u0442\\u044c\\u0441\\u044f\", \"\\u0445\\u043e\\u0442\\u044f\", \"\\u0445\\u043e\\u0442\\u044f\", \"\\u0445\\u043e\\u0442\\u044f\", \"\\u0445\\u043e\\u0442\\u044f\", \"\\u0445\\u0440\\u0435\\u043d\\u043e\\u0432\\u044b\\u0439\", \"\\u0445\\u0440\\u0435\\u043d\\u043e\\u0432\\u044b\\u0439\", \"\\u0445\\u0440\\u0435\\u043d\\u043e\\u0432\\u044b\\u0439\", \"\\u0446\\u0432\\u0435\\u0442\", \"\\u0446\\u0432\\u0435\\u0442\", \"\\u0446\\u0432\\u0435\\u0442\", \"\\u0446\\u0435\\u043b\\u044b\\u0439\", \"\\u0446\\u0435\\u043b\\u044b\\u0439\", \"\\u0446\\u0435\\u043b\\u044b\\u0439\", \"\\u0446\\u0435\\u043d\\u0430\", \"\\u0446\\u0435\\u043d\\u0430\", \"\\u0446\\u0435\\u043d\\u0430\", \"\\u0447\\u0430\\u0441\", \"\\u0447\\u0430\\u0441\", \"\\u0447\\u0430\\u0441\", \"\\u0447\\u0430\\u0441\", \"\\u0447\\u0435\\u043b\\u043e\\u0432\\u0435\\u043a\", \"\\u0447\\u0435\\u043b\\u043e\\u0432\\u0435\\u043a\", \"\\u0447\\u0435\\u043b\\u043e\\u0432\\u0435\\u043a\", \"\\u0447\\u0435\\u0440\\u0442\\u0430\", \"\\u0447\\u0435\\u0440\\u0442\\u0430\", \"\\u0447\\u0435\\u0440\\u0442\\u0430\", \"\\u0447\\u0435\\u0442\\u0432\\u0435\\u0440\\u0442\\u044c\", \"\\u0447\\u0435\\u0442\\u0432\\u0435\\u0440\\u0442\\u044c\", \"\\u0447\\u0435\\u0442\\u0432\\u0435\\u0440\\u0442\\u044c\", \"\\u0447\\u0435\\u0442\\u0432\\u0435\\u0440\\u0442\\u044c\", \"\\u0447\\u0438\\u0442\\u0430\\u0442\\u044c\", \"\\u0447\\u0438\\u0442\\u0430\\u0442\\u044c\", \"\\u0447\\u0438\\u0442\\u0430\\u0442\\u044c\", \"\\u0447\\u0443\\u0432\\u0430\\u043a\", \"\\u0447\\u0443\\u0432\\u0430\\u043a\", \"\\u0447\\u0443\\u0432\\u0430\\u043a\", \"\\u0447\\u0443\\u0432\\u0441\\u0442\\u0432\\u043e\", \"\\u0447\\u0443\\u0432\\u0441\\u0442\\u0432\\u043e\", \"\\u0447\\u0443\\u0432\\u0441\\u0442\\u0432\\u043e\", \"\\u0447\\u0443\\u0432\\u0441\\u0442\\u0432\\u043e\\u0432\\u0430\\u0442\\u044c\", \"\\u0447\\u0443\\u0432\\u0441\\u0442\\u0432\\u043e\\u0432\\u0430\\u0442\\u044c\", \"\\u0447\\u0443\\u0432\\u0441\\u0442\\u0432\\u043e\\u0432\\u0430\\u0442\\u044c\", \"\\u0448\\u043a\\u043e\\u043b\\u0430\", \"\\u0448\\u043a\\u043e\\u043b\\u0430\", \"\\u0448\\u043a\\u043e\\u043b\\u0430\", \"\\u0448\\u043a\\u043e\\u043b\\u0430\", \"\\u0448\\u043e\\u043a\", \"\\u0448\\u043e\\u043a\", \"\\u0448\\u043e\\u043a\", \"\\u0448\\u0442\\u0443\\u043a\\u0430\", \"\\u0448\\u0442\\u0443\\u043a\\u0430\", \"\\u0448\\u0442\\u0443\\u043a\\u0430\", \"\\u044d\\u043a\\u0437\\u0430\\u043c\\u0435\\u043d\", \"\\u044d\\u043a\\u0437\\u0430\\u043c\\u0435\\u043d\", \"\\u044d\\u043a\\u0437\\u0430\\u043c\\u0435\\u043d\", \"\\u044d\\u043a\\u0437\\u0430\\u043c\\u0435\\u043d\", \"\\u044d\\u043c\\u043e\\u0446\\u0438\\u044f\", \"\\u044d\\u043c\\u043e\\u0446\\u0438\\u044f\", \"\\u044d\\u043c\\u043e\\u0446\\u0438\\u044f\", \"\\u044d\\u0442\\u043e\", \"\\u044d\\u0442\\u043e\", \"\\u044d\\u0442\\u043e\", \"\\u044d\\u0442\\u043e\", \"\\u044f\\u0432\\u043d\\u043e\", \"\\u044f\\u0432\\u043d\\u043e\", \"\\u044f\\u0432\\u043d\\u043e\", \"\\u044f\\u043d\\u0432\\u0430\\u0440\\u044c\", \"\\u044f\\u043d\\u0432\\u0430\\u0440\\u044c\", \"\\u044f\\u043d\\u0432\\u0430\\u0440\\u044c\", \"\\u0451\\u043b\\u043a\\u0430\", \"\\u0451\\u043b\\u043a\\u0430\", \"\\u0451\\u043b\\u043a\\u0430\", \"\\u0454\\u0432\\u0440\\u043e\\u043c\\u0430\\u0439\\u0434\\u0430\\u043d\", \"\\u0454\\u0432\\u0440\\u043e\\u043c\\u0430\\u0439\\u0434\\u0430\\u043d\", \"\\u0454\\u0432\\u0440\\u043e\\u043c\\u0430\\u0439\\u0434\\u0430\\u043d\"]}, \"R\": 30, \"lambda.step\": 0.01, \"plot.opts\": {\"xlab\": \"PC1\", \"ylab\": \"PC2\"}, \"topic.order\": [2, 15, 1, 16, 9, 10, 8, 18, 20, 14, 3, 19, 6, 11, 4, 7, 13, 5, 12, 17]};\n",
              "\n",
              "function LDAvis_load_lib(url, callback){\n",
              "  var s = document.createElement('script');\n",
              "  s.src = url;\n",
              "  s.async = true;\n",
              "  s.onreadystatechange = s.onload = callback;\n",
              "  s.onerror = function(){console.warn(\"failed to load library \" + url);};\n",
              "  document.getElementsByTagName(\"head\")[0].appendChild(s);\n",
              "}\n",
              "\n",
              "if(typeof(LDAvis) !== \"undefined\"){\n",
              "   // already loaded: just create the visualization\n",
              "   !function(LDAvis){\n",
              "       new LDAvis(\"#\" + \"ldavis_el59140135460705616147444857\", ldavis_el59140135460705616147444857_data);\n",
              "   }(LDAvis);\n",
              "}else if(typeof define === \"function\" && define.amd){\n",
              "   // require.js is available: use it to load d3/LDAvis\n",
              "   require.config({paths: {d3: \"https://d3js.org/d3.v5\"}});\n",
              "   require([\"d3\"], function(d3){\n",
              "      window.d3 = d3;\n",
              "      LDAvis_load_lib(\"https://cdn.jsdelivr.net/gh/bmabey/pyLDAvis@3.3.1/pyLDAvis/js/ldavis.v3.0.0.js\", function(){\n",
              "        new LDAvis(\"#\" + \"ldavis_el59140135460705616147444857\", ldavis_el59140135460705616147444857_data);\n",
              "      });\n",
              "    });\n",
              "}else{\n",
              "    // require.js not available: dynamically load d3 & LDAvis\n",
              "    LDAvis_load_lib(\"https://d3js.org/d3.v5.js\", function(){\n",
              "         LDAvis_load_lib(\"https://cdn.jsdelivr.net/gh/bmabey/pyLDAvis@3.3.1/pyLDAvis/js/ldavis.v3.0.0.js\", function(){\n",
              "                 new LDAvis(\"#\" + \"ldavis_el59140135460705616147444857\", ldavis_el59140135460705616147444857_data);\n",
              "            })\n",
              "         });\n",
              "}\n",
              "</script>"
            ]
          },
          "metadata": {},
          "execution_count": 144
        }
      ],
      "source": [
        "import pyLDAvis\n",
        "import pyLDAvis.gensim_models as gensimvis\n",
        "\n",
        "\n",
        "%time vis_data = gensimvis.prepare(lda, corpus, dictionary)\n",
        "pyLDAvis.display(vis_data)"
      ]
    },
    {
      "cell_type": "markdown",
      "metadata": {
        "id": "N1_QuVBaf6Mr"
      },
      "source": [
        "Посмотрим на метрики качества получившейся модели: перплексию и среднюю когерентность:"
      ]
    },
    {
      "cell_type": "code",
      "execution_count": 145,
      "metadata": {
        "colab": {
          "base_uri": "https://localhost:8080/"
        },
        "id": "ZotOH4d6f6Mr",
        "outputId": "e7e65b4b-c3d4-4bbf-fa08-99ac7663107f"
      },
      "outputs": [
        {
          "output_type": "stream",
          "name": "stdout",
          "text": [
            "-24.20112211853336\n"
          ]
        }
      ],
      "source": [
        "print(lda.log_perplexity(corpus))\n"
      ]
    },
    {
      "cell_type": "code",
      "execution_count": 146,
      "metadata": {
        "colab": {
          "base_uri": "https://localhost:8080/"
        },
        "id": "VqyxqodWf6Mr",
        "outputId": "8c4d201d-3086-4e34-94e2-49320dece712"
      },
      "outputs": [
        {
          "output_type": "stream",
          "name": "stdout",
          "text": [
            "Персплексия:  3.0873524332983906e-11\n"
          ]
        }
      ],
      "source": [
        "print('Персплексия: ', np.exp(lda.log_perplexity(corpus)))"
      ]
    },
    {
      "cell_type": "code",
      "source": [
        "from gensim.models import CoherenceModel\n",
        "# Compute Coherence Score\n",
        "coherence_model_lda = CoherenceModel(model=lda, texts=data['text'], dictionary=dictionary, coherence='c_v')\n",
        "coherence_lda = coherence_model_lda.get_coherence()\n",
        "print('\\nCoherence Score: ', coherence_lda)"
      ],
      "metadata": {
        "colab": {
          "base_uri": "https://localhost:8080/",
          "height": 364
        },
        "id": "4yLHMRDlBa5-",
        "outputId": "52fc1117-e86e-4b46-ff6f-1624be4f6551"
      },
      "execution_count": 152,
      "outputs": [
        {
          "output_type": "error",
          "ename": "IndexError",
          "evalue": "ignored",
          "traceback": [
            "\u001b[0;31m---------------------------------------------------------------------------\u001b[0m",
            "\u001b[0;31mIndexError\u001b[0m                                Traceback (most recent call last)",
            "\u001b[0;32m<ipython-input-152-806032881b2c>\u001b[0m in \u001b[0;36m<module>\u001b[0;34m()\u001b[0m\n\u001b[1;32m      2\u001b[0m \u001b[0;31m# Compute Coherence Score\u001b[0m\u001b[0;34m\u001b[0m\u001b[0;34m\u001b[0m\u001b[0;34m\u001b[0m\u001b[0m\n\u001b[1;32m      3\u001b[0m \u001b[0mcoherence_model_lda\u001b[0m \u001b[0;34m=\u001b[0m \u001b[0mCoherenceModel\u001b[0m\u001b[0;34m(\u001b[0m\u001b[0mmodel\u001b[0m\u001b[0;34m=\u001b[0m\u001b[0mlda\u001b[0m\u001b[0;34m,\u001b[0m \u001b[0mtexts\u001b[0m\u001b[0;34m=\u001b[0m\u001b[0mdata\u001b[0m\u001b[0;34m[\u001b[0m\u001b[0;34m'text'\u001b[0m\u001b[0;34m]\u001b[0m\u001b[0;34m,\u001b[0m \u001b[0mdictionary\u001b[0m\u001b[0;34m=\u001b[0m\u001b[0mdictionary\u001b[0m\u001b[0;34m,\u001b[0m \u001b[0mcoherence\u001b[0m\u001b[0;34m=\u001b[0m\u001b[0;34m'c_v'\u001b[0m\u001b[0;34m)\u001b[0m\u001b[0;34m\u001b[0m\u001b[0;34m\u001b[0m\u001b[0m\n\u001b[0;32m----> 4\u001b[0;31m \u001b[0mcoherence_lda\u001b[0m \u001b[0;34m=\u001b[0m \u001b[0mcoherence_model_lda\u001b[0m\u001b[0;34m.\u001b[0m\u001b[0mget_coherence\u001b[0m\u001b[0;34m(\u001b[0m\u001b[0;34m)\u001b[0m\u001b[0;34m\u001b[0m\u001b[0;34m\u001b[0m\u001b[0m\n\u001b[0m\u001b[1;32m      5\u001b[0m \u001b[0mprint\u001b[0m\u001b[0;34m(\u001b[0m\u001b[0;34m'\\nCoherence Score: '\u001b[0m\u001b[0;34m,\u001b[0m \u001b[0mcoherence_lda\u001b[0m\u001b[0;34m)\u001b[0m\u001b[0;34m\u001b[0m\u001b[0;34m\u001b[0m\u001b[0m\n",
            "\u001b[0;32m/usr/local/lib/python3.7/dist-packages/gensim/models/coherencemodel.py\u001b[0m in \u001b[0;36mget_coherence\u001b[0;34m(self)\u001b[0m\n\u001b[1;32m    613\u001b[0m \u001b[0;34m\u001b[0m\u001b[0m\n\u001b[1;32m    614\u001b[0m         \"\"\"\n\u001b[0;32m--> 615\u001b[0;31m         \u001b[0mconfirmed_measures\u001b[0m \u001b[0;34m=\u001b[0m \u001b[0mself\u001b[0m\u001b[0;34m.\u001b[0m\u001b[0mget_coherence_per_topic\u001b[0m\u001b[0;34m(\u001b[0m\u001b[0;34m)\u001b[0m\u001b[0;34m\u001b[0m\u001b[0;34m\u001b[0m\u001b[0m\n\u001b[0m\u001b[1;32m    616\u001b[0m         \u001b[0;32mreturn\u001b[0m \u001b[0mself\u001b[0m\u001b[0;34m.\u001b[0m\u001b[0maggregate_measures\u001b[0m\u001b[0;34m(\u001b[0m\u001b[0mconfirmed_measures\u001b[0m\u001b[0;34m)\u001b[0m\u001b[0;34m\u001b[0m\u001b[0;34m\u001b[0m\u001b[0m\n\u001b[1;32m    617\u001b[0m \u001b[0;34m\u001b[0m\u001b[0m\n",
            "\u001b[0;32m/usr/local/lib/python3.7/dist-packages/gensim/models/coherencemodel.py\u001b[0m in \u001b[0;36mget_coherence_per_topic\u001b[0;34m(self, segmented_topics, with_std, with_support)\u001b[0m\n\u001b[1;32m    573\u001b[0m             \u001b[0msegmented_topics\u001b[0m \u001b[0;34m=\u001b[0m \u001b[0mmeasure\u001b[0m\u001b[0;34m.\u001b[0m\u001b[0mseg\u001b[0m\u001b[0;34m(\u001b[0m\u001b[0mself\u001b[0m\u001b[0;34m.\u001b[0m\u001b[0mtopics\u001b[0m\u001b[0;34m)\u001b[0m\u001b[0;34m\u001b[0m\u001b[0;34m\u001b[0m\u001b[0m\n\u001b[1;32m    574\u001b[0m         \u001b[0;32mif\u001b[0m \u001b[0mself\u001b[0m\u001b[0;34m.\u001b[0m\u001b[0m_accumulator\u001b[0m \u001b[0;32mis\u001b[0m \u001b[0;32mNone\u001b[0m\u001b[0;34m:\u001b[0m\u001b[0;34m\u001b[0m\u001b[0;34m\u001b[0m\u001b[0m\n\u001b[0;32m--> 575\u001b[0;31m             \u001b[0mself\u001b[0m\u001b[0;34m.\u001b[0m\u001b[0mestimate_probabilities\u001b[0m\u001b[0;34m(\u001b[0m\u001b[0msegmented_topics\u001b[0m\u001b[0;34m)\u001b[0m\u001b[0;34m\u001b[0m\u001b[0;34m\u001b[0m\u001b[0m\n\u001b[0m\u001b[1;32m    576\u001b[0m \u001b[0;34m\u001b[0m\u001b[0m\n\u001b[1;32m    577\u001b[0m         \u001b[0mkwargs\u001b[0m \u001b[0;34m=\u001b[0m \u001b[0mdict\u001b[0m\u001b[0;34m(\u001b[0m\u001b[0mwith_std\u001b[0m\u001b[0;34m=\u001b[0m\u001b[0mwith_std\u001b[0m\u001b[0;34m,\u001b[0m \u001b[0mwith_support\u001b[0m\u001b[0;34m=\u001b[0m\u001b[0mwith_support\u001b[0m\u001b[0;34m)\u001b[0m\u001b[0;34m\u001b[0m\u001b[0;34m\u001b[0m\u001b[0m\n",
            "\u001b[0;32m/usr/local/lib/python3.7/dist-packages/gensim/models/coherencemodel.py\u001b[0m in \u001b[0;36mestimate_probabilities\u001b[0;34m(self, segmented_topics)\u001b[0m\n\u001b[1;32m    545\u001b[0m                 \u001b[0mkwargs\u001b[0m\u001b[0;34m[\u001b[0m\u001b[0;34m'model'\u001b[0m\u001b[0;34m]\u001b[0m \u001b[0;34m=\u001b[0m \u001b[0mself\u001b[0m\u001b[0;34m.\u001b[0m\u001b[0mkeyed_vectors\u001b[0m\u001b[0;34m\u001b[0m\u001b[0;34m\u001b[0m\u001b[0m\n\u001b[1;32m    546\u001b[0m \u001b[0;34m\u001b[0m\u001b[0m\n\u001b[0;32m--> 547\u001b[0;31m             \u001b[0mself\u001b[0m\u001b[0;34m.\u001b[0m\u001b[0m_accumulator\u001b[0m \u001b[0;34m=\u001b[0m \u001b[0mself\u001b[0m\u001b[0;34m.\u001b[0m\u001b[0mmeasure\u001b[0m\u001b[0;34m.\u001b[0m\u001b[0mprob\u001b[0m\u001b[0;34m(\u001b[0m\u001b[0;34m**\u001b[0m\u001b[0mkwargs\u001b[0m\u001b[0;34m)\u001b[0m\u001b[0;34m\u001b[0m\u001b[0;34m\u001b[0m\u001b[0m\n\u001b[0m\u001b[1;32m    548\u001b[0m \u001b[0;34m\u001b[0m\u001b[0m\n\u001b[1;32m    549\u001b[0m         \u001b[0;32mreturn\u001b[0m \u001b[0mself\u001b[0m\u001b[0;34m.\u001b[0m\u001b[0m_accumulator\u001b[0m\u001b[0;34m\u001b[0m\u001b[0;34m\u001b[0m\u001b[0m\n",
            "\u001b[0;32m/usr/local/lib/python3.7/dist-packages/gensim/topic_coherence/probability_estimation.py\u001b[0m in \u001b[0;36mp_boolean_sliding_window\u001b[0;34m(texts, segmented_topics, dictionary, window_size, processes)\u001b[0m\n\u001b[1;32m    154\u001b[0m         \u001b[0maccumulator\u001b[0m \u001b[0;34m=\u001b[0m \u001b[0mParallelWordOccurrenceAccumulator\u001b[0m\u001b[0;34m(\u001b[0m\u001b[0mprocesses\u001b[0m\u001b[0;34m,\u001b[0m \u001b[0mtop_ids\u001b[0m\u001b[0;34m,\u001b[0m \u001b[0mdictionary\u001b[0m\u001b[0;34m)\u001b[0m\u001b[0;34m\u001b[0m\u001b[0;34m\u001b[0m\u001b[0m\n\u001b[1;32m    155\u001b[0m     \u001b[0mlogger\u001b[0m\u001b[0;34m.\u001b[0m\u001b[0minfo\u001b[0m\u001b[0;34m(\u001b[0m\u001b[0;34m\"using %s to estimate probabilities from sliding windows\"\u001b[0m\u001b[0;34m,\u001b[0m \u001b[0maccumulator\u001b[0m\u001b[0;34m)\u001b[0m\u001b[0;34m\u001b[0m\u001b[0;34m\u001b[0m\u001b[0m\n\u001b[0;32m--> 156\u001b[0;31m     \u001b[0;32mreturn\u001b[0m \u001b[0maccumulator\u001b[0m\u001b[0;34m.\u001b[0m\u001b[0maccumulate\u001b[0m\u001b[0;34m(\u001b[0m\u001b[0mtexts\u001b[0m\u001b[0;34m,\u001b[0m \u001b[0mwindow_size\u001b[0m\u001b[0;34m)\u001b[0m\u001b[0;34m\u001b[0m\u001b[0;34m\u001b[0m\u001b[0m\n\u001b[0m\u001b[1;32m    157\u001b[0m \u001b[0;34m\u001b[0m\u001b[0m\n\u001b[1;32m    158\u001b[0m \u001b[0;34m\u001b[0m\u001b[0m\n",
            "\u001b[0;32m/usr/local/lib/python3.7/dist-packages/gensim/topic_coherence/text_analysis.py\u001b[0m in \u001b[0;36maccumulate\u001b[0;34m(self, texts, window_size)\u001b[0m\n\u001b[1;32m    333\u001b[0m     \u001b[0;32mdef\u001b[0m \u001b[0maccumulate\u001b[0m\u001b[0;34m(\u001b[0m\u001b[0mself\u001b[0m\u001b[0;34m,\u001b[0m \u001b[0mtexts\u001b[0m\u001b[0;34m,\u001b[0m \u001b[0mwindow_size\u001b[0m\u001b[0;34m)\u001b[0m\u001b[0;34m:\u001b[0m\u001b[0;34m\u001b[0m\u001b[0;34m\u001b[0m\u001b[0m\n\u001b[1;32m    334\u001b[0m         \u001b[0mself\u001b[0m\u001b[0;34m.\u001b[0m\u001b[0m_co_occurrences\u001b[0m \u001b[0;34m=\u001b[0m \u001b[0mself\u001b[0m\u001b[0;34m.\u001b[0m\u001b[0m_co_occurrences\u001b[0m\u001b[0;34m.\u001b[0m\u001b[0mtolil\u001b[0m\u001b[0;34m(\u001b[0m\u001b[0;34m)\u001b[0m\u001b[0;34m\u001b[0m\u001b[0;34m\u001b[0m\u001b[0m\n\u001b[0;32m--> 335\u001b[0;31m         \u001b[0mself\u001b[0m\u001b[0;34m.\u001b[0m\u001b[0mpartial_accumulate\u001b[0m\u001b[0;34m(\u001b[0m\u001b[0mtexts\u001b[0m\u001b[0;34m,\u001b[0m \u001b[0mwindow_size\u001b[0m\u001b[0;34m)\u001b[0m\u001b[0;34m\u001b[0m\u001b[0;34m\u001b[0m\u001b[0m\n\u001b[0m\u001b[1;32m    336\u001b[0m         \u001b[0mself\u001b[0m\u001b[0;34m.\u001b[0m\u001b[0m_symmetrize\u001b[0m\u001b[0;34m(\u001b[0m\u001b[0;34m)\u001b[0m\u001b[0;34m\u001b[0m\u001b[0;34m\u001b[0m\u001b[0m\n\u001b[1;32m    337\u001b[0m         \u001b[0;32mreturn\u001b[0m \u001b[0mself\u001b[0m\u001b[0;34m\u001b[0m\u001b[0;34m\u001b[0m\u001b[0m\n",
            "\u001b[0;32m/usr/local/lib/python3.7/dist-packages/gensim/topic_coherence/text_analysis.py\u001b[0m in \u001b[0;36mpartial_accumulate\u001b[0;34m(self, texts, window_size)\u001b[0m\n\u001b[1;32m    351\u001b[0m         \u001b[0mself\u001b[0m\u001b[0;34m.\u001b[0m\u001b[0m_counter\u001b[0m\u001b[0;34m.\u001b[0m\u001b[0mclear\u001b[0m\u001b[0;34m(\u001b[0m\u001b[0;34m)\u001b[0m\u001b[0;34m\u001b[0m\u001b[0;34m\u001b[0m\u001b[0m\n\u001b[1;32m    352\u001b[0m \u001b[0;34m\u001b[0m\u001b[0m\n\u001b[0;32m--> 353\u001b[0;31m         \u001b[0msuper\u001b[0m\u001b[0;34m(\u001b[0m\u001b[0mWordOccurrenceAccumulator\u001b[0m\u001b[0;34m,\u001b[0m \u001b[0mself\u001b[0m\u001b[0;34m)\u001b[0m\u001b[0;34m.\u001b[0m\u001b[0maccumulate\u001b[0m\u001b[0;34m(\u001b[0m\u001b[0mtexts\u001b[0m\u001b[0;34m,\u001b[0m \u001b[0mwindow_size\u001b[0m\u001b[0;34m)\u001b[0m\u001b[0;34m\u001b[0m\u001b[0;34m\u001b[0m\u001b[0m\n\u001b[0m\u001b[1;32m    354\u001b[0m         \u001b[0;32mfor\u001b[0m \u001b[0mcombo\u001b[0m\u001b[0;34m,\u001b[0m \u001b[0mcount\u001b[0m \u001b[0;32min\u001b[0m \u001b[0mself\u001b[0m\u001b[0;34m.\u001b[0m\u001b[0m_counter\u001b[0m\u001b[0;34m.\u001b[0m\u001b[0mitems\u001b[0m\u001b[0;34m(\u001b[0m\u001b[0;34m)\u001b[0m\u001b[0;34m:\u001b[0m\u001b[0;34m\u001b[0m\u001b[0;34m\u001b[0m\u001b[0m\n\u001b[1;32m    355\u001b[0m             \u001b[0mself\u001b[0m\u001b[0;34m.\u001b[0m\u001b[0m_co_occurrences\u001b[0m\u001b[0;34m[\u001b[0m\u001b[0mcombo\u001b[0m\u001b[0;34m]\u001b[0m \u001b[0;34m+=\u001b[0m \u001b[0mcount\u001b[0m\u001b[0;34m\u001b[0m\u001b[0;34m\u001b[0m\u001b[0m\n",
            "\u001b[0;32m/usr/local/lib/python3.7/dist-packages/gensim/topic_coherence/text_analysis.py\u001b[0m in \u001b[0;36maccumulate\u001b[0;34m(self, texts, window_size)\u001b[0m\n\u001b[1;32m    294\u001b[0m \u001b[0;34m\u001b[0m\u001b[0m\n\u001b[1;32m    295\u001b[0m         \u001b[0;32mfor\u001b[0m \u001b[0mdoc_num\u001b[0m\u001b[0;34m,\u001b[0m \u001b[0mvirtual_document\u001b[0m \u001b[0;32min\u001b[0m \u001b[0mwindows\u001b[0m\u001b[0;34m:\u001b[0m\u001b[0;34m\u001b[0m\u001b[0;34m\u001b[0m\u001b[0m\n\u001b[0;32m--> 296\u001b[0;31m             \u001b[0mself\u001b[0m\u001b[0;34m.\u001b[0m\u001b[0manalyze_text\u001b[0m\u001b[0;34m(\u001b[0m\u001b[0mvirtual_document\u001b[0m\u001b[0;34m,\u001b[0m \u001b[0mdoc_num\u001b[0m\u001b[0;34m)\u001b[0m\u001b[0;34m\u001b[0m\u001b[0;34m\u001b[0m\u001b[0m\n\u001b[0m\u001b[1;32m    297\u001b[0m             \u001b[0mself\u001b[0m\u001b[0;34m.\u001b[0m\u001b[0mnum_docs\u001b[0m \u001b[0;34m+=\u001b[0m \u001b[0;36m1\u001b[0m\u001b[0;34m\u001b[0m\u001b[0;34m\u001b[0m\u001b[0m\n\u001b[1;32m    298\u001b[0m         \u001b[0;32mreturn\u001b[0m \u001b[0mself\u001b[0m\u001b[0;34m\u001b[0m\u001b[0;34m\u001b[0m\u001b[0m\n",
            "\u001b[0;32m/usr/local/lib/python3.7/dist-packages/gensim/topic_coherence/text_analysis.py\u001b[0m in \u001b[0;36manalyze_text\u001b[0;34m(self, window, doc_num)\u001b[0m\n\u001b[1;32m    358\u001b[0m \u001b[0;34m\u001b[0m\u001b[0m\n\u001b[1;32m    359\u001b[0m     \u001b[0;32mdef\u001b[0m \u001b[0manalyze_text\u001b[0m\u001b[0;34m(\u001b[0m\u001b[0mself\u001b[0m\u001b[0;34m,\u001b[0m \u001b[0mwindow\u001b[0m\u001b[0;34m,\u001b[0m \u001b[0mdoc_num\u001b[0m\u001b[0;34m=\u001b[0m\u001b[0;32mNone\u001b[0m\u001b[0;34m)\u001b[0m\u001b[0;34m:\u001b[0m\u001b[0;34m\u001b[0m\u001b[0;34m\u001b[0m\u001b[0m\n\u001b[0;32m--> 360\u001b[0;31m         \u001b[0mself\u001b[0m\u001b[0;34m.\u001b[0m\u001b[0m_slide_window\u001b[0m\u001b[0;34m(\u001b[0m\u001b[0mwindow\u001b[0m\u001b[0;34m,\u001b[0m \u001b[0mdoc_num\u001b[0m\u001b[0;34m)\u001b[0m\u001b[0;34m\u001b[0m\u001b[0;34m\u001b[0m\u001b[0m\n\u001b[0m\u001b[1;32m    361\u001b[0m         \u001b[0mmask\u001b[0m \u001b[0;34m=\u001b[0m \u001b[0mself\u001b[0m\u001b[0;34m.\u001b[0m\u001b[0m_uniq_words\u001b[0m\u001b[0;34m[\u001b[0m\u001b[0;34m:\u001b[0m\u001b[0;34m-\u001b[0m\u001b[0;36m1\u001b[0m\u001b[0;34m]\u001b[0m  \u001b[0;31m# to exclude none token\u001b[0m\u001b[0;34m\u001b[0m\u001b[0;34m\u001b[0m\u001b[0m\n\u001b[1;32m    362\u001b[0m         \u001b[0;32mif\u001b[0m \u001b[0mmask\u001b[0m\u001b[0;34m.\u001b[0m\u001b[0many\u001b[0m\u001b[0;34m(\u001b[0m\u001b[0;34m)\u001b[0m\u001b[0;34m:\u001b[0m\u001b[0;34m\u001b[0m\u001b[0;34m\u001b[0m\u001b[0m\n",
            "\u001b[0;32m/usr/local/lib/python3.7/dist-packages/gensim/topic_coherence/text_analysis.py\u001b[0m in \u001b[0;36m_slide_window\u001b[0;34m(self, window, doc_num)\u001b[0m\n\u001b[1;32m    373\u001b[0m             \u001b[0mself\u001b[0m\u001b[0;34m.\u001b[0m\u001b[0m_uniq_words\u001b[0m\u001b[0;34m[\u001b[0m\u001b[0mwindow\u001b[0m\u001b[0;34m[\u001b[0m\u001b[0;34m-\u001b[0m\u001b[0;36m1\u001b[0m\u001b[0;34m]\u001b[0m\u001b[0;34m]\u001b[0m \u001b[0;34m=\u001b[0m \u001b[0;32mTrue\u001b[0m\u001b[0;34m\u001b[0m\u001b[0;34m\u001b[0m\u001b[0m\n\u001b[1;32m    374\u001b[0m \u001b[0;34m\u001b[0m\u001b[0m\n\u001b[0;32m--> 375\u001b[0;31m         \u001b[0mself\u001b[0m\u001b[0;34m.\u001b[0m\u001b[0m_token_at_edge\u001b[0m \u001b[0;34m=\u001b[0m \u001b[0mwindow\u001b[0m\u001b[0;34m[\u001b[0m\u001b[0;36m0\u001b[0m\u001b[0;34m]\u001b[0m\u001b[0;34m\u001b[0m\u001b[0;34m\u001b[0m\u001b[0m\n\u001b[0m\u001b[1;32m    376\u001b[0m \u001b[0;34m\u001b[0m\u001b[0m\n\u001b[1;32m    377\u001b[0m     \u001b[0;32mdef\u001b[0m \u001b[0m_symmetrize\u001b[0m\u001b[0;34m(\u001b[0m\u001b[0mself\u001b[0m\u001b[0;34m)\u001b[0m\u001b[0;34m:\u001b[0m\u001b[0;34m\u001b[0m\u001b[0;34m\u001b[0m\u001b[0m\n",
            "\u001b[0;31mIndexError\u001b[0m: index 0 is out of bounds for axis 0 with size 0"
          ]
        }
      ]
    },
    {
      "cell_type": "code",
      "execution_count": 151,
      "metadata": {
        "id": "agpzf-CVf6Mr"
      },
      "outputs": [],
      "source": [
        "coherence_model_lda = CoherenceModel(model=lda, texts=data['text'].values, dictionary=dictionary, coherence='c_v')\n",
        "coherence_lda = coherence_model_lda.get_coherence()\n",
        "print('Средняя когерентность: ', coherence_lda)"
      ]
    },
    {
      "cell_type": "markdown",
      "metadata": {
        "id": "QscCr17Zf6Mr"
      },
      "source": [
        "Теперь можно подобрать оптимальное количество тем, опираясь на значение метрик:"
      ]
    },
    {
      "cell_type": "code",
      "execution_count": 114,
      "metadata": {
        "id": "UZBPpBxYf6Mr"
      },
      "outputs": [],
      "source": [
        "import matplotlib.pyplot as plt\n",
        "%matplotlib inline"
      ]
    },
    {
      "cell_type": "code",
      "execution_count": 125,
      "metadata": {
        "id": "q7dUj8ClSOvg"
      },
      "outputs": [],
      "source": [
        "topics_list = [5, 10, 15, 20, 25]\n",
        "coherences = []\n",
        "\n",
        "for num in tqdm(topics_list):\n",
        "    lda = ldamodel.LdaModel(corpus, id2word=dictionary, num_topics=num, chunksize=50, update_every=1, passes=2)\n",
        "    coherences.append(CoherenceModel(model=lda, texts=data['text'], dictionary=dictionary, coherence='c_v').get_coherence())\n",
        "\n",
        "plt.plot(topics_list, coherences)\n",
        "plt.xlabel(\"Число тем\")\n",
        "plt.ylabel(\"Средняя когерентность\")\n",
        "plt.show()"
      ]
    },
    {
      "cell_type": "code",
      "source": [
        ""
      ],
      "metadata": {
        "id": "9HkHnRh65IaV"
      },
      "execution_count": null,
      "outputs": []
    }
  ],
  "metadata": {
    "colab": {
      "collapsed_sections": [
        "oy0GNiJ4jbWZ"
      ],
      "name": "topic_modeling.ipynb",
      "provenance": [],
      "toc_visible": true
    },
    "kernelspec": {
      "display_name": "Python 3",
      "language": "python",
      "name": "python3"
    },
    "language_info": {
      "codemirror_mode": {
        "name": "ipython",
        "version": 3
      },
      "file_extension": ".py",
      "mimetype": "text/x-python",
      "name": "python",
      "nbconvert_exporter": "python",
      "pygments_lexer": "ipython3",
      "version": "3.7.5"
    },
    "widgets": {
      "application/vnd.jupyter.widget-state+json": {
        "33a93f96646b4f34895311bcf4e606df": {
          "model_module": "@jupyter-widgets/controls",
          "model_name": "HBoxModel",
          "model_module_version": "1.5.0",
          "state": {
            "_dom_classes": [],
            "_model_module": "@jupyter-widgets/controls",
            "_model_module_version": "1.5.0",
            "_model_name": "HBoxModel",
            "_view_count": null,
            "_view_module": "@jupyter-widgets/controls",
            "_view_module_version": "1.5.0",
            "_view_name": "HBoxView",
            "box_style": "",
            "children": [
              "IPY_MODEL_4948f851520d443399ccf5be120d6a18",
              "IPY_MODEL_256a2346abe34702975afe111080d88f",
              "IPY_MODEL_cd9992814b3d4ac4add28f612a14d1f1"
            ],
            "layout": "IPY_MODEL_1bb877e31e4f40f5b3beb602c142da12"
          }
        },
        "4948f851520d443399ccf5be120d6a18": {
          "model_module": "@jupyter-widgets/controls",
          "model_name": "HTMLModel",
          "model_module_version": "1.5.0",
          "state": {
            "_dom_classes": [],
            "_model_module": "@jupyter-widgets/controls",
            "_model_module_version": "1.5.0",
            "_model_name": "HTMLModel",
            "_view_count": null,
            "_view_module": "@jupyter-widgets/controls",
            "_view_module_version": "1.5.0",
            "_view_name": "HTMLView",
            "description": "",
            "description_tooltip": null,
            "layout": "IPY_MODEL_10bdf9c838074ab59b7e9c1a118ed7e5",
            "placeholder": "​",
            "style": "IPY_MODEL_0090c09e119f4cb7ba45bdffe9a12724",
            "value": "100%"
          }
        },
        "256a2346abe34702975afe111080d88f": {
          "model_module": "@jupyter-widgets/controls",
          "model_name": "FloatProgressModel",
          "model_module_version": "1.5.0",
          "state": {
            "_dom_classes": [],
            "_model_module": "@jupyter-widgets/controls",
            "_model_module_version": "1.5.0",
            "_model_name": "FloatProgressModel",
            "_view_count": null,
            "_view_module": "@jupyter-widgets/controls",
            "_view_module_version": "1.5.0",
            "_view_name": "ProgressView",
            "bar_style": "success",
            "description": "",
            "description_tooltip": null,
            "layout": "IPY_MODEL_aa512a07a43745c3874d788a54453a86",
            "max": 10000,
            "min": 0,
            "orientation": "horizontal",
            "style": "IPY_MODEL_1501faad53b842008371eae646703ade",
            "value": 10000
          }
        },
        "cd9992814b3d4ac4add28f612a14d1f1": {
          "model_module": "@jupyter-widgets/controls",
          "model_name": "HTMLModel",
          "model_module_version": "1.5.0",
          "state": {
            "_dom_classes": [],
            "_model_module": "@jupyter-widgets/controls",
            "_model_module_version": "1.5.0",
            "_model_name": "HTMLModel",
            "_view_count": null,
            "_view_module": "@jupyter-widgets/controls",
            "_view_module_version": "1.5.0",
            "_view_name": "HTMLView",
            "description": "",
            "description_tooltip": null,
            "layout": "IPY_MODEL_9701b3d6315c41e594c4c4cbf93827c5",
            "placeholder": "​",
            "style": "IPY_MODEL_0eedd580b3ae4024a8316dc0c3b55c79",
            "value": " 10000/10000 [00:15&lt;00:00, 665.48it/s]"
          }
        },
        "1bb877e31e4f40f5b3beb602c142da12": {
          "model_module": "@jupyter-widgets/base",
          "model_name": "LayoutModel",
          "model_module_version": "1.2.0",
          "state": {
            "_model_module": "@jupyter-widgets/base",
            "_model_module_version": "1.2.0",
            "_model_name": "LayoutModel",
            "_view_count": null,
            "_view_module": "@jupyter-widgets/base",
            "_view_module_version": "1.2.0",
            "_view_name": "LayoutView",
            "align_content": null,
            "align_items": null,
            "align_self": null,
            "border": null,
            "bottom": null,
            "display": null,
            "flex": null,
            "flex_flow": null,
            "grid_area": null,
            "grid_auto_columns": null,
            "grid_auto_flow": null,
            "grid_auto_rows": null,
            "grid_column": null,
            "grid_gap": null,
            "grid_row": null,
            "grid_template_areas": null,
            "grid_template_columns": null,
            "grid_template_rows": null,
            "height": null,
            "justify_content": null,
            "justify_items": null,
            "left": null,
            "margin": null,
            "max_height": null,
            "max_width": null,
            "min_height": null,
            "min_width": null,
            "object_fit": null,
            "object_position": null,
            "order": null,
            "overflow": null,
            "overflow_x": null,
            "overflow_y": null,
            "padding": null,
            "right": null,
            "top": null,
            "visibility": null,
            "width": null
          }
        },
        "10bdf9c838074ab59b7e9c1a118ed7e5": {
          "model_module": "@jupyter-widgets/base",
          "model_name": "LayoutModel",
          "model_module_version": "1.2.0",
          "state": {
            "_model_module": "@jupyter-widgets/base",
            "_model_module_version": "1.2.0",
            "_model_name": "LayoutModel",
            "_view_count": null,
            "_view_module": "@jupyter-widgets/base",
            "_view_module_version": "1.2.0",
            "_view_name": "LayoutView",
            "align_content": null,
            "align_items": null,
            "align_self": null,
            "border": null,
            "bottom": null,
            "display": null,
            "flex": null,
            "flex_flow": null,
            "grid_area": null,
            "grid_auto_columns": null,
            "grid_auto_flow": null,
            "grid_auto_rows": null,
            "grid_column": null,
            "grid_gap": null,
            "grid_row": null,
            "grid_template_areas": null,
            "grid_template_columns": null,
            "grid_template_rows": null,
            "height": null,
            "justify_content": null,
            "justify_items": null,
            "left": null,
            "margin": null,
            "max_height": null,
            "max_width": null,
            "min_height": null,
            "min_width": null,
            "object_fit": null,
            "object_position": null,
            "order": null,
            "overflow": null,
            "overflow_x": null,
            "overflow_y": null,
            "padding": null,
            "right": null,
            "top": null,
            "visibility": null,
            "width": null
          }
        },
        "0090c09e119f4cb7ba45bdffe9a12724": {
          "model_module": "@jupyter-widgets/controls",
          "model_name": "DescriptionStyleModel",
          "model_module_version": "1.5.0",
          "state": {
            "_model_module": "@jupyter-widgets/controls",
            "_model_module_version": "1.5.0",
            "_model_name": "DescriptionStyleModel",
            "_view_count": null,
            "_view_module": "@jupyter-widgets/base",
            "_view_module_version": "1.2.0",
            "_view_name": "StyleView",
            "description_width": ""
          }
        },
        "aa512a07a43745c3874d788a54453a86": {
          "model_module": "@jupyter-widgets/base",
          "model_name": "LayoutModel",
          "model_module_version": "1.2.0",
          "state": {
            "_model_module": "@jupyter-widgets/base",
            "_model_module_version": "1.2.0",
            "_model_name": "LayoutModel",
            "_view_count": null,
            "_view_module": "@jupyter-widgets/base",
            "_view_module_version": "1.2.0",
            "_view_name": "LayoutView",
            "align_content": null,
            "align_items": null,
            "align_self": null,
            "border": null,
            "bottom": null,
            "display": null,
            "flex": null,
            "flex_flow": null,
            "grid_area": null,
            "grid_auto_columns": null,
            "grid_auto_flow": null,
            "grid_auto_rows": null,
            "grid_column": null,
            "grid_gap": null,
            "grid_row": null,
            "grid_template_areas": null,
            "grid_template_columns": null,
            "grid_template_rows": null,
            "height": null,
            "justify_content": null,
            "justify_items": null,
            "left": null,
            "margin": null,
            "max_height": null,
            "max_width": null,
            "min_height": null,
            "min_width": null,
            "object_fit": null,
            "object_position": null,
            "order": null,
            "overflow": null,
            "overflow_x": null,
            "overflow_y": null,
            "padding": null,
            "right": null,
            "top": null,
            "visibility": null,
            "width": null
          }
        },
        "1501faad53b842008371eae646703ade": {
          "model_module": "@jupyter-widgets/controls",
          "model_name": "ProgressStyleModel",
          "model_module_version": "1.5.0",
          "state": {
            "_model_module": "@jupyter-widgets/controls",
            "_model_module_version": "1.5.0",
            "_model_name": "ProgressStyleModel",
            "_view_count": null,
            "_view_module": "@jupyter-widgets/base",
            "_view_module_version": "1.2.0",
            "_view_name": "StyleView",
            "bar_color": null,
            "description_width": ""
          }
        },
        "9701b3d6315c41e594c4c4cbf93827c5": {
          "model_module": "@jupyter-widgets/base",
          "model_name": "LayoutModel",
          "model_module_version": "1.2.0",
          "state": {
            "_model_module": "@jupyter-widgets/base",
            "_model_module_version": "1.2.0",
            "_model_name": "LayoutModel",
            "_view_count": null,
            "_view_module": "@jupyter-widgets/base",
            "_view_module_version": "1.2.0",
            "_view_name": "LayoutView",
            "align_content": null,
            "align_items": null,
            "align_self": null,
            "border": null,
            "bottom": null,
            "display": null,
            "flex": null,
            "flex_flow": null,
            "grid_area": null,
            "grid_auto_columns": null,
            "grid_auto_flow": null,
            "grid_auto_rows": null,
            "grid_column": null,
            "grid_gap": null,
            "grid_row": null,
            "grid_template_areas": null,
            "grid_template_columns": null,
            "grid_template_rows": null,
            "height": null,
            "justify_content": null,
            "justify_items": null,
            "left": null,
            "margin": null,
            "max_height": null,
            "max_width": null,
            "min_height": null,
            "min_width": null,
            "object_fit": null,
            "object_position": null,
            "order": null,
            "overflow": null,
            "overflow_x": null,
            "overflow_y": null,
            "padding": null,
            "right": null,
            "top": null,
            "visibility": null,
            "width": null
          }
        },
        "0eedd580b3ae4024a8316dc0c3b55c79": {
          "model_module": "@jupyter-widgets/controls",
          "model_name": "DescriptionStyleModel",
          "model_module_version": "1.5.0",
          "state": {
            "_model_module": "@jupyter-widgets/controls",
            "_model_module_version": "1.5.0",
            "_model_name": "DescriptionStyleModel",
            "_view_count": null,
            "_view_module": "@jupyter-widgets/base",
            "_view_module_version": "1.2.0",
            "_view_name": "StyleView",
            "description_width": ""
          }
        }
      }
    }
  },
  "nbformat": 4,
  "nbformat_minor": 0
}