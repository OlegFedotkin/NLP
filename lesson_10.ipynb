{
  "metadata": {
    "kernelspec": {
      "language": "python",
      "display_name": "Python 3",
      "name": "python3"
    },
    "language_info": {
      "name": "python",
      "version": "3.7.12",
      "mimetype": "text/x-python",
      "codemirror_mode": {
        "name": "ipython",
        "version": 3
      },
      "pygments_lexer": "ipython3",
      "nbconvert_exporter": "python",
      "file_extension": ".py"
    },
    "colab": {
      "provenance": []
    },
    "accelerator": "GPU",
    "gpuClass": "standard"
  },
  "nbformat_minor": 0,
  "nbformat": 4,
  "cells": [
    {
      "cell_type": "markdown",
      "source": [
        "# Neural machine translation with attention"
      ],
      "metadata": {
        "id": "J0Qjg6vuaHNt"
      }
    },
    {
      "cell_type": "code",
      "source": [
        "import tensorflow as tf\n",
        "\n",
        "import matplotlib.pyplot as plt\n",
        "import matplotlib.ticker as ticker\n",
        "from sklearn.model_selection import train_test_split\n",
        "\n",
        "import unicodedata\n",
        "import re\n",
        "import numpy as np\n",
        "import os\n",
        "import io\n",
        "import time"
      ],
      "metadata": {
        "id": "tnxXKDjq3jEL",
        "execution": {
          "iopub.status.busy": "2022-09-08T09:28:34.999987Z",
          "iopub.execute_input": "2022-09-08T09:28:35.000744Z",
          "iopub.status.idle": "2022-09-08T09:28:40.076225Z",
          "shell.execute_reply.started": "2022-09-08T09:28:35.000654Z",
          "shell.execute_reply": "2022-09-08T09:28:40.075134Z"
        },
        "trusted": true
      },
      "execution_count": 1,
      "outputs": []
    },
    {
      "cell_type": "markdown",
      "source": [
        "## Download and prepare the dataset\n",
        "\n",
        "We'll use a language dataset provided by http://www.manythings.org/anki/"
      ],
      "metadata": {
        "id": "wfodePkj3jEa"
      }
    },
    {
      "cell_type": "code",
      "source": [
        "from google.colab import drive\n",
        "drive.mount('/content/gdrive')"
      ],
      "metadata": {
        "colab": {
          "base_uri": "https://localhost:8080/"
        },
        "id": "mHizIgbiCDBj",
        "outputId": "89dd5a63-870d-4bf1-f1ff-b0b0d8280f00"
      },
      "execution_count": 3,
      "outputs": [
        {
          "output_type": "stream",
          "name": "stdout",
          "text": [
            "Mounted at /content/gdrive\n"
          ]
        }
      ]
    },
    {
      "cell_type": "code",
      "source": [
        "%cd gdrive/My\\ Drive/NLP/lesson-10_11"
      ],
      "metadata": {
        "colab": {
          "base_uri": "https://localhost:8080/"
        },
        "id": "2wO-E8HWB7ft",
        "outputId": "b1110b1e-5eb5-42ee-a451-d8e1e95956ea"
      },
      "execution_count": 4,
      "outputs": [
        {
          "output_type": "stream",
          "name": "stdout",
          "text": [
            "/content/gdrive/My Drive/NLP/lesson-10_11\n"
          ]
        }
      ]
    },
    {
      "cell_type": "code",
      "source": [
        "!wget http://www.manythings.org/anki/rus-eng.zip"
      ],
      "metadata": {
        "colab": {
          "base_uri": "https://localhost:8080/"
        },
        "id": "HRtM9arxDDVr",
        "outputId": "f3d5b654-a607-435d-89de-d4e4a0c34162"
      },
      "execution_count": 5,
      "outputs": [
        {
          "output_type": "stream",
          "name": "stdout",
          "text": [
            "--2022-09-11 05:36:04--  http://www.manythings.org/anki/rus-eng.zip\n",
            "Resolving www.manythings.org (www.manythings.org)... 173.254.30.110\n",
            "Connecting to www.manythings.org (www.manythings.org)|173.254.30.110|:80... connected.\n",
            "HTTP request sent, awaiting response... 200 OK\n",
            "Length: 15011848 (14M) [application/zip]\n",
            "Saving to: ‘rus-eng.zip’\n",
            "\n",
            "rus-eng.zip         100%[===================>]  14.32M  4.31MB/s    in 3.3s    \n",
            "\n",
            "2022-09-11 05:36:08 (4.31 MB/s) - ‘rus-eng.zip’ saved [15011848/15011848]\n",
            "\n"
          ]
        }
      ]
    },
    {
      "cell_type": "code",
      "source": [
        "!ls"
      ],
      "metadata": {
        "colab": {
          "base_uri": "https://localhost:8080/"
        },
        "id": "HhaGxoVjCS5b",
        "outputId": "8221b463-9608-40f9-8ba2-8492fd00beb3"
      },
      "execution_count": 6,
      "outputs": [
        {
          "output_type": "stream",
          "name": "stdout",
          "text": [
            "lesson-10.ipynb  lesson-11.ipynb  rus-eng.zip\n"
          ]
        }
      ]
    },
    {
      "cell_type": "code",
      "source": [
        "!mkdir rus-eng\n",
        "!unzip rus-eng.zip -d rus-eng/"
      ],
      "metadata": {
        "id": "83bg17Lr-7XK",
        "outputId": "4ef5f4b6-5f85-4780-b30d-cd86d9b30016",
        "execution": {
          "iopub.status.busy": "2022-09-08T09:28:42.008924Z",
          "iopub.execute_input": "2022-09-08T09:28:42.009323Z",
          "iopub.status.idle": "2022-09-08T09:28:44.666634Z",
          "shell.execute_reply.started": "2022-09-08T09:28:42.009281Z",
          "shell.execute_reply": "2022-09-08T09:28:44.665456Z"
        },
        "trusted": true,
        "colab": {
          "base_uri": "https://localhost:8080/"
        }
      },
      "execution_count": 7,
      "outputs": [
        {
          "output_type": "stream",
          "name": "stdout",
          "text": [
            "Archive:  rus-eng.zip\n",
            "  inflating: rus-eng/rus.txt         \n",
            "  inflating: rus-eng/_about.txt      \n"
          ]
        }
      ]
    },
    {
      "cell_type": "code",
      "source": [
        "!ls ./rus-eng"
      ],
      "metadata": {
        "colab": {
          "base_uri": "https://localhost:8080/"
        },
        "id": "ZTT80yEmDNoO",
        "outputId": "9ae9a5fc-6404-4628-f231-d6da940d1c8c"
      },
      "execution_count": 10,
      "outputs": [
        {
          "output_type": "stream",
          "name": "stdout",
          "text": [
            "_about.txt  rus.txt\n"
          ]
        }
      ]
    },
    {
      "cell_type": "code",
      "source": [
        "# Download the file\n",
        "path_to_file = \"./rus-eng/rus.txt\""
      ],
      "metadata": {
        "id": "kRVATYOgJs1b",
        "execution": {
          "iopub.status.busy": "2022-09-08T09:32:35.624242Z",
          "iopub.execute_input": "2022-09-08T09:32:35.625251Z",
          "iopub.status.idle": "2022-09-08T09:32:35.630311Z",
          "shell.execute_reply.started": "2022-09-08T09:32:35.625209Z",
          "shell.execute_reply": "2022-09-08T09:32:35.628973Z"
        },
        "trusted": true
      },
      "execution_count": 11,
      "outputs": []
    },
    {
      "cell_type": "code",
      "source": [
        "def preprocess_sentence(w):\n",
        "    w = w.lower().strip()\n",
        "\n",
        "  # creating a space between a word and the punctuation following it\n",
        "  # eg: \"he is a boy.\" => \"he is a boy .\"\n",
        "  # Reference:- https://stackoverflow.com/questions/3645931/python-padding-punctuation-with-white-spaces-keeping-punctuation\n",
        "    w = re.sub(r\"([?.!,])\", r\" \\1 \", w)\n",
        "    w = re.sub(r'[\" \"]+', \" \", w)\n",
        "\n",
        "  # replacing everything with space except (a-z, A-Z, \".\", \"?\", \"!\", \",\")\n",
        "    w = re.sub(r\"[^a-zA-Zа-яА-Я?.!,']+\", \" \", w)\n",
        "\n",
        "    w = w.strip()\n",
        "\n",
        "  # adding a start and an end token to the sentence\n",
        "  # so that the model know when to start and stop predicting.\n",
        "    w = '<start> ' + w + ' <end>'\n",
        "    return w"
      ],
      "metadata": {
        "id": "rd0jw-eC3jEh",
        "execution": {
          "iopub.status.busy": "2022-09-08T10:21:01.978323Z",
          "iopub.execute_input": "2022-09-08T10:21:01.978763Z",
          "iopub.status.idle": "2022-09-08T10:21:01.986191Z",
          "shell.execute_reply.started": "2022-09-08T10:21:01.978716Z",
          "shell.execute_reply": "2022-09-08T10:21:01.985126Z"
        },
        "trusted": true
      },
      "execution_count": 12,
      "outputs": []
    },
    {
      "cell_type": "code",
      "source": [
        "# 1. Remove the accents\n",
        "# 2. Clean the sentences\n",
        "# 3. Return word pairs in the format: [ENG, RUS]\n",
        "def create_dataset(path, num_examples):\n",
        "    lines = io.open(path, encoding='UTF-8').read().strip().split('\\n')\n",
        "\n",
        "    word_pairs = [[preprocess_sentence(w) for w in l.split('\\t')[:2]]  for l in lines[:num_examples]]\n",
        "\n",
        "    return zip(*word_pairs)"
      ],
      "metadata": {
        "id": "OHn4Dct23jEm",
        "execution": {
          "iopub.status.busy": "2022-09-08T10:21:02.644543Z",
          "iopub.execute_input": "2022-09-08T10:21:02.645368Z",
          "iopub.status.idle": "2022-09-08T10:21:02.654828Z",
          "shell.execute_reply.started": "2022-09-08T10:21:02.645328Z",
          "shell.execute_reply": "2022-09-08T10:21:02.653425Z"
        },
        "trusted": true
      },
      "execution_count": 14,
      "outputs": []
    },
    {
      "cell_type": "code",
      "source": [
        "en, ru = create_dataset(path_to_file, None)\n",
        "print(en[-1])\n",
        "print(ru[-1])"
      ],
      "metadata": {
        "id": "cTbSbBz55QtF",
        "outputId": "f24e6db7-6606-4b58-db45-37b7bd7b814c",
        "execution": {
          "iopub.status.busy": "2022-09-08T10:21:02.959674Z",
          "iopub.execute_input": "2022-09-08T10:21:02.960120Z",
          "iopub.status.idle": "2022-09-08T10:21:16.126584Z",
          "shell.execute_reply.started": "2022-09-08T10:21:02.960084Z",
          "shell.execute_reply": "2022-09-08T10:21:16.125492Z"
        },
        "trusted": true,
        "colab": {
          "base_uri": "https://localhost:8080/"
        }
      },
      "execution_count": 15,
      "outputs": [
        {
          "output_type": "stream",
          "name": "stdout",
          "text": [
            "<start> doubtless there exists in this world precisely the right woman for any given man to marry and vice versa but when you consider that a human being has the opportunity of being acquainted with only a few hundred people , and out of the few hundred that there are but a dozen or less whom he knows intimately , and out of the dozen , one or two friends at most , it will easily be seen , when we remember the number of millions who inhabit this world , that probably , since the earth was created , the right man has never yet met the right woman . <end>\n",
            "<start> несомненно , для каждого мужчины в этом мире где то есть подходящая женщина , которая может стать ему женой , обратное верно и для женщин . но если учесть , что у человека может быть максимум несколько сотен знакомых , из которых лишь дюжина , а то и меньше , тех , кого он знает близко , а из этой дюжины у него один или от силы два друга , то можно легко увидеть , что с уч том миллионов живущих на земле людей , ни один подходящий мужчина , возможно , ещ не встретил подходящую женщину . <end>\n"
          ]
        }
      ]
    },
    {
      "cell_type": "code",
      "source": [
        "def tokenize(lang):\n",
        "    lang_tokenizer = tf.keras.preprocessing.text.Tokenizer(\n",
        "      filters='')\n",
        "    lang_tokenizer.fit_on_texts(lang)\n",
        "\n",
        "    tensor = lang_tokenizer.texts_to_sequences(lang)\n",
        "\n",
        "    tensor = tf.keras.preprocessing.sequence.pad_sequences(tensor,\n",
        "                                                         padding='post')\n",
        "\n",
        "    return tensor, lang_tokenizer"
      ],
      "metadata": {
        "id": "bIOn8RCNDJXG",
        "execution": {
          "iopub.status.busy": "2022-09-08T10:21:16.129809Z",
          "iopub.execute_input": "2022-09-08T10:21:16.131263Z",
          "iopub.status.idle": "2022-09-08T10:21:16.141945Z",
          "shell.execute_reply.started": "2022-09-08T10:21:16.131223Z",
          "shell.execute_reply": "2022-09-08T10:21:16.140587Z"
        },
        "trusted": true
      },
      "execution_count": 16,
      "outputs": []
    },
    {
      "cell_type": "code",
      "source": [
        "def load_dataset(path, num_examples=None):\n",
        "  # creating cleaned input, output pairs\n",
        "    targ_lang, inp_lang = create_dataset(path, num_examples)\n",
        "\n",
        "    input_tensor, inp_lang_tokenizer = tokenize(inp_lang)\n",
        "    target_tensor, targ_lang_tokenizer = tokenize(targ_lang)\n",
        "\n",
        "    return input_tensor, target_tensor, inp_lang_tokenizer, targ_lang_tokenizer"
      ],
      "metadata": {
        "id": "eAY9k49G3jE_",
        "execution": {
          "iopub.status.busy": "2022-09-08T10:21:16.144964Z",
          "iopub.execute_input": "2022-09-08T10:21:16.146114Z",
          "iopub.status.idle": "2022-09-08T10:21:16.156779Z",
          "shell.execute_reply.started": "2022-09-08T10:21:16.146077Z",
          "shell.execute_reply": "2022-09-08T10:21:16.155771Z"
        },
        "trusted": true
      },
      "execution_count": 17,
      "outputs": []
    },
    {
      "cell_type": "markdown",
      "source": [
        "### Limit the size of the dataset to experiment faster (optional)\n"
      ],
      "metadata": {
        "id": "GOi42V79Ydlr"
      }
    },
    {
      "cell_type": "code",
      "source": [
        "len(en), len(ru)"
      ],
      "metadata": {
        "id": "C8j9g9AnIeZV",
        "outputId": "07d9da92-4d6c-4bf3-80ea-6161b1f01d93",
        "execution": {
          "iopub.status.busy": "2022-09-08T10:21:16.162962Z",
          "iopub.execute_input": "2022-09-08T10:21:16.164092Z",
          "iopub.status.idle": "2022-09-08T10:21:16.174405Z",
          "shell.execute_reply.started": "2022-09-08T10:21:16.164059Z",
          "shell.execute_reply": "2022-09-08T10:21:16.173317Z"
        },
        "trusted": true,
        "colab": {
          "base_uri": "https://localhost:8080/"
        }
      },
      "execution_count": 18,
      "outputs": [
        {
          "output_type": "execute_result",
          "data": {
            "text/plain": [
              "(451436, 451436)"
            ]
          },
          "metadata": {},
          "execution_count": 18
        }
      ]
    },
    {
      "cell_type": "code",
      "source": [
        "# Try experimenting with the size of that dataset\n",
        "num_examples = 100000\n",
        "input_tensor, target_tensor, inp_lang, targ_lang = load_dataset(path_to_file, num_examples)\n",
        "\n",
        "# Calculate max_length of the target tensors\n",
        "max_length_targ, max_length_inp = target_tensor.shape[1], input_tensor.shape[1]"
      ],
      "metadata": {
        "id": "cnxC7q-j3jFD",
        "execution": {
          "iopub.status.busy": "2022-09-08T10:21:16.176859Z",
          "iopub.execute_input": "2022-09-08T10:21:16.178462Z",
          "iopub.status.idle": "2022-09-08T10:21:22.749930Z",
          "shell.execute_reply.started": "2022-09-08T10:21:16.178429Z",
          "shell.execute_reply": "2022-09-08T10:21:22.748958Z"
        },
        "trusted": true
      },
      "execution_count": 19,
      "outputs": []
    },
    {
      "cell_type": "code",
      "source": [
        "# Creating training and validation sets using an 80-20 split\n",
        "input_tensor_train, input_tensor_val, target_tensor_train, target_tensor_val = train_test_split(input_tensor, target_tensor, test_size=0.2)\n",
        "\n",
        "# Show length\n",
        "print(len(input_tensor_train), len(target_tensor_train), len(input_tensor_val), len(target_tensor_val))"
      ],
      "metadata": {
        "id": "4QILQkOs3jFG",
        "outputId": "79489adf-acf0-4f5e-89ce-24161a5c80ba",
        "execution": {
          "iopub.status.busy": "2022-09-08T10:21:22.751365Z",
          "iopub.execute_input": "2022-09-08T10:21:22.751735Z",
          "iopub.status.idle": "2022-09-08T10:21:22.776926Z",
          "shell.execute_reply.started": "2022-09-08T10:21:22.751699Z",
          "shell.execute_reply": "2022-09-08T10:21:22.775691Z"
        },
        "trusted": true,
        "colab": {
          "base_uri": "https://localhost:8080/"
        }
      },
      "execution_count": 20,
      "outputs": [
        {
          "output_type": "stream",
          "name": "stdout",
          "text": [
            "80000 80000 20000 20000\n"
          ]
        }
      ]
    },
    {
      "cell_type": "code",
      "source": [
        "def convert(lang, tensor):\n",
        "    for t in tensor:\n",
        "        if t!=0:\n",
        "            print (\"%d ----> %s\" % (t, lang.index_word[t]))"
      ],
      "metadata": {
        "id": "lJPmLZGMeD5q",
        "execution": {
          "iopub.status.busy": "2022-09-08T10:21:22.778550Z",
          "iopub.execute_input": "2022-09-08T10:21:22.778940Z",
          "iopub.status.idle": "2022-09-08T10:21:22.784803Z",
          "shell.execute_reply.started": "2022-09-08T10:21:22.778887Z",
          "shell.execute_reply": "2022-09-08T10:21:22.783583Z"
        },
        "trusted": true
      },
      "execution_count": 21,
      "outputs": []
    },
    {
      "cell_type": "code",
      "source": [
        "print (\"Input Language; index to word mapping\")\n",
        "convert(inp_lang, input_tensor_train[0])\n",
        "print ()\n",
        "print (\"Target Language; index to word mapping\")\n",
        "convert(targ_lang, target_tensor_train[0])"
      ],
      "metadata": {
        "id": "VXukARTDd7MT",
        "outputId": "da9e2c0f-078f-450f-be4e-afb6db77b221",
        "execution": {
          "iopub.status.busy": "2022-09-08T10:21:22.786241Z",
          "iopub.execute_input": "2022-09-08T10:21:22.787004Z",
          "iopub.status.idle": "2022-09-08T10:21:22.797583Z",
          "shell.execute_reply.started": "2022-09-08T10:21:22.786966Z",
          "shell.execute_reply": "2022-09-08T10:21:22.796611Z"
        },
        "trusted": true,
        "colab": {
          "base_uri": "https://localhost:8080/"
        }
      },
      "execution_count": 22,
      "outputs": [
        {
          "output_type": "stream",
          "name": "stdout",
          "text": [
            "Input Language; index to word mapping\n",
            "1 ----> <start>\n",
            "11 ----> вы\n",
            "421 ----> странно\n",
            "79 ----> себя\n",
            "1707 ----> вед\n",
            "158 ----> те\n",
            "3 ----> .\n",
            "2 ----> <end>\n",
            "\n",
            "Target Language; index to word mapping\n",
            "1 ----> <start>\n",
            "28 ----> you're\n",
            "3103 ----> acting\n",
            "516 ----> weird\n",
            "3 ----> .\n",
            "2 ----> <end>\n"
          ]
        }
      ]
    },
    {
      "cell_type": "markdown",
      "source": [
        "### Create a tf.data dataset"
      ],
      "metadata": {
        "id": "rgCLkfv5uO3d"
      }
    },
    {
      "cell_type": "code",
      "source": [
        "BUFFER_SIZE = len(input_tensor_train)\n",
        "BATCH_SIZE = 64\n",
        "steps_per_epoch = len(input_tensor_train)//BATCH_SIZE\n",
        "embedding_dim = 256\n",
        "units = 1024\n",
        "vocab_inp_size = len(inp_lang.word_index)+1\n",
        "vocab_tar_size = len(targ_lang.word_index)+1\n",
        "\n",
        "dataset = tf.data.Dataset.from_tensor_slices((input_tensor_train, target_tensor_train)).shuffle(BUFFER_SIZE)\n",
        "dataset = dataset.batch(BATCH_SIZE, drop_remainder=True)"
      ],
      "metadata": {
        "id": "TqHsArVZ3jFS",
        "execution": {
          "iopub.status.busy": "2022-09-08T10:26:30.710898Z",
          "iopub.execute_input": "2022-09-08T10:26:30.711875Z",
          "iopub.status.idle": "2022-09-08T10:26:30.724680Z",
          "shell.execute_reply.started": "2022-09-08T10:26:30.711837Z",
          "shell.execute_reply": "2022-09-08T10:26:30.723718Z"
        },
        "trusted": true
      },
      "execution_count": 23,
      "outputs": []
    },
    {
      "cell_type": "code",
      "source": [
        "example_input_batch, example_target_batch = next(iter(dataset))\n",
        "example_input_batch.shape, example_target_batch.shape"
      ],
      "metadata": {
        "id": "qc6-NK1GtWQt",
        "outputId": "a445525c-a458-4909-ff60-1fb38b443503",
        "execution": {
          "iopub.status.busy": "2022-09-08T10:26:32.434813Z",
          "iopub.execute_input": "2022-09-08T10:26:32.435853Z",
          "iopub.status.idle": "2022-09-08T10:26:32.660976Z",
          "shell.execute_reply.started": "2022-09-08T10:26:32.435815Z",
          "shell.execute_reply": "2022-09-08T10:26:32.659980Z"
        },
        "trusted": true,
        "colab": {
          "base_uri": "https://localhost:8080/"
        }
      },
      "execution_count": 24,
      "outputs": [
        {
          "output_type": "execute_result",
          "data": {
            "text/plain": [
              "(TensorShape([64, 15]), TensorShape([64, 11]))"
            ]
          },
          "metadata": {},
          "execution_count": 24
        }
      ]
    },
    {
      "cell_type": "markdown",
      "source": [
        "# **Neural machine translation with attention**"
      ],
      "metadata": {
        "id": "9w8xaoihBYvC"
      }
    },
    {
      "cell_type": "code",
      "source": [
        "class Encoder(tf.keras.Model):\n",
        "    def __init__(self, vocab_size, embedding_dim, enc_units, batch_sz):\n",
        "        super(Encoder, self).__init__()\n",
        "        self.batch_sz = batch_sz\n",
        "        self.enc_units = enc_units\n",
        "        self.embedding = tf.keras.layers.Embedding(vocab_size, embedding_dim)\n",
        "        self.gru = tf.keras.layers.GRU(self.enc_units,\n",
        "                                       return_sequences=True,\n",
        "                                       return_state=True,\n",
        "                                       recurrent_initializer='glorot_uniform')\n",
        "\n",
        "    def call(self, x, hidden):\n",
        "        x = self.embedding(x)\n",
        "        output, state = self.gru(x, initial_state = hidden)\n",
        "        return output, state\n",
        "\n",
        "    def initialize_hidden_state(self):\n",
        "        return tf.zeros((self.batch_sz, self.enc_units))"
      ],
      "metadata": {
        "id": "nZ2rI24i3jFg",
        "execution": {
          "iopub.status.busy": "2022-09-08T10:26:34.881681Z",
          "iopub.execute_input": "2022-09-08T10:26:34.882074Z",
          "iopub.status.idle": "2022-09-08T10:26:34.890256Z",
          "shell.execute_reply.started": "2022-09-08T10:26:34.882041Z",
          "shell.execute_reply": "2022-09-08T10:26:34.889239Z"
        },
        "trusted": true
      },
      "execution_count": 25,
      "outputs": []
    },
    {
      "cell_type": "code",
      "source": [
        "encoder = Encoder(vocab_inp_size, embedding_dim, units, BATCH_SIZE)\n",
        "\n",
        "# sample input\n",
        "sample_hidden = encoder.initialize_hidden_state()\n",
        "sample_output, sample_hidden = encoder(example_input_batch, sample_hidden)\n",
        "print ('Encoder output shape: (batch size, sequence length, units) {}'.format(sample_output.shape))\n",
        "print ('Encoder Hidden state shape: (batch size, units) {}'.format(sample_hidden.shape))"
      ],
      "metadata": {
        "id": "60gSVh05Jl6l",
        "outputId": "6be10732-f79b-4816-e532-594fd83d71d5",
        "execution": {
          "iopub.status.busy": "2022-09-08T10:26:35.434340Z",
          "iopub.execute_input": "2022-09-08T10:26:35.435464Z",
          "iopub.status.idle": "2022-09-08T10:26:35.458537Z",
          "shell.execute_reply.started": "2022-09-08T10:26:35.435419Z",
          "shell.execute_reply": "2022-09-08T10:26:35.457580Z"
        },
        "trusted": true,
        "colab": {
          "base_uri": "https://localhost:8080/"
        }
      },
      "execution_count": 26,
      "outputs": [
        {
          "output_type": "stream",
          "name": "stdout",
          "text": [
            "Encoder output shape: (batch size, sequence length, units) (64, 15, 1024)\n",
            "Encoder Hidden state shape: (batch size, units) (64, 1024)\n"
          ]
        }
      ]
    },
    {
      "cell_type": "code",
      "source": [
        "class BahdanauAttention(tf.keras.layers.Layer):\n",
        "    def __init__(self, units):\n",
        "        super(BahdanauAttention, self).__init__()\n",
        "        self.W1 = tf.keras.layers.Dense(units)\n",
        "        self.W2 = tf.keras.layers.Dense(units)\n",
        "        self.V = tf.keras.layers.Dense(1)\n",
        "\n",
        "    def call(self, query, values):\n",
        "        # query hidden state shape == (batch_size, hidden size)\n",
        "        # query_with_time_axis shape == (batch_size, 1, hidden size)\n",
        "        # values shape == (batch_size, max_len, hidden size)\n",
        "        # we are doing this to broadcast addition along the time axis to calculate the score\n",
        "        query_with_time_axis = tf.expand_dims(query, 1)\n",
        "\n",
        "        # score shape == (batch_size, max_length, 1)\n",
        "        # we get 1 at the last axis because we are applying score to self.V\n",
        "        # the shape of the tensor before applying self.V is (batch_size, max_length, units)\n",
        "        score = self.V(tf.nn.tanh(\n",
        "            self.W1(query_with_time_axis) + self.W2(values)))\n",
        "\n",
        "        # attention_weights shape == (batch_size, max_length, 1)\n",
        "        attention_weights = tf.nn.softmax(score, axis=1)\n",
        "\n",
        "        # context_vector shape after sum == (batch_size, hidden_size)\n",
        "        context_vector = attention_weights * values\n",
        "        context_vector = tf.reduce_sum(context_vector, axis=1)\n",
        "\n",
        "        return context_vector, attention_weights"
      ],
      "metadata": {
        "id": "YTyhL28Niqk1",
        "execution": {
          "iopub.status.busy": "2022-09-08T10:26:37.392825Z",
          "iopub.execute_input": "2022-09-08T10:26:37.393557Z",
          "iopub.status.idle": "2022-09-08T10:26:37.401372Z",
          "shell.execute_reply.started": "2022-09-08T10:26:37.393518Z",
          "shell.execute_reply": "2022-09-08T10:26:37.400091Z"
        },
        "trusted": true
      },
      "execution_count": 27,
      "outputs": []
    },
    {
      "cell_type": "code",
      "source": [
        "attention_layer = BahdanauAttention(10)\n",
        "attention_result, attention_weights = attention_layer(sample_hidden, sample_output)\n",
        "\n",
        "print(\"Attention result shape: (batch size, units) {}\".format(attention_result.shape))\n",
        "print(\"Attention weights shape: (batch_size, sequence_length, 1) {}\".format(attention_weights.shape))"
      ],
      "metadata": {
        "id": "XUqssWcci1XJ",
        "outputId": "9da1fd95-8d48-4cdc-e783-84d6f865739e",
        "execution": {
          "iopub.status.busy": "2022-09-08T10:26:37.650726Z",
          "iopub.execute_input": "2022-09-08T10:26:37.651098Z",
          "iopub.status.idle": "2022-09-08T10:26:37.672147Z",
          "shell.execute_reply.started": "2022-09-08T10:26:37.651066Z",
          "shell.execute_reply": "2022-09-08T10:26:37.671153Z"
        },
        "trusted": true,
        "colab": {
          "base_uri": "https://localhost:8080/"
        }
      },
      "execution_count": 28,
      "outputs": [
        {
          "output_type": "stream",
          "name": "stdout",
          "text": [
            "Attention result shape: (batch size, units) (64, 1024)\n",
            "Attention weights shape: (batch_size, sequence_length, 1) (64, 15, 1)\n"
          ]
        }
      ]
    },
    {
      "cell_type": "code",
      "source": [
        "class Decoder(tf.keras.Model):\n",
        "    def __init__(self, vocab_size, embedding_dim, dec_units, batch_sz):\n",
        "        super(Decoder, self).__init__()\n",
        "        self.batch_sz = batch_sz\n",
        "        self.dec_units = dec_units\n",
        "        self.embedding = tf.keras.layers.Embedding(vocab_size, embedding_dim)\n",
        "        self.gru = tf.keras.layers.GRU(self.dec_units,\n",
        "                                       return_sequences=True,\n",
        "                                       return_state=True,\n",
        "                                       recurrent_initializer='glorot_uniform')\n",
        "        self.fc = tf.keras.layers.Dense(vocab_size)\n",
        "\n",
        "        # used for attention\n",
        "        self.attention = BahdanauAttention(self.dec_units)\n",
        "\n",
        "    def call(self, x, hidden, enc_output):\n",
        "        # enc_output shape == (batch_size, max_length, hidden_size)\n",
        "        context_vector, attention_weights = self.attention(hidden, enc_output)\n",
        "\n",
        "        # x shape after passing through embedding == (batch_size, 1, embedding_dim)\n",
        "        x = self.embedding(x)\n",
        "\n",
        "        # x shape after concatenation == (batch_size, 1, embedding_dim + hidden_size)\n",
        "        x = tf.concat([tf.expand_dims(context_vector, 1), x], axis=-1)\n",
        "\n",
        "        # passing the concatenated vector to the GRU\n",
        "        output, state = self.gru(x)\n",
        "\n",
        "        # output shape == (batch_size * 1, hidden_size)\n",
        "        output = tf.reshape(output, (-1, output.shape[2]))\n",
        "\n",
        "        # output shape == (batch_size, vocab)\n",
        "        x = self.fc(output)\n",
        "\n",
        "        return x, state, attention_weights"
      ],
      "metadata": {
        "id": "yJ_B3mhW3jFk",
        "execution": {
          "iopub.status.busy": "2022-09-08T10:26:37.983518Z",
          "iopub.execute_input": "2022-09-08T10:26:37.984235Z",
          "iopub.status.idle": "2022-09-08T10:26:37.994753Z",
          "shell.execute_reply.started": "2022-09-08T10:26:37.984189Z",
          "shell.execute_reply": "2022-09-08T10:26:37.992968Z"
        },
        "trusted": true
      },
      "execution_count": 29,
      "outputs": []
    },
    {
      "cell_type": "code",
      "source": [
        "decoder = Decoder(vocab_tar_size, embedding_dim, units, BATCH_SIZE)\n",
        "\n",
        "sample_decoder_output, _, _ = decoder(tf.random.uniform((BATCH_SIZE, 1)),\n",
        "                                      sample_hidden, sample_output)\n",
        "\n",
        "print ('Decoder output shape: (batch_size, vocab size) {}'.format(sample_decoder_output.shape))"
      ],
      "metadata": {
        "id": "P5UY8wko3jFp",
        "outputId": "70408cd4-45cc-4c78-ab3d-2a6ba10dc89d",
        "execution": {
          "iopub.status.busy": "2022-09-08T10:26:38.514010Z",
          "iopub.execute_input": "2022-09-08T10:26:38.514731Z",
          "iopub.status.idle": "2022-09-08T10:26:38.550185Z",
          "shell.execute_reply.started": "2022-09-08T10:26:38.514685Z",
          "shell.execute_reply": "2022-09-08T10:26:38.549125Z"
        },
        "trusted": true,
        "colab": {
          "base_uri": "https://localhost:8080/"
        }
      },
      "execution_count": 30,
      "outputs": [
        {
          "output_type": "stream",
          "name": "stdout",
          "text": [
            "Decoder output shape: (batch_size, vocab size) (64, 7335)\n"
          ]
        }
      ]
    },
    {
      "cell_type": "markdown",
      "source": [
        "## Define the optimizer and the loss function"
      ],
      "metadata": {
        "id": "_ch_71VbIRfK"
      }
    },
    {
      "cell_type": "code",
      "source": [
        "optimizer = tf.keras.optimizers.Adam()\n",
        "loss_object = tf.keras.losses.SparseCategoricalCrossentropy(\n",
        "    from_logits=True, reduction='none')\n",
        "def loss_function(real, pred):\n",
        "    mask = tf.math.logical_not(tf.math.equal(real, 0))\n",
        "    loss_ = loss_object(real, pred)\n",
        "\n",
        "    mask = tf.cast(mask, dtype=loss_.dtype)\n",
        "    loss_ *= mask\n",
        "\n",
        "    return tf.reduce_mean(loss_)"
      ],
      "metadata": {
        "id": "WmTHr5iV3jFr",
        "execution": {
          "iopub.status.busy": "2022-09-08T10:26:39.311817Z",
          "iopub.execute_input": "2022-09-08T10:26:39.312658Z",
          "iopub.status.idle": "2022-09-08T10:26:39.321800Z",
          "shell.execute_reply.started": "2022-09-08T10:26:39.312614Z",
          "shell.execute_reply": "2022-09-08T10:26:39.320153Z"
        },
        "trusted": true
      },
      "execution_count": 31,
      "outputs": []
    },
    {
      "cell_type": "markdown",
      "source": [
        "## Checkpoints (Object-based saving)"
      ],
      "metadata": {
        "id": "DMVWzzsfNl4e"
      }
    },
    {
      "cell_type": "code",
      "source": [
        "checkpoint_dir = './training_attention_checkpoints'\n",
        "checkpoint_prefix = os.path.join(checkpoint_dir, \"ckpt\")\n",
        "checkpoint = tf.train.Checkpoint(optimizer=optimizer,\n",
        "                                 encoder=encoder,\n",
        "                                 decoder=decoder)"
      ],
      "metadata": {
        "id": "Zj8bXQTgNwrF",
        "execution": {
          "iopub.status.busy": "2022-09-08T10:26:40.240276Z",
          "iopub.execute_input": "2022-09-08T10:26:40.240643Z",
          "iopub.status.idle": "2022-09-08T10:26:40.250602Z",
          "shell.execute_reply.started": "2022-09-08T10:26:40.240612Z",
          "shell.execute_reply": "2022-09-08T10:26:40.249459Z"
        },
        "trusted": true
      },
      "execution_count": 32,
      "outputs": []
    },
    {
      "cell_type": "code",
      "source": [
        "@tf.function\n",
        "def train_step(inp, targ, enc_hidden):\n",
        "    loss = 0\n",
        "\n",
        "    with tf.GradientTape() as tape:\n",
        "        enc_output, enc_hidden = encoder(inp, enc_hidden)\n",
        "\n",
        "        dec_hidden = enc_hidden\n",
        "\n",
        "        dec_input = tf.expand_dims([targ_lang.word_index['<start>']] * BATCH_SIZE, 1)\n",
        "\n",
        "    # Teacher forcing - feeding the target as the next input\n",
        "        for t in range(1, targ.shape[1]):\n",
        "          # passing enc_output to the decoder\n",
        "            predictions, dec_hidden, _ = decoder(dec_input, dec_hidden, enc_output)\n",
        "\n",
        "            loss += loss_function(targ[:, t], predictions)\n",
        "\n",
        "          # using teacher forcing\n",
        "            dec_input = tf.expand_dims(targ[:, t], 1)\n",
        "\n",
        "    batch_loss = (loss / int(targ.shape[1]))\n",
        "\n",
        "    variables = encoder.trainable_variables + decoder.trainable_variables\n",
        "\n",
        "    gradients = tape.gradient(loss, variables)\n",
        "\n",
        "    optimizer.apply_gradients(zip(gradients, variables))\n",
        "\n",
        "    return batch_loss"
      ],
      "metadata": {
        "id": "sC9ArXSsVfqn",
        "execution": {
          "iopub.status.busy": "2022-09-08T10:26:41.272516Z",
          "iopub.execute_input": "2022-09-08T10:26:41.273290Z",
          "iopub.status.idle": "2022-09-08T10:26:41.281972Z",
          "shell.execute_reply.started": "2022-09-08T10:26:41.273246Z",
          "shell.execute_reply": "2022-09-08T10:26:41.280945Z"
        },
        "trusted": true
      },
      "execution_count": 33,
      "outputs": []
    },
    {
      "cell_type": "code",
      "source": [
        "EPOCHS = 20\n",
        "\n",
        "for epoch in range(EPOCHS):\n",
        "    start = time.time()\n",
        "\n",
        "    enc_hidden = encoder.initialize_hidden_state()\n",
        "    total_loss = 0\n",
        "\n",
        "    for (batch, (inp, targ)) in enumerate(dataset.take(steps_per_epoch)):\n",
        "        batch_loss = train_step(inp, targ, enc_hidden)\n",
        "        total_loss += batch_loss\n",
        "\n",
        "        if batch % 100 == 0:\n",
        "            print('Epoch {} Batch {} Loss {:.4f}'.format(epoch + 1,\n",
        "                                                       batch,\n",
        "                                                       batch_loss.numpy()))\n",
        "  # saving (checkpoint) the model every 2 epochs\n",
        "    if (epoch + 1) % 2 == 0:\n",
        "        checkpoint.save(file_prefix = checkpoint_prefix)\n",
        "\n",
        "    print('Epoch {} Loss {:.4f}'.format(epoch + 1,\n",
        "                                      total_loss / steps_per_epoch))\n",
        "    print('Time taken for 1 epoch {} sec\\n'.format(time.time() - start))"
      ],
      "metadata": {
        "id": "ddefjBMa3jF0",
        "outputId": "9233b7c0-1f32-4dd3-f934-041948433ef9",
        "execution": {
          "iopub.status.busy": "2022-09-08T10:26:42.859309Z",
          "iopub.execute_input": "2022-09-08T10:26:42.859811Z",
          "iopub.status.idle": "2022-09-08T10:49:26.356713Z",
          "shell.execute_reply.started": "2022-09-08T10:26:42.859781Z",
          "shell.execute_reply": "2022-09-08T10:49:26.355646Z"
        },
        "trusted": true,
        "colab": {
          "base_uri": "https://localhost:8080/"
        }
      },
      "execution_count": 34,
      "outputs": [
        {
          "output_type": "stream",
          "name": "stdout",
          "text": [
            "Epoch 1 Batch 0 Loss 4.7032\n",
            "Epoch 1 Batch 100 Loss 2.1632\n",
            "Epoch 1 Batch 200 Loss 1.7870\n",
            "Epoch 1 Batch 300 Loss 1.6840\n",
            "Epoch 1 Batch 400 Loss 1.5112\n",
            "Epoch 1 Batch 500 Loss 1.5544\n",
            "Epoch 1 Batch 600 Loss 1.4174\n",
            "Epoch 1 Batch 700 Loss 1.3494\n",
            "Epoch 1 Batch 800 Loss 1.2954\n",
            "Epoch 1 Batch 900 Loss 1.2168\n",
            "Epoch 1 Batch 1000 Loss 1.1023\n",
            "Epoch 1 Batch 1100 Loss 0.9917\n",
            "Epoch 1 Batch 1200 Loss 0.9970\n",
            "Epoch 1 Loss 1.4482\n",
            "Time taken for 1 epoch 108.23253989219666 sec\n",
            "\n",
            "Epoch 2 Batch 0 Loss 0.7064\n",
            "Epoch 2 Batch 100 Loss 0.7267\n",
            "Epoch 2 Batch 200 Loss 0.7878\n",
            "Epoch 2 Batch 300 Loss 0.7719\n",
            "Epoch 2 Batch 400 Loss 0.7452\n",
            "Epoch 2 Batch 500 Loss 0.6560\n",
            "Epoch 2 Batch 600 Loss 0.5998\n",
            "Epoch 2 Batch 700 Loss 0.4884\n",
            "Epoch 2 Batch 800 Loss 0.5323\n",
            "Epoch 2 Batch 900 Loss 0.5327\n",
            "Epoch 2 Batch 1000 Loss 0.5886\n",
            "Epoch 2 Batch 1100 Loss 0.5072\n",
            "Epoch 2 Batch 1200 Loss 0.5099\n",
            "Epoch 2 Loss 0.6303\n",
            "Time taken for 1 epoch 100.45852541923523 sec\n",
            "\n",
            "Epoch 3 Batch 0 Loss 0.2871\n",
            "Epoch 3 Batch 100 Loss 0.2558\n",
            "Epoch 3 Batch 200 Loss 0.3098\n",
            "Epoch 3 Batch 300 Loss 0.3517\n",
            "Epoch 3 Batch 400 Loss 0.3699\n",
            "Epoch 3 Batch 500 Loss 0.4860\n",
            "Epoch 3 Batch 600 Loss 0.3017\n",
            "Epoch 3 Batch 700 Loss 0.2801\n",
            "Epoch 3 Batch 800 Loss 0.3643\n",
            "Epoch 3 Batch 900 Loss 0.3005\n",
            "Epoch 3 Batch 1000 Loss 0.3311\n",
            "Epoch 3 Batch 1100 Loss 0.3465\n",
            "Epoch 3 Batch 1200 Loss 0.3595\n",
            "Epoch 3 Loss 0.3342\n",
            "Time taken for 1 epoch 98.92296552658081 sec\n",
            "\n",
            "Epoch 4 Batch 0 Loss 0.1887\n",
            "Epoch 4 Batch 100 Loss 0.1700\n",
            "Epoch 4 Batch 200 Loss 0.2209\n",
            "Epoch 4 Batch 300 Loss 0.2794\n",
            "Epoch 4 Batch 400 Loss 0.1715\n",
            "Epoch 4 Batch 500 Loss 0.2219\n",
            "Epoch 4 Batch 600 Loss 0.2343\n",
            "Epoch 4 Batch 700 Loss 0.2021\n",
            "Epoch 4 Batch 800 Loss 0.2452\n",
            "Epoch 4 Batch 900 Loss 0.2023\n",
            "Epoch 4 Batch 1000 Loss 0.3272\n",
            "Epoch 4 Batch 1100 Loss 0.2350\n",
            "Epoch 4 Batch 1200 Loss 0.1751\n",
            "Epoch 4 Loss 0.2090\n",
            "Time taken for 1 epoch 100.49654078483582 sec\n",
            "\n",
            "Epoch 5 Batch 0 Loss 0.1153\n",
            "Epoch 5 Batch 100 Loss 0.1214\n",
            "Epoch 5 Batch 200 Loss 0.1523\n",
            "Epoch 5 Batch 300 Loss 0.1697\n",
            "Epoch 5 Batch 400 Loss 0.1358\n",
            "Epoch 5 Batch 500 Loss 0.1620\n",
            "Epoch 5 Batch 600 Loss 0.0974\n",
            "Epoch 5 Batch 700 Loss 0.1549\n",
            "Epoch 5 Batch 800 Loss 0.1812\n",
            "Epoch 5 Batch 900 Loss 0.1600\n",
            "Epoch 5 Batch 1000 Loss 0.1484\n",
            "Epoch 5 Batch 1100 Loss 0.1729\n",
            "Epoch 5 Batch 1200 Loss 0.1883\n",
            "Epoch 5 Loss 0.1485\n",
            "Time taken for 1 epoch 98.8562068939209 sec\n",
            "\n",
            "Epoch 6 Batch 0 Loss 0.0773\n",
            "Epoch 6 Batch 100 Loss 0.0709\n",
            "Epoch 6 Batch 200 Loss 0.1142\n",
            "Epoch 6 Batch 300 Loss 0.1440\n",
            "Epoch 6 Batch 400 Loss 0.1378\n",
            "Epoch 6 Batch 500 Loss 0.0800\n",
            "Epoch 6 Batch 600 Loss 0.0966\n",
            "Epoch 6 Batch 700 Loss 0.0983\n",
            "Epoch 6 Batch 800 Loss 0.1327\n",
            "Epoch 6 Batch 900 Loss 0.1000\n",
            "Epoch 6 Batch 1000 Loss 0.1013\n",
            "Epoch 6 Batch 1100 Loss 0.1560\n",
            "Epoch 6 Batch 1200 Loss 0.1520\n",
            "Epoch 6 Loss 0.1170\n",
            "Time taken for 1 epoch 100.16826725006104 sec\n",
            "\n",
            "Epoch 7 Batch 0 Loss 0.0493\n",
            "Epoch 7 Batch 100 Loss 0.0755\n",
            "Epoch 7 Batch 200 Loss 0.0839\n",
            "Epoch 7 Batch 300 Loss 0.0715\n",
            "Epoch 7 Batch 400 Loss 0.0988\n",
            "Epoch 7 Batch 500 Loss 0.0949\n",
            "Epoch 7 Batch 600 Loss 0.1013\n",
            "Epoch 7 Batch 700 Loss 0.1346\n",
            "Epoch 7 Batch 800 Loss 0.1259\n",
            "Epoch 7 Batch 900 Loss 0.1101\n",
            "Epoch 7 Batch 1000 Loss 0.0825\n",
            "Epoch 7 Batch 1100 Loss 0.1194\n",
            "Epoch 7 Batch 1200 Loss 0.0553\n",
            "Epoch 7 Loss 0.0994\n",
            "Time taken for 1 epoch 98.9802987575531 sec\n",
            "\n",
            "Epoch 8 Batch 0 Loss 0.0754\n",
            "Epoch 8 Batch 100 Loss 0.0705\n",
            "Epoch 8 Batch 200 Loss 0.0772\n",
            "Epoch 8 Batch 300 Loss 0.0638\n",
            "Epoch 8 Batch 400 Loss 0.0764\n",
            "Epoch 8 Batch 500 Loss 0.0944\n",
            "Epoch 8 Batch 600 Loss 0.0898\n",
            "Epoch 8 Batch 700 Loss 0.0793\n",
            "Epoch 8 Batch 800 Loss 0.1275\n",
            "Epoch 8 Batch 900 Loss 0.0861\n",
            "Epoch 8 Batch 1000 Loss 0.1343\n",
            "Epoch 8 Batch 1100 Loss 0.0633\n",
            "Epoch 8 Batch 1200 Loss 0.1733\n",
            "Epoch 8 Loss 0.0893\n",
            "Time taken for 1 epoch 99.97124099731445 sec\n",
            "\n",
            "Epoch 9 Batch 0 Loss 0.0579\n",
            "Epoch 9 Batch 100 Loss 0.0730\n",
            "Epoch 9 Batch 200 Loss 0.0626\n",
            "Epoch 9 Batch 300 Loss 0.0748\n",
            "Epoch 9 Batch 400 Loss 0.0950\n",
            "Epoch 9 Batch 500 Loss 0.0600\n",
            "Epoch 9 Batch 600 Loss 0.0820\n",
            "Epoch 9 Batch 700 Loss 0.0870\n",
            "Epoch 9 Batch 800 Loss 0.0696\n",
            "Epoch 9 Batch 900 Loss 0.0835\n",
            "Epoch 9 Batch 1000 Loss 0.0867\n",
            "Epoch 9 Batch 1100 Loss 0.0842\n",
            "Epoch 9 Batch 1200 Loss 0.1048\n",
            "Epoch 9 Loss 0.0809\n",
            "Time taken for 1 epoch 98.96481585502625 sec\n",
            "\n",
            "Epoch 10 Batch 0 Loss 0.0326\n",
            "Epoch 10 Batch 100 Loss 0.0461\n",
            "Epoch 10 Batch 200 Loss 0.0648\n",
            "Epoch 10 Batch 300 Loss 0.0829\n",
            "Epoch 10 Batch 400 Loss 0.0608\n",
            "Epoch 10 Batch 500 Loss 0.0945\n",
            "Epoch 10 Batch 600 Loss 0.0763\n",
            "Epoch 10 Batch 700 Loss 0.0779\n",
            "Epoch 10 Batch 800 Loss 0.0529\n",
            "Epoch 10 Batch 900 Loss 0.0574\n",
            "Epoch 10 Batch 1000 Loss 0.0720\n",
            "Epoch 10 Batch 1100 Loss 0.0696\n",
            "Epoch 10 Batch 1200 Loss 0.0728\n",
            "Epoch 10 Loss 0.0765\n",
            "Time taken for 1 epoch 99.95758938789368 sec\n",
            "\n",
            "Epoch 11 Batch 0 Loss 0.0604\n",
            "Epoch 11 Batch 100 Loss 0.0555\n",
            "Epoch 11 Batch 200 Loss 0.0560\n",
            "Epoch 11 Batch 300 Loss 0.0597\n",
            "Epoch 11 Batch 400 Loss 0.0875\n",
            "Epoch 11 Batch 500 Loss 0.0757\n",
            "Epoch 11 Batch 600 Loss 0.1034\n",
            "Epoch 11 Batch 700 Loss 0.0850\n",
            "Epoch 11 Batch 800 Loss 0.0676\n",
            "Epoch 11 Batch 900 Loss 0.0950\n",
            "Epoch 11 Batch 1000 Loss 0.0811\n",
            "Epoch 11 Batch 1100 Loss 0.0404\n",
            "Epoch 11 Batch 1200 Loss 0.1346\n",
            "Epoch 11 Loss 0.0729\n",
            "Time taken for 1 epoch 98.90213179588318 sec\n",
            "\n",
            "Epoch 12 Batch 0 Loss 0.0551\n",
            "Epoch 12 Batch 100 Loss 0.0772\n",
            "Epoch 12 Batch 200 Loss 0.0505\n",
            "Epoch 12 Batch 300 Loss 0.0759\n",
            "Epoch 12 Batch 400 Loss 0.0521\n",
            "Epoch 12 Batch 500 Loss 0.0572\n",
            "Epoch 12 Batch 600 Loss 0.0748\n",
            "Epoch 12 Batch 700 Loss 0.0868\n",
            "Epoch 12 Batch 800 Loss 0.0650\n",
            "Epoch 12 Batch 900 Loss 0.0477\n",
            "Epoch 12 Batch 1000 Loss 0.0671\n",
            "Epoch 12 Batch 1100 Loss 0.0850\n",
            "Epoch 12 Batch 1200 Loss 0.0927\n",
            "Epoch 12 Loss 0.0692\n",
            "Time taken for 1 epoch 100.0091609954834 sec\n",
            "\n",
            "Epoch 13 Batch 0 Loss 0.0389\n",
            "Epoch 13 Batch 100 Loss 0.0466\n",
            "Epoch 13 Batch 200 Loss 0.0371\n",
            "Epoch 13 Batch 300 Loss 0.0600\n",
            "Epoch 13 Batch 400 Loss 0.0417\n",
            "Epoch 13 Batch 500 Loss 0.0628\n",
            "Epoch 13 Batch 600 Loss 0.0516\n",
            "Epoch 13 Batch 700 Loss 0.0352\n",
            "Epoch 13 Batch 800 Loss 0.0777\n",
            "Epoch 13 Batch 900 Loss 0.0721\n",
            "Epoch 13 Batch 1000 Loss 0.0450\n",
            "Epoch 13 Batch 1100 Loss 0.0811\n",
            "Epoch 13 Batch 1200 Loss 0.1397\n",
            "Epoch 13 Loss 0.0653\n",
            "Time taken for 1 epoch 98.83767294883728 sec\n",
            "\n",
            "Epoch 14 Batch 0 Loss 0.0649\n",
            "Epoch 14 Batch 100 Loss 0.0254\n",
            "Epoch 14 Batch 200 Loss 0.0451\n",
            "Epoch 14 Batch 300 Loss 0.0411\n",
            "Epoch 14 Batch 400 Loss 0.0344\n",
            "Epoch 14 Batch 500 Loss 0.0688\n",
            "Epoch 14 Batch 600 Loss 0.0572\n",
            "Epoch 14 Batch 700 Loss 0.0728\n",
            "Epoch 14 Batch 800 Loss 0.0824\n",
            "Epoch 14 Batch 900 Loss 0.0892\n",
            "Epoch 14 Batch 1000 Loss 0.0485\n",
            "Epoch 14 Batch 1100 Loss 0.0615\n",
            "Epoch 14 Batch 1200 Loss 0.0679\n",
            "Epoch 14 Loss 0.0638\n",
            "Time taken for 1 epoch 100.52956414222717 sec\n",
            "\n",
            "Epoch 15 Batch 0 Loss 0.0883\n",
            "Epoch 15 Batch 100 Loss 0.0993\n",
            "Epoch 15 Batch 200 Loss 0.0463\n",
            "Epoch 15 Batch 300 Loss 0.0269\n",
            "Epoch 15 Batch 400 Loss 0.0698\n",
            "Epoch 15 Batch 500 Loss 0.0761\n",
            "Epoch 15 Batch 600 Loss 0.0578\n",
            "Epoch 15 Batch 700 Loss 0.0799\n",
            "Epoch 15 Batch 800 Loss 0.0572\n",
            "Epoch 15 Batch 900 Loss 0.0446\n",
            "Epoch 15 Batch 1000 Loss 0.0735\n",
            "Epoch 15 Batch 1100 Loss 0.1151\n",
            "Epoch 15 Batch 1200 Loss 0.0643\n",
            "Epoch 15 Loss 0.0622\n",
            "Time taken for 1 epoch 98.8255820274353 sec\n",
            "\n",
            "Epoch 16 Batch 0 Loss 0.0449\n",
            "Epoch 16 Batch 100 Loss 0.0452\n",
            "Epoch 16 Batch 200 Loss 0.0370\n",
            "Epoch 16 Batch 300 Loss 0.0635\n",
            "Epoch 16 Batch 400 Loss 0.0385\n",
            "Epoch 16 Batch 500 Loss 0.0351\n",
            "Epoch 16 Batch 600 Loss 0.0666\n",
            "Epoch 16 Batch 700 Loss 0.0842\n",
            "Epoch 16 Batch 800 Loss 0.0824\n",
            "Epoch 16 Batch 900 Loss 0.0543\n",
            "Epoch 16 Batch 1000 Loss 0.0339\n",
            "Epoch 16 Batch 1100 Loss 0.0386\n",
            "Epoch 16 Batch 1200 Loss 0.0581\n",
            "Epoch 16 Loss 0.0597\n",
            "Time taken for 1 epoch 99.79814720153809 sec\n",
            "\n",
            "Epoch 17 Batch 0 Loss 0.0461\n",
            "Epoch 17 Batch 100 Loss 0.0708\n",
            "Epoch 17 Batch 200 Loss 0.0536\n",
            "Epoch 17 Batch 300 Loss 0.0493\n",
            "Epoch 17 Batch 400 Loss 0.0398\n",
            "Epoch 17 Batch 500 Loss 0.0574\n",
            "Epoch 17 Batch 600 Loss 0.0714\n",
            "Epoch 17 Batch 700 Loss 0.0801\n",
            "Epoch 17 Batch 800 Loss 0.0724\n",
            "Epoch 17 Batch 900 Loss 0.0402\n",
            "Epoch 17 Batch 1000 Loss 0.0661\n",
            "Epoch 17 Batch 1100 Loss 0.0720\n",
            "Epoch 17 Batch 1200 Loss 0.0783\n",
            "Epoch 17 Loss 0.0577\n",
            "Time taken for 1 epoch 98.84167456626892 sec\n",
            "\n",
            "Epoch 18 Batch 0 Loss 0.0475\n",
            "Epoch 18 Batch 100 Loss 0.0551\n",
            "Epoch 18 Batch 200 Loss 0.0376\n",
            "Epoch 18 Batch 300 Loss 0.0310\n",
            "Epoch 18 Batch 400 Loss 0.0565\n",
            "Epoch 18 Batch 500 Loss 0.0415\n",
            "Epoch 18 Batch 600 Loss 0.0667\n",
            "Epoch 18 Batch 700 Loss 0.0972\n",
            "Epoch 18 Batch 800 Loss 0.0690\n",
            "Epoch 18 Batch 900 Loss 0.0972\n",
            "Epoch 18 Batch 1000 Loss 0.0574\n",
            "Epoch 18 Batch 1100 Loss 0.0643\n",
            "Epoch 18 Batch 1200 Loss 0.0582\n",
            "Epoch 18 Loss 0.0574\n",
            "Time taken for 1 epoch 100.07116508483887 sec\n",
            "\n",
            "Epoch 19 Batch 0 Loss 0.0374\n",
            "Epoch 19 Batch 100 Loss 0.0407\n",
            "Epoch 19 Batch 200 Loss 0.0452\n",
            "Epoch 19 Batch 300 Loss 0.0641\n",
            "Epoch 19 Batch 400 Loss 0.0459\n",
            "Epoch 19 Batch 500 Loss 0.0486\n",
            "Epoch 19 Batch 600 Loss 0.0746\n",
            "Epoch 19 Batch 700 Loss 0.0430\n",
            "Epoch 19 Batch 800 Loss 0.0469\n",
            "Epoch 19 Batch 900 Loss 0.0431\n",
            "Epoch 19 Batch 1000 Loss 0.0850\n",
            "Epoch 19 Batch 1100 Loss 0.0626\n",
            "Epoch 19 Batch 1200 Loss 0.0960\n",
            "Epoch 19 Loss 0.0555\n",
            "Time taken for 1 epoch 98.88323307037354 sec\n",
            "\n",
            "Epoch 20 Batch 0 Loss 0.0502\n",
            "Epoch 20 Batch 100 Loss 0.0175\n",
            "Epoch 20 Batch 200 Loss 0.0236\n",
            "Epoch 20 Batch 300 Loss 0.0298\n",
            "Epoch 20 Batch 400 Loss 0.0248\n",
            "Epoch 20 Batch 500 Loss 0.0715\n",
            "Epoch 20 Batch 600 Loss 0.0584\n",
            "Epoch 20 Batch 700 Loss 0.0443\n",
            "Epoch 20 Batch 800 Loss 0.0622\n",
            "Epoch 20 Batch 900 Loss 0.0463\n",
            "Epoch 20 Batch 1000 Loss 0.0475\n",
            "Epoch 20 Batch 1100 Loss 0.0694\n",
            "Epoch 20 Batch 1200 Loss 0.0680\n",
            "Epoch 20 Loss 0.0541\n",
            "Time taken for 1 epoch 99.92117619514465 sec\n",
            "\n"
          ]
        }
      ]
    },
    {
      "cell_type": "markdown",
      "source": [
        "## Translate\n",
        "\n",
        "* The evaluate function is similar to the training loop, except we don't use *teacher forcing* here. The input to the decoder at each time step is its previous predictions along with the hidden state and the encoder output.\n",
        "* Stop predicting when the model predicts the *end token*.\n",
        "* And store the *attention weights for every time step*.\n",
        "\n",
        "Note: The encoder output is calculated only once for one input."
      ],
      "metadata": {
        "id": "mU3Ce8M6I3rz"
      }
    },
    {
      "cell_type": "code",
      "source": [
        "def evaluate(sentence):\n",
        "    attention_plot = np.zeros((max_length_targ, max_length_inp))\n",
        "\n",
        "    sentence = preprocess_sentence(sentence)\n",
        "\n",
        "    inputs = [inp_lang.word_index[i] for i in sentence.split(' ')]\n",
        "    inputs = tf.keras.preprocessing.sequence.pad_sequences([inputs],\n",
        "                                                         maxlen=max_length_inp,\n",
        "                                                         padding='post')\n",
        "    inputs = tf.convert_to_tensor(inputs)\n",
        "\n",
        "    result = ''\n",
        "\n",
        "    hidden = [tf.zeros((1, units))]\n",
        "    enc_out, enc_hidden = encoder(inputs, hidden)\n",
        "\n",
        "    dec_hidden = enc_hidden\n",
        "    dec_input = tf.expand_dims([targ_lang.word_index['<start>']], 0)\n",
        "\n",
        "    for t in range(max_length_targ):\n",
        "        predictions, dec_hidden, attention_weights = decoder(dec_input,\n",
        "                                                             dec_hidden,\n",
        "                                                             enc_out)\n",
        "\n",
        "        # storing the attention weights to plot later on\n",
        "        attention_weights = tf.reshape(attention_weights, (-1, ))\n",
        "        attention_plot[t] = attention_weights.numpy()\n",
        "\n",
        "        predicted_id = tf.argmax(predictions[0]).numpy()\n",
        "\n",
        "        result += targ_lang.index_word[predicted_id] + ' '\n",
        "\n",
        "        if targ_lang.index_word[predicted_id] == '<end>':\n",
        "            return result, sentence, attention_plot\n",
        "\n",
        "    # the predicted ID is fed back into the model\n",
        "        dec_input = tf.expand_dims([predicted_id], 0)\n",
        "\n",
        "    return result, sentence, attention_plot"
      ],
      "metadata": {
        "id": "EbQpyYs13jF_",
        "execution": {
          "iopub.status.busy": "2022-09-08T10:49:26.358971Z",
          "iopub.execute_input": "2022-09-08T10:49:26.359548Z",
          "iopub.status.idle": "2022-09-08T10:49:26.390133Z",
          "shell.execute_reply.started": "2022-09-08T10:49:26.359509Z",
          "shell.execute_reply": "2022-09-08T10:49:26.389054Z"
        },
        "trusted": true
      },
      "execution_count": 35,
      "outputs": []
    },
    {
      "cell_type": "code",
      "source": [
        "# function for plotting the attention weights\n",
        "def plot_attention(attention, sentence, predicted_sentence):\n",
        "    fig = plt.figure(figsize=(10,10))\n",
        "    ax = fig.add_subplot(1, 1, 1)\n",
        "    ax.matshow(attention, cmap='viridis')\n",
        "\n",
        "    fontdict = {'fontsize': 14}\n",
        "\n",
        "    ax.set_xticklabels([''] + sentence, fontdict=fontdict, rotation=90)\n",
        "    ax.set_yticklabels([''] + predicted_sentence, fontdict=fontdict)\n",
        "\n",
        "    ax.xaxis.set_major_locator(ticker.MultipleLocator(1))\n",
        "    ax.yaxis.set_major_locator(ticker.MultipleLocator(1))\n",
        "\n",
        "    plt.show()"
      ],
      "metadata": {
        "id": "Qjy26Fe8Bv5d",
        "execution": {
          "iopub.status.busy": "2022-09-08T10:49:26.391677Z",
          "iopub.execute_input": "2022-09-08T10:49:26.392309Z",
          "iopub.status.idle": "2022-09-08T10:49:26.416420Z",
          "shell.execute_reply.started": "2022-09-08T10:49:26.392268Z",
          "shell.execute_reply": "2022-09-08T10:49:26.415352Z"
        },
        "trusted": true
      },
      "execution_count": 36,
      "outputs": []
    },
    {
      "cell_type": "code",
      "source": [
        "def translate(sentence):\n",
        "    result, sentence, attention_plot = evaluate(sentence)\n",
        "\n",
        "    print('Input: %s' % (sentence))\n",
        "    print('Predicted translation: {}'.format(result))\n",
        "\n",
        "    attention_plot = attention_plot[:len(result.split(' ')), :len(sentence.split(' '))]\n",
        "    plot_attention(attention_plot, sentence.split(' '), result.split(' '))"
      ],
      "metadata": {
        "id": "sl9zUHzg3jGI",
        "execution": {
          "iopub.status.busy": "2022-09-08T10:49:26.421006Z",
          "iopub.execute_input": "2022-09-08T10:49:26.421474Z",
          "iopub.status.idle": "2022-09-08T10:49:26.427960Z",
          "shell.execute_reply.started": "2022-09-08T10:49:26.421446Z",
          "shell.execute_reply": "2022-09-08T10:49:26.426921Z"
        },
        "trusted": true
      },
      "execution_count": 37,
      "outputs": []
    },
    {
      "cell_type": "markdown",
      "source": [
        "## Restore the latest checkpoint and test"
      ],
      "metadata": {
        "id": "n250XbnjOaqP"
      }
    },
    {
      "cell_type": "code",
      "source": [
        "# restoring the latest checkpoint in checkpoint_dir\n",
        "checkpoint.restore(tf.train.latest_checkpoint(checkpoint_dir))"
      ],
      "metadata": {
        "id": "UJpT9D5_OgP6",
        "outputId": "f39f5443-1737-422b-ebd0-d504f31d41fc",
        "execution": {
          "iopub.status.busy": "2022-09-08T10:49:26.430408Z",
          "iopub.execute_input": "2022-09-08T10:49:26.430714Z",
          "iopub.status.idle": "2022-09-08T10:49:26.683879Z",
          "shell.execute_reply.started": "2022-09-08T10:49:26.430660Z",
          "shell.execute_reply": "2022-09-08T10:49:26.682951Z"
        },
        "trusted": true,
        "colab": {
          "base_uri": "https://localhost:8080/"
        }
      },
      "execution_count": 38,
      "outputs": [
        {
          "output_type": "execute_result",
          "data": {
            "text/plain": [
              "<tensorflow.python.training.tracking.util.CheckpointLoadStatus at 0x7fc642651e50>"
            ]
          },
          "metadata": {},
          "execution_count": 38
        }
      ]
    },
    {
      "cell_type": "code",
      "source": [
        "translate(u'Вы будет еще дома, когда все это произойдет?')"
      ],
      "metadata": {
        "id": "WrAM0FDomq3E",
        "outputId": "46744c90-1198-4ab6-c4bf-911398593454",
        "execution": {
          "iopub.status.busy": "2022-09-08T10:49:26.685286Z",
          "iopub.execute_input": "2022-09-08T10:49:26.685630Z",
          "iopub.status.idle": "2022-09-08T10:49:26.989588Z",
          "shell.execute_reply.started": "2022-09-08T10:49:26.685595Z",
          "shell.execute_reply": "2022-09-08T10:49:26.988211Z"
        },
        "trusted": true,
        "colab": {
          "base_uri": "https://localhost:8080/",
          "height": 536
        }
      },
      "execution_count": 58,
      "outputs": [
        {
          "output_type": "stream",
          "name": "stdout",
          "text": [
            "Input: <start> вы будет еще дома , когда все это произойдет ? <end>\n",
            "Predicted translation: will you still be here ? <end> \n"
          ]
        },
        {
          "output_type": "display_data",
          "data": {
            "text/plain": [
              "<Figure size 720x720 with 1 Axes>"
            ],
            "image/png": "[encoded data removed]"
          },
          "metadata": {
            "needs_background": "light"
          }
        }
      ]
    },
    {
      "cell_type": "markdown",
      "source": [
        "# **Neural machine translation**"
      ],
      "metadata": {
        "id": "MLWNJOhmBYvU"
      }
    },
    {
      "cell_type": "code",
      "source": [
        "BUFFER_SIZE = len(input_tensor_train)\n",
        "BATCH_SIZE = 64\n",
        "steps_per_epoch = len(input_tensor_train)//BATCH_SIZE\n",
        "embedding_dim = 300\n",
        "units = 1024\n",
        "vocab_inp_size = len(inp_lang.word_index)+1\n",
        "vocab_tar_size = len(targ_lang.word_index)+1\n",
        "\n",
        "dataset = tf.data.Dataset.from_tensor_slices((input_tensor_train, target_tensor_train)).shuffle(BUFFER_SIZE)\n",
        "dataset = dataset.batch(BATCH_SIZE, drop_remainder=True)"
      ],
      "metadata": {
        "execution": {
          "iopub.status.busy": "2022-09-08T10:49:29.107571Z",
          "iopub.execute_input": "2022-09-08T10:49:29.108119Z",
          "iopub.status.idle": "2022-09-08T10:49:29.118999Z",
          "shell.execute_reply.started": "2022-09-08T10:49:29.108068Z",
          "shell.execute_reply": "2022-09-08T10:49:29.118011Z"
        },
        "trusted": true,
        "id": "52ceRgHcBYvU"
      },
      "execution_count": 59,
      "outputs": []
    },
    {
      "cell_type": "code",
      "source": [
        "example_input_batch, example_target_batch = next(iter(dataset))\n",
        "example_input_batch.shape, example_target_batch.shape"
      ],
      "metadata": {
        "execution": {
          "iopub.status.busy": "2022-09-08T10:49:29.120491Z",
          "iopub.execute_input": "2022-09-08T10:49:29.121502Z",
          "iopub.status.idle": "2022-09-08T10:49:29.326562Z",
          "shell.execute_reply.started": "2022-09-08T10:49:29.121465Z",
          "shell.execute_reply": "2022-09-08T10:49:29.325665Z"
        },
        "trusted": true,
        "colab": {
          "base_uri": "https://localhost:8080/"
        },
        "id": "z3ZuNScmBYvU",
        "outputId": "f3acfa2c-cdd7-4bd2-cec8-8b97d87d2a53"
      },
      "execution_count": 60,
      "outputs": [
        {
          "output_type": "execute_result",
          "data": {
            "text/plain": [
              "(TensorShape([64, 15]), TensorShape([64, 11]))"
            ]
          },
          "metadata": {},
          "execution_count": 60
        }
      ]
    },
    {
      "cell_type": "code",
      "source": [
        "class Encoder(tf.keras.Model):\n",
        "    def __init__(self, vocab_size, embedding_dim, enc_units, batch_sz):\n",
        "        super(Encoder, self).__init__()\n",
        "        self.batch_sz = batch_sz\n",
        "        self.enc_units = enc_units\n",
        "        self.embedding = tf.keras.layers.Embedding(vocab_size, embedding_dim)\n",
        "        self.gru = tf.keras.layers.GRU(self.enc_units,\n",
        "                                       return_sequences=False,\n",
        "                                       return_state=True,\n",
        "                                       recurrent_initializer='glorot_uniform')\n",
        "\n",
        "\n",
        "    def call(self, x, hidden):\n",
        "        x = self.embedding(x)\n",
        "        output, state = self.gru(x, initial_state = hidden)\n",
        "        return state\n",
        "\n",
        "    def initialize_hidden_state(self):\n",
        "        return tf.zeros((self.batch_sz, self.enc_units))"
      ],
      "metadata": {
        "execution": {
          "iopub.status.busy": "2022-09-08T10:49:29.327892Z",
          "iopub.execute_input": "2022-09-08T10:49:29.328924Z",
          "iopub.status.idle": "2022-09-08T10:49:29.336889Z",
          "shell.execute_reply.started": "2022-09-08T10:49:29.328871Z",
          "shell.execute_reply": "2022-09-08T10:49:29.335861Z"
        },
        "trusted": true,
        "id": "TzFLSPg9BYvV"
      },
      "execution_count": 61,
      "outputs": []
    },
    {
      "cell_type": "code",
      "source": [
        "encoder = Encoder(vocab_inp_size, embedding_dim, units, BATCH_SIZE)\n",
        "\n",
        "# sample input\n",
        "sample_hidden = encoder.initialize_hidden_state()\n",
        "sample_hidden = encoder(example_input_batch, sample_hidden)\n",
        "# print ('Encoder output shape: (batch size, sequence length, units) {}'.format(sample_output.shape))\n",
        "print ('Encoder Hidden state shape: (batch size, units) {}'.format(sample_hidden.shape))"
      ],
      "metadata": {
        "execution": {
          "iopub.status.busy": "2022-09-08T10:49:29.338479Z",
          "iopub.execute_input": "2022-09-08T10:49:29.338877Z",
          "iopub.status.idle": "2022-09-08T10:49:29.366139Z",
          "shell.execute_reply.started": "2022-09-08T10:49:29.338842Z",
          "shell.execute_reply": "2022-09-08T10:49:29.365210Z"
        },
        "trusted": true,
        "colab": {
          "base_uri": "https://localhost:8080/"
        },
        "id": "H4bd5w-EBYvV",
        "outputId": "39a14f02-444e-4ead-b8ec-5c9aa8273f75"
      },
      "execution_count": 62,
      "outputs": [
        {
          "output_type": "stream",
          "name": "stdout",
          "text": [
            "Encoder Hidden state shape: (batch size, units) (64, 1024)\n"
          ]
        }
      ]
    },
    {
      "cell_type": "code",
      "source": [
        "class Decoder(tf.keras.Model):\n",
        "    def __init__(self, vocab_size, embedding_dim, dec_units, batch_sz):\n",
        "        super(Decoder, self).__init__()\n",
        "        self.batch_sz = batch_sz\n",
        "        self.dec_units = dec_units\n",
        "        self.embedding = tf.keras.layers.Embedding(vocab_size, embedding_dim)\n",
        "        self.gru = tf.keras.layers.GRU(self.dec_units,\n",
        "                                       return_sequences=True,\n",
        "                                       return_state=True,\n",
        "                                       recurrent_initializer='glorot_uniform')\n",
        "        self.fc = tf.keras.layers.Dense(vocab_size)\n",
        "\n",
        "    def call(self, x, hidden):\n",
        "        # enc_output shape == (batch_size, max_length, hidden_size)\n",
        "\n",
        "        # x shape after passing through embedding == (batch_size, 1, embedding_dim)\n",
        "        x = self.embedding(x)\n",
        "\n",
        "        # x shape after concatenation == (batch_size, 1, embedding_dim + hidden_size)\n",
        "\n",
        "        # passing the concatenated vector to the GRU\n",
        "        output, state = self.gru(x, initial_state=hidden)\n",
        "\n",
        "        # output shape == (batch_size * 1, hidden_size)\n",
        "        output = tf.reshape(output, (-1, output.shape[2]))\n",
        "\n",
        "        # output shape == (batch_size, vocab)\n",
        "        x = self.fc(output)\n",
        "\n",
        "        return x, state"
      ],
      "metadata": {
        "execution": {
          "iopub.status.busy": "2022-09-08T10:49:29.369093Z",
          "iopub.execute_input": "2022-09-08T10:49:29.369404Z",
          "iopub.status.idle": "2022-09-08T10:49:29.380384Z",
          "shell.execute_reply.started": "2022-09-08T10:49:29.369375Z",
          "shell.execute_reply": "2022-09-08T10:49:29.379294Z"
        },
        "trusted": true,
        "id": "58JRwEHyBYvV"
      },
      "execution_count": 63,
      "outputs": []
    },
    {
      "cell_type": "code",
      "source": [
        "decoder = Decoder(vocab_tar_size, embedding_dim, units, BATCH_SIZE)\n",
        "\n",
        "decoder_sample_x, decoder_sample_h = decoder(tf.random.uniform((BATCH_SIZE, 1)),\n",
        "                                      sample_hidden)"
      ],
      "metadata": {
        "execution": {
          "iopub.status.busy": "2022-09-08T10:49:29.381858Z",
          "iopub.execute_input": "2022-09-08T10:49:29.382189Z",
          "iopub.status.idle": "2022-09-08T10:49:29.405707Z",
          "shell.execute_reply.started": "2022-09-08T10:49:29.382156Z",
          "shell.execute_reply": "2022-09-08T10:49:29.404867Z"
        },
        "trusted": true,
        "id": "v582mn1CBYvW"
      },
      "execution_count": 64,
      "outputs": []
    },
    {
      "cell_type": "code",
      "source": [
        "optimizer = tf.keras.optimizers.Adam()\n",
        "\n",
        "loss_object = tf.keras.losses.SparseCategoricalCrossentropy(\n",
        "    from_logits=True, reduction='none')\n",
        "\n",
        "def loss_function(real, pred):\n",
        "    mask = tf.math.logical_not(tf.math.equal(real, 0))\n",
        "    loss_ = loss_object(real, pred)\n",
        "\n",
        "    mask = tf.cast(mask, dtype=loss_.dtype)\n",
        "    loss_ *= mask\n",
        "\n",
        "    return tf.reduce_mean(loss_)"
      ],
      "metadata": {
        "execution": {
          "iopub.status.busy": "2022-09-08T10:49:29.406763Z",
          "iopub.execute_input": "2022-09-08T10:49:29.407071Z",
          "iopub.status.idle": "2022-09-08T10:49:29.414685Z",
          "shell.execute_reply.started": "2022-09-08T10:49:29.407036Z",
          "shell.execute_reply": "2022-09-08T10:49:29.413625Z"
        },
        "trusted": true,
        "id": "rlFF2fQNBYvW"
      },
      "execution_count": 65,
      "outputs": []
    },
    {
      "cell_type": "code",
      "source": [
        "checkpoint_dir = './training_nmt_checkpoints'\n",
        "\n",
        "checkpoint_prefix = os.path.join(checkpoint_dir, \"ckpt\")\n",
        "\n",
        "checkpoint = tf.train.Checkpoint(optimizer=optimizer,\n",
        "                                 encoder=encoder,\n",
        "                                 decoder=decoder)"
      ],
      "metadata": {
        "execution": {
          "iopub.status.busy": "2022-09-08T10:49:29.416016Z",
          "iopub.execute_input": "2022-09-08T10:49:29.416474Z",
          "iopub.status.idle": "2022-09-08T10:49:29.425599Z",
          "shell.execute_reply.started": "2022-09-08T10:49:29.416440Z",
          "shell.execute_reply": "2022-09-08T10:49:29.424668Z"
        },
        "trusted": true,
        "id": "r7gLuMchBYvX"
      },
      "execution_count": 66,
      "outputs": []
    },
    {
      "cell_type": "code",
      "source": [
        "@tf.function\n",
        "def train_step(inp, targ, enc_hidden):\n",
        "    loss = 0\n",
        "\n",
        "    with tf.GradientTape() as tape:\n",
        "        enc_hidden = encoder(inp, enc_hidden)\n",
        "\n",
        "        dec_hidden = enc_hidden\n",
        "\n",
        "        dec_input = tf.expand_dims([targ_lang.word_index['<start>']] * BATCH_SIZE, 1)\n",
        "\n",
        "    # Teacher forcing - feeding the target as the next input\n",
        "        for t in range(1, targ.shape[1]):\n",
        "      # passing enc_output to the decoder\n",
        "            predictions, dec_hidden = decoder(dec_input, dec_hidden)\n",
        "\n",
        "            loss += loss_function(targ[:, t], predictions)\n",
        "\n",
        "      # using teacher forcing\n",
        "            dec_input = tf.expand_dims(targ[:, t], 1)\n",
        "\n",
        "    batch_loss = (loss / int(targ.shape[1]))\n",
        "\n",
        "    variables = encoder.trainable_variables + decoder.trainable_variables\n",
        "\n",
        "    gradients = tape.gradient(loss, variables)\n",
        "\n",
        "    optimizer.apply_gradients(zip(gradients, variables))\n",
        "\n",
        "    return batch_loss"
      ],
      "metadata": {
        "execution": {
          "iopub.status.busy": "2022-09-08T10:49:29.426784Z",
          "iopub.execute_input": "2022-09-08T10:49:29.427256Z",
          "iopub.status.idle": "2022-09-08T10:49:29.758226Z",
          "shell.execute_reply.started": "2022-09-08T10:49:29.427222Z",
          "shell.execute_reply": "2022-09-08T10:49:29.757230Z"
        },
        "trusted": true,
        "id": "FL7XDRLiBYvX"
      },
      "execution_count": 67,
      "outputs": []
    },
    {
      "cell_type": "code",
      "source": [
        "EPOCHS = 20\n",
        "\n",
        "for epoch in range(EPOCHS):\n",
        "    start = time.time()\n",
        "\n",
        "    enc_hidden = encoder.initialize_hidden_state()\n",
        "    total_loss = 0\n",
        "\n",
        "    for (batch, (inp, targ)) in enumerate(dataset.take(steps_per_epoch)):\n",
        "        batch_loss = train_step(inp, targ, enc_hidden)\n",
        "        total_loss += batch_loss\n",
        "\n",
        "        if batch % 100 == 0:\n",
        "            print('Epoch {} Batch {} Loss {:.4f}'.format(epoch + 1,\n",
        "                                                   batch,\n",
        "                                                   batch_loss.numpy()))\n",
        "  # saving (checkpoint) the model every 2 epochs\n",
        "    if (epoch + 1) % 2 == 0:\n",
        "        checkpoint.save(file_prefix = checkpoint_prefix)\n",
        "\n",
        "    print('Epoch {} Loss {:.4f}'.format(epoch + 1,\n",
        "                                      total_loss / steps_per_epoch))\n",
        "    print('Time taken for 1 epoch {} sec\\n'.format(time.time() - start))"
      ],
      "metadata": {
        "execution": {
          "iopub.status.busy": "2022-09-08T10:49:29.767530Z",
          "iopub.execute_input": "2022-09-08T10:49:29.767858Z",
          "iopub.status.idle": "2022-09-08T11:03:13.285037Z",
          "shell.execute_reply.started": "2022-09-08T10:49:29.767829Z",
          "shell.execute_reply": "2022-09-08T11:03:13.283927Z"
        },
        "trusted": true,
        "colab": {
          "base_uri": "https://localhost:8080/"
        },
        "id": "i9ZQAWI-BYvY",
        "outputId": "19647810-048c-4628-c8b3-4680593fc1d5"
      },
      "execution_count": 68,
      "outputs": [
        {
          "output_type": "stream",
          "name": "stdout",
          "text": [
            "Epoch 1 Batch 0 Loss 4.6523\n",
            "Epoch 1 Batch 100 Loss 2.1178\n",
            "Epoch 1 Batch 200 Loss 1.6771\n",
            "Epoch 1 Batch 300 Loss 1.6445\n",
            "Epoch 1 Batch 400 Loss 1.5481\n",
            "Epoch 1 Batch 500 Loss 1.4072\n",
            "Epoch 1 Batch 600 Loss 1.4014\n",
            "Epoch 1 Batch 700 Loss 1.1674\n",
            "Epoch 1 Batch 800 Loss 1.1516\n",
            "Epoch 1 Batch 900 Loss 1.1000\n",
            "Epoch 1 Batch 1000 Loss 1.1673\n",
            "Epoch 1 Batch 1100 Loss 1.0847\n",
            "Epoch 1 Batch 1200 Loss 0.9346\n",
            "Epoch 1 Loss 1.4162\n",
            "Time taken for 1 epoch 68.77156639099121 sec\n",
            "\n",
            "Epoch 2 Batch 0 Loss 0.8212\n",
            "Epoch 2 Batch 100 Loss 0.8746\n",
            "Epoch 2 Batch 200 Loss 0.7539\n",
            "Epoch 2 Batch 300 Loss 0.7470\n",
            "Epoch 2 Batch 400 Loss 0.8060\n",
            "Epoch 2 Batch 500 Loss 0.8158\n",
            "Epoch 2 Batch 600 Loss 0.7197\n",
            "Epoch 2 Batch 700 Loss 0.5906\n",
            "Epoch 2 Batch 800 Loss 0.6462\n",
            "Epoch 2 Batch 900 Loss 0.6614\n",
            "Epoch 2 Batch 1000 Loss 0.6847\n",
            "Epoch 2 Batch 1100 Loss 0.6060\n",
            "Epoch 2 Batch 1200 Loss 0.4962\n",
            "Epoch 2 Loss 0.6927\n",
            "Time taken for 1 epoch 58.770570278167725 sec\n",
            "\n",
            "Epoch 3 Batch 0 Loss 0.3887\n",
            "Epoch 3 Batch 100 Loss 0.3305\n",
            "Epoch 3 Batch 200 Loss 0.3563\n",
            "Epoch 3 Batch 300 Loss 0.3317\n",
            "Epoch 3 Batch 400 Loss 0.4458\n",
            "Epoch 3 Batch 500 Loss 0.3610\n",
            "Epoch 3 Batch 600 Loss 0.3983\n",
            "Epoch 3 Batch 700 Loss 0.3307\n",
            "Epoch 3 Batch 800 Loss 0.3617\n",
            "Epoch 3 Batch 900 Loss 0.3498\n",
            "Epoch 3 Batch 1000 Loss 0.3088\n",
            "Epoch 3 Batch 1100 Loss 0.3196\n",
            "Epoch 3 Batch 1200 Loss 0.3351\n",
            "Epoch 3 Loss 0.3719\n",
            "Time taken for 1 epoch 57.968796730041504 sec\n",
            "\n",
            "Epoch 4 Batch 0 Loss 0.2078\n",
            "Epoch 4 Batch 100 Loss 0.2335\n",
            "Epoch 4 Batch 200 Loss 0.1955\n",
            "Epoch 4 Batch 300 Loss 0.2176\n",
            "Epoch 4 Batch 400 Loss 0.1986\n",
            "Epoch 4 Batch 500 Loss 0.2282\n",
            "Epoch 4 Batch 600 Loss 0.2251\n",
            "Epoch 4 Batch 700 Loss 0.2103\n",
            "Epoch 4 Batch 800 Loss 0.2075\n",
            "Epoch 4 Batch 900 Loss 0.2330\n",
            "Epoch 4 Batch 1000 Loss 0.2185\n",
            "Epoch 4 Batch 1100 Loss 0.2447\n",
            "Epoch 4 Batch 1200 Loss 0.2703\n",
            "Epoch 4 Loss 0.2225\n",
            "Time taken for 1 epoch 58.83093500137329 sec\n",
            "\n",
            "Epoch 5 Batch 0 Loss 0.1216\n",
            "Epoch 5 Batch 100 Loss 0.1442\n",
            "Epoch 5 Batch 200 Loss 0.1193\n",
            "Epoch 5 Batch 300 Loss 0.1475\n",
            "Epoch 5 Batch 400 Loss 0.1320\n",
            "Epoch 5 Batch 500 Loss 0.1160\n",
            "Epoch 5 Batch 600 Loss 0.1462\n",
            "Epoch 5 Batch 700 Loss 0.1357\n",
            "Epoch 5 Batch 800 Loss 0.1919\n",
            "Epoch 5 Batch 900 Loss 0.1350\n",
            "Epoch 5 Batch 1000 Loss 0.1630\n",
            "Epoch 5 Batch 1100 Loss 0.1668\n",
            "Epoch 5 Batch 1200 Loss 0.1982\n",
            "Epoch 5 Loss 0.1517\n",
            "Time taken for 1 epoch 57.89560627937317 sec\n",
            "\n",
            "Epoch 6 Batch 0 Loss 0.0948\n",
            "Epoch 6 Batch 100 Loss 0.0720\n",
            "Epoch 6 Batch 200 Loss 0.0662\n",
            "Epoch 6 Batch 300 Loss 0.1095\n",
            "Epoch 6 Batch 400 Loss 0.0894\n",
            "Epoch 6 Batch 500 Loss 0.1240\n",
            "Epoch 6 Batch 600 Loss 0.1209\n",
            "Epoch 6 Batch 700 Loss 0.1402\n",
            "Epoch 6 Batch 800 Loss 0.1174\n",
            "Epoch 6 Batch 900 Loss 0.1245\n",
            "Epoch 6 Batch 1000 Loss 0.1254\n",
            "Epoch 6 Batch 1100 Loss 0.1216\n",
            "Epoch 6 Batch 1200 Loss 0.1293\n",
            "Epoch 6 Loss 0.1179\n",
            "Time taken for 1 epoch 58.862478733062744 sec\n",
            "\n",
            "Epoch 7 Batch 0 Loss 0.0710\n",
            "Epoch 7 Batch 100 Loss 0.0451\n",
            "Epoch 7 Batch 200 Loss 0.0685\n",
            "Epoch 7 Batch 300 Loss 0.1060\n",
            "Epoch 7 Batch 400 Loss 0.1014\n",
            "Epoch 7 Batch 500 Loss 0.1279\n",
            "Epoch 7 Batch 600 Loss 0.0800\n",
            "Epoch 7 Batch 700 Loss 0.1081\n",
            "Epoch 7 Batch 800 Loss 0.1052\n",
            "Epoch 7 Batch 900 Loss 0.1286\n",
            "Epoch 7 Batch 1000 Loss 0.0899\n",
            "Epoch 7 Batch 1100 Loss 0.1195\n",
            "Epoch 7 Batch 1200 Loss 0.1334\n",
            "Epoch 7 Loss 0.1002\n",
            "Time taken for 1 epoch 57.89407515525818 sec\n",
            "\n",
            "Epoch 8 Batch 0 Loss 0.1323\n",
            "Epoch 8 Batch 100 Loss 0.0640\n",
            "Epoch 8 Batch 200 Loss 0.0786\n",
            "Epoch 8 Batch 300 Loss 0.1017\n",
            "Epoch 8 Batch 400 Loss 0.0732\n",
            "Epoch 8 Batch 500 Loss 0.0459\n",
            "Epoch 8 Batch 600 Loss 0.0841\n",
            "Epoch 8 Batch 700 Loss 0.0965\n",
            "Epoch 8 Batch 800 Loss 0.1010\n",
            "Epoch 8 Batch 900 Loss 0.1275\n",
            "Epoch 8 Batch 1000 Loss 0.1518\n",
            "Epoch 8 Batch 1100 Loss 0.0839\n",
            "Epoch 8 Batch 1200 Loss 0.1045\n",
            "Epoch 8 Loss 0.0913\n",
            "Time taken for 1 epoch 59.128902435302734 sec\n",
            "\n",
            "Epoch 9 Batch 0 Loss 0.1037\n",
            "Epoch 9 Batch 100 Loss 0.0698\n",
            "Epoch 9 Batch 200 Loss 0.0869\n",
            "Epoch 9 Batch 300 Loss 0.0826\n",
            "Epoch 9 Batch 400 Loss 0.0870\n",
            "Epoch 9 Batch 500 Loss 0.0705\n",
            "Epoch 9 Batch 600 Loss 0.1254\n",
            "Epoch 9 Batch 700 Loss 0.0812\n",
            "Epoch 9 Batch 800 Loss 0.0647\n",
            "Epoch 9 Batch 900 Loss 0.0818\n",
            "Epoch 9 Batch 1000 Loss 0.0762\n",
            "Epoch 9 Batch 1100 Loss 0.0720\n",
            "Epoch 9 Batch 1200 Loss 0.0933\n",
            "Epoch 9 Loss 0.0850\n",
            "Time taken for 1 epoch 57.930219411849976 sec\n",
            "\n",
            "Epoch 10 Batch 0 Loss 0.0631\n",
            "Epoch 10 Batch 100 Loss 0.0819\n",
            "Epoch 10 Batch 200 Loss 0.0700\n",
            "Epoch 10 Batch 300 Loss 0.0788\n",
            "Epoch 10 Batch 400 Loss 0.0773\n",
            "Epoch 10 Batch 500 Loss 0.0523\n",
            "Epoch 10 Batch 600 Loss 0.0889\n",
            "Epoch 10 Batch 700 Loss 0.1008\n",
            "Epoch 10 Batch 800 Loss 0.1108\n",
            "Epoch 10 Batch 900 Loss 0.0931\n",
            "Epoch 10 Batch 1000 Loss 0.0965\n",
            "Epoch 10 Batch 1100 Loss 0.0576\n",
            "Epoch 10 Batch 1200 Loss 0.1235\n",
            "Epoch 10 Loss 0.0798\n",
            "Time taken for 1 epoch 58.9195191860199 sec\n",
            "\n",
            "Epoch 11 Batch 0 Loss 0.0556\n",
            "Epoch 11 Batch 100 Loss 0.0494\n",
            "Epoch 11 Batch 200 Loss 0.1072\n",
            "Epoch 11 Batch 300 Loss 0.0789\n",
            "Epoch 11 Batch 400 Loss 0.0609\n",
            "Epoch 11 Batch 500 Loss 0.0663\n",
            "Epoch 11 Batch 600 Loss 0.0971\n",
            "Epoch 11 Batch 700 Loss 0.0919\n",
            "Epoch 11 Batch 800 Loss 0.0542\n",
            "Epoch 11 Batch 900 Loss 0.1250\n",
            "Epoch 11 Batch 1000 Loss 0.0721\n",
            "Epoch 11 Batch 1100 Loss 0.1007\n",
            "Epoch 11 Batch 1200 Loss 0.1033\n",
            "Epoch 11 Loss 0.0775\n",
            "Time taken for 1 epoch 58.00813364982605 sec\n",
            "\n",
            "Epoch 12 Batch 0 Loss 0.0639\n",
            "Epoch 12 Batch 100 Loss 0.0500\n",
            "Epoch 12 Batch 200 Loss 0.0613\n",
            "Epoch 12 Batch 300 Loss 0.0769\n",
            "Epoch 12 Batch 400 Loss 0.0468\n",
            "Epoch 12 Batch 500 Loss 0.0979\n",
            "Epoch 12 Batch 600 Loss 0.0390\n",
            "Epoch 12 Batch 700 Loss 0.0758\n",
            "Epoch 12 Batch 800 Loss 0.0652\n",
            "Epoch 12 Batch 900 Loss 0.0940\n",
            "Epoch 12 Batch 1000 Loss 0.0809\n",
            "Epoch 12 Batch 1100 Loss 0.0618\n",
            "Epoch 12 Batch 1200 Loss 0.1077\n",
            "Epoch 12 Loss 0.0752\n",
            "Time taken for 1 epoch 58.95427322387695 sec\n",
            "\n",
            "Epoch 13 Batch 0 Loss 0.0445\n",
            "Epoch 13 Batch 100 Loss 0.0379\n",
            "Epoch 13 Batch 200 Loss 0.0598\n",
            "Epoch 13 Batch 300 Loss 0.0970\n",
            "Epoch 13 Batch 400 Loss 0.1045\n",
            "Epoch 13 Batch 500 Loss 0.0467\n",
            "Epoch 13 Batch 600 Loss 0.0724\n",
            "Epoch 13 Batch 700 Loss 0.0831\n",
            "Epoch 13 Batch 800 Loss 0.0639\n",
            "Epoch 13 Batch 900 Loss 0.0972\n",
            "Epoch 13 Batch 1000 Loss 0.0678\n",
            "Epoch 13 Batch 1100 Loss 0.1359\n",
            "Epoch 13 Batch 1200 Loss 0.0974\n",
            "Epoch 13 Loss 0.0733\n",
            "Time taken for 1 epoch 57.893497467041016 sec\n",
            "\n",
            "Epoch 14 Batch 0 Loss 0.0655\n",
            "Epoch 14 Batch 100 Loss 0.0370\n",
            "Epoch 14 Batch 200 Loss 0.0675\n",
            "Epoch 14 Batch 300 Loss 0.0476\n",
            "Epoch 14 Batch 400 Loss 0.0675\n",
            "Epoch 14 Batch 500 Loss 0.0816\n",
            "Epoch 14 Batch 600 Loss 0.0762\n",
            "Epoch 14 Batch 700 Loss 0.0744\n",
            "Epoch 14 Batch 800 Loss 0.0948\n",
            "Epoch 14 Batch 900 Loss 0.0517\n",
            "Epoch 14 Batch 1000 Loss 0.0968\n",
            "Epoch 14 Batch 1100 Loss 0.0954\n",
            "Epoch 14 Batch 1200 Loss 0.0914\n",
            "Epoch 14 Loss 0.0700\n",
            "Time taken for 1 epoch 59.357750415802 sec\n",
            "\n",
            "Epoch 15 Batch 0 Loss 0.0431\n",
            "Epoch 15 Batch 100 Loss 0.0490\n",
            "Epoch 15 Batch 200 Loss 0.0557\n",
            "Epoch 15 Batch 300 Loss 0.1014\n",
            "Epoch 15 Batch 400 Loss 0.0493\n",
            "Epoch 15 Batch 500 Loss 0.0603\n",
            "Epoch 15 Batch 600 Loss 0.0840\n",
            "Epoch 15 Batch 700 Loss 0.0795\n",
            "Epoch 15 Batch 800 Loss 0.0764\n",
            "Epoch 15 Batch 900 Loss 0.0444\n",
            "Epoch 15 Batch 1000 Loss 0.0683\n",
            "Epoch 15 Batch 1100 Loss 0.0831\n",
            "Epoch 15 Batch 1200 Loss 0.0523\n",
            "Epoch 15 Loss 0.0686\n",
            "Time taken for 1 epoch 57.86389780044556 sec\n",
            "\n",
            "Epoch 16 Batch 0 Loss 0.0752\n",
            "Epoch 16 Batch 100 Loss 0.0652\n",
            "Epoch 16 Batch 200 Loss 0.0428\n",
            "Epoch 16 Batch 300 Loss 0.0683\n",
            "Epoch 16 Batch 400 Loss 0.0636\n",
            "Epoch 16 Batch 500 Loss 0.0755\n",
            "Epoch 16 Batch 600 Loss 0.0444\n",
            "Epoch 16 Batch 700 Loss 0.0321\n",
            "Epoch 16 Batch 800 Loss 0.0634\n",
            "Epoch 16 Batch 900 Loss 0.0991\n",
            "Epoch 16 Batch 1000 Loss 0.0548\n",
            "Epoch 16 Batch 1100 Loss 0.0762\n",
            "Epoch 16 Batch 1200 Loss 0.0877\n",
            "Epoch 16 Loss 0.0678\n",
            "Time taken for 1 epoch 58.943498849868774 sec\n",
            "\n",
            "Epoch 17 Batch 0 Loss 0.0254\n",
            "Epoch 17 Batch 100 Loss 0.0508\n",
            "Epoch 17 Batch 200 Loss 0.0355\n",
            "Epoch 17 Batch 300 Loss 0.0570\n",
            "Epoch 17 Batch 400 Loss 0.0614\n",
            "Epoch 17 Batch 500 Loss 0.0475\n",
            "Epoch 17 Batch 600 Loss 0.0538\n",
            "Epoch 17 Batch 700 Loss 0.0902\n",
            "Epoch 17 Batch 800 Loss 0.0802\n",
            "Epoch 17 Batch 900 Loss 0.0561\n",
            "Epoch 17 Batch 1000 Loss 0.0588\n",
            "Epoch 17 Batch 1100 Loss 0.1233\n",
            "Epoch 17 Batch 1200 Loss 0.0456\n",
            "Epoch 17 Loss 0.0664\n",
            "Time taken for 1 epoch 57.94879603385925 sec\n",
            "\n",
            "Epoch 18 Batch 0 Loss 0.0433\n",
            "Epoch 18 Batch 100 Loss 0.0352\n",
            "Epoch 18 Batch 200 Loss 0.0466\n",
            "Epoch 18 Batch 300 Loss 0.0627\n",
            "Epoch 18 Batch 400 Loss 0.0720\n",
            "Epoch 18 Batch 500 Loss 0.0692\n",
            "Epoch 18 Batch 600 Loss 0.0780\n",
            "Epoch 18 Batch 700 Loss 0.0729\n",
            "Epoch 18 Batch 800 Loss 0.0663\n",
            "Epoch 18 Batch 900 Loss 0.0562\n",
            "Epoch 18 Batch 1000 Loss 0.0704\n",
            "Epoch 18 Batch 1100 Loss 0.0591\n",
            "Epoch 18 Batch 1200 Loss 0.1289\n",
            "Epoch 18 Loss 0.0654\n",
            "Time taken for 1 epoch 58.90298509597778 sec\n",
            "\n",
            "Epoch 19 Batch 0 Loss 0.0524\n",
            "Epoch 19 Batch 100 Loss 0.0391\n",
            "Epoch 19 Batch 200 Loss 0.0398\n",
            "Epoch 19 Batch 300 Loss 0.0565\n",
            "Epoch 19 Batch 400 Loss 0.0613\n",
            "Epoch 19 Batch 500 Loss 0.0675\n",
            "Epoch 19 Batch 600 Loss 0.0358\n",
            "Epoch 19 Batch 700 Loss 0.0453\n",
            "Epoch 19 Batch 800 Loss 0.0560\n",
            "Epoch 19 Batch 900 Loss 0.0759\n",
            "Epoch 19 Batch 1000 Loss 0.0733\n",
            "Epoch 19 Batch 1100 Loss 0.0941\n",
            "Epoch 19 Batch 1200 Loss 0.0967\n",
            "Epoch 19 Loss 0.0643\n",
            "Time taken for 1 epoch 57.91966414451599 sec\n",
            "\n",
            "Epoch 20 Batch 0 Loss 0.0621\n",
            "Epoch 20 Batch 100 Loss 0.0547\n",
            "Epoch 20 Batch 200 Loss 0.0512\n",
            "Epoch 20 Batch 300 Loss 0.0517\n",
            "Epoch 20 Batch 400 Loss 0.0838\n",
            "Epoch 20 Batch 500 Loss 0.0869\n",
            "Epoch 20 Batch 600 Loss 0.0860\n",
            "Epoch 20 Batch 700 Loss 0.0579\n",
            "Epoch 20 Batch 800 Loss 0.1020\n",
            "Epoch 20 Batch 900 Loss 0.0465\n",
            "Epoch 20 Batch 1000 Loss 0.0648\n",
            "Epoch 20 Batch 1100 Loss 0.0674\n",
            "Epoch 20 Batch 1200 Loss 0.0743\n",
            "Epoch 20 Loss 0.0626\n",
            "Time taken for 1 epoch 58.92306184768677 sec\n",
            "\n"
          ]
        }
      ]
    },
    {
      "cell_type": "code",
      "source": [
        "def evaluate(sentence):\n",
        "    attention_plot = np.zeros((max_length_targ, max_length_inp))\n",
        "\n",
        "    sentence = preprocess_sentence(sentence)\n",
        "\n",
        "    inputs = [inp_lang.word_index[i] for i in sentence.split(' ')]\n",
        "    inputs = tf.keras.preprocessing.sequence.pad_sequences([inputs],\n",
        "                                                         maxlen=max_length_inp,\n",
        "                                                         padding='post')\n",
        "    inputs = tf.convert_to_tensor(inputs)\n",
        "\n",
        "    result = ''\n",
        "\n",
        "    hidden = [tf.zeros((1, units))]\n",
        "    enc_hidden = encoder(inputs, hidden)\n",
        "\n",
        "    dec_hidden = enc_hidden\n",
        "    dec_input = tf.expand_dims([targ_lang.word_index['<start>']], 0)\n",
        "\n",
        "    for t in range(max_length_targ):\n",
        "        predictions, dec_hidden = decoder(dec_input, dec_hidden)\n",
        "\n",
        "        # storing the attention weights to plot later on\n",
        "        predicted_id = tf.argmax(predictions[0]).numpy()\n",
        "        result += targ_lang.index_word[predicted_id] + ' '\n",
        "\n",
        "        if targ_lang.index_word[predicted_id] == '<end>':\n",
        "            return result, sentence\n",
        "\n",
        "    # the predicted ID is fed back into the model\n",
        "    dec_input = tf.expand_dims([predicted_id], 0)\n",
        "\n",
        "    return result, sentence"
      ],
      "metadata": {
        "execution": {
          "iopub.status.busy": "2022-09-08T11:03:13.286754Z",
          "iopub.execute_input": "2022-09-08T11:03:13.287156Z",
          "iopub.status.idle": "2022-09-08T11:03:13.307851Z",
          "shell.execute_reply.started": "2022-09-08T11:03:13.287119Z",
          "shell.execute_reply": "2022-09-08T11:03:13.306683Z"
        },
        "trusted": true,
        "id": "6dxjoOSJBYvY"
      },
      "execution_count": 69,
      "outputs": []
    },
    {
      "cell_type": "code",
      "source": [
        "def translate(sentence):\n",
        "    result, sentence = evaluate(sentence)\n",
        "\n",
        "    print('Input: %s' % (sentence))\n",
        "    print('Predicted translation: {}'.format(result))"
      ],
      "metadata": {
        "execution": {
          "iopub.status.busy": "2022-09-08T11:03:13.309500Z",
          "iopub.execute_input": "2022-09-08T11:03:13.309883Z",
          "iopub.status.idle": "2022-09-08T11:03:13.322431Z",
          "shell.execute_reply.started": "2022-09-08T11:03:13.309848Z",
          "shell.execute_reply": "2022-09-08T11:03:13.321397Z"
        },
        "trusted": true,
        "id": "KLMkmwMEBYvZ"
      },
      "execution_count": 70,
      "outputs": []
    },
    {
      "cell_type": "code",
      "source": [
        "# restoring the latest checkpoint in checkpoint_dir\n",
        "checkpoint.restore(tf.train.latest_checkpoint(checkpoint_dir))"
      ],
      "metadata": {
        "execution": {
          "iopub.status.busy": "2022-09-08T11:03:13.323961Z",
          "iopub.execute_input": "2022-09-08T11:03:13.324540Z",
          "iopub.status.idle": "2022-09-08T11:03:13.532788Z",
          "shell.execute_reply.started": "2022-09-08T11:03:13.324503Z",
          "shell.execute_reply": "2022-09-08T11:03:13.531801Z"
        },
        "trusted": true,
        "colab": {
          "base_uri": "https://localhost:8080/"
        },
        "id": "mE9DOLPaBYvZ",
        "outputId": "2d2ecf85-727a-42d1-be40-127fc757f21c"
      },
      "execution_count": 71,
      "outputs": [
        {
          "output_type": "execute_result",
          "data": {
            "text/plain": [
              "<tensorflow.python.training.tracking.util.CheckpointLoadStatus at 0x7fc63ba1a790>"
            ]
          },
          "metadata": {},
          "execution_count": 71
        }
      ]
    },
    {
      "cell_type": "code",
      "source": [
        "translate(u'Вы будет еще дома, когда все это произойдет?')"
      ],
      "metadata": {
        "execution": {
          "iopub.status.busy": "2022-09-08T11:03:13.534182Z",
          "iopub.execute_input": "2022-09-08T11:03:13.534750Z",
          "iopub.status.idle": "2022-09-08T11:03:13.585553Z",
          "shell.execute_reply.started": "2022-09-08T11:03:13.534714Z",
          "shell.execute_reply": "2022-09-08T11:03:13.584455Z"
        },
        "trusted": true,
        "colab": {
          "base_uri": "https://localhost:8080/"
        },
        "id": "vWLyAXVxBYvZ",
        "outputId": "34132b7d-eaf0-4e74-85df-26c73b477dce"
      },
      "execution_count": 72,
      "outputs": [
        {
          "output_type": "stream",
          "name": "stdout",
          "text": [
            "Input: <start> вы будет еще дома , когда все это произойдет ? <end>\n",
            "Predicted translation: will you will tom tom ? ? ? ? ? ? \n"
          ]
        }
      ]
    },
    {
      "cell_type": "code",
      "source": [],
      "metadata": {
        "id": "2p4YxSxgBYvc"
      },
      "execution_count": 72,
      "outputs": []
    }
  ]
}